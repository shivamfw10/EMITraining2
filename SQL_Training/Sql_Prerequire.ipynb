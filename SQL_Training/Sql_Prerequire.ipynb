{
    "metadata": {
        "kernelspec": {
            "name": "SQL",
            "display_name": "SQL",
            "language": "sql"
        },
        "language_info": {
            "name": "sql",
            "version": ""
        }
    },
    "nbformat_minor": 2,
    "nbformat": 4,
    "cells": [
        {
            "cell_type": "code",
            "source": [
                "create table Employees  \r\n",
                "(  \r\n",
                "   EmpId int identity(1,1) ,  \r\n",
                "   FirstName varchar(100),  \r\n",
                "   LastName varchar(100),  \r\n",
                "   JoinDate datetime ,  \r\n",
                "   Salary int ,  \r\n",
                "   Department varchar(20)  \r\n",
                ")  \r\n",
                "insert into Employees(FirstName,LastName,JoinDate,Salary,Department)values('Rakesh','Kalluri','2012-07-01 10:00:00.000',20000,'Software')  \r\n",
                "insert into Employees(FirstName,LastName,JoinDate,Salary,Department)values('Shabari','Vempati','2011-05-01 10:00:00.000',25000,'Software')  \r\n",
                "insert into Employees(FirstName,LastName,JoinDate,Salary,Department)values('Venkatesh','Bodupaly','2013-04-01 10:00:00.000',15000,'Bpo')  \r\n",
                "insert into Employees(FirstName,LastName,JoinDate,Salary,Department)values('Surjan','Peddineni','2011-07-01 10:00:00.000',25000,'Software')  \r\n",
                "\r\n",
                "insert into Employees(FirstName,LastName,JoinDate,Salary,Department) values('Nani','Ch','2010-07-01 10:00:00.000',50000,'Software')  \r\n",
                "insert into Employees(FirstName,LastName,JoinDate,Salary,Department) values('Raju','Chinna','2012-07-01 10:00:00.000',25000,'Software')  \r\n",
                "insert into Employees(FirstName,LastName,JoinDate,Salary,Department) values('Kiran','Kumar','2011-07-01 10:00:00.000',20000,'Software')  \r\n",
                "insert into Employees(FirstName,LastName,JoinDate,Salary,Department) values('Raki','Kumar','2012-07-01 10:00:00.000',17000,'Bpo')  \r\n",
                "insert into Employees(FirstName,LastName,JoinDate,Salary,Department) values('Sri','Vidya','2011-07-01 10:00:00.000',30000,'Software')  \r\n",
                "insert into Employees(FirstName,LastName,JoinDate,Salary,Department) values('Fehad','MD','2013-07-01 10:00:00.000',20000,'Bpo')  \r\n",
                "insert into Employees(FirstName,LastName,JoinDate,Salary,Department)values('Anusha','Kumari','2011-07-01 10:00:00.000',35000,'Software')  \r\n",
                "insert into Employees(FirstName,LastName,JoinDate,Salary,Department) values('Venky','Naidu','2013-07-01 10:00:00.000',20000,'Bpo')  \r\n",
                "insert into Employees(FirstName,LastName,JoinDate,Salary,Department)values('Radha','Kumari','2012-07-01 10:00:00.000',10000,'Bpo')\r\n",
                "\r\n",
                "SELECT * FROM Employees\r\n",
                "SELECT FirstName, Department FROM Employees ORDER BY department desc;\r\n",
                "\r\n",
                "SELECT department, max(salary) AS MaxSalary FROM Employees GROUP BY department"
            ],
            "metadata": {
                "azdata_cell_guid": "9fe80648-0aa3-4a27-b5a3-9fbdcb238d87",
                "tags": []
            },
            "outputs": [
                {
                    "output_type": "error",
                    "evalue": "Msg 2714, Level 16, State 6, Line 1\r\nThere is already an object named 'Employees' in the database.",
                    "ename": "",
                    "traceback": []
                },
                {
                    "output_type": "display_data",
                    "data": {
                        "text/html": "Total execution time: 00:00:00.001"
                    },
                    "metadata": {}
                }
            ],
            "execution_count": 7
        }
    ]
}