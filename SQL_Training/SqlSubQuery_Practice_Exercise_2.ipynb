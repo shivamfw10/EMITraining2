{
    "metadata": {
        "kernelspec": {
            "name": "SQL",
            "display_name": "SQL",
            "language": "sql"
        },
        "language_info": {
            "name": "sql",
            "version": ""
        }
    },
    "nbformat_minor": 2,
    "nbformat": 4,
    "cells": [
        {
            "cell_type": "code",
            "source": [
                "--Problem No.1\r\n",
                "select TOP 18 FIRST_NAME,LAST_NAME,SALARY,DEPARTMENT_ID,JOB_ID from employees1 \r\n",
                "where JOB_ID=(select JOB_ID from jobs where JOB_ID='SA_REP');"
            ],
            "metadata": {
                "azdata_cell_guid": "d245188e-f586-473d-a384-b3d3265f007e",
                "language": "sql"
            },
            "outputs": [
                {
                    "output_type": "display_data",
                    "data": {
                        "text/html": "(18 rows affected)"
                    },
                    "metadata": {}
                },
                {
                    "output_type": "display_data",
                    "data": {
                        "text/html": "Total execution time: 00:00:00.007"
                    },
                    "metadata": {}
                },
                {
                    "output_type": "execute_result",
                    "execution_count": 16,
                    "data": {
                        "application/vnd.dataresource+json": {
                            "schema": {
                                "fields": [
                                    {
                                        "name": "FIRST_NAME"
                                    },
                                    {
                                        "name": "LAST_NAME"
                                    },
                                    {
                                        "name": "SALARY"
                                    },
                                    {
                                        "name": "DEPARTMENT_ID"
                                    },
                                    {
                                        "name": "JOB_ID"
                                    }
                                ]
                            },
                            "data": [
                                {
                                    "0": "Peter",
                                    "1": "Tucker",
                                    "2": "10000.00",
                                    "3": "80",
                                    "4": "SA_REP"
                                },
                                {
                                    "0": "David",
                                    "1": "Bernstein",
                                    "2": "9500.00",
                                    "3": "80",
                                    "4": "SA_REP"
                                },
                                {
                                    "0": "Peter",
                                    "1": "Hall",
                                    "2": "9000.00",
                                    "3": "80",
                                    "4": "SA_REP"
                                },
                                {
                                    "0": "Christopher",
                                    "1": "Olsen",
                                    "2": "8000.00",
                                    "3": "80",
                                    "4": "SA_REP"
                                },
                                {
                                    "0": "Nanette",
                                    "1": "Cambrault",
                                    "2": "7500.00",
                                    "3": "80",
                                    "4": "SA_REP"
                                },
                                {
                                    "0": "Oliver",
                                    "1": "Tuvault",
                                    "2": "7000.00",
                                    "3": "80",
                                    "4": "SA_REP"
                                },
                                {
                                    "0": "Janette",
                                    "1": "King",
                                    "2": "10000.00",
                                    "3": "80",
                                    "4": "SA_REP"
                                },
                                {
                                    "0": "Patrick",
                                    "1": "Sully",
                                    "2": "9500.00",
                                    "3": "80",
                                    "4": "SA_REP"
                                },
                                {
                                    "0": "Allan",
                                    "1": "McEwen",
                                    "2": "9000.00",
                                    "3": "80",
                                    "4": "SA_REP"
                                },
                                {
                                    "0": "Lindsey",
                                    "1": "Smith",
                                    "2": "8000.00",
                                    "3": "80",
                                    "4": "SA_REP"
                                },
                                {
                                    "0": "Louise",
                                    "1": "Doran",
                                    "2": "7500.00",
                                    "3": "80",
                                    "4": "SA_REP"
                                },
                                {
                                    "0": "Sarath",
                                    "1": "Sewall",
                                    "2": "7000.00",
                                    "3": "80",
                                    "4": "SA_REP"
                                },
                                {
                                    "0": "Clara",
                                    "1": "Vishney",
                                    "2": "10500.00",
                                    "3": "80",
                                    "4": "SA_REP"
                                },
                                {
                                    "0": "Danielle",
                                    "1": "Greene",
                                    "2": "9500.00",
                                    "3": "80",
                                    "4": "SA_REP"
                                },
                                {
                                    "0": "Mattea",
                                    "1": "Marvins",
                                    "2": "7200.00",
                                    "3": "80",
                                    "4": "SA_REP"
                                },
                                {
                                    "0": "David",
                                    "1": "Lee",
                                    "2": "6800.00",
                                    "3": "80",
                                    "4": "SA_REP"
                                },
                                {
                                    "0": "Sundar",
                                    "1": "Ande",
                                    "2": "6400.00",
                                    "3": "80",
                                    "4": "SA_REP"
                                },
                                {
                                    "0": "Amit",
                                    "1": "Banda",
                                    "2": "6200.00",
                                    "3": "80",
                                    "4": "SA_REP"
                                }
                            ]
                        },
                        "text/html": "<table><tr><th>FIRST_NAME</th><th>LAST_NAME</th><th>SALARY</th><th>DEPARTMENT_ID</th><th>JOB_ID</th></tr><tr><td>Peter</td><td>Tucker</td><td>10000.00</td><td>80</td><td>SA_REP</td></tr><tr><td>David</td><td>Bernstein</td><td>9500.00</td><td>80</td><td>SA_REP</td></tr><tr><td>Peter</td><td>Hall</td><td>9000.00</td><td>80</td><td>SA_REP</td></tr><tr><td>Christopher</td><td>Olsen</td><td>8000.00</td><td>80</td><td>SA_REP</td></tr><tr><td>Nanette</td><td>Cambrault</td><td>7500.00</td><td>80</td><td>SA_REP</td></tr><tr><td>Oliver</td><td>Tuvault</td><td>7000.00</td><td>80</td><td>SA_REP</td></tr><tr><td>Janette</td><td>King</td><td>10000.00</td><td>80</td><td>SA_REP</td></tr><tr><td>Patrick</td><td>Sully</td><td>9500.00</td><td>80</td><td>SA_REP</td></tr><tr><td>Allan</td><td>McEwen</td><td>9000.00</td><td>80</td><td>SA_REP</td></tr><tr><td>Lindsey</td><td>Smith</td><td>8000.00</td><td>80</td><td>SA_REP</td></tr><tr><td>Louise</td><td>Doran</td><td>7500.00</td><td>80</td><td>SA_REP</td></tr><tr><td>Sarath</td><td>Sewall</td><td>7000.00</td><td>80</td><td>SA_REP</td></tr><tr><td>Clara</td><td>Vishney</td><td>10500.00</td><td>80</td><td>SA_REP</td></tr><tr><td>Danielle</td><td>Greene</td><td>9500.00</td><td>80</td><td>SA_REP</td></tr><tr><td>Mattea</td><td>Marvins</td><td>7200.00</td><td>80</td><td>SA_REP</td></tr><tr><td>David</td><td>Lee</td><td>6800.00</td><td>80</td><td>SA_REP</td></tr><tr><td>Sundar</td><td>Ande</td><td>6400.00</td><td>80</td><td>SA_REP</td></tr><tr><td>Amit</td><td>Banda</td><td>6200.00</td><td>80</td><td>SA_REP</td></tr></table>"
                    },
                    "metadata": {}
                }
            ],
            "execution_count": 16
        },
        {
            "cell_type": "code",
            "source": [
                "--Problem No.2\r\n",
                "select FIRST_NAME,LAST_NAME,EMPLOYEE_ID,SALARY from employees1\r\n",
                "where MANAGER_ID=(select EMPLOYEE_ID from employees1 \r\n",
                "where FIRST_NAME='Payam')"
            ],
            "metadata": {
                "language": "sql",
                "azdata_cell_guid": "2bc8147d-bb28-439a-b0a2-2d7fe6a09b59"
            },
            "outputs": [
                {
                    "output_type": "display_data",
                    "data": {
                        "text/html": "(8 rows affected)"
                    },
                    "metadata": {}
                },
                {
                    "output_type": "display_data",
                    "data": {
                        "text/html": "Total execution time: 00:00:00.003"
                    },
                    "metadata": {}
                },
                {
                    "output_type": "execute_result",
                    "execution_count": 2,
                    "data": {
                        "application/vnd.dataresource+json": {
                            "schema": {
                                "fields": [
                                    {
                                        "name": "FIRST_NAME"
                                    },
                                    {
                                        "name": "LAST_NAME"
                                    },
                                    {
                                        "name": "EMPLOYEE_ID"
                                    },
                                    {
                                        "name": "SALARY"
                                    }
                                ]
                            },
                            "data": [
                                {
                                    "0": "Jason",
                                    "1": "Mallin",
                                    "2": "133",
                                    "3": "3300.00"
                                },
                                {
                                    "0": "Michael",
                                    "1": "Rogers",
                                    "2": "134",
                                    "3": "2900.00"
                                },
                                {
                                    "0": "Ki",
                                    "1": "Gee",
                                    "2": "135",
                                    "3": "2400.00"
                                },
                                {
                                    "0": "Hazel",
                                    "1": "Philtanker",
                                    "2": "136",
                                    "3": "2200.00"
                                },
                                {
                                    "0": "Kelly",
                                    "1": "Chung",
                                    "2": "188",
                                    "3": "3800.00"
                                },
                                {
                                    "0": "Jennifer",
                                    "1": "Dilly",
                                    "2": "189",
                                    "3": "3600.00"
                                },
                                {
                                    "0": "Timothy",
                                    "1": "Gates",
                                    "2": "190",
                                    "3": "2900.00"
                                },
                                {
                                    "0": "Randall",
                                    "1": "Perkins",
                                    "2": "191",
                                    "3": "2500.00"
                                }
                            ]
                        },
                        "text/html": "<table><tr><th>FIRST_NAME</th><th>LAST_NAME</th><th>EMPLOYEE_ID</th><th>SALARY</th></tr><tr><td>Jason</td><td>Mallin</td><td>133</td><td>3300.00</td></tr><tr><td>Michael</td><td>Rogers</td><td>134</td><td>2900.00</td></tr><tr><td>Ki</td><td>Gee</td><td>135</td><td>2400.00</td></tr><tr><td>Hazel</td><td>Philtanker</td><td>136</td><td>2200.00</td></tr><tr><td>Kelly</td><td>Chung</td><td>188</td><td>3800.00</td></tr><tr><td>Jennifer</td><td>Dilly</td><td>189</td><td>3600.00</td></tr><tr><td>Timothy</td><td>Gates</td><td>190</td><td>2900.00</td></tr><tr><td>Randall</td><td>Perkins</td><td>191</td><td>2500.00</td></tr></table>"
                    },
                    "metadata": {}
                }
            ],
            "execution_count": 2
        },
        {
            "cell_type": "code",
            "source": [
                "--Problem No.3\r\n",
                "select FIRST_NAME, LAST_NAME, EMPLOYEE_ID, HIRE_DATE from employees1 where HIRE_DATE between '08/01/1987' and '08/19/1987'"
            ],
            "metadata": {
                "language": "sql",
                "azdata_cell_guid": "f1ba144d-a65e-4da1-8ccb-49d196c6b5a7"
            },
            "outputs": [
                {
                    "output_type": "display_data",
                    "data": {
                        "text/html": "(19 rows affected)"
                    },
                    "metadata": {}
                },
                {
                    "output_type": "display_data",
                    "data": {
                        "text/html": "Total execution time: 00:00:00.005"
                    },
                    "metadata": {}
                },
                {
                    "output_type": "execute_result",
                    "execution_count": 3,
                    "data": {
                        "application/vnd.dataresource+json": {
                            "schema": {
                                "fields": [
                                    {
                                        "name": "FIRST_NAME"
                                    },
                                    {
                                        "name": "LAST_NAME"
                                    },
                                    {
                                        "name": "EMPLOYEE_ID"
                                    },
                                    {
                                        "name": "HIRE_DATE"
                                    }
                                ]
                            },
                            "data": [
                                {
                                    "0": "John",
                                    "1": "Russell",
                                    "2": "145",
                                    "3": "1987-08-01"
                                },
                                {
                                    "0": "Karen",
                                    "1": "Partners",
                                    "2": "146",
                                    "3": "1987-08-02"
                                },
                                {
                                    "0": "Alberto",
                                    "1": "Errazuriz",
                                    "2": "147",
                                    "3": "1987-08-03"
                                },
                                {
                                    "0": "Gerald",
                                    "1": "Cambrault",
                                    "2": "148",
                                    "3": "1987-08-04"
                                },
                                {
                                    "0": "Eleni",
                                    "1": "Zlotkey",
                                    "2": "149",
                                    "3": "1987-08-05"
                                },
                                {
                                    "0": "Peter",
                                    "1": "Tucker",
                                    "2": "150",
                                    "3": "1987-08-06"
                                },
                                {
                                    "0": "David",
                                    "1": "Bernstein",
                                    "2": "151",
                                    "3": "1987-08-07"
                                },
                                {
                                    "0": "Peter",
                                    "1": "Hall",
                                    "2": "152",
                                    "3": "1987-08-08"
                                },
                                {
                                    "0": "Christopher",
                                    "1": "Olsen",
                                    "2": "153",
                                    "3": "1987-08-09"
                                },
                                {
                                    "0": "Nanette",
                                    "1": "Cambrault",
                                    "2": "154",
                                    "3": "1987-08-10"
                                },
                                {
                                    "0": "Oliver",
                                    "1": "Tuvault",
                                    "2": "155",
                                    "3": "1987-08-11"
                                },
                                {
                                    "0": "Janette",
                                    "1": "King",
                                    "2": "156",
                                    "3": "1987-08-12"
                                },
                                {
                                    "0": "Patrick",
                                    "1": "Sully",
                                    "2": "157",
                                    "3": "1987-08-13"
                                },
                                {
                                    "0": "Allan",
                                    "1": "McEwen",
                                    "2": "158",
                                    "3": "1987-08-14"
                                },
                                {
                                    "0": "Lindsey",
                                    "1": "Smith",
                                    "2": "159",
                                    "3": "1987-08-15"
                                },
                                {
                                    "0": "Louise",
                                    "1": "Doran",
                                    "2": "160",
                                    "3": "1987-08-16"
                                },
                                {
                                    "0": "Sarath",
                                    "1": "Sewall",
                                    "2": "161",
                                    "3": "1987-08-17"
                                },
                                {
                                    "0": "Clara",
                                    "1": "Vishney",
                                    "2": "162",
                                    "3": "1987-08-18"
                                },
                                {
                                    "0": "Danielle",
                                    "1": "Greene",
                                    "2": "163",
                                    "3": "1987-08-19"
                                }
                            ]
                        },
                        "text/html": "<table><tr><th>FIRST_NAME</th><th>LAST_NAME</th><th>EMPLOYEE_ID</th><th>HIRE_DATE</th></tr><tr><td>John</td><td>Russell</td><td>145</td><td>1987-08-01</td></tr><tr><td>Karen</td><td>Partners</td><td>146</td><td>1987-08-02</td></tr><tr><td>Alberto</td><td>Errazuriz</td><td>147</td><td>1987-08-03</td></tr><tr><td>Gerald</td><td>Cambrault</td><td>148</td><td>1987-08-04</td></tr><tr><td>Eleni</td><td>Zlotkey</td><td>149</td><td>1987-08-05</td></tr><tr><td>Peter</td><td>Tucker</td><td>150</td><td>1987-08-06</td></tr><tr><td>David</td><td>Bernstein</td><td>151</td><td>1987-08-07</td></tr><tr><td>Peter</td><td>Hall</td><td>152</td><td>1987-08-08</td></tr><tr><td>Christopher</td><td>Olsen</td><td>153</td><td>1987-08-09</td></tr><tr><td>Nanette</td><td>Cambrault</td><td>154</td><td>1987-08-10</td></tr><tr><td>Oliver</td><td>Tuvault</td><td>155</td><td>1987-08-11</td></tr><tr><td>Janette</td><td>King</td><td>156</td><td>1987-08-12</td></tr><tr><td>Patrick</td><td>Sully</td><td>157</td><td>1987-08-13</td></tr><tr><td>Allan</td><td>McEwen</td><td>158</td><td>1987-08-14</td></tr><tr><td>Lindsey</td><td>Smith</td><td>159</td><td>1987-08-15</td></tr><tr><td>Louise</td><td>Doran</td><td>160</td><td>1987-08-16</td></tr><tr><td>Sarath</td><td>Sewall</td><td>161</td><td>1987-08-17</td></tr><tr><td>Clara</td><td>Vishney</td><td>162</td><td>1987-08-18</td></tr><tr><td>Danielle</td><td>Greene</td><td>163</td><td>1987-08-19</td></tr></table>"
                    },
                    "metadata": {}
                }
            ],
            "execution_count": 3
        },
        {
            "cell_type": "code",
            "source": [
                "--Problem No.4\r\n",
                "select EMPLOYEE_ID,first_Name,LAST_NAME,JOB_ID from employees1 where EMPLOYEE_ID between 103 AND 120"
            ],
            "metadata": {
                "language": "sql",
                "azdata_cell_guid": "c8d3a409-3898-4aab-b9e0-b069742b5595"
            },
            "outputs": [
                {
                    "output_type": "display_data",
                    "data": {
                        "text/html": "(18 rows affected)"
                    },
                    "metadata": {}
                },
                {
                    "output_type": "display_data",
                    "data": {
                        "text/html": "Total execution time: 00:00:00.003"
                    },
                    "metadata": {}
                },
                {
                    "output_type": "execute_result",
                    "execution_count": 4,
                    "data": {
                        "application/vnd.dataresource+json": {
                            "schema": {
                                "fields": [
                                    {
                                        "name": "EMPLOYEE_ID"
                                    },
                                    {
                                        "name": "first_Name"
                                    },
                                    {
                                        "name": "LAST_NAME"
                                    },
                                    {
                                        "name": "JOB_ID"
                                    }
                                ]
                            },
                            "data": [
                                {
                                    "0": "103",
                                    "1": "Alexander",
                                    "2": "Hunold",
                                    "3": "IT_PROG"
                                },
                                {
                                    "0": "104",
                                    "1": "Bruce",
                                    "2": "Ernst",
                                    "3": "IT_PROG"
                                },
                                {
                                    "0": "105",
                                    "1": "David",
                                    "2": "Austin",
                                    "3": "IT_PROG"
                                },
                                {
                                    "0": "106",
                                    "1": "Valli",
                                    "2": "Pataballa",
                                    "3": "IT_PROG"
                                },
                                {
                                    "0": "107",
                                    "1": "Diana",
                                    "2": "Lorentz",
                                    "3": "IT_PROG"
                                },
                                {
                                    "0": "108",
                                    "1": "Nancy",
                                    "2": "Greenberg",
                                    "3": "FI_MGR"
                                },
                                {
                                    "0": "109",
                                    "1": "Daniel",
                                    "2": "Faviet",
                                    "3": "FI_ACCOUNT"
                                },
                                {
                                    "0": "110",
                                    "1": "John",
                                    "2": "Chen",
                                    "3": "FI_ACCOUNT"
                                },
                                {
                                    "0": "111",
                                    "1": "Ismael",
                                    "2": "Sciarra",
                                    "3": "FI_ACCOUNT"
                                },
                                {
                                    "0": "112",
                                    "1": "Jose Manuel",
                                    "2": "Urman",
                                    "3": "FI_ACCOUNT"
                                },
                                {
                                    "0": "113",
                                    "1": "Luis",
                                    "2": "Popp",
                                    "3": "FI_ACCOUNT"
                                },
                                {
                                    "0": "114",
                                    "1": "Den",
                                    "2": "Raphaely",
                                    "3": "PU_MAN"
                                },
                                {
                                    "0": "115",
                                    "1": "Alexander",
                                    "2": "Khoo",
                                    "3": "PU_CLERK"
                                },
                                {
                                    "0": "116",
                                    "1": "Shelli",
                                    "2": "Baida",
                                    "3": "PU_CLERK"
                                },
                                {
                                    "0": "117",
                                    "1": "Sigal",
                                    "2": "Tobias",
                                    "3": "PU_CLERK"
                                },
                                {
                                    "0": "118",
                                    "1": "Guy",
                                    "2": "Himuro",
                                    "3": "PU_CLERK"
                                },
                                {
                                    "0": "119",
                                    "1": "Karen",
                                    "2": "Colmenares",
                                    "3": "PU_CLERK"
                                },
                                {
                                    "0": "120",
                                    "1": "Matthew",
                                    "2": "Weiss",
                                    "3": "ST_MAN"
                                }
                            ]
                        },
                        "text/html": "<table><tr><th>EMPLOYEE_ID</th><th>first_Name</th><th>LAST_NAME</th><th>JOB_ID</th></tr><tr><td>103</td><td>Alexander</td><td>Hunold</td><td>IT_PROG</td></tr><tr><td>104</td><td>Bruce</td><td>Ernst</td><td>IT_PROG</td></tr><tr><td>105</td><td>David</td><td>Austin</td><td>IT_PROG</td></tr><tr><td>106</td><td>Valli</td><td>Pataballa</td><td>IT_PROG</td></tr><tr><td>107</td><td>Diana</td><td>Lorentz</td><td>IT_PROG</td></tr><tr><td>108</td><td>Nancy</td><td>Greenberg</td><td>FI_MGR</td></tr><tr><td>109</td><td>Daniel</td><td>Faviet</td><td>FI_ACCOUNT</td></tr><tr><td>110</td><td>John</td><td>Chen</td><td>FI_ACCOUNT</td></tr><tr><td>111</td><td>Ismael</td><td>Sciarra</td><td>FI_ACCOUNT</td></tr><tr><td>112</td><td>Jose Manuel</td><td>Urman</td><td>FI_ACCOUNT</td></tr><tr><td>113</td><td>Luis</td><td>Popp</td><td>FI_ACCOUNT</td></tr><tr><td>114</td><td>Den</td><td>Raphaely</td><td>PU_MAN</td></tr><tr><td>115</td><td>Alexander</td><td>Khoo</td><td>PU_CLERK</td></tr><tr><td>116</td><td>Shelli</td><td>Baida</td><td>PU_CLERK</td></tr><tr><td>117</td><td>Sigal</td><td>Tobias</td><td>PU_CLERK</td></tr><tr><td>118</td><td>Guy</td><td>Himuro</td><td>PU_CLERK</td></tr><tr><td>119</td><td>Karen</td><td>Colmenares</td><td>PU_CLERK</td></tr><tr><td>120</td><td>Matthew</td><td>Weiss</td><td>ST_MAN</td></tr></table>"
                    },
                    "metadata": {}
                }
            ],
            "execution_count": 4
        },
        {
            "cell_type": "code",
            "source": [
                "--Problem No. 5\r\n",
                "select FIRST_NAME,LAST_NAME,DEPARTMENT_ID from employees1 where EMPLOYEE_ID between 100 and 117"
            ],
            "metadata": {
                "language": "sql",
                "azdata_cell_guid": "a26480ea-bfe7-4cba-8fbd-ba4870c8a7f2"
            },
            "outputs": [
                {
                    "output_type": "display_data",
                    "data": {
                        "text/html": "(18 rows affected)"
                    },
                    "metadata": {}
                },
                {
                    "output_type": "display_data",
                    "data": {
                        "text/html": "Total execution time: 00:00:00.003"
                    },
                    "metadata": {}
                },
                {
                    "output_type": "execute_result",
                    "execution_count": 7,
                    "data": {
                        "application/vnd.dataresource+json": {
                            "schema": {
                                "fields": [
                                    {
                                        "name": "FIRST_NAME"
                                    },
                                    {
                                        "name": "LAST_NAME"
                                    },
                                    {
                                        "name": "DEPARTMENT_ID"
                                    }
                                ]
                            },
                            "data": [
                                {
                                    "0": "Steven",
                                    "1": "King",
                                    "2": "90"
                                },
                                {
                                    "0": "Neena",
                                    "1": "Kochhar",
                                    "2": "90"
                                },
                                {
                                    "0": "Lex",
                                    "1": "De Haan",
                                    "2": "90"
                                },
                                {
                                    "0": "Alexander",
                                    "1": "Hunold",
                                    "2": "60"
                                },
                                {
                                    "0": "Bruce",
                                    "1": "Ernst",
                                    "2": "60"
                                },
                                {
                                    "0": "David",
                                    "1": "Austin",
                                    "2": "60"
                                },
                                {
                                    "0": "Valli",
                                    "1": "Pataballa",
                                    "2": "60"
                                },
                                {
                                    "0": "Diana",
                                    "1": "Lorentz",
                                    "2": "60"
                                },
                                {
                                    "0": "Nancy",
                                    "1": "Greenberg",
                                    "2": "100"
                                },
                                {
                                    "0": "Daniel",
                                    "1": "Faviet",
                                    "2": "100"
                                },
                                {
                                    "0": "John",
                                    "1": "Chen",
                                    "2": "100"
                                },
                                {
                                    "0": "Ismael",
                                    "1": "Sciarra",
                                    "2": "100"
                                },
                                {
                                    "0": "Jose Manuel",
                                    "1": "Urman",
                                    "2": "100"
                                },
                                {
                                    "0": "Luis",
                                    "1": "Popp",
                                    "2": "100"
                                },
                                {
                                    "0": "Den",
                                    "1": "Raphaely",
                                    "2": "30"
                                },
                                {
                                    "0": "Alexander",
                                    "1": "Khoo",
                                    "2": "30"
                                },
                                {
                                    "0": "Shelli",
                                    "1": "Baida",
                                    "2": "30"
                                },
                                {
                                    "0": "Sigal",
                                    "1": "Tobias",
                                    "2": "30"
                                }
                            ]
                        },
                        "text/html": "<table><tr><th>FIRST_NAME</th><th>LAST_NAME</th><th>DEPARTMENT_ID</th></tr><tr><td>Steven</td><td>King</td><td>90</td></tr><tr><td>Neena</td><td>Kochhar</td><td>90</td></tr><tr><td>Lex</td><td>De Haan</td><td>90</td></tr><tr><td>Alexander</td><td>Hunold</td><td>60</td></tr><tr><td>Bruce</td><td>Ernst</td><td>60</td></tr><tr><td>David</td><td>Austin</td><td>60</td></tr><tr><td>Valli</td><td>Pataballa</td><td>60</td></tr><tr><td>Diana</td><td>Lorentz</td><td>60</td></tr><tr><td>Nancy</td><td>Greenberg</td><td>100</td></tr><tr><td>Daniel</td><td>Faviet</td><td>100</td></tr><tr><td>John</td><td>Chen</td><td>100</td></tr><tr><td>Ismael</td><td>Sciarra</td><td>100</td></tr><tr><td>Jose Manuel</td><td>Urman</td><td>100</td></tr><tr><td>Luis</td><td>Popp</td><td>100</td></tr><tr><td>Den</td><td>Raphaely</td><td>30</td></tr><tr><td>Alexander</td><td>Khoo</td><td>30</td></tr><tr><td>Shelli</td><td>Baida</td><td>30</td></tr><tr><td>Sigal</td><td>Tobias</td><td>30</td></tr></table>"
                    },
                    "metadata": {}
                }
            ],
            "execution_count": 7
        },
        {
            "cell_type": "code",
            "source": [
                "--Problem No.6\r\n",
                "select DEPARTMENT_ID,SUM(SALARY) from employees1 WHERE DEPARTMENT_ID IN(SELECT DEPARTMENT_ID FROM departments) GROUP BY DEPARTMENT_ID"
            ],
            "metadata": {
                "language": "sql",
                "azdata_cell_guid": "3fc5e513-5311-4506-8129-dd5e9637034e",
                "tags": [
                    "hide_input"
                ]
            },
            "outputs": [
                {
                    "output_type": "display_data",
                    "data": {
                        "text/html": "(11 rows affected)"
                    },
                    "metadata": {}
                },
                {
                    "output_type": "display_data",
                    "data": {
                        "text/html": "Total execution time: 00:00:00.005"
                    },
                    "metadata": {}
                },
                {
                    "output_type": "execute_result",
                    "execution_count": 8,
                    "data": {
                        "application/vnd.dataresource+json": {
                            "schema": {
                                "fields": [
                                    {
                                        "name": "DEPARTMENT_ID"
                                    },
                                    {
                                        "name": "(No column name)"
                                    }
                                ]
                            },
                            "data": [
                                {
                                    "0": "10",
                                    "1": "4400.00"
                                },
                                {
                                    "0": "20",
                                    "1": "19000.00"
                                },
                                {
                                    "0": "30",
                                    "1": "24900.00"
                                },
                                {
                                    "0": "40",
                                    "1": "6500.00"
                                },
                                {
                                    "0": "50",
                                    "1": "156400.00"
                                },
                                {
                                    "0": "60",
                                    "1": "28800.00"
                                },
                                {
                                    "0": "70",
                                    "1": "10000.00"
                                },
                                {
                                    "0": "80",
                                    "1": "304500.00"
                                },
                                {
                                    "0": "90",
                                    "1": "58000.00"
                                },
                                {
                                    "0": "100",
                                    "1": "51600.00"
                                },
                                {
                                    "0": "110",
                                    "1": "20300.00"
                                }
                            ]
                        },
                        "text/html": "<table><tr><th>DEPARTMENT_ID</th><th>(No column name)</th></tr><tr><td>10</td><td>4400.00</td></tr><tr><td>20</td><td>19000.00</td></tr><tr><td>30</td><td>24900.00</td></tr><tr><td>40</td><td>6500.00</td></tr><tr><td>50</td><td>156400.00</td></tr><tr><td>60</td><td>28800.00</td></tr><tr><td>70</td><td>10000.00</td></tr><tr><td>80</td><td>304500.00</td></tr><tr><td>90</td><td>58000.00</td></tr><tr><td>100</td><td>51600.00</td></tr><tr><td>110</td><td>20300.00</td></tr></table>"
                    },
                    "metadata": {}
                }
            ],
            "execution_count": 8
        },
        {
            "cell_type": "code",
            "source": [
                "--Problem No.7\r\n",
                "select first_name,last_name from employees1\r\n",
                "where MANAGER_ID in(100,101)"
            ],
            "metadata": {
                "language": "sql",
                "azdata_cell_guid": "e73f825f-04b6-4225-bbb2-dec09231055b"
            },
            "outputs": [
                {
                    "output_type": "display_data",
                    "data": {
                        "text/html": "(19 rows affected)"
                    },
                    "metadata": {}
                },
                {
                    "output_type": "display_data",
                    "data": {
                        "text/html": "Total execution time: 00:00:00.003"
                    },
                    "metadata": {}
                },
                {
                    "output_type": "execute_result",
                    "metadata": {},
                    "execution_count": 1,
                    "data": {
                        "application/vnd.dataresource+json": {
                            "schema": {
                                "fields": [
                                    {
                                        "name": "first_name"
                                    },
                                    {
                                        "name": "last_name"
                                    }
                                ]
                            },
                            "data": [
                                {
                                    "0": "Neena",
                                    "1": "Kochhar"
                                },
                                {
                                    "0": "Lex",
                                    "1": "De Haan"
                                },
                                {
                                    "0": "Nancy",
                                    "1": "Greenberg"
                                },
                                {
                                    "0": "Den",
                                    "1": "Raphaely"
                                },
                                {
                                    "0": "Matthew",
                                    "1": "Weiss"
                                },
                                {
                                    "0": "Adam",
                                    "1": "Fripp"
                                },
                                {
                                    "0": "Payam",
                                    "1": "Kaufling"
                                },
                                {
                                    "0": "Shanta",
                                    "1": "Vollman"
                                },
                                {
                                    "0": "Kevin",
                                    "1": "Mourgos"
                                },
                                {
                                    "0": "John",
                                    "1": "Russell"
                                },
                                {
                                    "0": "Karen",
                                    "1": "Partners"
                                },
                                {
                                    "0": "Alberto",
                                    "1": "Errazuriz"
                                },
                                {
                                    "0": "Gerald",
                                    "1": "Cambrault"
                                },
                                {
                                    "0": "Eleni",
                                    "1": "Zlotkey"
                                },
                                {
                                    "0": "Jennifer",
                                    "1": "Whalen"
                                },
                                {
                                    "0": "Michael",
                                    "1": "Hartstein"
                                },
                                {
                                    "0": "Susan",
                                    "1": "Mavris"
                                },
                                {
                                    "0": "Hermann",
                                    "1": "Baer"
                                },
                                {
                                    "0": "Shelley",
                                    "1": "Higgins"
                                }
                            ]
                        },
                        "text/html": [
                            "<table>",
                            "<tr><th>first_name</th><th>last_name</th></tr>",
                            "<tr><td>Neena</td><td>Kochhar</td></tr>",
                            "<tr><td>Lex</td><td>De Haan</td></tr>",
                            "<tr><td>Nancy</td><td>Greenberg</td></tr>",
                            "<tr><td>Den</td><td>Raphaely</td></tr>",
                            "<tr><td>Matthew</td><td>Weiss</td></tr>",
                            "<tr><td>Adam</td><td>Fripp</td></tr>",
                            "<tr><td>Payam</td><td>Kaufling</td></tr>",
                            "<tr><td>Shanta</td><td>Vollman</td></tr>",
                            "<tr><td>Kevin</td><td>Mourgos</td></tr>",
                            "<tr><td>John</td><td>Russell</td></tr>",
                            "<tr><td>Karen</td><td>Partners</td></tr>",
                            "<tr><td>Alberto</td><td>Errazuriz</td></tr>",
                            "<tr><td>Gerald</td><td>Cambrault</td></tr>",
                            "<tr><td>Eleni</td><td>Zlotkey</td></tr>",
                            "<tr><td>Jennifer</td><td>Whalen</td></tr>",
                            "<tr><td>Michael</td><td>Hartstein</td></tr>",
                            "<tr><td>Susan</td><td>Mavris</td></tr>",
                            "<tr><td>Hermann</td><td>Baer</td></tr>",
                            "<tr><td>Shelley</td><td>Higgins</td></tr>",
                            "</table>"
                        ]
                    }
                }
            ],
            "execution_count": 1
        },
        {
            "cell_type": "code",
            "source": [
                "--Problem No.8\r\n",
                "select first_name ,last_name from employees1 where DEPARTMENT_ID in\r\n",
                "(select department_id from employees1 group by DEPARTMENT_ID having COUNT(department_id) between 1 and 2) and MANAGER_ID not in(201,205);"
            ],
            "metadata": {
                "language": "sql",
                "azdata_cell_guid": "27dda403-50b9-452a-8af4-3c875db619dc"
            },
            "outputs": [
{
    "output_type": "display_data",
    "data": {
        "text/html": "(6 rows affected)"
    },
    "metadata": {}
}, {
    "output_type": "display_data",
    "data": {
        "text/html": "Total execution time: 00:00:00.006"
    },
    "metadata": {}
}, {
    "output_type": "execute_result",
    "metadata": {},
    "execution_count": 3,
    "data": {
        "application/vnd.dataresource+json": {
            "schema": {
                "fields": [
                    {
                        "name": "first_name"
                    },
                    {
                        "name": "last_name"
                    }
                ]
            },
            "data": [
                {
                    "0": "Kimberely",
                    "1": "Grant"
                },
                {
                    "0": "Jennifer",
                    "1": "Whalen"
                },
                {
                    "0": "Michael",
                    "1": "Hartstein"
                },
                {
                    "0": "Susan",
                    "1": "Mavris"
                },
                {
                    "0": "Hermann",
                    "1": "Baer"
                },
                {
                    "0": "Shelley",
                    "1": "Higgins"
                }
            ]
        },
        "text/html": [
            "<table>",
            "<tr><th>first_name</th><th>last_name</th></tr>",
            "<tr><td>Kimberely</td><td>Grant</td></tr>",
            "<tr><td>Jennifer</td><td>Whalen</td></tr>",
            "<tr><td>Michael</td><td>Hartstein</td></tr>",
            "<tr><td>Susan</td><td>Mavris</td></tr>",
            "<tr><td>Hermann</td><td>Baer</td></tr>",
            "<tr><td>Shelley</td><td>Higgins</td></tr>",
            "</table>"
        ]
    }
}
],
            "execution_count": 3
        },
        {
            "cell_type": "code",
            "source": [
                "--Problem No.9\r\n",
                "select * from departments\r\n",
                "where DEPARTMENT_ID in(select DEPARTMENT_ID from employees1\r\n",
                "where EMPLOYEE_ID in(select EMPLOYEE_ID from job_history group by EMPLOYEE_ID having count(EMPLOYEE_ID)>1)\r\n",
                "group by DEPARTMENT_ID having max(SALARY)>7000)"
            ],
            "metadata": {
                "language": "sql",
                "azdata_cell_guid": "039c28cd-6bc6-4dbf-945a-e6a897b58eef",
                "tags": []
            },
            "outputs": [
                {
                    "output_type": "display_data",
                    "data": {
                        "text/html": "(2 rows affected)"
                    },
                    "metadata": {}
                },
                {
                    "output_type": "display_data",
                    "data": {
                        "text/html": "Total execution time: 00:00:00.006"
                    },
                    "metadata": {}
                },
                {
                    "output_type": "execute_result",
                    "execution_count": 17,
                    "data": {
                        "application/vnd.dataresource+json": {
                            "schema": {
                                "fields": [
                                    {
                                        "name": "DEPARTMENT_ID"
                                    },
                                    {
                                        "name": "DEPARTMENT_NAME"
                                    },
                                    {
                                        "name": "MANAGER_ID"
                                    },
                                    {
                                        "name": "LOCATION_ID"
                                    }
                                ]
                            },
                            "data": [
                                {
                                    "0": "80",
                                    "1": "Sales",
                                    "2": "145",
                                    "3": "2500"
                                },
                                {
                                    "0": "90",
                                    "1": "Executive",
                                    "2": "100",
                                    "3": "1700"
                                }
                            ]
                        },
                        "text/html": "<table><tr><th>DEPARTMENT_ID</th><th>DEPARTMENT_NAME</th><th>MANAGER_ID</th><th>LOCATION_ID</th></tr><tr><td>80</td><td>Sales</td><td>145</td><td>2500</td></tr><tr><td>90</td><td>Executive</td><td>100</td><td>1700</td></tr></table>"
                    },
                    "metadata": {}
                }
            ],
            "execution_count": 17
        },
        {
            "cell_type": "code",
            "source": [
                "--Problem No.10\r\n",
                "select * from departments where DEPARTMENT_ID in(70,90,110)"
            ],
            "metadata": {
                "language": "sql",
                "azdata_cell_guid": "6d2b19cf-5ef0-42ac-bf04-9337bccaf991"
            },
            "outputs": [
                {
                    "output_type": "display_data",
                    "data": {
                        "text/html": "(3 rows affected)"
                    },
                    "metadata": {}
                },
                {
                    "output_type": "display_data",
                    "data": {
                        "text/html": "Total execution time: 00:00:00.003"
                    },
                    "metadata": {}
                },
                {
                    "output_type": "execute_result",
                    "execution_count": 15,
                    "data": {
                        "application/vnd.dataresource+json": {
                            "schema": {
                                "fields": [
                                    {
                                        "name": "DEPARTMENT_ID"
                                    },
                                    {
                                        "name": "DEPARTMENT_NAME"
                                    },
                                    {
                                        "name": "MANAGER_ID"
                                    },
                                    {
                                        "name": "LOCATION_ID"
                                    }
                                ]
                            },
                            "data": [
                                {
                                    "0": "70",
                                    "1": "Public Relations",
                                    "2": "204",
                                    "3": "2700"
                                },
                                {
                                    "0": "90",
                                    "1": "Executive",
                                    "2": "100",
                                    "3": "1700"
                                },
                                {
                                    "0": "110",
                                    "1": "Accounting",
                                    "2": "205",
                                    "3": "1700"
                                }
                            ]
                        },
                        "text/html": "<table><tr><th>DEPARTMENT_ID</th><th>DEPARTMENT_NAME</th><th>MANAGER_ID</th><th>LOCATION_ID</th></tr><tr><td>70</td><td>Public Relations</td><td>204</td><td>2700</td></tr><tr><td>90</td><td>Executive</td><td>100</td><td>1700</td></tr><tr><td>110</td><td>Accounting</td><td>205</td><td>1700</td></tr></table>"
                    },
                    "metadata": {}
                }
            ],
            "execution_count": 15
        },
        {
            "cell_type": "code",
            "source": [
                "--Problem No.11\r\n",
                "select DEPARTMENT_ID, CONCAT(FIRST_NAME,' ',LAST_NAME) as 'Name',SALARY from employees1 a\r\n",
                "where SALARY =(select MAX(SALARY) from employees1 where DEPARTMENT_ID=a.DEPARTMENT_ID)"
            ],
            "metadata": {
                "language": "sql",
                "azdata_cell_guid": "c9a08ae6-3b1b-4b79-89c6-efd507717b03"
            },
            "outputs": [
                {
                    "output_type": "display_data",
                    "data": {
                        "text/html": "(12 rows affected)"
                    },
                    "metadata": {}
                },
                {
                    "output_type": "display_data",
                    "data": {
                        "text/html": "Total execution time: 00:00:00.006"
                    },
                    "metadata": {}
                },
                {
                    "output_type": "execute_result",
                    "execution_count": 14,
                    "data": {
                        "application/vnd.dataresource+json": {
                            "schema": {
                                "fields": [
                                    {
                                        "name": "DEPARTMENT_ID"
                                    },
                                    {
                                        "name": "Name"
                                    },
                                    {
                                        "name": "SALARY"
                                    }
                                ]
                            },
                            "data": [
                                {
                                    "0": "110",
                                    "1": "Shelley Higgins",
                                    "2": "12000.00"
                                },
                                {
                                    "0": "100",
                                    "1": "Nancy Greenberg",
                                    "2": "12000.00"
                                },
                                {
                                    "0": "90",
                                    "1": "Steven King",
                                    "2": "24000.00"
                                },
                                {
                                    "0": "80",
                                    "1": "John Russell",
                                    "2": "14000.00"
                                },
                                {
                                    "0": "70",
                                    "1": "Hermann Baer",
                                    "2": "10000.00"
                                },
                                {
                                    "0": "60",
                                    "1": "Alexander Hunold",
                                    "2": "9000.00"
                                },
                                {
                                    "0": "50",
                                    "1": "Adam Fripp",
                                    "2": "8200.00"
                                },
                                {
                                    "0": "40",
                                    "1": "Susan Mavris",
                                    "2": "6500.00"
                                },
                                {
                                    "0": "30",
                                    "1": "Den Raphaely",
                                    "2": "11000.00"
                                },
                                {
                                    "0": "20",
                                    "1": "Michael Hartstein",
                                    "2": "13000.00"
                                },
                                {
                                    "0": "10",
                                    "1": "Jennifer Whalen",
                                    "2": "4400.00"
                                },
                                {
                                    "0": "0",
                                    "1": "Kimberely Grant",
                                    "2": "7000.00"
                                }
                            ]
                        },
                        "text/html": "<table><tr><th>DEPARTMENT_ID</th><th>Name</th><th>SALARY</th></tr><tr><td>110</td><td>Shelley Higgins</td><td>12000.00</td></tr><tr><td>100</td><td>Nancy Greenberg</td><td>12000.00</td></tr><tr><td>90</td><td>Steven King</td><td>24000.00</td></tr><tr><td>80</td><td>John Russell</td><td>14000.00</td></tr><tr><td>70</td><td>Hermann Baer</td><td>10000.00</td></tr><tr><td>60</td><td>Alexander Hunold</td><td>9000.00</td></tr><tr><td>50</td><td>Adam Fripp</td><td>8200.00</td></tr><tr><td>40</td><td>Susan Mavris</td><td>6500.00</td></tr><tr><td>30</td><td>Den Raphaely</td><td>11000.00</td></tr><tr><td>20</td><td>Michael Hartstein</td><td>13000.00</td></tr><tr><td>10</td><td>Jennifer Whalen</td><td>4400.00</td></tr><tr><td>0</td><td>Kimberely Grant</td><td>7000.00</td></tr></table>"
                    },
                    "metadata": {}
                }
            ],
            "execution_count": 14
        },
        {
            "cell_type": "code",
            "source": [
                "--Problem No. 12\r\n",
                "select * from jobs where JOB_ID='SA_REP'"
            ],
            "metadata": {
                "language": "sql",
                "azdata_cell_guid": "52910175-9646-40d5-b3d8-9c0f7b9195ea"
            },
            "outputs": [
                {
                    "output_type": "display_data",
                    "data": {
                        "text/html": "(1 row affected)"
                    },
                    "metadata": {}
                },
                {
                    "output_type": "display_data",
                    "data": {
                        "text/html": "Total execution time: 00:00:00.002"
                    },
                    "metadata": {}
                },
                {
                    "output_type": "execute_result",
                    "execution_count": 13,
                    "data": {
                        "application/vnd.dataresource+json": {
                            "schema": {
                                "fields": [
                                    {
                                        "name": "JOB_ID"
                                    },
                                    {
                                        "name": "JOB_TITLE"
                                    },
                                    {
                                        "name": "MIN_SALARY"
                                    },
                                    {
                                        "name": "MAX_SALARY"
                                    }
                                ]
                            },
                            "data": [
                                {
                                    "0": "SA_REP",
                                    "1": "Sales Representative",
                                    "2": "6000",
                                    "3": "12000"
                                }
                            ]
                        },
                        "text/html": "<table><tr><th>JOB_ID</th><th>JOB_TITLE</th><th>MIN_SALARY</th><th>MAX_SALARY</th></tr><tr><td>SA_REP</td><td>Sales Representative</td><td>6000</td><td>12000</td></tr></table>"
                    },
                    "metadata": {}
                }
            ],
            "execution_count": 13
        }
    ]
}