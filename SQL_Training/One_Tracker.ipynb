{
    "metadata": {
        "kernelspec": {
            "name": "SQL",
            "display_name": "SQL",
            "language": "sql"
        },
        "language_info": {
            "name": "sql",
            "version": ""
        }
    },
    "nbformat_minor": 2,
    "nbformat": 4,
    "cells": [
        {
            "cell_type": "code",
            "source": [
                "CREATE TABLE [dbo].[Role] (\r\n",
                "    [role_id]   INT           IDENTITY (1, 1) NOT NULL,\r\n",
                "    [role_name] NVARCHAR (50) NULL,\r\n",
                "    CONSTRAINT [PK_Role] PRIMARY KEY CLUSTERED ([role_id] ASC)\r\n",
                ");"
            ],
            "metadata": {
                "azdata_cell_guid": "d4e93eb4-3e0c-4f1f-aa18-29b954e96ed5",
                "language": "sql"
            },
            "outputs": [
                {
                    "output_type": "display_data",
                    "data": {
                        "text/html": "Commands completed successfully."
                    },
                    "metadata": {}
                },
                {
                    "output_type": "display_data",
                    "data": {
                        "text/html": "Total execution time: 00:00:00.019"
                    },
                    "metadata": {}
                }
            ],
            "execution_count": 1
        },
        {
            "cell_type": "code",
            "source": [
                "INSERT INTO ROLE VALUES('Admin'),('User');"
            ],
            "metadata": {
                "language": "sql",
                "azdata_cell_guid": "64fe563b-97bd-473e-a55d-023f337d1827"
            },
            "outputs": [
                {
                    "output_type": "display_data",
                    "data": {
                        "text/html": "(2 rows affected)"
                    },
                    "metadata": {}
                },
                {
                    "output_type": "display_data",
                    "data": {
                        "text/html": "Total execution time: 00:00:00.008"
                    },
                    "metadata": {}
                }
            ],
            "execution_count": 2
        },
        {
            "cell_type": "code",
            "source": [
                "CREATE TABLE [dbo].[Users] (\r\n",
                "    [user_id]       INT            IDENTITY (1001, 1) NOT NULL,\r\n",
                "    [first_name]   NVARCHAR (50)  NOT NULL,\r\n",
                "    [last_name]    NVARCHAR (50)  NOT NULL,\r\n",
                "    [user_email]    NVARCHAR (50)  NOT NULL,\r\n",
                "    [mobile_no]    NVARCHAR (15)  NOT NULL,\r\n",
                "    [password]         NVARCHAR (50)  NOT NULL,\r\n",
                "    [role_id]      INT            NOT NULL,\r\n",
                "    [user_img]      NVARCHAR (MAX) NULL,\r\n",
                "    [joining_date] DATE           NULL,\r\n",
                "    CONSTRAINT [emp_id] PRIMARY KEY CLUSTERED ([user_id] ASC),\r\n",
                "    FOREIGN KEY ([role_id]) REFERENCES [dbo].[Role] ([role_id]) ON DELETE CASCADE ON UPDATE CASCADE,\r\n",
                "    CONSTRAINT [emp_email] UNIQUE NONCLUSTERED ([user_email] ASC)\r\n",
                ");"
            ],
            "metadata": {
                "azdata_cell_guid": "b8f71b82-27e7-4961-aec1-01672ee7a18a",
                "language": "sql"
            },
            "outputs": [
                {
                    "output_type": "display_data",
                    "data": {
                        "text/html": "Commands completed successfully."
                    },
                    "metadata": {}
                },
                {
                    "output_type": "display_data",
                    "data": {
                        "text/html": "Total execution time: 00:00:00.007"
                    },
                    "metadata": {}
                }
            ],
            "execution_count": 3
        },
        {
            "cell_type": "code",
            "source": [
                "insert into [User] values('Shivam','Vishvakarma','shivam@gmail.com','8484849696','Admin@123',1,'https://www.pngkey.com/png/detail/202-2024792_user-profile-icon-png-download-fa-user-circle.png','2022/11/08');\r\n",
                "insert into [User] values('Aditya','Kumar','aditya@gmail.com','9696969696','Aditya@123',2,'https://www.pngkey.com/png/detail/202-2024792_user-profile-icon-png-download-fa-user-circle.png','2022/11/08');\r\n",
                "insert into [User] values('Saurabh','Kumar','saurabh@gmail.com','8585858585','Saurabh@123',2,'https://www.pngkey.com/png/detail/202-2024792_user-profile-icon-png-download-fa-user-circle.png','2022/11/08');\r\n",
                "insert into [User] values('Vishnu','Singh','vishnu@gmail.com','7257257255','Vishnu@123',2,'https://www.pngkey.com/png/detail/202-2024792_user-profile-icon-png-download-fa-user-circle.png','2022/11/08');\r\n",
                "insert into [User] values('Shivraj','Totiger','shivraj@gmail.com','7417417411','Shivraj@123',2,'https://www.pngkey.com/png/detail/202-2024792_user-profile-icon-png-download-fa-user-circle.png','2022/11/08');\r\n",
                "insert into [User] values('Viniston','Arockiasamy','viniston@gmail.com','9639639633','Viniston@123',2,'https://www.pngkey.com/png/detail/202-2024792_user-profile-icon-png-download-fa-user-circle.png','2022/11/08');"
            ],
            "metadata": {
                "azdata_cell_guid": "4145edc6-cbdf-4013-986b-78c3d315c6f8",
                "language": "sql"
            },
            "outputs": [
                {
                    "output_type": "display_data",
                    "data": {
                        "text/html": "(1 row affected)"
                    },
                    "metadata": {}
                },
                {
                    "output_type": "display_data",
                    "data": {
                        "text/html": "(1 row affected)"
                    },
                    "metadata": {}
                },
                {
                    "output_type": "display_data",
                    "data": {
                        "text/html": "(1 row affected)"
                    },
                    "metadata": {}
                },
                {
                    "output_type": "display_data",
                    "data": {
                        "text/html": "(1 row affected)"
                    },
                    "metadata": {}
                },
                {
                    "output_type": "display_data",
                    "data": {
                        "text/html": "(1 row affected)"
                    },
                    "metadata": {}
                },
                {
                    "output_type": "display_data",
                    "data": {
                        "text/html": "(1 row affected)"
                    },
                    "metadata": {}
                },
                {
                    "output_type": "display_data",
                    "data": {
                        "text/html": "Total execution time: 00:00:00.013"
                    },
                    "metadata": {}
                }
            ],
            "execution_count": 4
        },
        {
            "cell_type": "code",
            "source": [
                "CREATE TABLE [dbo].[Department] (\r\n",
                "    [department_id]   INT           IDENTITY (1, 1) NOT NULL,\r\n",
                "    [department_name] NVARCHAR (50) NOT NULL,\r\n",
                "    CONSTRAINT [department_id] PRIMARY KEY CLUSTERED ([department_id] ASC)\r\n",
                ");"
            ],
            "metadata": {
                "azdata_cell_guid": "2683f205-8722-4a18-8fbe-559abe1a40d1",
                "language": "sql"
            },
            "outputs": [
                {
                    "output_type": "display_data",
                    "data": {
                        "text/html": "Commands completed successfully."
                    },
                    "metadata": {}
                },
                {
                    "output_type": "display_data",
                    "data": {
                        "text/html": "Total execution time: 00:00:00.007"
                    },
                    "metadata": {}
                }
            ],
            "execution_count": 5
        },
        {
            "cell_type": "code",
            "source": [
                "insert into Department Values('Technology');\r\n",
                "insert into Department Values('Research');"
            ],
            "metadata": {
                "language": "sql",
                "azdata_cell_guid": "4095fd8e-bdb6-45b7-a42b-2758946dbf0a"
            },
            "outputs": [
                {
                    "output_type": "display_data",
                    "data": {
                        "text/html": "(1 row affected)"
                    },
                    "metadata": {}
                },
                {
                    "output_type": "display_data",
                    "data": {
                        "text/html": "(1 row affected)"
                    },
                    "metadata": {}
                },
                {
                    "output_type": "display_data",
                    "data": {
                        "text/html": "Total execution time: 00:00:00.005"
                    },
                    "metadata": {}
                }
            ],
            "execution_count": 6
        },
        {
            "cell_type": "code",
            "source": [
                "CREATE TABLE [dbo].[Category] (\r\n",
                "    [category_id]   INT           IDENTITY (1, 1) NOT NULL,\r\n",
                "    [category_name] NVARCHAR (50) NOT NULL,\r\n",
                "    [department_id] INT           NOT NULL,\r\n",
                "    CONSTRAINT [category_id] PRIMARY KEY CLUSTERED ([category_id] ASC),\r\n",
                "    FOREIGN KEY ([department_id]) REFERENCES [dbo].[Department] ([department_id])  ON DELETE CASCADE ON UPDATE CASCADE\r\n",
                ");"
            ],
            "metadata": {
                "language": "sql",
                "azdata_cell_guid": "15258464-83bc-4dfe-a733-19e08953529e"
            },
            "outputs": [
                {
                    "output_type": "display_data",
                    "data": {
                        "text/html": "Commands completed successfully."
                    },
                    "metadata": {}
                },
                {
                    "output_type": "display_data",
                    "data": {
                        "text/html": "Total execution time: 00:00:00.005"
                    },
                    "metadata": {}
                }
            ],
            "execution_count": 7
        },
        {
            "cell_type": "code",
            "source": [
                "insert into Category Values('Hardware',1);\r\n",
                "insert into Category Values('Software',1);\r\n",
                "insert into Category Values('Power BI',2);\r\n",
                "insert into Category Values('Tableau',2);\r\n",
                "insert into Category Values('Chartio',2);"
            ],
            "metadata": {
                "language": "sql",
                "azdata_cell_guid": "86eda018-c79b-4eb0-a38b-b0963c19b595"
            },
            "outputs": [
                {
                    "output_type": "display_data",
                    "data": {
                        "text/html": "(1 row affected)"
                    },
                    "metadata": {}
                },
                {
                    "output_type": "display_data",
                    "data": {
                        "text/html": "(1 row affected)"
                    },
                    "metadata": {}
                },
                {
                    "output_type": "display_data",
                    "data": {
                        "text/html": "(1 row affected)"
                    },
                    "metadata": {}
                },
                {
                    "output_type": "display_data",
                    "data": {
                        "text/html": "(1 row affected)"
                    },
                    "metadata": {}
                },
                {
                    "output_type": "display_data",
                    "data": {
                        "text/html": "(1 row affected)"
                    },
                    "metadata": {}
                },
                {
                    "output_type": "display_data",
                    "data": {
                        "text/html": "Total execution time: 00:00:00.011"
                    },
                    "metadata": {}
                }
            ],
            "execution_count": 8
        },
        {
            "cell_type": "code",
            "source": [
                "CREATE TABLE [dbo].[SubCategory] (\r\n",
                "    [subcategory_id]   INT           IDENTITY (1, 1) NOT NULL,\r\n",
                "    [subcategory_name] NVARCHAR (50) NOT NULL,\r\n",
                "    [category_id] INT           NOT NULL,\r\n",
                "    CONSTRAINT [subcategory_id] PRIMARY KEY CLUSTERED ([subcategory_id] ASC),\r\n",
                "    FOREIGN KEY ([category_id]) REFERENCES [dbo].[Category] ([category_id]) ON DELETE CASCADE ON UPDATE CASCADE\r\n",
                ");"
            ],
            "metadata": {
                "language": "sql",
                "azdata_cell_guid": "9fdcda7a-631b-4e6e-9e56-9c121b4cba57"
            },
            "outputs": [
                {
                    "output_type": "display_data",
                    "data": {
                        "text/html": "Commands completed successfully."
                    },
                    "metadata": {}
                },
                {
                    "output_type": "display_data",
                    "data": {
                        "text/html": "Total execution time: 00:00:00.004"
                    },
                    "metadata": {}
                }
            ],
            "execution_count": 9
        },
        {
            "cell_type": "code",
            "source": [
                "insert into SubCategory Values('Heating',1);\r\n",
                "insert into SubCategory Values('Touchpad',1);\r\n",
                "insert into SubCategory Values('MS Office',2);\r\n",
                "insert into SubCategory Values('Teams',2);\r\n",
                "insert into SubCategory Values('Credential',3);\r\n",
                "insert into SubCategory Values('Error',4);\r\n",
                "insert into SubCategory Values('Login Failed',5);"
            ],
            "metadata": {
                "language": "sql",
                "azdata_cell_guid": "110e024a-cf6b-4c7c-be3d-dc95851efdee"
            },
            "outputs": [
                {
                    "output_type": "display_data",
                    "data": {
                        "text/html": "(1 row affected)"
                    },
                    "metadata": {}
                },
                {
                    "output_type": "display_data",
                    "data": {
                        "text/html": "(1 row affected)"
                    },
                    "metadata": {}
                },
                {
                    "output_type": "display_data",
                    "data": {
                        "text/html": "(1 row affected)"
                    },
                    "metadata": {}
                },
                {
                    "output_type": "display_data",
                    "data": {
                        "text/html": "(1 row affected)"
                    },
                    "metadata": {}
                },
                {
                    "output_type": "display_data",
                    "data": {
                        "text/html": "(1 row affected)"
                    },
                    "metadata": {}
                },
                {
                    "output_type": "display_data",
                    "data": {
                        "text/html": "(1 row affected)"
                    },
                    "metadata": {}
                },
                {
                    "output_type": "display_data",
                    "data": {
                        "text/html": "(1 row affected)"
                    },
                    "metadata": {}
                },
                {
                    "output_type": "display_data",
                    "data": {
                        "text/html": "Total execution time: 00:00:00.012"
                    },
                    "metadata": {}
                }
            ],
            "execution_count": 10
        },
        {
            "cell_type": "code",
            "source": [
                "CREATE TABLE [dbo].[Status] (\r\n",
                "    [status_id]   INT           IDENTITY (1, 1) NOT NULL,\r\n",
                "    [status_name] NVARCHAR (50) NOT NULL,\r\n",
                "    CONSTRAINT [ticket_id] PRIMARY KEY CLUSTERED ([status_id] ASC)\r\n",
                ");"
            ],
            "metadata": {
                "language": "sql",
                "azdata_cell_guid": "cd915642-eb10-4936-b5d5-e7308d799702"
            },
            "outputs": [
                {
                    "output_type": "display_data",
                    "data": {
                        "text/html": "Commands completed successfully."
                    },
                    "metadata": {}
                },
                {
                    "output_type": "display_data",
                    "data": {
                        "text/html": "Total execution time: 00:00:00.006"
                    },
                    "metadata": {}
                }
            ],
            "execution_count": 11
        },
        {
            "cell_type": "code",
            "source": [
                "INSERT INTO Status VALUES('Open');\r\n",
                "INSERT INTO Status VALUES('In Progress');\r\n",
                "INSERT INTO Status VALUES('Close');"
            ],
            "metadata": {
                "language": "sql",
                "azdata_cell_guid": "7810b67f-81b6-4e7c-a0b6-d0cb37a78422"
            },
            "outputs": [
                {
                    "output_type": "display_data",
                    "data": {
                        "text/html": "(1 row affected)"
                    },
                    "metadata": {}
                },
                {
                    "output_type": "display_data",
                    "data": {
                        "text/html": "(1 row affected)"
                    },
                    "metadata": {}
                },
                {
                    "output_type": "display_data",
                    "data": {
                        "text/html": "(1 row affected)"
                    },
                    "metadata": {}
                },
                {
                    "output_type": "display_data",
                    "data": {
                        "text/html": "Total execution time: 00:00:00.008"
                    },
                    "metadata": {}
                }
            ],
            "execution_count": 12
        },
        {
            "cell_type": "code",
            "source": [
                "CREATE TABLE [dbo].[Tickets] (\r\n",
                "    [ticketid]         INT            IDENTITY (1, 1) NOT NULL,\r\n",
                "    [cust_name]    NVARCHAR (50)  NOT NULL,\r\n",
                "    [cust_email]   NVARCHAR (50)  NOT NULL,\r\n",
                "    [esc_email]    NVARCHAR (50)  NOT NULL,\r\n",
                "    [subject]      NVARCHAR (200) NOT NULL,\r\n",
                "    [issue_desc]   NVARCHAR (MAX) NOT NULL,\r\n",
                "    [teamlink]     NVARCHAR (200) NOT NULL,\r\n",
                "    [department]   INT         NOT NULL,\r\n",
                "    [modification] Date,\r\n",
                "    [status_id]    INT            NOT NULL,\r\n",
                "    [user_id]      INT           NOT NULL,\r\n",
                "    [issue_date]   DATE           NULL,\r\n",
                "    [category]     INT         NOT NULL,\r\n",
                "    [subcategory]  INT         NOT NULL,\r\n",
                "    CONSTRAINT [ticketid] PRIMARY KEY CLUSTERED ([ticketid] ASC),\r\n",
                "    FOREIGN KEY ([department]) REFERENCES [dbo].[Department] ([department_id]),\r\n",
                "    FOREIGN KEY ([user_id]) REFERENCES [dbo].[User] ([user_id]) ON DELETE CASCADE ON UPDATE CASCADE,\r\n",
                "    FOREIGN KEY ([status_id]) REFERENCES [dbo].[Status] ([status_id]) ON DELETE CASCADE ON UPDATE CASCADE,\r\n",
                "    FOREIGN KEY ([category]) REFERENCES [dbo].[Category] ([category_id]),\r\n",
                "    FOREIGN KEY ([subcategory]) REFERENCES [dbo].[SubCategory] ([subcategory_id])\r\n",
                ");"
            ],
            "metadata": {
                "language": "sql",
                "azdata_cell_guid": "6f80c124-3076-407e-9c57-3dcd5a485cb5"
            },
            "outputs": [
                {
                    "output_type": "display_data",
                    "data": {
                        "text/html": "Commands completed successfully."
                    },
                    "metadata": {}
                },
                {
                    "output_type": "display_data",
                    "data": {
                        "text/html": "Total execution time: 00:00:00.008"
                    },
                    "metadata": {}
                }
            ],
            "execution_count": 14
        },
        {
            "cell_type": "code",
            "source": [
                "insert into Tickets values('Anurag','anurag@gmail.com','anu@euro.com','Heating','Laptop heating','http://localhost:4200/',1,'',2,1002,'2022/09/06',1,1);\r\n",
                "insert into Tickets values('Saurabh','saurabh@gmail.com','saurabh@euro.com','Netwrok','Wifi Connectivity issue','http://localhost:4200/',1,'',1,1003,'2022/09/06',2,2);\r\n",
                ""
            ],
            "metadata": {
                "language": "sql",
                "azdata_cell_guid": "56c994a6-005d-4165-ae2e-3c2c22317dee"
            },
            "outputs": [
                {
                    "output_type": "display_data",
                    "data": {
                        "text/html": "(1 row affected)"
                    },
                    "metadata": {}
                },
                {
                    "output_type": "display_data",
                    "data": {
                        "text/html": "(1 row affected)"
                    },
                    "metadata": {}
                },
                {
                    "output_type": "display_data",
                    "data": {
                        "text/html": "Total execution time: 00:00:00.011"
                    },
                    "metadata": {}
                }
            ],
            "execution_count": 3
        },
        {
            "cell_type": "code",
            "source": [
                "--Check User Name with Designation\r\n",
                "select U.first_name, R.role_name from [dbo].[User] U join Role R on U.role_id=R.role_id"
            ],
            "metadata": {
                "language": "sql",
                "azdata_cell_guid": "89e01bbf-18ef-40d7-8492-e1e3da942b9a",
                "tags": []
            },
            "outputs": [
                {
                    "output_type": "display_data",
                    "data": {
                        "text/html": "(6 rows affected)"
                    },
                    "metadata": {}
                },
                {
                    "output_type": "display_data",
                    "data": {
                        "text/html": "Total execution time: 00:00:00.059"
                    },
                    "metadata": {}
                },
                {
                    "output_type": "execute_result",
                    "metadata": {},
                    "execution_count": 6,
                    "data": {
                        "application/vnd.dataresource+json": {
                            "schema": {
                                "fields": [
                                    {
                                        "name": "first_name"
                                    },
                                    {
                                        "name": "role_name"
                                    }
                                ]
                            },
                            "data": [
                                {
                                    "0": "Shivam",
                                    "1": "Admin"
                                },
                                {
                                    "0": "Aditya",
                                    "1": "User"
                                },
                                {
                                    "0": "Saurabh",
                                    "1": "User"
                                },
                                {
                                    "0": "Vishnu",
                                    "1": "User"
                                },
                                {
                                    "0": "Shivraj",
                                    "1": "User"
                                },
                                {
                                    "0": "Viniston",
                                    "1": "User"
                                }
                            ]
                        },
                        "text/html": [
                            "<table>",
                            "<tr><th>first_name</th><th>role_name</th></tr>",
                            "<tr><td>Shivam</td><td>Admin</td></tr>",
                            "<tr><td>Aditya</td><td>User</td></tr>",
                            "<tr><td>Saurabh</td><td>User</td></tr>",
                            "<tr><td>Vishnu</td><td>User</td></tr>",
                            "<tr><td>Shivraj</td><td>User</td></tr>",
                            "<tr><td>Viniston</td><td>User</td></tr>",
                            "</table>"
                        ]
                    }
                }
            ],
            "execution_count": 6
        },
        {
            "cell_type": "code",
            "source": [
                "select d.department_name,c.category_name from Department d join\r\n",
                "Category c on d.department_id=c.department_id\r\n",
                "group by d.department_name,c.category_name"
            ],
            "metadata": {
                "language": "sql",
                "azdata_cell_guid": "4c62d3cb-1587-4b73-ad85-d035fdcfdf8f"
            },
            "outputs": [
                {
                    "output_type": "display_data",
                    "data": {
                        "text/html": "(5 rows affected)"
                    },
                    "metadata": {}
                },
                {
                    "output_type": "display_data",
                    "data": {
                        "text/html": "Total execution time: 00:00:00.021"
                    },
                    "metadata": {}
                },
                {
                    "output_type": "execute_result",
                    "metadata": {},
                    "execution_count": 7,
                    "data": {
                        "application/vnd.dataresource+json": {
                            "schema": {
                                "fields": [
                                    {
                                        "name": "department_name"
                                    },
                                    {
                                        "name": "category_name"
                                    }
                                ]
                            },
                            "data": [
                                {
                                    "0": "Research",
                                    "1": "Chartio"
                                },
                                {
                                    "0": "Research",
                                    "1": "Power BI"
                                },
                                {
                                    "0": "Research",
                                    "1": "Tableau"
                                },
                                {
                                    "0": "Technology",
                                    "1": "Hardware"
                                },
                                {
                                    "0": "Technology",
                                    "1": "Software"
                                }
                            ]
                        },
                        "text/html": [
                            "<table>",
                            "<tr><th>department_name</th><th>category_name</th></tr>",
                            "<tr><td>Research</td><td>Chartio</td></tr>",
                            "<tr><td>Research</td><td>Power BI</td></tr>",
                            "<tr><td>Research</td><td>Tableau</td></tr>",
                            "<tr><td>Technology</td><td>Hardware</td></tr>",
                            "<tr><td>Technology</td><td>Software</td></tr>",
                            "</table>"
                        ]
                    }
                }
            ],
            "execution_count": 7
        },
        {
            "cell_type": "code",
            "source": [
                "select d.department_name,c.category_name,s.subcategory_name from Department d\r\n",
                "join Category c on d.department_id=c.department_id\r\n",
                "join SubCategory s on s.category_id=c.category_id\r\n",
                ""
            ],
            "metadata": {
                "language": "sql",
                "azdata_cell_guid": "93199b13-91ec-4186-abc9-0664815f5c7f"
            },
            "outputs": [
                {
                    "output_type": "display_data",
                    "data": {
                        "text/html": "(7 rows affected)"
                    },
                    "metadata": {}
                },
                {
                    "output_type": "display_data",
                    "data": {
                        "text/html": "Total execution time: 00:00:00.013"
                    },
                    "metadata": {}
                },
                {
                    "output_type": "execute_result",
                    "metadata": {},
                    "execution_count": 8,
                    "data": {
                        "application/vnd.dataresource+json": {
                            "schema": {
                                "fields": [
                                    {
                                        "name": "department_name"
                                    },
                                    {
                                        "name": "category_name"
                                    },
                                    {
                                        "name": "subcategory_name"
                                    }
                                ]
                            },
                            "data": [
                                {
                                    "0": "Technology",
                                    "1": "Hardware",
                                    "2": "Heating"
                                },
                                {
                                    "0": "Technology",
                                    "1": "Hardware",
                                    "2": "Touchpad"
                                },
                                {
                                    "0": "Technology",
                                    "1": "Software",
                                    "2": "MS Office"
                                },
                                {
                                    "0": "Technology",
                                    "1": "Software",
                                    "2": "Teams"
                                },
                                {
                                    "0": "Research",
                                    "1": "Power BI",
                                    "2": "Credential"
                                },
                                {
                                    "0": "Research",
                                    "1": "Tableau",
                                    "2": "Error"
                                },
                                {
                                    "0": "Research",
                                    "1": "Chartio",
                                    "2": "Login Failed"
                                }
                            ]
                        },
                        "text/html": [
                            "<table>",
                            "<tr><th>department_name</th><th>category_name</th><th>subcategory_name</th></tr>",
                            "<tr><td>Technology</td><td>Hardware</td><td>Heating</td></tr>",
                            "<tr><td>Technology</td><td>Hardware</td><td>Touchpad</td></tr>",
                            "<tr><td>Technology</td><td>Software</td><td>MS Office</td></tr>",
                            "<tr><td>Technology</td><td>Software</td><td>Teams</td></tr>",
                            "<tr><td>Research</td><td>Power BI</td><td>Credential</td></tr>",
                            "<tr><td>Research</td><td>Tableau</td><td>Error</td></tr>",
                            "<tr><td>Research</td><td>Chartio</td><td>Login Failed</td></tr>",
                            "</table>"
                        ]
                    }
                }
            ],
            "execution_count": 8
        },
        {
            "cell_type": "code",
            "source": [
                "select T.cust_name, U.first_name, S.status_name, D.department_name\r\n",
                "from Tickets T\r\n",
                "    join [dbo].[User] U on T.user_id=U.user_id\r\n",
                "    join Status S on T.status_id=S.status_id\r\n",
                "    join Department D on T.department=D.department_id"
            ],
            "metadata": {
                "language": "sql",
                "azdata_cell_guid": "bbbac4b2-2d9b-44ad-8d39-4e814890162e"
            },
            "outputs": [
                {
                    "output_type": "display_data",
                    "data": {
                        "text/html": "(2 rows affected)"
                    },
                    "metadata": {}
                },
                {
                    "output_type": "display_data",
                    "data": {
                        "text/html": "Total execution time: 00:00:00.024"
                    },
                    "metadata": {}
                },
                {
                    "output_type": "execute_result",
                    "metadata": {},
                    "execution_count": 11,
                    "data": {
                        "application/vnd.dataresource+json": {
                            "schema": {
                                "fields": [
                                    {
                                        "name": "cust_name"
                                    },
                                    {
                                        "name": "first_name"
                                    },
                                    {
                                        "name": "status_name"
                                    },
                                    {
                                        "name": "department_name"
                                    }
                                ]
                            },
                            "data": [
                                {
                                    "0": "Anurag",
                                    "1": "Aditya",
                                    "2": "In Progress",
                                    "3": "Technology"
                                },
                                {
                                    "0": "Saurabh",
                                    "1": "Saurabh",
                                    "2": "Open",
                                    "3": "Technology"
                                }
                            ]
                        },
                        "text/html": [
                            "<table>",
                            "<tr><th>cust_name</th><th>first_name</th><th>status_name</th><th>department_name</th></tr>",
                            "<tr><td>Anurag</td><td>Aditya</td><td>In Progress</td><td>Technology</td></tr>",
                            "<tr><td>Saurabh</td><td>Saurabh</td><td>Open</td><td>Technology</td></tr>",
                            "</table>"
                        ]
                    }
                }
            ],
            "execution_count": 11
        },
        {
            "cell_type": "code",
            "source": [
                "select T.cust_name, U.first_name, S.status_name, D.department_name, C.category_name, Sub.subcategory_name\r\n",
                "from Tickets T\r\n",
                "    join [dbo].[User] U on T.user_id=U.user_id\r\n",
                "    join Status S on T.status_id=S.status_id\r\n",
                "    join Department D on T.department=D.department_id\r\n",
                "    join Category C on T.category=C.category_id\r\n",
                "    join SubCategory Sub on T.subcategory = sub.subcategory_id"
            ],
            "metadata": {
                "language": "sql",
                "azdata_cell_guid": "cfa1be1f-868b-438f-ae01-9d414df0e3b5",
                "tags": []
            },
            "outputs": [
                {
                    "output_type": "display_data",
                    "data": {
                        "text/html": "(2 rows affected)"
                    },
                    "metadata": {}
                },
                {
                    "output_type": "display_data",
                    "data": {
                        "text/html": "Total execution time: 00:00:00.019"
                    },
                    "metadata": {}
                },
                {
                    "output_type": "execute_result",
                    "metadata": {},
                    "execution_count": 14,
                    "data": {
                        "application/vnd.dataresource+json": {
                            "schema": {
                                "fields": [
                                    {
                                        "name": "cust_name"
                                    },
                                    {
                                        "name": "first_name"
                                    },
                                    {
                                        "name": "status_name"
                                    },
                                    {
                                        "name": "department_name"
                                    },
                                    {
                                        "name": "category_name"
                                    },
                                    {
                                        "name": "subcategory_name"
                                    }
                                ]
                            },
                            "data": [
                                {
                                    "0": "Anurag",
                                    "1": "Aditya",
                                    "2": "In Progress",
                                    "3": "Technology",
                                    "4": "Hardware",
                                    "5": "Heating"
                                },
                                {
                                    "0": "Saurabh",
                                    "1": "Saurabh",
                                    "2": "Open",
                                    "3": "Technology",
                                    "4": "Software",
                                    "5": "Touchpad"
                                }
                            ]
                        },
                        "text/html": [
                            "<table>",
                            "<tr><th>cust_name</th><th>first_name</th><th>status_name</th><th>department_name</th><th>category_name</th><th>subcategory_name</th></tr>",
                            "<tr><td>Anurag</td><td>Aditya</td><td>In Progress</td><td>Technology</td><td>Hardware</td><td>Heating</td></tr>",
                            "<tr><td>Saurabh</td><td>Saurabh</td><td>Open</td><td>Technology</td><td>Software</td><td>Touchpad</td></tr>",
                            "</table>"
                        ]
                    }
                }
            ],
            "execution_count": 14
        },
        {
            "cell_type": "code",
            "source": [
                "/*Count No of Tickets*/\r\n",
                "CREATE PROC spCountTotalTickets\r\n",
                "AS\r\n",
                "BEGIN\r\n",
                "\tSELECT COUNT(ticketid) FROM Tickets\r\n",
                "END\r\n",
                "\r\n",
                "EXEC spCountTotalTickets"
            ],
            "metadata": {
                "azdata_cell_guid": "bc8eed7f-b6c5-4003-b805-9f1da87483fa",
                "language": "sql",
                "tags": []
            },
            "outputs": [
                {
                    "output_type": "display_data",
                    "data": {
                        "text/html": "Commands completed successfully."
                    },
                    "metadata": {}
                },
                {
                    "output_type": "display_data",
                    "data": {
                        "text/html": "Total execution time: 00:00:00.007"
                    },
                    "metadata": {}
                }
            ],
            "execution_count": 15
        },
        {
            "cell_type": "code",
            "source": [
                "/*Get All Users Data*/\r\n",
                "CREATE PROC spGetAllUsers\r\n",
                "AS\r\n",
                "BEGIN\r\n",
                "\tSELECT U.user_id AS 'NO', (U.first_name+' '+U.last_name) AS 'Name', U.user_email AS 'Email Id',R.role_name AS 'Role' FROM  [dbo].[User] U\r\n",
                "\tJOIN Role R ON U.role_id=R.role_id\r\n",
                "\tWHERE R.role_name!='Admin'\r\n",
                "END"
            ],
            "metadata": {
                "language": "sql",
                "azdata_cell_guid": "21de64d3-a457-4e53-b14c-5a46c17ac259"
            },
            "outputs": [
                {
                    "output_type": "display_data",
                    "data": {
                        "text/html": "Commands completed successfully."
                    },
                    "metadata": {}
                },
                {
                    "output_type": "display_data",
                    "data": {
                        "text/html": "Total execution time: 00:00:00.005"
                    },
                    "metadata": {}
                }
            ],
            "execution_count": 18
        },
        {
            "cell_type": "code",
            "source": [
                "EXEC spGetAllUsers"
            ],
            "metadata": {
                "language": "sql",
                "azdata_cell_guid": "3b652667-2f6c-4156-850d-a1c59f0897bf"
            },
            "outputs": [
                {
                    "output_type": "display_data",
                    "data": {
                        "text/html": "(5 rows affected)"
                    },
                    "metadata": {}
                },
                {
                    "output_type": "display_data",
                    "data": {
                        "text/html": "Total execution time: 00:00:00.010"
                    },
                    "metadata": {}
                },
                {
                    "output_type": "execute_result",
                    "metadata": {},
                    "execution_count": 19,
                    "data": {
                        "application/vnd.dataresource+json": {
                            "schema": {
                                "fields": [
                                    {
                                        "name": "NO"
                                    },
                                    {
                                        "name": "Name"
                                    },
                                    {
                                        "name": "Email Id"
                                    },
                                    {
                                        "name": "Role"
                                    }
                                ]
                            },
                            "data": [
                                {
                                    "0": "1002",
                                    "1": "Aditya Kumar",
                                    "2": "aditya@gmail.com",
                                    "3": "User"
                                },
                                {
                                    "0": "1003",
                                    "1": "Saurabh Kumar",
                                    "2": "saurabh@gmail.com",
                                    "3": "User"
                                },
                                {
                                    "0": "1004",
                                    "1": "Vishnu Singh",
                                    "2": "vishnu@gmail.com",
                                    "3": "User"
                                },
                                {
                                    "0": "1005",
                                    "1": "Shivraj Totiger",
                                    "2": "shivraj@gmail.com",
                                    "3": "User"
                                },
                                {
                                    "0": "1006",
                                    "1": "Viniston Arockiasamy",
                                    "2": "viniston@gmail.com",
                                    "3": "User"
                                }
                            ]
                        },
                        "text/html": [
                            "<table>",
                            "<tr><th>NO</th><th>Name</th><th>Email Id</th><th>Role</th></tr>",
                            "<tr><td>1002</td><td>Aditya Kumar</td><td>aditya@gmail.com</td><td>User</td></tr>",
                            "<tr><td>1003</td><td>Saurabh Kumar</td><td>saurabh@gmail.com</td><td>User</td></tr>",
                            "<tr><td>1004</td><td>Vishnu Singh</td><td>vishnu@gmail.com</td><td>User</td></tr>",
                            "<tr><td>1005</td><td>Shivraj Totiger</td><td>shivraj@gmail.com</td><td>User</td></tr>",
                            "<tr><td>1006</td><td>Viniston Arockiasamy</td><td>viniston@gmail.com</td><td>User</td></tr>",
                            "</table>"
                        ]
                    }
                }
            ],
            "execution_count": 19
        },
        {
            "cell_type": "code",
            "source": [
                "/* Add User */\r\n",
                "CREATE PROC spAddUser\r\n",
                "@FirstName nvarchar(20),\r\n",
                "@LastName nvarchar(20),\r\n",
                "@Email nvarchar(50),\r\n",
                "@Mobile nvarchar(15),\r\n",
                "@Password nvarchar(20),\r\n",
                "@Role int,\r\n",
                "@ProfilePic nvarchar(MAX),\r\n",
                "@JoiningDate Date\r\n",
                "AS\r\n",
                "BEGIN\r\n",
                "\tINSERT INTO [dbo].[User](first_name,last_name,mobile_no,user_email,password,role_id,user_img,joining_date)\r\n",
                "\tVALUES(@FirstName,@LastName,@Email,@Mobile,@Password,@Role,@ProfilePic,@JoiningDate);\r\n",
                "END"
            ],
            "metadata": {
                "language": "sql",
                "azdata_cell_guid": "5e944285-8879-439a-a0d3-86738e684615"
            },
            "outputs": [
                {
                    "output_type": "display_data",
                    "data": {
                        "text/html": "Commands completed successfully."
                    },
                    "metadata": {}
                },
                {
                    "output_type": "display_data",
                    "data": {
                        "text/html": "Total execution time: 00:00:00.006"
                    },
                    "metadata": {}
                }
            ],
            "execution_count": 20
        },
        {
            "cell_type": "code",
            "source": [
                "EXEC spAddUser 'Satya','Das','8596966312','satya@gmail.com','Satya@123',2,'https://encrypted-tbn0.gstatic.com/images?q=tbn:ANd9GcSEJ3K8qhjVc4IBNtD8-B9-UjinDocH4fh2h7xO9VTW&s','2022/09/07'"
            ],
            "metadata": {
                "language": "sql",
                "azdata_cell_guid": "6a9c403f-8601-44ae-bc72-b229c08728c0"
            },
            "outputs": [
                {
                    "output_type": "display_data",
                    "data": {
                        "text/html": "(1 row affected)"
                    },
                    "metadata": {}
                },
                {
                    "output_type": "display_data",
                    "data": {
                        "text/html": "Total execution time: 00:00:00.004"
                    },
                    "metadata": {}
                }
            ],
            "execution_count": 21
        },
        {
            "cell_type": "code",
            "source": [
                "\r\n",
                "/* Update User */\r\n",
                "CREATE PROC spUpdateUserDetail\r\n",
                "@Mobile nvarchar(15),\r\n",
                "@Password nvarchar(20),\r\n",
                "@Role int,\r\n",
                "@ProfilePic nvarchar(MAX),\r\n",
                "@UserId int\r\n",
                "AS\r\n",
                "BEGIN\r\n",
                "\tUPDATE [dbo].[User] SET mobile_no=@Mobile,password=@Password,role_id=@Role,user_img=@ProfilePic WHERE user_id=@UserId\r\n",
                "END\r\n",
                ""
            ],
            "metadata": {
                "language": "sql",
                "azdata_cell_guid": "50fdd06a-ec6d-4f2c-814e-2c67553ae31f"
            },
            "outputs": [
                {
                    "output_type": "display_data",
                    "data": {
                        "text/html": "Commands completed successfully."
                    },
                    "metadata": {}
                },
                {
                    "output_type": "display_data",
                    "data": {
                        "text/html": "Total execution time: 00:00:00.008"
                    },
                    "metadata": {}
                }
            ],
            "execution_count": 23
        },
        {
            "cell_type": "code",
            "source": [
                "ALTER PROC [dbo].[spUpdateUserDetail]\r\n",
                "@Mobile nvarchar(15)=NULL,\r\n",
                "@Password nvarchar(20)=NULL,\r\n",
                "@Role int =NULL,\r\n",
                "@ProfilePic nvarchar(MAX)=NULL,\r\n",
                "@UserId int\r\n",
                "AS\r\n",
                "BEGIN\r\n",
                "\tUPDATE [dbo].[User] SET mobile_no=ISNULL(@Mobile,mobile_no),password=ISNULL(@Password,password),user_img=ISNULL(@ProfilePic,user_img) WHERE user_id=@UserId\r\n",
                "END"
            ],
            "metadata": {
                "language": "sql",
                "azdata_cell_guid": "24db5512-a3eb-4508-8790-71d0b0309148"
            },
            "outputs": [
                {
                    "output_type": "display_data",
                    "data": {
                        "text/html": "Commands completed successfully."
                    },
                    "metadata": {}
                },
                {
                    "output_type": "display_data",
                    "data": {
                        "text/html": "Total execution time: 00:00:00.009"
                    },
                    "metadata": {}
                }
            ],
            "execution_count": 25
        },
        {
            "cell_type": "code",
            "source": [
                "exec spUpdateUserDetail '7485968574','12345',2,'asasdasdasdasdsad', 1007"
            ],
            "metadata": {
                "language": "sql",
                "azdata_cell_guid": "bbd8338f-8854-453b-85a4-4af696dd1660"
            },
            "outputs": [
                {
                    "output_type": "display_data",
                    "data": {
                        "text/html": "(1 row affected)"
                    },
                    "metadata": {}
                },
                {
                    "output_type": "display_data",
                    "data": {
                        "text/html": "Total execution time: 00:00:00.009"
                    },
                    "metadata": {}
                }
            ],
            "execution_count": 26
        },
        {
            "cell_type": "code",
            "source": [
                "/* Delete User */\r\n",
                "CREATE PROC spDeleteUser\r\n",
                "@UserId int\r\n",
                "AS\r\n",
                "BEGIN\r\n",
                "\tDELETE [dbo].[User] WHERE user_id=@UserId\r\n",
                "END"
            ],
            "metadata": {
                "language": "sql",
                "azdata_cell_guid": "5c42af75-69c9-4986-990e-d4a9d3d6447b"
            },
            "outputs": [
                {
                    "output_type": "display_data",
                    "data": {
                        "text/html": "Commands completed successfully."
                    },
                    "metadata": {}
                },
                {
                    "output_type": "display_data",
                    "data": {
                        "text/html": "Total execution time: 00:00:00.003"
                    },
                    "metadata": {}
                }
            ],
            "execution_count": 27
        },
        {
            "cell_type": "code",
            "source": [
                "EXEC spDeleteUser 1007"
            ],
            "metadata": {
                "language": "sql",
                "azdata_cell_guid": "ba59f03b-eee8-4c1a-8578-810275c73e17"
            },
            "outputs": [
                {
                    "output_type": "display_data",
                    "data": {
                        "text/html": "(1 row affected)"
                    },
                    "metadata": {}
                },
                {
                    "output_type": "display_data",
                    "data": {
                        "text/html": "Total execution time: 00:00:00.009"
                    },
                    "metadata": {}
                }
            ],
            "execution_count": 28
        },
        {
            "cell_type": "code",
            "source": [
                "/* View User Detail */\r\n",
                "CREATE PROC spGetUserDetailById\r\n",
                "@UserId int\r\n",
                "AS\r\n",
                "BEGIN\r\n",
                "\tSELECT U.first_name AS 'First Name',U.last_name AS 'Last Name',U.user_email AS 'Email',U.mobile_no AS 'Mobile No', U.joining_date AS 'Regitration Date',U.user_img AS 'Profile Image',R.role_id AS 'ROLE' from [dbo].[User] U\r\n",
                "\tJOIN Role R ON U.role_id=R.role_id\r\n",
                "\tWHERE user_id=@UserId\r\n",
                "END"
            ],
            "metadata": {
                "language": "sql",
                "azdata_cell_guid": "07309566-7c12-4b7b-bdcf-87b45d1c0bbf"
            },
            "outputs": [
                {
                    "output_type": "display_data",
                    "data": {
                        "text/html": "Commands completed successfully."
                    },
                    "metadata": {}
                },
                {
                    "output_type": "display_data",
                    "data": {
                        "text/html": "Total execution time: 00:00:00.003"
                    },
                    "metadata": {}
                }
            ],
            "execution_count": 29
        },
        {
            "cell_type": "code",
            "source": [
                "EXEC spGetUserDetailById 1004"
            ],
            "metadata": {
                "language": "sql",
                "azdata_cell_guid": "67fef7aa-8f72-4e76-a352-a603cda25d49"
            },
            "outputs": [
                {
                    "output_type": "display_data",
                    "data": {
                        "text/html": "(1 row affected)"
                    },
                    "metadata": {}
                },
                {
                    "output_type": "display_data",
                    "data": {
                        "text/html": "Total execution time: 00:00:00.011"
                    },
                    "metadata": {}
                },
                {
                    "output_type": "execute_result",
                    "metadata": {},
                    "execution_count": 30,
                    "data": {
                        "application/vnd.dataresource+json": {
                            "schema": {
                                "fields": [
                                    {
                                        "name": "First Name"
                                    },
                                    {
                                        "name": "Last Name"
                                    },
                                    {
                                        "name": "Email"
                                    },
                                    {
                                        "name": "Mobile No"
                                    },
                                    {
                                        "name": "Regitration Date"
                                    },
                                    {
                                        "name": "Profile Image"
                                    },
                                    {
                                        "name": "ROLE"
                                    }
                                ]
                            },
                            "data": [
                                {
                                    "0": "Vishnu",
                                    "1": "Singh",
                                    "2": "vishnu@gmail.com",
                                    "3": "7257257255",
                                    "4": "2022-11-08",
                                    "5": "https://www.pngkey.com/png/detail/202-2024792_user-profile-icon-png-download-fa-user-circle.png",
                                    "6": "2"
                                }
                            ]
                        },
                        "text/html": [
                            "<table>",
                            "<tr><th>First Name</th><th>Last Name</th><th>Email</th><th>Mobile No</th><th>Regitration Date</th><th>Profile Image</th><th>ROLE</th></tr>",
                            "<tr><td>Vishnu</td><td>Singh</td><td>vishnu@gmail.com</td><td>7257257255</td><td>2022-11-08</td><td>https://www.pngkey.com/png/detail/202-2024792_user-profile-icon-png-download-fa-user-circle.png</td><td>2</td></tr>",
                            "</table>"
                        ]
                    }
                }
            ],
            "execution_count": 30
        },
        {
            "cell_type": "code",
            "source": [
                "/* Count No of Users */\r\n",
                "CREATE PROC spCountNoOfUsers\r\n",
                "AS\r\n",
                "BEGIN\r\n",
                "\tSELECT COUNT(user_id) FROM [dbo].[User]\r\n",
                "END"
            ],
            "metadata": {
                "language": "sql",
                "azdata_cell_guid": "ac9454cb-d6bb-417b-b667-22862194dab1"
            },
            "outputs": [
                {
                    "output_type": "display_data",
                    "data": {
                        "text/html": "Commands completed successfully."
                    },
                    "metadata": {}
                },
                {
                    "output_type": "display_data",
                    "data": {
                        "text/html": "Total execution time: 00:00:00.005"
                    },
                    "metadata": {}
                }
            ],
            "execution_count": 31
        },
        {
            "cell_type": "code",
            "source": [
                "EXEC spCountNoOfUsers "
            ],
            "metadata": {
                "language": "sql",
                "azdata_cell_guid": "ef86fc7b-4dff-400f-afa4-22aff90f69b2"
            },
            "outputs": [
                {
                    "output_type": "display_data",
                    "data": {
                        "text/html": "(1 row affected)"
                    },
                    "metadata": {}
                },
                {
                    "output_type": "display_data",
                    "data": {
                        "text/html": "Total execution time: 00:00:00.004"
                    },
                    "metadata": {}
                },
                {
                    "output_type": "execute_result",
                    "metadata": {},
                    "execution_count": 32,
                    "data": {
                        "application/vnd.dataresource+json": {
                            "schema": {
                                "fields": [
                                    {
                                        "name": "(No column name)"
                                    }
                                ]
                            },
                            "data": [
                                {
                                    "0": "6"
                                }
                            ]
                        },
                        "text/html": [
                            "<table>",
                            "<tr><th>(No column name)</th></tr>",
                            "<tr><td>6</td></tr>",
                            "</table>"
                        ]
                    }
                }
            ],
            "execution_count": 32
        },
        {
            "cell_type": "code",
            "source": [
                "/* Count User By Department */\r\n",
                "CREATE PROC spGetUserByDepartment\r\n",
                "@Role nvarchar(20)\r\n",
                "AS\r\n",
                "BEGIN\r\n",
                "\tSELECT U.first_name+' '+U.last_name AS 'Name',U.user_email AS 'Email', U.mobile_no AS 'Mobile No', R.role_name AS 'Role' FROM [dbo].[User] U\r\n",
                "\tJOIN Role R ON U.role_id=R.role_id\r\n",
                "\tWHERE role_name=@Role\r\n",
                "END"
            ],
            "metadata": {
                "language": "sql",
                "azdata_cell_guid": "d816dbb4-edb5-42a5-8493-905f8cc3626b"
            },
            "outputs": [
                {
                    "output_type": "display_data",
                    "data": {
                        "text/html": "Commands completed successfully."
                    },
                    "metadata": {}
                },
                {
                    "output_type": "display_data",
                    "data": {
                        "text/html": "Total execution time: 00:00:00.007"
                    },
                    "metadata": {}
                }
            ],
            "execution_count": 34
        },
        {
            "cell_type": "code",
            "source": [
                "EXEC spGetUserByDepartment 'User'\r\n",
                "EXEC spGetUserByDepartment 'Admin'"
            ],
            "metadata": {
                "language": "sql",
                "azdata_cell_guid": "9722d1bd-5d95-42cd-a2e9-68932c982785"
            },
            "outputs": [
                {
                    "output_type": "display_data",
                    "data": {
                        "text/html": "(5 rows affected)"
                    },
                    "metadata": {}
                },
                {
                    "output_type": "display_data",
                    "data": {
                        "text/html": "(1 row affected)"
                    },
                    "metadata": {}
                },
                {
                    "output_type": "display_data",
                    "data": {
                        "text/html": "Total execution time: 00:00:00.020"
                    },
                    "metadata": {}
                },
                {
                    "output_type": "execute_result",
                    "metadata": {},
                    "execution_count": 37,
                    "data": {
                        "application/vnd.dataresource+json": {
                            "schema": {
                                "fields": [
                                    {
                                        "name": "Name"
                                    },
                                    {
                                        "name": "Email"
                                    },
                                    {
                                        "name": "Mobile No"
                                    },
                                    {
                                        "name": "Role"
                                    }
                                ]
                            },
                            "data": [
                                {
                                    "0": "Aditya Kumar",
                                    "1": "aditya@gmail.com",
                                    "2": "9696969696",
                                    "3": "User"
                                },
                                {
                                    "0": "Saurabh Kumar",
                                    "1": "saurabh@gmail.com",
                                    "2": "8585858585",
                                    "3": "User"
                                },
                                {
                                    "0": "Vishnu Singh",
                                    "1": "vishnu@gmail.com",
                                    "2": "7257257255",
                                    "3": "User"
                                },
                                {
                                    "0": "Shivraj Totiger",
                                    "1": "shivraj@gmail.com",
                                    "2": "7417417411",
                                    "3": "User"
                                },
                                {
                                    "0": "Viniston Arockiasamy",
                                    "1": "viniston@gmail.com",
                                    "2": "9639639633",
                                    "3": "User"
                                }
                            ]
                        },
                        "text/html": [
                            "<table>",
                            "<tr><th>Name</th><th>Email</th><th>Mobile No</th><th>Role</th></tr>",
                            "<tr><td>Aditya Kumar</td><td>aditya@gmail.com</td><td>9696969696</td><td>User</td></tr>",
                            "<tr><td>Saurabh Kumar</td><td>saurabh@gmail.com</td><td>8585858585</td><td>User</td></tr>",
                            "<tr><td>Vishnu Singh</td><td>vishnu@gmail.com</td><td>7257257255</td><td>User</td></tr>",
                            "<tr><td>Shivraj Totiger</td><td>shivraj@gmail.com</td><td>7417417411</td><td>User</td></tr>",
                            "<tr><td>Viniston Arockiasamy</td><td>viniston@gmail.com</td><td>9639639633</td><td>User</td></tr>",
                            "</table>"
                        ]
                    }
                },
                {
                    "output_type": "execute_result",
                    "metadata": {},
                    "execution_count": 37,
                    "data": {
                        "application/vnd.dataresource+json": {
                            "schema": {
                                "fields": [
                                    {
                                        "name": "Name"
                                    },
                                    {
                                        "name": "Email"
                                    },
                                    {
                                        "name": "Mobile No"
                                    },
                                    {
                                        "name": "Role"
                                    }
                                ]
                            },
                            "data": [
                                {
                                    "0": "Shivam Vishvakarma",
                                    "1": "shivam@gmail.com",
                                    "2": "8484849696",
                                    "3": "Admin"
                                }
                            ]
                        },
                        "text/html": [
                            "<table>",
                            "<tr><th>Name</th><th>Email</th><th>Mobile No</th><th>Role</th></tr>",
                            "<tr><td>Shivam Vishvakarma</td><td>shivam@gmail.com</td><td>8484849696</td><td>Admin</td></tr>",
                            "</table>"
                        ]
                    }
                }
            ],
            "execution_count": 37
        },
        {
            "cell_type": "code",
            "source": [
                "/*Add Ticket*/\r\n",
                "CREATE PROC spAddTicket\r\n",
                "@CustomerName nvarchar(20),\r\n",
                "@Email nvarchar(20),\r\n",
                "@EscEmail nvarchar(20),\r\n",
                "@Subject nvarchar(100),\r\n",
                "@IssueDiscription nvarchar(MAX),\r\n",
                "@TeamLink nvarchar(MAX),\r\n",
                "@Department int,\r\n",
                "@Status int,\r\n",
                "@UserId int,\r\n",
                "@IssueDate Date,\r\n",
                "@Category int,\r\n",
                "@Subcategory int\r\n",
                "AS\r\n",
                "BEGIN\r\n",
                "\tINSERT INTO Tickets(cust_name,cust_email,esc_email,subject,issue_desc,teamlink,department,status_id,user_id,issue_date,category,subcategory)\r\n",
                "\tVALUES(@CustomerName,@Email,@EscEmail,@Subject,@IssueDiscription,@TeamLink,@Department,@Status,@UserId,@IssueDate,@Category,@Subcategory)\r\n",
                "END"
            ],
            "metadata": {
                "language": "sql",
                "azdata_cell_guid": "b3c99053-db3f-42e8-9e4e-b0d8719a3300"
            },
            "outputs": [
                {
                    "output_type": "display_data",
                    "data": {
                        "text/html": "Commands completed successfully."
                    },
                    "metadata": {}
                },
                {
                    "output_type": "display_data",
                    "data": {
                        "text/html": "Total execution time: 00:00:00.005"
                    },
                    "metadata": {}
                }
            ],
            "execution_count": 38
        },
        {
            "cell_type": "code",
            "source": [
                "EXEC spAddTicket 'Devendra','dev@gmail.com','dev@euro.com','Laptop Issue','Laptop Heating','http://localhost:4200/landingpage/addticket',1,1,1003,'2022/07/09',2,1"
            ],
            "metadata": {
                "language": "sql",
                "azdata_cell_guid": "1d0c265d-0c95-4119-b355-769e6b35516f"
            },
            "outputs": [
                {
                    "output_type": "display_data",
                    "data": {
                        "text/html": "(1 row affected)"
                    },
                    "metadata": {}
                },
                {
                    "output_type": "display_data",
                    "data": {
                        "text/html": "Total execution time: 00:00:00.009"
                    },
                    "metadata": {}
                }
            ],
            "execution_count": 39
        },
        {
            "cell_type": "code",
            "source": [
                "/*Ticket Detail */\r\n",
                "CREATE PROC spGetTicketDetailById\r\n",
                "@TicketId int\r\n",
                "AS\r\n",
                "BEGIN\r\n",
                "\tselect T.cust_name,T.esc_email,T.cust_email,T.issue_date,T.issue_desc,\r\n",
                "\tU.first_name,S.status_name,\r\n",
                "\tD.department_name, \r\n",
                "\tC.category_name,\r\n",
                "\tSub.subcategory_name from Tickets T\r\n",
                "\tjoin [dbo].[User] U on T.user_id=U.user_id\r\n",
                "\tjoin T_Status S on T.status_id=S.status_id\r\n",
                "\tjoin Department D on T.department=D.department_id\r\n",
                "\tjoin Category C on T.category=C.category_id\r\n",
                "\tJoin SubCategory Sub on T.subcategory=Sub.subcategory_id\r\n",
                "\tWHERE ticketid=@TicketId\r\n",
                "END"
            ],
            "metadata": {
                "language": "sql",
                "azdata_cell_guid": "96f29f3b-94ab-4925-bce5-fd817b4d306a"
            },
            "outputs": [
                {
                    "output_type": "display_data",
                    "data": {
                        "text/html": "Commands completed successfully."
                    },
                    "metadata": {}
                },
                {
                    "output_type": "display_data",
                    "data": {
                        "text/html": "Total execution time: 00:00:00.003"
                    },
                    "metadata": {}
                }
            ],
            "execution_count": 41
        },
        {
            "cell_type": "code",
            "source": [
                "/*Ticket Detail */\r\n",
                "ALTER PROC spGetTicketDetailById\r\n",
                "@TicketId int\r\n",
                "AS\r\n",
                "BEGIN\r\n",
                "\tselect T.cust_name,T.esc_email,T.cust_email,T.issue_date,T.issue_desc,\r\n",
                "\tU.first_name,S.status_name,\r\n",
                "\tD.department_name, \r\n",
                "\tC.category_name,\r\n",
                "\tSub.subcategory_name from Tickets T\r\n",
                "\tjoin [dbo].[User] U on T.user_id=U.user_id\r\n",
                "\tjoin Status S on T.status_id=S.status_id\r\n",
                "\tjoin Department D on T.department=D.department_id\r\n",
                "\tjoin Category C on T.category=C.category_id\r\n",
                "\tJoin SubCategory Sub on T.subcategory=Sub.subcategory_id\r\n",
                "\tWHERE ticketid=@TicketId\r\n",
                "END"
            ],
            "metadata": {
                "language": "sql",
                "azdata_cell_guid": "57e97d5a-4d46-4397-a76e-2b81d75a3d31"
            },
            "outputs": [
                {
                    "output_type": "display_data",
                    "data": {
                        "text/html": "Commands completed successfully."
                    },
                    "metadata": {}
                },
                {
                    "output_type": "display_data",
                    "data": {
                        "text/html": "Total execution time: 00:00:00.006"
                    },
                    "metadata": {}
                }
            ],
            "execution_count": 43
        },
        {
            "cell_type": "code",
            "source": [
                "exec spGetTicketDetailById 2"
            ],
            "metadata": {
                "language": "sql",
                "azdata_cell_guid": "828b1c88-4ede-48ca-b8d2-66c8d40ba5a1"
            },
            "outputs": [
                {
                    "output_type": "display_data",
                    "data": {
                        "text/html": "(1 row affected)"
                    },
                    "metadata": {}
                },
                {
                    "output_type": "display_data",
                    "data": {
                        "text/html": "Total execution time: 00:00:00.005"
                    },
                    "metadata": {}
                },
                {
                    "output_type": "execute_result",
                    "metadata": {},
                    "execution_count": 46,
                    "data": {
                        "application/vnd.dataresource+json": {
                            "schema": {
                                "fields": [
                                    {
                                        "name": "cust_name"
                                    },
                                    {
                                        "name": "esc_email"
                                    },
                                    {
                                        "name": "cust_email"
                                    },
                                    {
                                        "name": "issue_date"
                                    },
                                    {
                                        "name": "issue_desc"
                                    },
                                    {
                                        "name": "first_name"
                                    },
                                    {
                                        "name": "status_name"
                                    },
                                    {
                                        "name": "department_name"
                                    },
                                    {
                                        "name": "category_name"
                                    },
                                    {
                                        "name": "subcategory_name"
                                    }
                                ]
                            },
                            "data": [
                                {
                                    "0": "Saurabh",
                                    "1": "saurabh@euro.com",
                                    "2": "saurabh@gmail.com",
                                    "3": "2022-09-06",
                                    "4": "Wifi Connectivity issue",
                                    "5": "Saurabh",
                                    "6": "Open",
                                    "7": "Technology",
                                    "8": "Software",
                                    "9": "Touchpad"
                                }
                            ]
                        },
                        "text/html": [
                            "<table>",
                            "<tr><th>cust_name</th><th>esc_email</th><th>cust_email</th><th>issue_date</th><th>issue_desc</th><th>first_name</th><th>status_name</th><th>department_name</th><th>category_name</th><th>subcategory_name</th></tr>",
                            "<tr><td>Saurabh</td><td>saurabh@euro.com</td><td>saurabh@gmail.com</td><td>2022-09-06</td><td>Wifi Connectivity issue</td><td>Saurabh</td><td>Open</td><td>Technology</td><td>Software</td><td>Touchpad</td></tr>",
                            "</table>"
                        ]
                    }
                }
            ],
            "execution_count": 46
        },
        {
            "cell_type": "code",
            "source": [
                "/* Filter Ticket By Status */\r\n",
                "create proc spGetTicketByStatus\r\n",
                "@Status nvarchar(10)\r\n",
                "AS\r\n",
                "BEGIN\r\n",
                "\tselect T.ticketid,T.cust_name,T.issue_date,\r\n",
                "\tS.status_name,\r\n",
                "\tD.department_name, \r\n",
                "\tC.category_name,\r\n",
                "\tSub.subcategory_name from Tickets T\r\n",
                "\tjoin Status S on T.status_id=S.status_id\r\n",
                "\tjoin Department D on T.department=D.department_id\r\n",
                "\tjoin Category C on T.category=C.category_id\r\n",
                "\tJoin SubCategory Sub on T.subcategory=Sub.subcategory_id\r\n",
                "\tWHERE status_name=@Status\r\n",
                "END"
            ],
            "metadata": {
                "language": "sql",
                "azdata_cell_guid": "08df4ec9-44c7-4aea-a36a-9e7f1da6e61f"
            },
            "outputs": [
                {
                    "output_type": "display_data",
                    "data": {
                        "text/html": "Commands completed successfully."
                    },
                    "metadata": {}
                },
                {
                    "output_type": "display_data",
                    "data": {
                        "text/html": "Total execution time: 00:00:00.006"
                    },
                    "metadata": {}
                }
            ],
            "execution_count": 48
        },
        {
            "cell_type": "code",
            "source": [
                "Exec spGetTicketByStatus 'open'\r\n",
                "Exec spGetTicketByStatus 'close'"
            ],
            "metadata": {
                "language": "sql",
                "azdata_cell_guid": "2f59709b-fd0a-4459-a117-57f227c8884e"
            },
            "outputs": [
                {
                    "output_type": "display_data",
                    "data": {
                        "text/html": "(2 rows affected)"
                    },
                    "metadata": {}
                },
                {
                    "output_type": "display_data",
                    "data": {
                        "text/html": "(0 rows affected)"
                    },
                    "metadata": {}
                },
                {
                    "output_type": "display_data",
                    "data": {
                        "text/html": "Total execution time: 00:00:00.013"
                    },
                    "metadata": {}
                },
                {
                    "output_type": "execute_result",
                    "metadata": {},
                    "execution_count": 50,
                    "data": {
                        "application/vnd.dataresource+json": {
                            "schema": {
                                "fields": [
                                    {
                                        "name": "ticketid"
                                    },
                                    {
                                        "name": "cust_name"
                                    },
                                    {
                                        "name": "issue_date"
                                    },
                                    {
                                        "name": "status_name"
                                    },
                                    {
                                        "name": "department_name"
                                    },
                                    {
                                        "name": "category_name"
                                    },
                                    {
                                        "name": "subcategory_name"
                                    }
                                ]
                            },
                            "data": [
                                {
                                    "0": "2",
                                    "1": "Saurabh",
                                    "2": "2022-09-06",
                                    "3": "Open",
                                    "4": "Technology",
                                    "5": "Software",
                                    "6": "Touchpad"
                                },
                                {
                                    "0": "3",
                                    "1": "Devendra",
                                    "2": "2022-07-09",
                                    "3": "Open",
                                    "4": "Technology",
                                    "5": "Software",
                                    "6": "Heating"
                                }
                            ]
                        },
                        "text/html": [
                            "<table>",
                            "<tr><th>ticketid</th><th>cust_name</th><th>issue_date</th><th>status_name</th><th>department_name</th><th>category_name</th><th>subcategory_name</th></tr>",
                            "<tr><td>2</td><td>Saurabh</td><td>2022-09-06</td><td>Open</td><td>Technology</td><td>Software</td><td>Touchpad</td></tr>",
                            "<tr><td>3</td><td>Devendra</td><td>2022-07-09</td><td>Open</td><td>Technology</td><td>Software</td><td>Heating</td></tr>",
                            "</table>"
                        ]
                    }
                },
                {
                    "output_type": "execute_result",
                    "metadata": {},
                    "execution_count": 50,
                    "data": {
                        "application/vnd.dataresource+json": {
                            "schema": {
                                "fields": [
                                    {
                                        "name": "ticketid"
                                    },
                                    {
                                        "name": "cust_name"
                                    },
                                    {
                                        "name": "issue_date"
                                    },
                                    {
                                        "name": "status_name"
                                    },
                                    {
                                        "name": "department_name"
                                    },
                                    {
                                        "name": "category_name"
                                    },
                                    {
                                        "name": "subcategory_name"
                                    }
                                ]
                            },
                            "data": []
                        },
                        "text/html": [
                            "<table>",
                            "<tr><th>ticketid</th><th>cust_name</th><th>issue_date</th><th>status_name</th><th>department_name</th><th>category_name</th><th>subcategory_name</th></tr>",
                            "</table>"
                        ]
                    }
                }
            ],
            "execution_count": 50
        },
        {
            "cell_type": "code",
            "source": [
                "/*Delete Ticket By Id*/\r\n",
                "CREATE PROC spDeleteTicketById\r\n",
                "@TicketId int\r\n",
                "AS\r\n",
                "BEGIN\r\n",
                "\tDELETE Tickets WHERE ticketid=@TicketId\r\n",
                "END"
            ],
            "metadata": {
                "language": "sql",
                "azdata_cell_guid": "caba0430-a0f6-4df1-8aa6-62f831440ffc"
            },
            "outputs": [
                {
                    "output_type": "display_data",
                    "data": {
                        "text/html": "Commands completed successfully."
                    },
                    "metadata": {}
                },
                {
                    "output_type": "display_data",
                    "data": {
                        "text/html": "Total execution time: 00:00:00.004"
                    },
                    "metadata": {}
                }
            ],
            "execution_count": 51
        },
        {
            "cell_type": "code",
            "source": [
                "/*Ticket Update by Id*/\r\n",
                "CREATE PROC spUpdateTicketById\r\n",
                "@Status int = NULL,\r\n",
                "@ModificationDate Date =NULL,\r\n",
                "@Description nvarchar(MAX)=NULL,\r\n",
                "@TeamLink nvarchar(MAX)=NULL,\r\n",
                "@TicketId int=NULL,\r\n",
                "@UserId int=NULL\r\n",
                "AS\r\n",
                "BEGIN\r\n",
                "\tUPDATE Tickets SET status_id=ISNULL(@Status,status_id),\r\n",
                "\tmodification=ISNULL(@ModificationDate,modification),\r\n",
                "\tissue_desc=ISNULL(@Description,issue_desc),teamlink=ISNULL(@TeamLink,teamlink),user_id=ISNULL(@UserId,user_id)\r\n",
                "\tWHERE ticketid=@TicketId;\r\n",
                "END"
            ],
            "metadata": {
                "language": "sql",
                "azdata_cell_guid": "75d37249-6d76-4f2a-aecb-bc02714363d1"
            },
            "outputs": [],
            "execution_count": null
        }
    ]
}