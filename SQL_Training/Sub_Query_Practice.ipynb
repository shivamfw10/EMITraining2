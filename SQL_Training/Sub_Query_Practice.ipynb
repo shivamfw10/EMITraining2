{
    "metadata": {
        "kernelspec": {
            "name": "SQL",
            "display_name": "SQL",
            "language": "sql"
        },
        "language_info": {
            "name": "sql",
            "version": ""
        }
    },
    "nbformat_minor": 2,
    "nbformat": 4,
    "cells": [
        {
            "cell_type": "code",
            "source": [
                "--1. write a SQL query to find those employees who receive a higher salary than the employee with ID 163. Return first name, last name.\r\n",
                "select first_name,last_name from employees1 where SALARY>(select salary from employees1 where employee_id=163)"
            ],
            "metadata": {
                "azdata_cell_guid": "d0eee8d4-74e6-45e2-8040-6cac4df4a9fa",
                "language": "sql",
                "tags": []
            },
            "outputs": [
                {
                    "output_type": "display_data",
                    "data": {
                        "text/html": "(20 rows affected)"
                    },
                    "metadata": {}
                },
                {
                    "output_type": "display_data",
                    "data": {
                        "text/html": "Total execution time: 00:00:00.036"
                    },
                    "metadata": {}
                },
                {
                    "output_type": "execute_result",
                    "metadata": {},
                    "execution_count": 4,
                    "data": {
                        "application/vnd.dataresource+json": {
                            "schema": {
                                "fields": [
                                    {
                                        "name": "first_name"
                                    },
                                    {
                                        "name": "last_name"
                                    }
                                ]
                            },
                            "data": [
                                {
                                    "0": "Steven",
                                    "1": "King"
                                },
                                {
                                    "0": "Neena",
                                    "1": "Kochhar"
                                },
                                {
                                    "0": "Lex",
                                    "1": "De Haan"
                                },
                                {
                                    "0": "Nancy",
                                    "1": "Greenberg"
                                },
                                {
                                    "0": "Den",
                                    "1": "Raphaely"
                                },
                                {
                                    "0": "John",
                                    "1": "Russell"
                                },
                                {
                                    "0": "Karen",
                                    "1": "Partners"
                                },
                                {
                                    "0": "Alberto",
                                    "1": "Errazuriz"
                                },
                                {
                                    "0": "Gerald",
                                    "1": "Cambrault"
                                },
                                {
                                    "0": "Eleni",
                                    "1": "Zlotkey"
                                },
                                {
                                    "0": "Peter",
                                    "1": "Tucker"
                                },
                                {
                                    "0": "Janette",
                                    "1": "King"
                                },
                                {
                                    "0": "Clara",
                                    "1": "Vishney"
                                },
                                {
                                    "0": "Lisa",
                                    "1": "Ozer"
                                },
                                {
                                    "0": "Harrison",
                                    "1": "Bloom"
                                },
                                {
                                    "0": "Tayler",
                                    "1": "Fox"
                                },
                                {
                                    "0": "Ellen",
                                    "1": "Abel"
                                },
                                {
                                    "0": "Michael",
                                    "1": "Hartstein"
                                },
                                {
                                    "0": "Hermann",
                                    "1": "Baer"
                                },
                                {
                                    "0": "Shelley",
                                    "1": "Higgins"
                                }
                            ]
                        },
                        "text/html": [
                            "<table>",
                            "<tr><th>first_name</th><th>last_name</th></tr>",
                            "<tr><td>Steven</td><td>King</td></tr>",
                            "<tr><td>Neena</td><td>Kochhar</td></tr>",
                            "<tr><td>Lex</td><td>De Haan</td></tr>",
                            "<tr><td>Nancy</td><td>Greenberg</td></tr>",
                            "<tr><td>Den</td><td>Raphaely</td></tr>",
                            "<tr><td>John</td><td>Russell</td></tr>",
                            "<tr><td>Karen</td><td>Partners</td></tr>",
                            "<tr><td>Alberto</td><td>Errazuriz</td></tr>",
                            "<tr><td>Gerald</td><td>Cambrault</td></tr>",
                            "<tr><td>Eleni</td><td>Zlotkey</td></tr>",
                            "<tr><td>Peter</td><td>Tucker</td></tr>",
                            "<tr><td>Janette</td><td>King</td></tr>",
                            "<tr><td>Clara</td><td>Vishney</td></tr>",
                            "<tr><td>Lisa</td><td>Ozer</td></tr>",
                            "<tr><td>Harrison</td><td>Bloom</td></tr>",
                            "<tr><td>Tayler</td><td>Fox</td></tr>",
                            "<tr><td>Ellen</td><td>Abel</td></tr>",
                            "<tr><td>Michael</td><td>Hartstein</td></tr>",
                            "<tr><td>Hermann</td><td>Baer</td></tr>",
                            "<tr><td>Shelley</td><td>Higgins</td></tr>",
                            "</table>"
                        ]
                    }
                }
            ],
            "execution_count": 4
        },
        {
            "cell_type": "code",
            "source": [
                "--2. write a SQL query to find out which employees have the same designation as the employee whose ID is 169. Return first name, last name, department ID and job ID.\r\n",
                "select first_name,last_name,salary,department_id,job_id from employees1 where JOB_ID=(select JOB_ID from employees1 where EMPLOYEE_ID=169)"
            ],
            "metadata": {
                "language": "sql",
                "azdata_cell_guid": "11ca3ea5-b011-4342-bdc3-b5749810f536"
            },
            "outputs": [
                {
                    "output_type": "display_data",
                    "data": {
                        "text/html": "(30 rows affected)"
                    },
                    "metadata": {}
                },
                {
                    "output_type": "display_data",
                    "data": {
                        "text/html": "Total execution time: 00:00:00.007"
                    },
                    "metadata": {}
                },
                {
                    "output_type": "execute_result",
                    "metadata": {},
                    "execution_count": 5,
                    "data": {
                        "application/vnd.dataresource+json": {
                            "schema": {
                                "fields": [
                                    {
                                        "name": "first_name"
                                    },
                                    {
                                        "name": "last_name"
                                    },
                                    {
                                        "name": "salary"
                                    },
                                    {
                                        "name": "department_id"
                                    },
                                    {
                                        "name": "job_id"
                                    }
                                ]
                            },
                            "data": [
                                {
                                    "0": "Peter",
                                    "1": "Tucker",
                                    "2": "10000.00",
                                    "3": "80",
                                    "4": "SA_REP"
                                },
                                {
                                    "0": "David",
                                    "1": "Bernstein",
                                    "2": "9500.00",
                                    "3": "80",
                                    "4": "SA_REP"
                                },
                                {
                                    "0": "Peter",
                                    "1": "Hall",
                                    "2": "9000.00",
                                    "3": "80",
                                    "4": "SA_REP"
                                },
                                {
                                    "0": "Christopher",
                                    "1": "Olsen",
                                    "2": "8000.00",
                                    "3": "80",
                                    "4": "SA_REP"
                                },
                                {
                                    "0": "Nanette",
                                    "1": "Cambrault",
                                    "2": "7500.00",
                                    "3": "80",
                                    "4": "SA_REP"
                                },
                                {
                                    "0": "Oliver",
                                    "1": "Tuvault",
                                    "2": "7000.00",
                                    "3": "80",
                                    "4": "SA_REP"
                                },
                                {
                                    "0": "Janette",
                                    "1": "King",
                                    "2": "10000.00",
                                    "3": "80",
                                    "4": "SA_REP"
                                },
                                {
                                    "0": "Patrick",
                                    "1": "Sully",
                                    "2": "9500.00",
                                    "3": "80",
                                    "4": "SA_REP"
                                },
                                {
                                    "0": "Allan",
                                    "1": "McEwen",
                                    "2": "9000.00",
                                    "3": "80",
                                    "4": "SA_REP"
                                },
                                {
                                    "0": "Lindsey",
                                    "1": "Smith",
                                    "2": "8000.00",
                                    "3": "80",
                                    "4": "SA_REP"
                                },
                                {
                                    "0": "Louise",
                                    "1": "Doran",
                                    "2": "7500.00",
                                    "3": "80",
                                    "4": "SA_REP"
                                },
                                {
                                    "0": "Sarath",
                                    "1": "Sewall",
                                    "2": "7000.00",
                                    "3": "80",
                                    "4": "SA_REP"
                                },
                                {
                                    "0": "Clara",
                                    "1": "Vishney",
                                    "2": "10500.00",
                                    "3": "80",
                                    "4": "SA_REP"
                                },
                                {
                                    "0": "Danielle",
                                    "1": "Greene",
                                    "2": "9500.00",
                                    "3": "80",
                                    "4": "SA_REP"
                                },
                                {
                                    "0": "Mattea",
                                    "1": "Marvins",
                                    "2": "7200.00",
                                    "3": "80",
                                    "4": "SA_REP"
                                },
                                {
                                    "0": "David",
                                    "1": "Lee",
                                    "2": "6800.00",
                                    "3": "80",
                                    "4": "SA_REP"
                                },
                                {
                                    "0": "Sundar",
                                    "1": "Ande",
                                    "2": "6400.00",
                                    "3": "80",
                                    "4": "SA_REP"
                                },
                                {
                                    "0": "Amit",
                                    "1": "Banda",
                                    "2": "6200.00",
                                    "3": "80",
                                    "4": "SA_REP"
                                },
                                {
                                    "0": "Lisa",
                                    "1": "Ozer",
                                    "2": "11500.00",
                                    "3": "80",
                                    "4": "SA_REP"
                                },
                                {
                                    "0": "Harrison",
                                    "1": "Bloom",
                                    "2": "10000.00",
                                    "3": "80",
                                    "4": "SA_REP"
                                },
                                {
                                    "0": "Tayler",
                                    "1": "Fox",
                                    "2": "9600.00",
                                    "3": "80",
                                    "4": "SA_REP"
                                },
                                {
                                    "0": "William",
                                    "1": "Smith",
                                    "2": "7400.00",
                                    "3": "80",
                                    "4": "SA_REP"
                                },
                                {
                                    "0": "Elizabeth",
                                    "1": "Bates",
                                    "2": "7300.00",
                                    "3": "80",
                                    "4": "SA_REP"
                                },
                                {
                                    "0": "Sundita",
                                    "1": "Kumar",
                                    "2": "6100.00",
                                    "3": "80",
                                    "4": "SA_REP"
                                },
                                {
                                    "0": "Ellen",
                                    "1": "Abel",
                                    "2": "11000.00",
                                    "3": "80",
                                    "4": "SA_REP"
                                },
                                {
                                    "0": "Alyssa",
                                    "1": "Hutton",
                                    "2": "8800.00",
                                    "3": "80",
                                    "4": "SA_REP"
                                },
                                {
                                    "0": "Jonathon",
                                    "1": "Taylor",
                                    "2": "8600.00",
                                    "3": "80",
                                    "4": "SA_REP"
                                },
                                {
                                    "0": "Jack",
                                    "1": "Livingston",
                                    "2": "8400.00",
                                    "3": "80",
                                    "4": "SA_REP"
                                },
                                {
                                    "0": "Kimberely",
                                    "1": "Grant",
                                    "2": "7000.00",
                                    "3": "0",
                                    "4": "SA_REP"
                                },
                                {
                                    "0": "Charles",
                                    "1": "Johnson",
                                    "2": "6200.00",
                                    "3": "80",
                                    "4": "SA_REP"
                                }
                            ]
                        },
                        "text/html": [
                            "<table>",
                            "<tr><th>first_name</th><th>last_name</th><th>salary</th><th>department_id</th><th>job_id</th></tr>",
                            "<tr><td>Peter</td><td>Tucker</td><td>10000.00</td><td>80</td><td>SA_REP</td></tr>",
                            "<tr><td>David</td><td>Bernstein</td><td>9500.00</td><td>80</td><td>SA_REP</td></tr>",
                            "<tr><td>Peter</td><td>Hall</td><td>9000.00</td><td>80</td><td>SA_REP</td></tr>",
                            "<tr><td>Christopher</td><td>Olsen</td><td>8000.00</td><td>80</td><td>SA_REP</td></tr>",
                            "<tr><td>Nanette</td><td>Cambrault</td><td>7500.00</td><td>80</td><td>SA_REP</td></tr>",
                            "<tr><td>Oliver</td><td>Tuvault</td><td>7000.00</td><td>80</td><td>SA_REP</td></tr>",
                            "<tr><td>Janette</td><td>King</td><td>10000.00</td><td>80</td><td>SA_REP</td></tr>",
                            "<tr><td>Patrick</td><td>Sully</td><td>9500.00</td><td>80</td><td>SA_REP</td></tr>",
                            "<tr><td>Allan</td><td>McEwen</td><td>9000.00</td><td>80</td><td>SA_REP</td></tr>",
                            "<tr><td>Lindsey</td><td>Smith</td><td>8000.00</td><td>80</td><td>SA_REP</td></tr>",
                            "<tr><td>Louise</td><td>Doran</td><td>7500.00</td><td>80</td><td>SA_REP</td></tr>",
                            "<tr><td>Sarath</td><td>Sewall</td><td>7000.00</td><td>80</td><td>SA_REP</td></tr>",
                            "<tr><td>Clara</td><td>Vishney</td><td>10500.00</td><td>80</td><td>SA_REP</td></tr>",
                            "<tr><td>Danielle</td><td>Greene</td><td>9500.00</td><td>80</td><td>SA_REP</td></tr>",
                            "<tr><td>Mattea</td><td>Marvins</td><td>7200.00</td><td>80</td><td>SA_REP</td></tr>",
                            "<tr><td>David</td><td>Lee</td><td>6800.00</td><td>80</td><td>SA_REP</td></tr>",
                            "<tr><td>Sundar</td><td>Ande</td><td>6400.00</td><td>80</td><td>SA_REP</td></tr>",
                            "<tr><td>Amit</td><td>Banda</td><td>6200.00</td><td>80</td><td>SA_REP</td></tr>",
                            "<tr><td>Lisa</td><td>Ozer</td><td>11500.00</td><td>80</td><td>SA_REP</td></tr>",
                            "<tr><td>Harrison</td><td>Bloom</td><td>10000.00</td><td>80</td><td>SA_REP</td></tr>",
                            "<tr><td>Tayler</td><td>Fox</td><td>9600.00</td><td>80</td><td>SA_REP</td></tr>",
                            "<tr><td>William</td><td>Smith</td><td>7400.00</td><td>80</td><td>SA_REP</td></tr>",
                            "<tr><td>Elizabeth</td><td>Bates</td><td>7300.00</td><td>80</td><td>SA_REP</td></tr>",
                            "<tr><td>Sundita</td><td>Kumar</td><td>6100.00</td><td>80</td><td>SA_REP</td></tr>",
                            "<tr><td>Ellen</td><td>Abel</td><td>11000.00</td><td>80</td><td>SA_REP</td></tr>",
                            "<tr><td>Alyssa</td><td>Hutton</td><td>8800.00</td><td>80</td><td>SA_REP</td></tr>",
                            "<tr><td>Jonathon</td><td>Taylor</td><td>8600.00</td><td>80</td><td>SA_REP</td></tr>",
                            "<tr><td>Jack</td><td>Livingston</td><td>8400.00</td><td>80</td><td>SA_REP</td></tr>",
                            "<tr><td>Kimberely</td><td>Grant</td><td>7000.00</td><td>0</td><td>SA_REP</td></tr>",
                            "<tr><td>Charles</td><td>Johnson</td><td>6200.00</td><td>80</td><td>SA_REP</td></tr>",
                            "</table>"
                        ]
                    }
                }
            ],
            "execution_count": 5
        },
        {
            "cell_type": "code",
            "source": [
                "--3. write a SQL query to find those employees whose salary matches the lowest salary of any of the departments. Return first name, last name and department ID\r\n",
                "select first_name,last_name,salary,department_id from employees1 where SALARY in(select MIN(SALARY) from employees1 group by DEPARTMENT_ID)"
            ],
            "metadata": {
                "language": "sql",
                "azdata_cell_guid": "f7a75af7-192e-4868-9ae4-d9a9cd235d9b"
            },
            "outputs": [
                {
                    "output_type": "display_data",
                    "data": {
                        "text/html": "(26 rows affected)"
                    },
                    "metadata": {}
                },
                {
                    "output_type": "display_data",
                    "data": {
                        "text/html": "Total execution time: 00:00:00.005"
                    },
                    "metadata": {}
                },
                {
                    "output_type": "execute_result",
                    "metadata": {},
                    "execution_count": 6,
                    "data": {
                        "application/vnd.dataresource+json": {
                            "schema": {
                                "fields": [
                                    {
                                        "name": "first_name"
                                    },
                                    {
                                        "name": "last_name"
                                    },
                                    {
                                        "name": "salary"
                                    },
                                    {
                                        "name": "department_id"
                                    }
                                ]
                            },
                            "data": [
                                {
                                    "0": "Neena",
                                    "1": "Kochhar",
                                    "2": "17000.00",
                                    "3": "90"
                                },
                                {
                                    "0": "Lex",
                                    "1": "De Haan",
                                    "2": "17000.00",
                                    "3": "90"
                                },
                                {
                                    "0": "Bruce",
                                    "1": "Ernst",
                                    "2": "6000.00",
                                    "3": "60"
                                },
                                {
                                    "0": "Diana",
                                    "1": "Lorentz",
                                    "2": "4200.00",
                                    "3": "60"
                                },
                                {
                                    "0": "Luis",
                                    "1": "Popp",
                                    "2": "6900.00",
                                    "3": "100"
                                },
                                {
                                    "0": "Karen",
                                    "1": "Colmenares",
                                    "2": "2500.00",
                                    "3": "30"
                                },
                                {
                                    "0": "Shanta",
                                    "1": "Vollman",
                                    "2": "6500.00",
                                    "3": "50"
                                },
                                {
                                    "0": "James",
                                    "1": "Marlow",
                                    "2": "2500.00",
                                    "3": "50"
                                },
                                {
                                    "0": "TJ",
                                    "1": "Olson",
                                    "2": "2100.00",
                                    "3": "50"
                                },
                                {
                                    "0": "Joshua",
                                    "1": "Patel",
                                    "2": "2500.00",
                                    "3": "50"
                                },
                                {
                                    "0": "Peter",
                                    "1": "Vargas",
                                    "2": "2500.00",
                                    "3": "50"
                                },
                                {
                                    "0": "Peter",
                                    "1": "Tucker",
                                    "2": "10000.00",
                                    "3": "80"
                                },
                                {
                                    "0": "Oliver",
                                    "1": "Tuvault",
                                    "2": "7000.00",
                                    "3": "80"
                                },
                                {
                                    "0": "Janette",
                                    "1": "King",
                                    "2": "10000.00",
                                    "3": "80"
                                },
                                {
                                    "0": "Sarath",
                                    "1": "Sewall",
                                    "2": "7000.00",
                                    "3": "80"
                                },
                                {
                                    "0": "Harrison",
                                    "1": "Bloom",
                                    "2": "10000.00",
                                    "3": "80"
                                },
                                {
                                    "0": "Sundita",
                                    "1": "Kumar",
                                    "2": "6100.00",
                                    "3": "80"
                                },
                                {
                                    "0": "Kimberely",
                                    "1": "Grant",
                                    "2": "7000.00",
                                    "3": "0"
                                },
                                {
                                    "0": "Martha",
                                    "1": "Sullivan",
                                    "2": "2500.00",
                                    "3": "50"
                                },
                                {
                                    "0": "Nandita",
                                    "1": "Sarchand",
                                    "2": "4200.00",
                                    "3": "50"
                                },
                                {
                                    "0": "Randall",
                                    "1": "Perkins",
                                    "2": "2500.00",
                                    "3": "50"
                                },
                                {
                                    "0": "Jennifer",
                                    "1": "Whalen",
                                    "2": "4400.00",
                                    "3": "10"
                                },
                                {
                                    "0": "Pat",
                                    "1": "Fay",
                                    "2": "6000.00",
                                    "3": "20"
                                },
                                {
                                    "0": "Susan",
                                    "1": "Mavris",
                                    "2": "6500.00",
                                    "3": "40"
                                },
                                {
                                    "0": "Hermann",
                                    "1": "Baer",
                                    "2": "10000.00",
                                    "3": "70"
                                },
                                {
                                    "0": "William",
                                    "1": "Gietz",
                                    "2": "8300.00",
                                    "3": "110"
                                }
                            ]
                        },
                        "text/html": [
                            "<table>",
                            "<tr><th>first_name</th><th>last_name</th><th>salary</th><th>department_id</th></tr>",
                            "<tr><td>Neena</td><td>Kochhar</td><td>17000.00</td><td>90</td></tr>",
                            "<tr><td>Lex</td><td>De Haan</td><td>17000.00</td><td>90</td></tr>",
                            "<tr><td>Bruce</td><td>Ernst</td><td>6000.00</td><td>60</td></tr>",
                            "<tr><td>Diana</td><td>Lorentz</td><td>4200.00</td><td>60</td></tr>",
                            "<tr><td>Luis</td><td>Popp</td><td>6900.00</td><td>100</td></tr>",
                            "<tr><td>Karen</td><td>Colmenares</td><td>2500.00</td><td>30</td></tr>",
                            "<tr><td>Shanta</td><td>Vollman</td><td>6500.00</td><td>50</td></tr>",
                            "<tr><td>James</td><td>Marlow</td><td>2500.00</td><td>50</td></tr>",
                            "<tr><td>TJ</td><td>Olson</td><td>2100.00</td><td>50</td></tr>",
                            "<tr><td>Joshua</td><td>Patel</td><td>2500.00</td><td>50</td></tr>",
                            "<tr><td>Peter</td><td>Vargas</td><td>2500.00</td><td>50</td></tr>",
                            "<tr><td>Peter</td><td>Tucker</td><td>10000.00</td><td>80</td></tr>",
                            "<tr><td>Oliver</td><td>Tuvault</td><td>7000.00</td><td>80</td></tr>",
                            "<tr><td>Janette</td><td>King</td><td>10000.00</td><td>80</td></tr>",
                            "<tr><td>Sarath</td><td>Sewall</td><td>7000.00</td><td>80</td></tr>",
                            "<tr><td>Harrison</td><td>Bloom</td><td>10000.00</td><td>80</td></tr>",
                            "<tr><td>Sundita</td><td>Kumar</td><td>6100.00</td><td>80</td></tr>",
                            "<tr><td>Kimberely</td><td>Grant</td><td>7000.00</td><td>0</td></tr>",
                            "<tr><td>Martha</td><td>Sullivan</td><td>2500.00</td><td>50</td></tr>",
                            "<tr><td>Nandita</td><td>Sarchand</td><td>4200.00</td><td>50</td></tr>",
                            "<tr><td>Randall</td><td>Perkins</td><td>2500.00</td><td>50</td></tr>",
                            "<tr><td>Jennifer</td><td>Whalen</td><td>4400.00</td><td>10</td></tr>",
                            "<tr><td>Pat</td><td>Fay</td><td>6000.00</td><td>20</td></tr>",
                            "<tr><td>Susan</td><td>Mavris</td><td>6500.00</td><td>40</td></tr>",
                            "<tr><td>Hermann</td><td>Baer</td><td>10000.00</td><td>70</td></tr>",
                            "<tr><td>William</td><td>Gietz</td><td>8300.00</td><td>110</td></tr>",
                            "</table>"
                        ]
                    }
                }
            ],
            "execution_count": 6
        },
        {
            "cell_type": "code",
            "source": [
                "--4. write a SQL query to find those employees who earn more than the average salary. Return employee ID, first name, last name.\r\n",
                "select employee_id,first_name,last_name from employees1 where SALARY >(select AVG(SALARY) from employees1)\r\n",
                ""
            ],
            "metadata": {
                "language": "sql",
                "azdata_cell_guid": "970e3058-664d-4f91-947a-2a4b8e9180d7",
                "tags": []
            },
            "outputs": [
                {
                    "output_type": "display_data",
                    "data": {
                        "text/html": "(51 rows affected)"
                    },
                    "metadata": {}
                },
                {
                    "output_type": "display_data",
                    "data": {
                        "text/html": "Total execution time: 00:00:00.006"
                    },
                    "metadata": {}
                },
                {
                    "output_type": "execute_result",
                    "metadata": {},
                    "execution_count": 9,
                    "data": {
                        "application/vnd.dataresource+json": {
                            "schema": {
                                "fields": [
                                    {
                                        "name": "employee_id"
                                    },
                                    {
                                        "name": "first_name"
                                    },
                                    {
                                        "name": "last_name"
                                    }
                                ]
                            },
                            "data": [
                                {
                                    "0": "100",
                                    "1": "Steven",
                                    "2": "King"
                                },
                                {
                                    "0": "101",
                                    "1": "Neena",
                                    "2": "Kochhar"
                                },
                                {
                                    "0": "102",
                                    "1": "Lex",
                                    "2": "De Haan"
                                },
                                {
                                    "0": "103",
                                    "1": "Alexander",
                                    "2": "Hunold"
                                },
                                {
                                    "0": "108",
                                    "1": "Nancy",
                                    "2": "Greenberg"
                                },
                                {
                                    "0": "109",
                                    "1": "Daniel",
                                    "2": "Faviet"
                                },
                                {
                                    "0": "110",
                                    "1": "John",
                                    "2": "Chen"
                                },
                                {
                                    "0": "111",
                                    "1": "Ismael",
                                    "2": "Sciarra"
                                },
                                {
                                    "0": "112",
                                    "1": "Jose Manuel",
                                    "2": "Urman"
                                },
                                {
                                    "0": "113",
                                    "1": "Luis",
                                    "2": "Popp"
                                },
                                {
                                    "0": "114",
                                    "1": "Den",
                                    "2": "Raphaely"
                                },
                                {
                                    "0": "120",
                                    "1": "Matthew",
                                    "2": "Weiss"
                                },
                                {
                                    "0": "121",
                                    "1": "Adam",
                                    "2": "Fripp"
                                },
                                {
                                    "0": "122",
                                    "1": "Payam",
                                    "2": "Kaufling"
                                },
                                {
                                    "0": "123",
                                    "1": "Shanta",
                                    "2": "Vollman"
                                },
                                {
                                    "0": "145",
                                    "1": "John",
                                    "2": "Russell"
                                },
                                {
                                    "0": "146",
                                    "1": "Karen",
                                    "2": "Partners"
                                },
                                {
                                    "0": "147",
                                    "1": "Alberto",
                                    "2": "Errazuriz"
                                },
                                {
                                    "0": "148",
                                    "1": "Gerald",
                                    "2": "Cambrault"
                                },
                                {
                                    "0": "149",
                                    "1": "Eleni",
                                    "2": "Zlotkey"
                                },
                                {
                                    "0": "150",
                                    "1": "Peter",
                                    "2": "Tucker"
                                },
                                {
                                    "0": "151",
                                    "1": "David",
                                    "2": "Bernstein"
                                },
                                {
                                    "0": "152",
                                    "1": "Peter",
                                    "2": "Hall"
                                },
                                {
                                    "0": "153",
                                    "1": "Christopher",
                                    "2": "Olsen"
                                },
                                {
                                    "0": "154",
                                    "1": "Nanette",
                                    "2": "Cambrault"
                                },
                                {
                                    "0": "155",
                                    "1": "Oliver",
                                    "2": "Tuvault"
                                },
                                {
                                    "0": "156",
                                    "1": "Janette",
                                    "2": "King"
                                },
                                {
                                    "0": "157",
                                    "1": "Patrick",
                                    "2": "Sully"
                                },
                                {
                                    "0": "158",
                                    "1": "Allan",
                                    "2": "McEwen"
                                },
                                {
                                    "0": "159",
                                    "1": "Lindsey",
                                    "2": "Smith"
                                },
                                {
                                    "0": "160",
                                    "1": "Louise",
                                    "2": "Doran"
                                },
                                {
                                    "0": "161",
                                    "1": "Sarath",
                                    "2": "Sewall"
                                },
                                {
                                    "0": "162",
                                    "1": "Clara",
                                    "2": "Vishney"
                                },
                                {
                                    "0": "163",
                                    "1": "Danielle",
                                    "2": "Greene"
                                },
                                {
                                    "0": "164",
                                    "1": "Mattea",
                                    "2": "Marvins"
                                },
                                {
                                    "0": "165",
                                    "1": "David",
                                    "2": "Lee"
                                },
                                {
                                    "0": "168",
                                    "1": "Lisa",
                                    "2": "Ozer"
                                },
                                {
                                    "0": "169",
                                    "1": "Harrison",
                                    "2": "Bloom"
                                },
                                {
                                    "0": "170",
                                    "1": "Tayler",
                                    "2": "Fox"
                                },
                                {
                                    "0": "171",
                                    "1": "William",
                                    "2": "Smith"
                                },
                                {
                                    "0": "172",
                                    "1": "Elizabeth",
                                    "2": "Bates"
                                },
                                {
                                    "0": "174",
                                    "1": "Ellen",
                                    "2": "Abel"
                                },
                                {
                                    "0": "175",
                                    "1": "Alyssa",
                                    "2": "Hutton"
                                },
                                {
                                    "0": "176",
                                    "1": "Jonathon",
                                    "2": "Taylor"
                                },
                                {
                                    "0": "177",
                                    "1": "Jack",
                                    "2": "Livingston"
                                },
                                {
                                    "0": "178",
                                    "1": "Kimberely",
                                    "2": "Grant"
                                },
                                {
                                    "0": "201",
                                    "1": "Michael",
                                    "2": "Hartstein"
                                },
                                {
                                    "0": "203",
                                    "1": "Susan",
                                    "2": "Mavris"
                                },
                                {
                                    "0": "204",
                                    "1": "Hermann",
                                    "2": "Baer"
                                },
                                {
                                    "0": "205",
                                    "1": "Shelley",
                                    "2": "Higgins"
                                },
                                {
                                    "0": "206",
                                    "1": "William",
                                    "2": "Gietz"
                                }
                            ]
                        },
                        "text/html": [
                            "<table>",
                            "<tr><th>employee_id</th><th>first_name</th><th>last_name</th></tr>",
                            "<tr><td>100</td><td>Steven</td><td>King</td></tr>",
                            "<tr><td>101</td><td>Neena</td><td>Kochhar</td></tr>",
                            "<tr><td>102</td><td>Lex</td><td>De Haan</td></tr>",
                            "<tr><td>103</td><td>Alexander</td><td>Hunold</td></tr>",
                            "<tr><td>108</td><td>Nancy</td><td>Greenberg</td></tr>",
                            "<tr><td>109</td><td>Daniel</td><td>Faviet</td></tr>",
                            "<tr><td>110</td><td>John</td><td>Chen</td></tr>",
                            "<tr><td>111</td><td>Ismael</td><td>Sciarra</td></tr>",
                            "<tr><td>112</td><td>Jose Manuel</td><td>Urman</td></tr>",
                            "<tr><td>113</td><td>Luis</td><td>Popp</td></tr>",
                            "<tr><td>114</td><td>Den</td><td>Raphaely</td></tr>",
                            "<tr><td>120</td><td>Matthew</td><td>Weiss</td></tr>",
                            "<tr><td>121</td><td>Adam</td><td>Fripp</td></tr>",
                            "<tr><td>122</td><td>Payam</td><td>Kaufling</td></tr>",
                            "<tr><td>123</td><td>Shanta</td><td>Vollman</td></tr>",
                            "<tr><td>145</td><td>John</td><td>Russell</td></tr>",
                            "<tr><td>146</td><td>Karen</td><td>Partners</td></tr>",
                            "<tr><td>147</td><td>Alberto</td><td>Errazuriz</td></tr>",
                            "<tr><td>148</td><td>Gerald</td><td>Cambrault</td></tr>",
                            "<tr><td>149</td><td>Eleni</td><td>Zlotkey</td></tr>",
                            "<tr><td>150</td><td>Peter</td><td>Tucker</td></tr>",
                            "<tr><td>151</td><td>David</td><td>Bernstein</td></tr>",
                            "<tr><td>152</td><td>Peter</td><td>Hall</td></tr>",
                            "<tr><td>153</td><td>Christopher</td><td>Olsen</td></tr>",
                            "<tr><td>154</td><td>Nanette</td><td>Cambrault</td></tr>",
                            "<tr><td>155</td><td>Oliver</td><td>Tuvault</td></tr>",
                            "<tr><td>156</td><td>Janette</td><td>King</td></tr>",
                            "<tr><td>157</td><td>Patrick</td><td>Sully</td></tr>",
                            "<tr><td>158</td><td>Allan</td><td>McEwen</td></tr>",
                            "<tr><td>159</td><td>Lindsey</td><td>Smith</td></tr>",
                            "<tr><td>160</td><td>Louise</td><td>Doran</td></tr>",
                            "<tr><td>161</td><td>Sarath</td><td>Sewall</td></tr>",
                            "<tr><td>162</td><td>Clara</td><td>Vishney</td></tr>",
                            "<tr><td>163</td><td>Danielle</td><td>Greene</td></tr>",
                            "<tr><td>164</td><td>Mattea</td><td>Marvins</td></tr>",
                            "<tr><td>165</td><td>David</td><td>Lee</td></tr>",
                            "<tr><td>168</td><td>Lisa</td><td>Ozer</td></tr>",
                            "<tr><td>169</td><td>Harrison</td><td>Bloom</td></tr>",
                            "<tr><td>170</td><td>Tayler</td><td>Fox</td></tr>",
                            "<tr><td>171</td><td>William</td><td>Smith</td></tr>",
                            "<tr><td>172</td><td>Elizabeth</td><td>Bates</td></tr>",
                            "<tr><td>174</td><td>Ellen</td><td>Abel</td></tr>",
                            "<tr><td>175</td><td>Alyssa</td><td>Hutton</td></tr>",
                            "<tr><td>176</td><td>Jonathon</td><td>Taylor</td></tr>",
                            "<tr><td>177</td><td>Jack</td><td>Livingston</td></tr>",
                            "<tr><td>178</td><td>Kimberely</td><td>Grant</td></tr>",
                            "<tr><td>201</td><td>Michael</td><td>Hartstein</td></tr>",
                            "<tr><td>203</td><td>Susan</td><td>Mavris</td></tr>",
                            "<tr><td>204</td><td>Hermann</td><td>Baer</td></tr>",
                            "<tr><td>205</td><td>Shelley</td><td>Higgins</td></tr>",
                            "<tr><td>206</td><td>William</td><td>Gietz</td></tr>",
                            "</table>"
                        ]
                    }
                }
            ],
            "execution_count": 9
        },
        {
            "cell_type": "code",
            "source": [
                "--5. write a SQL query to find those employees who report to that manager whose first name is ‘Payam’. Return first name, last name, employee ID and salary.\r\n",
                "select first_name,last_name,employee_id,salary from employees1 where MANAGER_ID=(select EMPLOYEE_ID from employees1 where FIRST_NAME='Payam')"
            ],
            "metadata": {
                "language": "sql",
                "azdata_cell_guid": "d4d216d4-8dda-42b4-8e76-6a75e65fe139"
            },
            "outputs": [
                {
                    "output_type": "display_data",
                    "data": {
                        "text/html": "(8 rows affected)"
                    },
                    "metadata": {}
                },
                {
                    "output_type": "display_data",
                    "data": {
                        "text/html": "Total execution time: 00:00:00.003"
                    },
                    "metadata": {}
                },
                {
                    "output_type": "execute_result",
                    "metadata": {},
                    "execution_count": 10,
                    "data": {
                        "application/vnd.dataresource+json": {
                            "schema": {
                                "fields": [
                                    {
                                        "name": "first_name"
                                    },
                                    {
                                        "name": "last_name"
                                    },
                                    {
                                        "name": "employee_id"
                                    },
                                    {
                                        "name": "salary"
                                    }
                                ]
                            },
                            "data": [
                                {
                                    "0": "Jason",
                                    "1": "Mallin",
                                    "2": "133",
                                    "3": "3300.00"
                                },
                                {
                                    "0": "Michael",
                                    "1": "Rogers",
                                    "2": "134",
                                    "3": "2900.00"
                                },
                                {
                                    "0": "Ki",
                                    "1": "Gee",
                                    "2": "135",
                                    "3": "2400.00"
                                },
                                {
                                    "0": "Hazel",
                                    "1": "Philtanker",
                                    "2": "136",
                                    "3": "2200.00"
                                },
                                {
                                    "0": "Kelly",
                                    "1": "Chung",
                                    "2": "188",
                                    "3": "3800.00"
                                },
                                {
                                    "0": "Jennifer",
                                    "1": "Dilly",
                                    "2": "189",
                                    "3": "3600.00"
                                },
                                {
                                    "0": "Timothy",
                                    "1": "Gates",
                                    "2": "190",
                                    "3": "2900.00"
                                },
                                {
                                    "0": "Randall",
                                    "1": "Perkins",
                                    "2": "191",
                                    "3": "2500.00"
                                }
                            ]
                        },
                        "text/html": [
                            "<table>",
                            "<tr><th>first_name</th><th>last_name</th><th>employee_id</th><th>salary</th></tr>",
                            "<tr><td>Jason</td><td>Mallin</td><td>133</td><td>3300.00</td></tr>",
                            "<tr><td>Michael</td><td>Rogers</td><td>134</td><td>2900.00</td></tr>",
                            "<tr><td>Ki</td><td>Gee</td><td>135</td><td>2400.00</td></tr>",
                            "<tr><td>Hazel</td><td>Philtanker</td><td>136</td><td>2200.00</td></tr>",
                            "<tr><td>Kelly</td><td>Chung</td><td>188</td><td>3800.00</td></tr>",
                            "<tr><td>Jennifer</td><td>Dilly</td><td>189</td><td>3600.00</td></tr>",
                            "<tr><td>Timothy</td><td>Gates</td><td>190</td><td>2900.00</td></tr>",
                            "<tr><td>Randall</td><td>Perkins</td><td>191</td><td>2500.00</td></tr>",
                            "</table>"
                        ]
                    }
                }
            ],
            "execution_count": 10
        },
        {
            "cell_type": "code",
            "source": [
                "--6. write a SQL query to find all those employees who work in the Finance department. Return department ID, name (first name), job ID and department name.\r\n",
                "select e.DEPARTMENT_ID,e.FIRST_NAME,e.LAST_NAME,e.JOB_ID,d.DEPARTMENT_NAME from employees1 e, departments d \r\n",
                "where e.DEPARTMENT_ID=d.DEPARTMENT_ID and d.DEPARTMENT_NAME='Finance'"
            ],
            "metadata": {
                "language": "sql",
                "azdata_cell_guid": "c220d179-473f-4a4c-998b-4c08c2549a66"
            },
            "outputs": [
                {
                    "output_type": "display_data",
                    "data": {
                        "text/html": "(6 rows affected)"
                    },
                    "metadata": {}
                },
                {
                    "output_type": "display_data",
                    "data": {
                        "text/html": "Total execution time: 00:00:00.009"
                    },
                    "metadata": {}
                },
                {
                    "output_type": "execute_result",
                    "metadata": {},
                    "execution_count": 11,
                    "data": {
                        "application/vnd.dataresource+json": {
                            "schema": {
                                "fields": [
                                    {
                                        "name": "DEPARTMENT_ID"
                                    },
                                    {
                                        "name": "FIRST_NAME"
                                    },
                                    {
                                        "name": "LAST_NAME"
                                    },
                                    {
                                        "name": "JOB_ID"
                                    },
                                    {
                                        "name": "DEPARTMENT_NAME"
                                    }
                                ]
                            },
                            "data": [
                                {
                                    "0": "100",
                                    "1": "Nancy",
                                    "2": "Greenberg",
                                    "3": "FI_MGR",
                                    "4": "Finance"
                                },
                                {
                                    "0": "100",
                                    "1": "Daniel",
                                    "2": "Faviet",
                                    "3": "FI_ACCOUNT",
                                    "4": "Finance"
                                },
                                {
                                    "0": "100",
                                    "1": "John",
                                    "2": "Chen",
                                    "3": "FI_ACCOUNT",
                                    "4": "Finance"
                                },
                                {
                                    "0": "100",
                                    "1": "Ismael",
                                    "2": "Sciarra",
                                    "3": "FI_ACCOUNT",
                                    "4": "Finance"
                                },
                                {
                                    "0": "100",
                                    "1": "Jose Manuel",
                                    "2": "Urman",
                                    "3": "FI_ACCOUNT",
                                    "4": "Finance"
                                },
                                {
                                    "0": "100",
                                    "1": "Luis",
                                    "2": "Popp",
                                    "3": "FI_ACCOUNT",
                                    "4": "Finance"
                                }
                            ]
                        },
                        "text/html": [
                            "<table>",
                            "<tr><th>DEPARTMENT_ID</th><th>FIRST_NAME</th><th>LAST_NAME</th><th>JOB_ID</th><th>DEPARTMENT_NAME</th></tr>",
                            "<tr><td>100</td><td>Nancy</td><td>Greenberg</td><td>FI_MGR</td><td>Finance</td></tr>",
                            "<tr><td>100</td><td>Daniel</td><td>Faviet</td><td>FI_ACCOUNT</td><td>Finance</td></tr>",
                            "<tr><td>100</td><td>John</td><td>Chen</td><td>FI_ACCOUNT</td><td>Finance</td></tr>",
                            "<tr><td>100</td><td>Ismael</td><td>Sciarra</td><td>FI_ACCOUNT</td><td>Finance</td></tr>",
                            "<tr><td>100</td><td>Jose Manuel</td><td>Urman</td><td>FI_ACCOUNT</td><td>Finance</td></tr>",
                            "<tr><td>100</td><td>Luis</td><td>Popp</td><td>FI_ACCOUNT</td><td>Finance</td></tr>",
                            "</table>"
                        ]
                    }
                }
            ],
            "execution_count": 11
        },
        {
            "cell_type": "code",
            "source": [
                "--7. write a SQL query to find the employee whose salary is 3000 and reporting person’s ID is 121. Return all fields.\r\n",
                "select * from employees1 where SALARY=3000 and MANAGER_ID=121"
            ],
            "metadata": {
                "language": "sql",
                "azdata_cell_guid": "070e5ce7-df7b-4de7-afe6-3f4605bf3e36"
            },
            "outputs": [
                {
                    "output_type": "display_data",
                    "data": {
                        "text/html": "(1 row affected)"
                    },
                    "metadata": {}
                },
                {
                    "output_type": "display_data",
                    "data": {
                        "text/html": "Total execution time: 00:00:00.006"
                    },
                    "metadata": {}
                },
                {
                    "output_type": "execute_result",
                    "metadata": {},
                    "execution_count": 13,
                    "data": {
                        "application/vnd.dataresource+json": {
                            "schema": {
                                "fields": [
                                    {
                                        "name": "EMPLOYEE_ID"
                                    },
                                    {
                                        "name": "FIRST_NAME"
                                    },
                                    {
                                        "name": "LAST_NAME"
                                    },
                                    {
                                        "name": "EMAIL"
                                    },
                                    {
                                        "name": "PHONE_NUMBER"
                                    },
                                    {
                                        "name": "HIRE_DATE"
                                    },
                                    {
                                        "name": "JOB_ID"
                                    },
                                    {
                                        "name": "SALARY"
                                    },
                                    {
                                        "name": "COMMISSION_PCT"
                                    },
                                    {
                                        "name": "MANAGER_ID"
                                    },
                                    {
                                        "name": "DEPARTMENT_ID"
                                    }
                                ]
                            },
                            "data": [
                                {
                                    "0": "187",
                                    "1": "Anthony",
                                    "2": "Cabrio",
                                    "3": "ACABRIO",
                                    "4": "650.509.4876",
                                    "5": "1987-09-12",
                                    "6": "SH_CLERK",
                                    "7": "3000.00",
                                    "8": "0.00",
                                    "9": "121",
                                    "10": "50"
                                }
                            ]
                        },
                        "text/html": [
                            "<table>",
                            "<tr><th>EMPLOYEE_ID</th><th>FIRST_NAME</th><th>LAST_NAME</th><th>EMAIL</th><th>PHONE_NUMBER</th><th>HIRE_DATE</th><th>JOB_ID</th><th>SALARY</th><th>COMMISSION_PCT</th><th>MANAGER_ID</th><th>DEPARTMENT_ID</th></tr>",
                            "<tr><td>187</td><td>Anthony</td><td>Cabrio</td><td>ACABRIO</td><td>650.509.4876</td><td>1987-09-12</td><td>SH_CLERK</td><td>3000.00</td><td>0.00</td><td>121</td><td>50</td></tr>",
                            "</table>"
                        ]
                    }
                }
            ],
            "execution_count": 13
        },
        {
            "cell_type": "code",
            "source": [
                "--8. write a SQL query to find those employees whose ID matches any of the numbers 134, 159 and 183. Return all the fields.\r\n",
                "select * from employees1 where EMPLOYEE_ID in(134,159,183)"
            ],
            "metadata": {
                "language": "sql",
                "azdata_cell_guid": "7d7d081f-9b43-4d9a-bfab-c50b1b137720"
            },
            "outputs": [
                {
                    "output_type": "display_data",
                    "data": {
                        "text/html": "(3 rows affected)"
                    },
                    "metadata": {}
                },
                {
                    "output_type": "display_data",
                    "data": {
                        "text/html": "Total execution time: 00:00:00.002"
                    },
                    "metadata": {}
                },
                {
                    "output_type": "execute_result",
                    "metadata": {},
                    "execution_count": 14,
                    "data": {
                        "application/vnd.dataresource+json": {
                            "schema": {
                                "fields": [
                                    {
                                        "name": "EMPLOYEE_ID"
                                    },
                                    {
                                        "name": "FIRST_NAME"
                                    },
                                    {
                                        "name": "LAST_NAME"
                                    },
                                    {
                                        "name": "EMAIL"
                                    },
                                    {
                                        "name": "PHONE_NUMBER"
                                    },
                                    {
                                        "name": "HIRE_DATE"
                                    },
                                    {
                                        "name": "JOB_ID"
                                    },
                                    {
                                        "name": "SALARY"
                                    },
                                    {
                                        "name": "COMMISSION_PCT"
                                    },
                                    {
                                        "name": "MANAGER_ID"
                                    },
                                    {
                                        "name": "DEPARTMENT_ID"
                                    }
                                ]
                            },
                            "data": [
                                {
                                    "0": "134",
                                    "1": "Michael",
                                    "2": "Rogers",
                                    "3": "MROGERS",
                                    "4": "650.127.1834",
                                    "5": "1987-07-21",
                                    "6": "ST_CLERK",
                                    "7": "2900.00",
                                    "8": "0.00",
                                    "9": "122",
                                    "10": "50"
                                },
                                {
                                    "0": "159",
                                    "1": "Lindsey",
                                    "2": "Smith",
                                    "3": "LSMITH",
                                    "4": "011.44.1345.729268",
                                    "5": "1987-08-15",
                                    "6": "SA_REP",
                                    "7": "8000.00",
                                    "8": "0.30",
                                    "9": "146",
                                    "10": "80"
                                },
                                {
                                    "0": "183",
                                    "1": "Girard",
                                    "2": "Geoni",
                                    "3": "GGEONI",
                                    "4": "650.507.9879",
                                    "5": "1987-09-08",
                                    "6": "SH_CLERK",
                                    "7": "2800.00",
                                    "8": "0.00",
                                    "9": "120",
                                    "10": "50"
                                }
                            ]
                        },
                        "text/html": [
                            "<table>",
                            "<tr><th>EMPLOYEE_ID</th><th>FIRST_NAME</th><th>LAST_NAME</th><th>EMAIL</th><th>PHONE_NUMBER</th><th>HIRE_DATE</th><th>JOB_ID</th><th>SALARY</th><th>COMMISSION_PCT</th><th>MANAGER_ID</th><th>DEPARTMENT_ID</th></tr>",
                            "<tr><td>134</td><td>Michael</td><td>Rogers</td><td>MROGERS</td><td>650.127.1834</td><td>1987-07-21</td><td>ST_CLERK</td><td>2900.00</td><td>0.00</td><td>122</td><td>50</td></tr>",
                            "<tr><td>159</td><td>Lindsey</td><td>Smith</td><td>LSMITH</td><td>011.44.1345.729268</td><td>1987-08-15</td><td>SA_REP</td><td>8000.00</td><td>0.30</td><td>146</td><td>80</td></tr>",
                            "<tr><td>183</td><td>Girard</td><td>Geoni</td><td>GGEONI</td><td>650.507.9879</td><td>1987-09-08</td><td>SH_CLERK</td><td>2800.00</td><td>0.00</td><td>120</td><td>50</td></tr>",
                            "</table>"
                        ]
                    }
                }
            ],
            "execution_count": 14
        },
        {
            "cell_type": "code",
            "source": [
                "--9. write a SQL query to find those employees whose salary is in the range of 1000, and 3000 (Begin and end values have included.). Return all the fields\r\n",
                "select * from employees1 where SALARY BETWEEN 1000 and 3000\r\n",
                ""
            ],
            "metadata": {
                "language": "sql",
                "azdata_cell_guid": "1a9f168d-7128-42ce-ba35-0251e9d534bf",
                "tags": []
            },
            "outputs": [
                {
                    "output_type": "display_data",
                    "data": {
                        "text/html": "(26 rows affected)"
                    },
                    "metadata": {}
                },
                {
                    "output_type": "display_data",
                    "data": {
                        "text/html": "Total execution time: 00:00:00.004"
                    },
                    "metadata": {}
                },
                {
                    "output_type": "execute_result",
                    "metadata": {},
                    "execution_count": 15,
                    "data": {
                        "application/vnd.dataresource+json": {
                            "schema": {
                                "fields": [
                                    {
                                        "name": "EMPLOYEE_ID"
                                    },
                                    {
                                        "name": "FIRST_NAME"
                                    },
                                    {
                                        "name": "LAST_NAME"
                                    },
                                    {
                                        "name": "EMAIL"
                                    },
                                    {
                                        "name": "PHONE_NUMBER"
                                    },
                                    {
                                        "name": "HIRE_DATE"
                                    },
                                    {
                                        "name": "JOB_ID"
                                    },
                                    {
                                        "name": "SALARY"
                                    },
                                    {
                                        "name": "COMMISSION_PCT"
                                    },
                                    {
                                        "name": "MANAGER_ID"
                                    },
                                    {
                                        "name": "DEPARTMENT_ID"
                                    }
                                ]
                            },
                            "data": [
                                {
                                    "0": "116",
                                    "1": "Shelli",
                                    "2": "Baida",
                                    "3": "SBAIDA",
                                    "4": "515.127.4563",
                                    "5": "1987-07-03",
                                    "6": "PU_CLERK",
                                    "7": "2900.00",
                                    "8": "0.00",
                                    "9": "114",
                                    "10": "30"
                                },
                                {
                                    "0": "117",
                                    "1": "Sigal",
                                    "2": "Tobias",
                                    "3": "STOBIAS",
                                    "4": "515.127.4564",
                                    "5": "1987-07-04",
                                    "6": "PU_CLERK",
                                    "7": "2800.00",
                                    "8": "0.00",
                                    "9": "114",
                                    "10": "30"
                                },
                                {
                                    "0": "118",
                                    "1": "Guy",
                                    "2": "Himuro",
                                    "3": "GHIMURO",
                                    "4": "515.127.4565",
                                    "5": "1987-07-05",
                                    "6": "PU_CLERK",
                                    "7": "2600.00",
                                    "8": "0.00",
                                    "9": "114",
                                    "10": "30"
                                },
                                {
                                    "0": "119",
                                    "1": "Karen",
                                    "2": "Colmenares",
                                    "3": "KCOLMENA",
                                    "4": "515.127.4566",
                                    "5": "1987-07-06",
                                    "6": "PU_CLERK",
                                    "7": "2500.00",
                                    "8": "0.00",
                                    "9": "114",
                                    "10": "30"
                                },
                                {
                                    "0": "126",
                                    "1": "Irene",
                                    "2": "Mikkilineni",
                                    "3": "IMIKKILI",
                                    "4": "650.124.1224",
                                    "5": "1987-07-13",
                                    "6": "ST_CLERK",
                                    "7": "2700.00",
                                    "8": "0.00",
                                    "9": "120",
                                    "10": "50"
                                },
                                {
                                    "0": "127",
                                    "1": "James",
                                    "2": "Landry",
                                    "3": "JLANDRY",
                                    "4": "650.124.1334",
                                    "5": "1987-07-14",
                                    "6": "ST_CLERK",
                                    "7": "2400.00",
                                    "8": "0.00",
                                    "9": "120",
                                    "10": "50"
                                },
                                {
                                    "0": "128",
                                    "1": "Steven",
                                    "2": "Markle",
                                    "3": "SMARKLE",
                                    "4": "650.124.1434",
                                    "5": "1987-07-15",
                                    "6": "ST_CLERK",
                                    "7": "2200.00",
                                    "8": "0.00",
                                    "9": "120",
                                    "10": "50"
                                },
                                {
                                    "0": "130",
                                    "1": "Mozhe",
                                    "2": "Atkinson",
                                    "3": "MATKINSO",
                                    "4": "650.124.6234",
                                    "5": "1987-07-17",
                                    "6": "ST_CLERK",
                                    "7": "2800.00",
                                    "8": "0.00",
                                    "9": "121",
                                    "10": "50"
                                },
                                {
                                    "0": "131",
                                    "1": "James",
                                    "2": "Marlow",
                                    "3": "JAMRLOW",
                                    "4": "650.124.7234",
                                    "5": "1987-07-18",
                                    "6": "ST_CLERK",
                                    "7": "2500.00",
                                    "8": "0.00",
                                    "9": "121",
                                    "10": "50"
                                },
                                {
                                    "0": "132",
                                    "1": "TJ",
                                    "2": "Olson",
                                    "3": "TJOLSON",
                                    "4": "650.124.8234",
                                    "5": "1987-07-19",
                                    "6": "ST_CLERK",
                                    "7": "2100.00",
                                    "8": "0.00",
                                    "9": "121",
                                    "10": "50"
                                },
                                {
                                    "0": "134",
                                    "1": "Michael",
                                    "2": "Rogers",
                                    "3": "MROGERS",
                                    "4": "650.127.1834",
                                    "5": "1987-07-21",
                                    "6": "ST_CLERK",
                                    "7": "2900.00",
                                    "8": "0.00",
                                    "9": "122",
                                    "10": "50"
                                },
                                {
                                    "0": "135",
                                    "1": "Ki",
                                    "2": "Gee",
                                    "3": "KGEE",
                                    "4": "650.127.1734",
                                    "5": "1987-07-22",
                                    "6": "ST_CLERK",
                                    "7": "2400.00",
                                    "8": "0.00",
                                    "9": "122",
                                    "10": "50"
                                },
                                {
                                    "0": "136",
                                    "1": "Hazel",
                                    "2": "Philtanker",
                                    "3": "HPHILTAN",
                                    "4": "650.127.1634",
                                    "5": "1987-07-23",
                                    "6": "ST_CLERK",
                                    "7": "2200.00",
                                    "8": "0.00",
                                    "9": "122",
                                    "10": "50"
                                },
                                {
                                    "0": "139",
                                    "1": "John",
                                    "2": "Seo",
                                    "3": "JSEO",
                                    "4": "650.121.2019",
                                    "5": "1987-07-26",
                                    "6": "ST_CLERK",
                                    "7": "2700.00",
                                    "8": "0.00",
                                    "9": "123",
                                    "10": "50"
                                },
                                {
                                    "0": "140",
                                    "1": "Joshua",
                                    "2": "Patel",
                                    "3": "JPATEL",
                                    "4": "650.121.1834",
                                    "5": "1987-07-27",
                                    "6": "ST_CLERK",
                                    "7": "2500.00",
                                    "8": "0.00",
                                    "9": "123",
                                    "10": "50"
                                },
                                {
                                    "0": "143",
                                    "1": "Randall",
                                    "2": "Matos",
                                    "3": "RMATOS",
                                    "4": "650.121.2874",
                                    "5": "1987-07-30",
                                    "6": "ST_CLERK",
                                    "7": "2600.00",
                                    "8": "0.00",
                                    "9": "124",
                                    "10": "50"
                                },
                                {
                                    "0": "144",
                                    "1": "Peter",
                                    "2": "Vargas",
                                    "3": "PVARGAS",
                                    "4": "650.121.2004",
                                    "5": "1987-07-31",
                                    "6": "ST_CLERK",
                                    "7": "2500.00",
                                    "8": "0.00",
                                    "9": "124",
                                    "10": "50"
                                },
                                {
                                    "0": "182",
                                    "1": "Martha",
                                    "2": "Sullivan",
                                    "3": "MSULLIVA",
                                    "4": "650.507.9878",
                                    "5": "1987-09-07",
                                    "6": "SH_CLERK",
                                    "7": "2500.00",
                                    "8": "0.00",
                                    "9": "120",
                                    "10": "50"
                                },
                                {
                                    "0": "183",
                                    "1": "Girard",
                                    "2": "Geoni",
                                    "3": "GGEONI",
                                    "4": "650.507.9879",
                                    "5": "1987-09-08",
                                    "6": "SH_CLERK",
                                    "7": "2800.00",
                                    "8": "0.00",
                                    "9": "120",
                                    "10": "50"
                                },
                                {
                                    "0": "187",
                                    "1": "Anthony",
                                    "2": "Cabrio",
                                    "3": "ACABRIO",
                                    "4": "650.509.4876",
                                    "5": "1987-09-12",
                                    "6": "SH_CLERK",
                                    "7": "3000.00",
                                    "8": "0.00",
                                    "9": "121",
                                    "10": "50"
                                },
                                {
                                    "0": "190",
                                    "1": "Timothy",
                                    "2": "Gates",
                                    "3": "TGATES",
                                    "4": "650.505.3876",
                                    "5": "1987-09-15",
                                    "6": "SH_CLERK",
                                    "7": "2900.00",
                                    "8": "0.00",
                                    "9": "122",
                                    "10": "50"
                                },
                                {
                                    "0": "191",
                                    "1": "Randall",
                                    "2": "Perkins",
                                    "3": "RPERKINS",
                                    "4": "650.505.4876",
                                    "5": "1987-09-16",
                                    "6": "SH_CLERK",
                                    "7": "2500.00",
                                    "8": "0.00",
                                    "9": "122",
                                    "10": "50"
                                },
                                {
                                    "0": "195",
                                    "1": "Vance",
                                    "2": "Jones",
                                    "3": "VJONES",
                                    "4": "650.501.4876",
                                    "5": "1987-09-20",
                                    "6": "SH_CLERK",
                                    "7": "2800.00",
                                    "8": "0.00",
                                    "9": "123",
                                    "10": "50"
                                },
                                {
                                    "0": "197",
                                    "1": "Kevin",
                                    "2": "Feeney",
                                    "3": "KFEENEY",
                                    "4": "650.507.9822",
                                    "5": "1987-09-22",
                                    "6": "SH_CLERK",
                                    "7": "3000.00",
                                    "8": "0.00",
                                    "9": "124",
                                    "10": "50"
                                },
                                {
                                    "0": "198",
                                    "1": "Donald",
                                    "2": "OConnell",
                                    "3": "DOCONNEL",
                                    "4": "650.507.9833",
                                    "5": "1987-09-23",
                                    "6": "SH_CLERK",
                                    "7": "2600.00",
                                    "8": "0.00",
                                    "9": "124",
                                    "10": "50"
                                },
                                {
                                    "0": "199",
                                    "1": "Douglas",
                                    "2": "Grant",
                                    "3": "DGRANT",
                                    "4": "650.507.9844",
                                    "5": "1987-09-24",
                                    "6": "SH_CLERK",
                                    "7": "2600.00",
                                    "8": "0.00",
                                    "9": "124",
                                    "10": "50"
                                }
                            ]
                        },
                        "text/html": [
                            "<table>",
                            "<tr><th>EMPLOYEE_ID</th><th>FIRST_NAME</th><th>LAST_NAME</th><th>EMAIL</th><th>PHONE_NUMBER</th><th>HIRE_DATE</th><th>JOB_ID</th><th>SALARY</th><th>COMMISSION_PCT</th><th>MANAGER_ID</th><th>DEPARTMENT_ID</th></tr>",
                            "<tr><td>116</td><td>Shelli</td><td>Baida</td><td>SBAIDA</td><td>515.127.4563</td><td>1987-07-03</td><td>PU_CLERK</td><td>2900.00</td><td>0.00</td><td>114</td><td>30</td></tr>",
                            "<tr><td>117</td><td>Sigal</td><td>Tobias</td><td>STOBIAS</td><td>515.127.4564</td><td>1987-07-04</td><td>PU_CLERK</td><td>2800.00</td><td>0.00</td><td>114</td><td>30</td></tr>",
                            "<tr><td>118</td><td>Guy</td><td>Himuro</td><td>GHIMURO</td><td>515.127.4565</td><td>1987-07-05</td><td>PU_CLERK</td><td>2600.00</td><td>0.00</td><td>114</td><td>30</td></tr>",
                            "<tr><td>119</td><td>Karen</td><td>Colmenares</td><td>KCOLMENA</td><td>515.127.4566</td><td>1987-07-06</td><td>PU_CLERK</td><td>2500.00</td><td>0.00</td><td>114</td><td>30</td></tr>",
                            "<tr><td>126</td><td>Irene</td><td>Mikkilineni</td><td>IMIKKILI</td><td>650.124.1224</td><td>1987-07-13</td><td>ST_CLERK</td><td>2700.00</td><td>0.00</td><td>120</td><td>50</td></tr>",
                            "<tr><td>127</td><td>James</td><td>Landry</td><td>JLANDRY</td><td>650.124.1334</td><td>1987-07-14</td><td>ST_CLERK</td><td>2400.00</td><td>0.00</td><td>120</td><td>50</td></tr>",
                            "<tr><td>128</td><td>Steven</td><td>Markle</td><td>SMARKLE</td><td>650.124.1434</td><td>1987-07-15</td><td>ST_CLERK</td><td>2200.00</td><td>0.00</td><td>120</td><td>50</td></tr>",
                            "<tr><td>130</td><td>Mozhe</td><td>Atkinson</td><td>MATKINSO</td><td>650.124.6234</td><td>1987-07-17</td><td>ST_CLERK</td><td>2800.00</td><td>0.00</td><td>121</td><td>50</td></tr>",
                            "<tr><td>131</td><td>James</td><td>Marlow</td><td>JAMRLOW</td><td>650.124.7234</td><td>1987-07-18</td><td>ST_CLERK</td><td>2500.00</td><td>0.00</td><td>121</td><td>50</td></tr>",
                            "<tr><td>132</td><td>TJ</td><td>Olson</td><td>TJOLSON</td><td>650.124.8234</td><td>1987-07-19</td><td>ST_CLERK</td><td>2100.00</td><td>0.00</td><td>121</td><td>50</td></tr>",
                            "<tr><td>134</td><td>Michael</td><td>Rogers</td><td>MROGERS</td><td>650.127.1834</td><td>1987-07-21</td><td>ST_CLERK</td><td>2900.00</td><td>0.00</td><td>122</td><td>50</td></tr>",
                            "<tr><td>135</td><td>Ki</td><td>Gee</td><td>KGEE</td><td>650.127.1734</td><td>1987-07-22</td><td>ST_CLERK</td><td>2400.00</td><td>0.00</td><td>122</td><td>50</td></tr>",
                            "<tr><td>136</td><td>Hazel</td><td>Philtanker</td><td>HPHILTAN</td><td>650.127.1634</td><td>1987-07-23</td><td>ST_CLERK</td><td>2200.00</td><td>0.00</td><td>122</td><td>50</td></tr>",
                            "<tr><td>139</td><td>John</td><td>Seo</td><td>JSEO</td><td>650.121.2019</td><td>1987-07-26</td><td>ST_CLERK</td><td>2700.00</td><td>0.00</td><td>123</td><td>50</td></tr>",
                            "<tr><td>140</td><td>Joshua</td><td>Patel</td><td>JPATEL</td><td>650.121.1834</td><td>1987-07-27</td><td>ST_CLERK</td><td>2500.00</td><td>0.00</td><td>123</td><td>50</td></tr>",
                            "<tr><td>143</td><td>Randall</td><td>Matos</td><td>RMATOS</td><td>650.121.2874</td><td>1987-07-30</td><td>ST_CLERK</td><td>2600.00</td><td>0.00</td><td>124</td><td>50</td></tr>",
                            "<tr><td>144</td><td>Peter</td><td>Vargas</td><td>PVARGAS</td><td>650.121.2004</td><td>1987-07-31</td><td>ST_CLERK</td><td>2500.00</td><td>0.00</td><td>124</td><td>50</td></tr>",
                            "<tr><td>182</td><td>Martha</td><td>Sullivan</td><td>MSULLIVA</td><td>650.507.9878</td><td>1987-09-07</td><td>SH_CLERK</td><td>2500.00</td><td>0.00</td><td>120</td><td>50</td></tr>",
                            "<tr><td>183</td><td>Girard</td><td>Geoni</td><td>GGEONI</td><td>650.507.9879</td><td>1987-09-08</td><td>SH_CLERK</td><td>2800.00</td><td>0.00</td><td>120</td><td>50</td></tr>",
                            "<tr><td>187</td><td>Anthony</td><td>Cabrio</td><td>ACABRIO</td><td>650.509.4876</td><td>1987-09-12</td><td>SH_CLERK</td><td>3000.00</td><td>0.00</td><td>121</td><td>50</td></tr>",
                            "<tr><td>190</td><td>Timothy</td><td>Gates</td><td>TGATES</td><td>650.505.3876</td><td>1987-09-15</td><td>SH_CLERK</td><td>2900.00</td><td>0.00</td><td>122</td><td>50</td></tr>",
                            "<tr><td>191</td><td>Randall</td><td>Perkins</td><td>RPERKINS</td><td>650.505.4876</td><td>1987-09-16</td><td>SH_CLERK</td><td>2500.00</td><td>0.00</td><td>122</td><td>50</td></tr>",
                            "<tr><td>195</td><td>Vance</td><td>Jones</td><td>VJONES</td><td>650.501.4876</td><td>1987-09-20</td><td>SH_CLERK</td><td>2800.00</td><td>0.00</td><td>123</td><td>50</td></tr>",
                            "<tr><td>197</td><td>Kevin</td><td>Feeney</td><td>KFEENEY</td><td>650.507.9822</td><td>1987-09-22</td><td>SH_CLERK</td><td>3000.00</td><td>0.00</td><td>124</td><td>50</td></tr>",
                            "<tr><td>198</td><td>Donald</td><td>OConnell</td><td>DOCONNEL</td><td>650.507.9833</td><td>1987-09-23</td><td>SH_CLERK</td><td>2600.00</td><td>0.00</td><td>124</td><td>50</td></tr>",
                            "<tr><td>199</td><td>Douglas</td><td>Grant</td><td>DGRANT</td><td>650.507.9844</td><td>1987-09-24</td><td>SH_CLERK</td><td>2600.00</td><td>0.00</td><td>124</td><td>50</td></tr>",
                            "</table>"
                        ]
                    }
                }
            ],
            "execution_count": 15
        },
        {
            "cell_type": "code",
            "source": [
                "--10. write a SQL query to find those employees whose salary falls within the range of the smallest salary and 2500. Return all the fields.\r\n",
                "select * from employees1 where SALARY between (select min(SALARY) from employees1) and 2500"
            ],
            "metadata": {
                "language": "sql",
                "azdata_cell_guid": "50b5298b-ec75-46a4-a66e-7b46c8523615"
            },
            "outputs": [
                {
                    "output_type": "display_data",
                    "data": {
                        "text/html": "(11 rows affected)"
                    },
                    "metadata": {}
                },
                {
                    "output_type": "display_data",
                    "data": {
                        "text/html": "Total execution time: 00:00:00.006"
                    },
                    "metadata": {}
                },
                {
                    "output_type": "execute_result",
                    "metadata": {},
                    "execution_count": 16,
                    "data": {
                        "application/vnd.dataresource+json": {
                            "schema": {
                                "fields": [
                                    {
                                        "name": "EMPLOYEE_ID"
                                    },
                                    {
                                        "name": "FIRST_NAME"
                                    },
                                    {
                                        "name": "LAST_NAME"
                                    },
                                    {
                                        "name": "EMAIL"
                                    },
                                    {
                                        "name": "PHONE_NUMBER"
                                    },
                                    {
                                        "name": "HIRE_DATE"
                                    },
                                    {
                                        "name": "JOB_ID"
                                    },
                                    {
                                        "name": "SALARY"
                                    },
                                    {
                                        "name": "COMMISSION_PCT"
                                    },
                                    {
                                        "name": "MANAGER_ID"
                                    },
                                    {
                                        "name": "DEPARTMENT_ID"
                                    }
                                ]
                            },
                            "data": [
                                {
                                    "0": "119",
                                    "1": "Karen",
                                    "2": "Colmenares",
                                    "3": "KCOLMENA",
                                    "4": "515.127.4566",
                                    "5": "1987-07-06",
                                    "6": "PU_CLERK",
                                    "7": "2500.00",
                                    "8": "0.00",
                                    "9": "114",
                                    "10": "30"
                                },
                                {
                                    "0": "127",
                                    "1": "James",
                                    "2": "Landry",
                                    "3": "JLANDRY",
                                    "4": "650.124.1334",
                                    "5": "1987-07-14",
                                    "6": "ST_CLERK",
                                    "7": "2400.00",
                                    "8": "0.00",
                                    "9": "120",
                                    "10": "50"
                                },
                                {
                                    "0": "128",
                                    "1": "Steven",
                                    "2": "Markle",
                                    "3": "SMARKLE",
                                    "4": "650.124.1434",
                                    "5": "1987-07-15",
                                    "6": "ST_CLERK",
                                    "7": "2200.00",
                                    "8": "0.00",
                                    "9": "120",
                                    "10": "50"
                                },
                                {
                                    "0": "131",
                                    "1": "James",
                                    "2": "Marlow",
                                    "3": "JAMRLOW",
                                    "4": "650.124.7234",
                                    "5": "1987-07-18",
                                    "6": "ST_CLERK",
                                    "7": "2500.00",
                                    "8": "0.00",
                                    "9": "121",
                                    "10": "50"
                                },
                                {
                                    "0": "132",
                                    "1": "TJ",
                                    "2": "Olson",
                                    "3": "TJOLSON",
                                    "4": "650.124.8234",
                                    "5": "1987-07-19",
                                    "6": "ST_CLERK",
                                    "7": "2100.00",
                                    "8": "0.00",
                                    "9": "121",
                                    "10": "50"
                                },
                                {
                                    "0": "135",
                                    "1": "Ki",
                                    "2": "Gee",
                                    "3": "KGEE",
                                    "4": "650.127.1734",
                                    "5": "1987-07-22",
                                    "6": "ST_CLERK",
                                    "7": "2400.00",
                                    "8": "0.00",
                                    "9": "122",
                                    "10": "50"
                                },
                                {
                                    "0": "136",
                                    "1": "Hazel",
                                    "2": "Philtanker",
                                    "3": "HPHILTAN",
                                    "4": "650.127.1634",
                                    "5": "1987-07-23",
                                    "6": "ST_CLERK",
                                    "7": "2200.00",
                                    "8": "0.00",
                                    "9": "122",
                                    "10": "50"
                                },
                                {
                                    "0": "140",
                                    "1": "Joshua",
                                    "2": "Patel",
                                    "3": "JPATEL",
                                    "4": "650.121.1834",
                                    "5": "1987-07-27",
                                    "6": "ST_CLERK",
                                    "7": "2500.00",
                                    "8": "0.00",
                                    "9": "123",
                                    "10": "50"
                                },
                                {
                                    "0": "144",
                                    "1": "Peter",
                                    "2": "Vargas",
                                    "3": "PVARGAS",
                                    "4": "650.121.2004",
                                    "5": "1987-07-31",
                                    "6": "ST_CLERK",
                                    "7": "2500.00",
                                    "8": "0.00",
                                    "9": "124",
                                    "10": "50"
                                },
                                {
                                    "0": "182",
                                    "1": "Martha",
                                    "2": "Sullivan",
                                    "3": "MSULLIVA",
                                    "4": "650.507.9878",
                                    "5": "1987-09-07",
                                    "6": "SH_CLERK",
                                    "7": "2500.00",
                                    "8": "0.00",
                                    "9": "120",
                                    "10": "50"
                                },
                                {
                                    "0": "191",
                                    "1": "Randall",
                                    "2": "Perkins",
                                    "3": "RPERKINS",
                                    "4": "650.505.4876",
                                    "5": "1987-09-16",
                                    "6": "SH_CLERK",
                                    "7": "2500.00",
                                    "8": "0.00",
                                    "9": "122",
                                    "10": "50"
                                }
                            ]
                        },
                        "text/html": [
                            "<table>",
                            "<tr><th>EMPLOYEE_ID</th><th>FIRST_NAME</th><th>LAST_NAME</th><th>EMAIL</th><th>PHONE_NUMBER</th><th>HIRE_DATE</th><th>JOB_ID</th><th>SALARY</th><th>COMMISSION_PCT</th><th>MANAGER_ID</th><th>DEPARTMENT_ID</th></tr>",
                            "<tr><td>119</td><td>Karen</td><td>Colmenares</td><td>KCOLMENA</td><td>515.127.4566</td><td>1987-07-06</td><td>PU_CLERK</td><td>2500.00</td><td>0.00</td><td>114</td><td>30</td></tr>",
                            "<tr><td>127</td><td>James</td><td>Landry</td><td>JLANDRY</td><td>650.124.1334</td><td>1987-07-14</td><td>ST_CLERK</td><td>2400.00</td><td>0.00</td><td>120</td><td>50</td></tr>",
                            "<tr><td>128</td><td>Steven</td><td>Markle</td><td>SMARKLE</td><td>650.124.1434</td><td>1987-07-15</td><td>ST_CLERK</td><td>2200.00</td><td>0.00</td><td>120</td><td>50</td></tr>",
                            "<tr><td>131</td><td>James</td><td>Marlow</td><td>JAMRLOW</td><td>650.124.7234</td><td>1987-07-18</td><td>ST_CLERK</td><td>2500.00</td><td>0.00</td><td>121</td><td>50</td></tr>",
                            "<tr><td>132</td><td>TJ</td><td>Olson</td><td>TJOLSON</td><td>650.124.8234</td><td>1987-07-19</td><td>ST_CLERK</td><td>2100.00</td><td>0.00</td><td>121</td><td>50</td></tr>",
                            "<tr><td>135</td><td>Ki</td><td>Gee</td><td>KGEE</td><td>650.127.1734</td><td>1987-07-22</td><td>ST_CLERK</td><td>2400.00</td><td>0.00</td><td>122</td><td>50</td></tr>",
                            "<tr><td>136</td><td>Hazel</td><td>Philtanker</td><td>HPHILTAN</td><td>650.127.1634</td><td>1987-07-23</td><td>ST_CLERK</td><td>2200.00</td><td>0.00</td><td>122</td><td>50</td></tr>",
                            "<tr><td>140</td><td>Joshua</td><td>Patel</td><td>JPATEL</td><td>650.121.1834</td><td>1987-07-27</td><td>ST_CLERK</td><td>2500.00</td><td>0.00</td><td>123</td><td>50</td></tr>",
                            "<tr><td>144</td><td>Peter</td><td>Vargas</td><td>PVARGAS</td><td>650.121.2004</td><td>1987-07-31</td><td>ST_CLERK</td><td>2500.00</td><td>0.00</td><td>124</td><td>50</td></tr>",
                            "<tr><td>182</td><td>Martha</td><td>Sullivan</td><td>MSULLIVA</td><td>650.507.9878</td><td>1987-09-07</td><td>SH_CLERK</td><td>2500.00</td><td>0.00</td><td>120</td><td>50</td></tr>",
                            "<tr><td>191</td><td>Randall</td><td>Perkins</td><td>RPERKINS</td><td>650.505.4876</td><td>1987-09-16</td><td>SH_CLERK</td><td>2500.00</td><td>0.00</td><td>122</td><td>50</td></tr>",
                            "</table>"
                        ]
                    }
                }
            ],
            "execution_count": 16
        },
        {
            "cell_type": "code",
            "source": [
                "--11. write a SQL query to find those employees who do not work in the departments where managers’ IDs are between 100 and 200 (Begin and end values are included.). Return all the fields of the employees.\r\n",
                "select * from employees1 where department_id not in (select department_id from departments where MANAGER_ID between 100 and 200)"
            ],
            "metadata": {
                "language": "sql",
                "azdata_cell_guid": "c1eeaa2f-729c-4917-84bd-18a41cfdb7cf"
            },
            "outputs": [
                {
                    "output_type": "display_data",
                    "data": {
                        "text/html": "(7 rows affected)"
                    },
                    "metadata": {}
                },
                {
                    "output_type": "display_data",
                    "data": {
                        "text/html": "Total execution time: 00:00:00.010"
                    },
                    "metadata": {}
                },
                {
                    "output_type": "execute_result",
                    "metadata": {},
                    "execution_count": 18,
                    "data": {
                        "application/vnd.dataresource+json": {
                            "schema": {
                                "fields": [
                                    {
                                        "name": "EMPLOYEE_ID"
                                    },
                                    {
                                        "name": "FIRST_NAME"
                                    },
                                    {
                                        "name": "LAST_NAME"
                                    },
                                    {
                                        "name": "EMAIL"
                                    },
                                    {
                                        "name": "PHONE_NUMBER"
                                    },
                                    {
                                        "name": "HIRE_DATE"
                                    },
                                    {
                                        "name": "JOB_ID"
                                    },
                                    {
                                        "name": "SALARY"
                                    },
                                    {
                                        "name": "COMMISSION_PCT"
                                    },
                                    {
                                        "name": "MANAGER_ID"
                                    },
                                    {
                                        "name": "DEPARTMENT_ID"
                                    }
                                ]
                            },
                            "data": [
                                {
                                    "0": "178",
                                    "1": "Kimberely",
                                    "2": "Grant",
                                    "3": "KGRANT",
                                    "4": "011.44.1644.429263",
                                    "5": "1987-09-03",
                                    "6": "SA_REP",
                                    "7": "7000.00",
                                    "8": "0.15",
                                    "9": "149",
                                    "10": "0"
                                },
                                {
                                    "0": "201",
                                    "1": "Michael",
                                    "2": "Hartstein",
                                    "3": "MHARTSTE",
                                    "4": "515.123.5555",
                                    "5": "1987-09-26",
                                    "6": "MK_MAN",
                                    "7": "13000.00",
                                    "8": "0.00",
                                    "9": "100",
                                    "10": "20"
                                },
                                {
                                    "0": "202",
                                    "1": "Pat",
                                    "2": "Fay",
                                    "3": "PFAY",
                                    "4": "603.123.6666",
                                    "5": "1987-09-27",
                                    "6": "MK_REP",
                                    "7": "6000.00",
                                    "8": "0.00",
                                    "9": "201",
                                    "10": "20"
                                },
                                {
                                    "0": "203",
                                    "1": "Susan",
                                    "2": "Mavris",
                                    "3": "SMAVRIS",
                                    "4": "515.123.7777",
                                    "5": "1987-09-28",
                                    "6": "HR_REP",
                                    "7": "6500.00",
                                    "8": "0.00",
                                    "9": "101",
                                    "10": "40"
                                },
                                {
                                    "0": "204",
                                    "1": "Hermann",
                                    "2": "Baer",
                                    "3": "HBAER",
                                    "4": "515.123.8888",
                                    "5": "1987-09-29",
                                    "6": "PR_REP",
                                    "7": "10000.00",
                                    "8": "0.00",
                                    "9": "101",
                                    "10": "70"
                                },
                                {
                                    "0": "205",
                                    "1": "Shelley",
                                    "2": "Higgins",
                                    "3": "SHIGGINS",
                                    "4": "515.123.8080",
                                    "5": "1987-09-30",
                                    "6": "AC_MGR",
                                    "7": "12000.00",
                                    "8": "0.00",
                                    "9": "101",
                                    "10": "110"
                                },
                                {
                                    "0": "206",
                                    "1": "William",
                                    "2": "Gietz",
                                    "3": "WGIETZ",
                                    "4": "515.123.8181",
                                    "5": "1987-10-01",
                                    "6": "AC_ACCOUNT",
                                    "7": "8300.00",
                                    "8": "0.00",
                                    "9": "205",
                                    "10": "110"
                                }
                            ]
                        },
                        "text/html": [
                            "<table>",
                            "<tr><th>EMPLOYEE_ID</th><th>FIRST_NAME</th><th>LAST_NAME</th><th>EMAIL</th><th>PHONE_NUMBER</th><th>HIRE_DATE</th><th>JOB_ID</th><th>SALARY</th><th>COMMISSION_PCT</th><th>MANAGER_ID</th><th>DEPARTMENT_ID</th></tr>",
                            "<tr><td>178</td><td>Kimberely</td><td>Grant</td><td>KGRANT</td><td>011.44.1644.429263</td><td>1987-09-03</td><td>SA_REP</td><td>7000.00</td><td>0.15</td><td>149</td><td>0</td></tr>",
                            "<tr><td>201</td><td>Michael</td><td>Hartstein</td><td>MHARTSTE</td><td>515.123.5555</td><td>1987-09-26</td><td>MK_MAN</td><td>13000.00</td><td>0.00</td><td>100</td><td>20</td></tr>",
                            "<tr><td>202</td><td>Pat</td><td>Fay</td><td>PFAY</td><td>603.123.6666</td><td>1987-09-27</td><td>MK_REP</td><td>6000.00</td><td>0.00</td><td>201</td><td>20</td></tr>",
                            "<tr><td>203</td><td>Susan</td><td>Mavris</td><td>SMAVRIS</td><td>515.123.7777</td><td>1987-09-28</td><td>HR_REP</td><td>6500.00</td><td>0.00</td><td>101</td><td>40</td></tr>",
                            "<tr><td>204</td><td>Hermann</td><td>Baer</td><td>HBAER</td><td>515.123.8888</td><td>1987-09-29</td><td>PR_REP</td><td>10000.00</td><td>0.00</td><td>101</td><td>70</td></tr>",
                            "<tr><td>205</td><td>Shelley</td><td>Higgins</td><td>SHIGGINS</td><td>515.123.8080</td><td>1987-09-30</td><td>AC_MGR</td><td>12000.00</td><td>0.00</td><td>101</td><td>110</td></tr>",
                            "<tr><td>206</td><td>William</td><td>Gietz</td><td>WGIETZ</td><td>515.123.8181</td><td>1987-10-01</td><td>AC_ACCOUNT</td><td>8300.00</td><td>0.00</td><td>205</td><td>110</td></tr>",
                            "</table>"
                        ]
                    }
                }
            ],
            "execution_count": 18
        },
        {
            "cell_type": "code",
            "source": [
                "--12. write a SQL query to find those employees who get second-highest salary. Return all the fields of the employees.\r\n",
                "select * from employees1 \r\n",
                "where EMPLOYEE_ID in(select EMPLOYEE_ID from employees1 \r\n",
                "WHERE SALARY=(select max(SALARY) from employees1 \r\n",
                "where SALARY<(select max(SALARY) from employees1)))\r\n",
                ""
            ],
            "metadata": {
                "language": "sql",
                "azdata_cell_guid": "1fbdabf0-82ac-4217-b66e-335cb5f70d27"
            },
            "outputs": [
                {
                    "output_type": "display_data",
                    "data": {
                        "text/html": "(2 rows affected)"
                    },
                    "metadata": {}
                },
                {
                    "output_type": "display_data",
                    "data": {
                        "text/html": "Total execution time: 00:00:00.008"
                    },
                    "metadata": {}
                },
                {
                    "output_type": "execute_result",
                    "metadata": {},
                    "execution_count": 21,
                    "data": {
                        "application/vnd.dataresource+json": {
                            "schema": {
                                "fields": [
                                    {
                                        "name": "EMPLOYEE_ID"
                                    },
                                    {
                                        "name": "FIRST_NAME"
                                    },
                                    {
                                        "name": "LAST_NAME"
                                    },
                                    {
                                        "name": "EMAIL"
                                    },
                                    {
                                        "name": "PHONE_NUMBER"
                                    },
                                    {
                                        "name": "HIRE_DATE"
                                    },
                                    {
                                        "name": "JOB_ID"
                                    },
                                    {
                                        "name": "SALARY"
                                    },
                                    {
                                        "name": "COMMISSION_PCT"
                                    },
                                    {
                                        "name": "MANAGER_ID"
                                    },
                                    {
                                        "name": "DEPARTMENT_ID"
                                    }
                                ]
                            },
                            "data": [
                                {
                                    "0": "101",
                                    "1": "Neena",
                                    "2": "Kochhar",
                                    "3": "NKOCHHAR",
                                    "4": "515.123.4568",
                                    "5": "1987-06-18",
                                    "6": "AD_VP",
                                    "7": "17000.00",
                                    "8": "0.00",
                                    "9": "100",
                                    "10": "90"
                                },
                                {
                                    "0": "102",
                                    "1": "Lex",
                                    "2": "De Haan",
                                    "3": "LDEHAAN",
                                    "4": "515.123.4569",
                                    "5": "1987-06-19",
                                    "6": "AD_VP",
                                    "7": "17000.00",
                                    "8": "0.00",
                                    "9": "100",
                                    "10": "90"
                                }
                            ]
                        },
                        "text/html": [
                            "<table>",
                            "<tr><th>EMPLOYEE_ID</th><th>FIRST_NAME</th><th>LAST_NAME</th><th>EMAIL</th><th>PHONE_NUMBER</th><th>HIRE_DATE</th><th>JOB_ID</th><th>SALARY</th><th>COMMISSION_PCT</th><th>MANAGER_ID</th><th>DEPARTMENT_ID</th></tr>",
                            "<tr><td>101</td><td>Neena</td><td>Kochhar</td><td>NKOCHHAR</td><td>515.123.4568</td><td>1987-06-18</td><td>AD_VP</td><td>17000.00</td><td>0.00</td><td>100</td><td>90</td></tr>",
                            "<tr><td>102</td><td>Lex</td><td>De Haan</td><td>LDEHAAN</td><td>515.123.4569</td><td>1987-06-19</td><td>AD_VP</td><td>17000.00</td><td>0.00</td><td>100</td><td>90</td></tr>",
                            "</table>"
                        ]
                    }
                }
            ],
            "execution_count": 21
        },
        {
            "cell_type": "code",
            "source": [
                "--13. write a SQL query to find those employees who work in the same department as ‘Clara’. Exclude all those records where first name is ‘Clara’. Return first name, last name and hire date.\r\n",
                "select first_name,last_name ,hire_date from employees1 where DEPARTMENT_ID=(select DEPARTMENT_ID from employees1 where FIRST_NAME='Clara') and FIRST_NAME<>'Clara'\r\n",
                ""
            ],
            "metadata": {
                "language": "sql",
                "azdata_cell_guid": "c42e1d9b-1fc1-425d-bd2e-a9b0f7a6f51b",
                "tags": []
            },
            "outputs": [
                {
                    "output_type": "display_data",
                    "data": {
                        "text/html": "(33 rows affected)"
                    },
                    "metadata": {}
                },
                {
                    "output_type": "display_data",
                    "data": {
                        "text/html": "Total execution time: 00:00:00.006"
                    },
                    "metadata": {}
                },
                {
                    "output_type": "execute_result",
                    "metadata": {},
                    "execution_count": 23,
                    "data": {
                        "application/vnd.dataresource+json": {
                            "schema": {
                                "fields": [
                                    {
                                        "name": "first_name"
                                    },
                                    {
                                        "name": "last_name"
                                    },
                                    {
                                        "name": "hire_date"
                                    }
                                ]
                            },
                            "data": [
                                {
                                    "0": "John",
                                    "1": "Russell",
                                    "2": "1987-08-01"
                                },
                                {
                                    "0": "Karen",
                                    "1": "Partners",
                                    "2": "1987-08-02"
                                },
                                {
                                    "0": "Alberto",
                                    "1": "Errazuriz",
                                    "2": "1987-08-03"
                                },
                                {
                                    "0": "Gerald",
                                    "1": "Cambrault",
                                    "2": "1987-08-04"
                                },
                                {
                                    "0": "Eleni",
                                    "1": "Zlotkey",
                                    "2": "1987-08-05"
                                },
                                {
                                    "0": "Peter",
                                    "1": "Tucker",
                                    "2": "1987-08-06"
                                },
                                {
                                    "0": "David",
                                    "1": "Bernstein",
                                    "2": "1987-08-07"
                                },
                                {
                                    "0": "Peter",
                                    "1": "Hall",
                                    "2": "1987-08-08"
                                },
                                {
                                    "0": "Christopher",
                                    "1": "Olsen",
                                    "2": "1987-08-09"
                                },
                                {
                                    "0": "Nanette",
                                    "1": "Cambrault",
                                    "2": "1987-08-10"
                                },
                                {
                                    "0": "Oliver",
                                    "1": "Tuvault",
                                    "2": "1987-08-11"
                                },
                                {
                                    "0": "Janette",
                                    "1": "King",
                                    "2": "1987-08-12"
                                },
                                {
                                    "0": "Patrick",
                                    "1": "Sully",
                                    "2": "1987-08-13"
                                },
                                {
                                    "0": "Allan",
                                    "1": "McEwen",
                                    "2": "1987-08-14"
                                },
                                {
                                    "0": "Lindsey",
                                    "1": "Smith",
                                    "2": "1987-08-15"
                                },
                                {
                                    "0": "Louise",
                                    "1": "Doran",
                                    "2": "1987-08-16"
                                },
                                {
                                    "0": "Sarath",
                                    "1": "Sewall",
                                    "2": "1987-08-17"
                                },
                                {
                                    "0": "Danielle",
                                    "1": "Greene",
                                    "2": "1987-08-19"
                                },
                                {
                                    "0": "Mattea",
                                    "1": "Marvins",
                                    "2": "1987-08-20"
                                },
                                {
                                    "0": "David",
                                    "1": "Lee",
                                    "2": "1987-08-21"
                                },
                                {
                                    "0": "Sundar",
                                    "1": "Ande",
                                    "2": "1987-08-22"
                                },
                                {
                                    "0": "Amit",
                                    "1": "Banda",
                                    "2": "1987-08-23"
                                },
                                {
                                    "0": "Lisa",
                                    "1": "Ozer",
                                    "2": "1987-08-24"
                                },
                                {
                                    "0": "Harrison",
                                    "1": "Bloom",
                                    "2": "1987-08-25"
                                },
                                {
                                    "0": "Tayler",
                                    "1": "Fox",
                                    "2": "1987-08-26"
                                },
                                {
                                    "0": "William",
                                    "1": "Smith",
                                    "2": "1987-08-27"
                                },
                                {
                                    "0": "Elizabeth",
                                    "1": "Bates",
                                    "2": "1987-08-28"
                                },
                                {
                                    "0": "Sundita",
                                    "1": "Kumar",
                                    "2": "1987-08-29"
                                },
                                {
                                    "0": "Ellen",
                                    "1": "Abel",
                                    "2": "1987-08-30"
                                },
                                {
                                    "0": "Alyssa",
                                    "1": "Hutton",
                                    "2": "1987-08-31"
                                },
                                {
                                    "0": "Jonathon",
                                    "1": "Taylor",
                                    "2": "1987-09-01"
                                },
                                {
                                    "0": "Jack",
                                    "1": "Livingston",
                                    "2": "1987-09-02"
                                },
                                {
                                    "0": "Charles",
                                    "1": "Johnson",
                                    "2": "1987-09-04"
                                }
                            ]
                        },
                        "text/html": [
                            "<table>",
                            "<tr><th>first_name</th><th>last_name</th><th>hire_date</th></tr>",
                            "<tr><td>John</td><td>Russell</td><td>1987-08-01</td></tr>",
                            "<tr><td>Karen</td><td>Partners</td><td>1987-08-02</td></tr>",
                            "<tr><td>Alberto</td><td>Errazuriz</td><td>1987-08-03</td></tr>",
                            "<tr><td>Gerald</td><td>Cambrault</td><td>1987-08-04</td></tr>",
                            "<tr><td>Eleni</td><td>Zlotkey</td><td>1987-08-05</td></tr>",
                            "<tr><td>Peter</td><td>Tucker</td><td>1987-08-06</td></tr>",
                            "<tr><td>David</td><td>Bernstein</td><td>1987-08-07</td></tr>",
                            "<tr><td>Peter</td><td>Hall</td><td>1987-08-08</td></tr>",
                            "<tr><td>Christopher</td><td>Olsen</td><td>1987-08-09</td></tr>",
                            "<tr><td>Nanette</td><td>Cambrault</td><td>1987-08-10</td></tr>",
                            "<tr><td>Oliver</td><td>Tuvault</td><td>1987-08-11</td></tr>",
                            "<tr><td>Janette</td><td>King</td><td>1987-08-12</td></tr>",
                            "<tr><td>Patrick</td><td>Sully</td><td>1987-08-13</td></tr>",
                            "<tr><td>Allan</td><td>McEwen</td><td>1987-08-14</td></tr>",
                            "<tr><td>Lindsey</td><td>Smith</td><td>1987-08-15</td></tr>",
                            "<tr><td>Louise</td><td>Doran</td><td>1987-08-16</td></tr>",
                            "<tr><td>Sarath</td><td>Sewall</td><td>1987-08-17</td></tr>",
                            "<tr><td>Danielle</td><td>Greene</td><td>1987-08-19</td></tr>",
                            "<tr><td>Mattea</td><td>Marvins</td><td>1987-08-20</td></tr>",
                            "<tr><td>David</td><td>Lee</td><td>1987-08-21</td></tr>",
                            "<tr><td>Sundar</td><td>Ande</td><td>1987-08-22</td></tr>",
                            "<tr><td>Amit</td><td>Banda</td><td>1987-08-23</td></tr>",
                            "<tr><td>Lisa</td><td>Ozer</td><td>1987-08-24</td></tr>",
                            "<tr><td>Harrison</td><td>Bloom</td><td>1987-08-25</td></tr>",
                            "<tr><td>Tayler</td><td>Fox</td><td>1987-08-26</td></tr>",
                            "<tr><td>William</td><td>Smith</td><td>1987-08-27</td></tr>",
                            "<tr><td>Elizabeth</td><td>Bates</td><td>1987-08-28</td></tr>",
                            "<tr><td>Sundita</td><td>Kumar</td><td>1987-08-29</td></tr>",
                            "<tr><td>Ellen</td><td>Abel</td><td>1987-08-30</td></tr>",
                            "<tr><td>Alyssa</td><td>Hutton</td><td>1987-08-31</td></tr>",
                            "<tr><td>Jonathon</td><td>Taylor</td><td>1987-09-01</td></tr>",
                            "<tr><td>Jack</td><td>Livingston</td><td>1987-09-02</td></tr>",
                            "<tr><td>Charles</td><td>Johnson</td><td>1987-09-04</td></tr>",
                            "</table>"
                        ]
                    }
                }
            ],
            "execution_count": 23
        },
        {
            "cell_type": "code",
            "source": [
                "--14. write a SQL query to find those employees who work in a department where the employee’s first name contains the letter 'T'. Return employee ID, first name and last name.\r\n",
                "select EMPLOYEE_ID,FIRST_NAME,LAST_NAME from employees1 WHERE DEPARTMENT_ID IN(select DEPARTMENT_ID from employees1 where FIRST_NAME LIKE '%T%')"
            ],
            "metadata": {
                "language": "sql",
                "azdata_cell_guid": "b1d73a35-4389-47da-8397-a783ececee8a"
            },
            "outputs": [
                {
                    "output_type": "display_data",
                    "data": {
                        "text/html": "(84 rows affected)"
                    },
                    "metadata": {}
                },
                {
                    "output_type": "display_data",
                    "data": {
                        "text/html": "Total execution time: 00:00:00.005"
                    },
                    "metadata": {}
                },
                {
                    "output_type": "execute_result",
                    "metadata": {},
                    "execution_count": 24,
                    "data": {
                        "application/vnd.dataresource+json": {
                            "schema": {
                                "fields": [
                                    {
                                        "name": "EMPLOYEE_ID"
                                    },
                                    {
                                        "name": "FIRST_NAME"
                                    },
                                    {
                                        "name": "LAST_NAME"
                                    }
                                ]
                            },
                            "data": [
                                {
                                    "0": "100",
                                    "1": "Steven",
                                    "2": "King"
                                },
                                {
                                    "0": "101",
                                    "1": "Neena",
                                    "2": "Kochhar"
                                },
                                {
                                    "0": "102",
                                    "1": "Lex",
                                    "2": "De Haan"
                                },
                                {
                                    "0": "120",
                                    "1": "Matthew",
                                    "2": "Weiss"
                                },
                                {
                                    "0": "121",
                                    "1": "Adam",
                                    "2": "Fripp"
                                },
                                {
                                    "0": "122",
                                    "1": "Payam",
                                    "2": "Kaufling"
                                },
                                {
                                    "0": "123",
                                    "1": "Shanta",
                                    "2": "Vollman"
                                },
                                {
                                    "0": "124",
                                    "1": "Kevin",
                                    "2": "Mourgos"
                                },
                                {
                                    "0": "125",
                                    "1": "Julia",
                                    "2": "Nayer"
                                },
                                {
                                    "0": "126",
                                    "1": "Irene",
                                    "2": "Mikkilineni"
                                },
                                {
                                    "0": "127",
                                    "1": "James",
                                    "2": "Landry"
                                },
                                {
                                    "0": "128",
                                    "1": "Steven",
                                    "2": "Markle"
                                },
                                {
                                    "0": "129",
                                    "1": "Laura",
                                    "2": "Bissot"
                                },
                                {
                                    "0": "130",
                                    "1": "Mozhe",
                                    "2": "Atkinson"
                                },
                                {
                                    "0": "131",
                                    "1": "James",
                                    "2": "Marlow"
                                },
                                {
                                    "0": "132",
                                    "1": "TJ",
                                    "2": "Olson"
                                },
                                {
                                    "0": "133",
                                    "1": "Jason",
                                    "2": "Mallin"
                                },
                                {
                                    "0": "134",
                                    "1": "Michael",
                                    "2": "Rogers"
                                },
                                {
                                    "0": "135",
                                    "1": "Ki",
                                    "2": "Gee"
                                },
                                {
                                    "0": "136",
                                    "1": "Hazel",
                                    "2": "Philtanker"
                                },
                                {
                                    "0": "137",
                                    "1": "Renske",
                                    "2": "Ladwig"
                                },
                                {
                                    "0": "138",
                                    "1": "Stephen",
                                    "2": "Stiles"
                                },
                                {
                                    "0": "139",
                                    "1": "John",
                                    "2": "Seo"
                                },
                                {
                                    "0": "140",
                                    "1": "Joshua",
                                    "2": "Patel"
                                },
                                {
                                    "0": "141",
                                    "1": "Trenna",
                                    "2": "Rajs"
                                },
                                {
                                    "0": "142",
                                    "1": "Curtis",
                                    "2": "Davies"
                                },
                                {
                                    "0": "143",
                                    "1": "Randall",
                                    "2": "Matos"
                                },
                                {
                                    "0": "144",
                                    "1": "Peter",
                                    "2": "Vargas"
                                },
                                {
                                    "0": "145",
                                    "1": "John",
                                    "2": "Russell"
                                },
                                {
                                    "0": "146",
                                    "1": "Karen",
                                    "2": "Partners"
                                },
                                {
                                    "0": "147",
                                    "1": "Alberto",
                                    "2": "Errazuriz"
                                },
                                {
                                    "0": "148",
                                    "1": "Gerald",
                                    "2": "Cambrault"
                                },
                                {
                                    "0": "149",
                                    "1": "Eleni",
                                    "2": "Zlotkey"
                                },
                                {
                                    "0": "150",
                                    "1": "Peter",
                                    "2": "Tucker"
                                },
                                {
                                    "0": "151",
                                    "1": "David",
                                    "2": "Bernstein"
                                },
                                {
                                    "0": "152",
                                    "1": "Peter",
                                    "2": "Hall"
                                },
                                {
                                    "0": "153",
                                    "1": "Christopher",
                                    "2": "Olsen"
                                },
                                {
                                    "0": "154",
                                    "1": "Nanette",
                                    "2": "Cambrault"
                                },
                                {
                                    "0": "155",
                                    "1": "Oliver",
                                    "2": "Tuvault"
                                },
                                {
                                    "0": "156",
                                    "1": "Janette",
                                    "2": "King"
                                },
                                {
                                    "0": "157",
                                    "1": "Patrick",
                                    "2": "Sully"
                                },
                                {
                                    "0": "158",
                                    "1": "Allan",
                                    "2": "McEwen"
                                },
                                {
                                    "0": "159",
                                    "1": "Lindsey",
                                    "2": "Smith"
                                },
                                {
                                    "0": "160",
                                    "1": "Louise",
                                    "2": "Doran"
                                },
                                {
                                    "0": "161",
                                    "1": "Sarath",
                                    "2": "Sewall"
                                },
                                {
                                    "0": "162",
                                    "1": "Clara",
                                    "2": "Vishney"
                                },
                                {
                                    "0": "163",
                                    "1": "Danielle",
                                    "2": "Greene"
                                },
                                {
                                    "0": "164",
                                    "1": "Mattea",
                                    "2": "Marvins"
                                },
                                {
                                    "0": "165",
                                    "1": "David",
                                    "2": "Lee"
                                },
                                {
                                    "0": "166",
                                    "1": "Sundar",
                                    "2": "Ande"
                                },
                                {
                                    "0": "167",
                                    "1": "Amit",
                                    "2": "Banda"
                                },
                                {
                                    "0": "168",
                                    "1": "Lisa",
                                    "2": "Ozer"
                                },
                                {
                                    "0": "169",
                                    "1": "Harrison",
                                    "2": "Bloom"
                                },
                                {
                                    "0": "170",
                                    "1": "Tayler",
                                    "2": "Fox"
                                },
                                {
                                    "0": "171",
                                    "1": "William",
                                    "2": "Smith"
                                },
                                {
                                    "0": "172",
                                    "1": "Elizabeth",
                                    "2": "Bates"
                                },
                                {
                                    "0": "173",
                                    "1": "Sundita",
                                    "2": "Kumar"
                                },
                                {
                                    "0": "174",
                                    "1": "Ellen",
                                    "2": "Abel"
                                },
                                {
                                    "0": "175",
                                    "1": "Alyssa",
                                    "2": "Hutton"
                                },
                                {
                                    "0": "176",
                                    "1": "Jonathon",
                                    "2": "Taylor"
                                },
                                {
                                    "0": "177",
                                    "1": "Jack",
                                    "2": "Livingston"
                                },
                                {
                                    "0": "179",
                                    "1": "Charles",
                                    "2": "Johnson"
                                },
                                {
                                    "0": "180",
                                    "1": "Winston",
                                    "2": "Taylor"
                                },
                                {
                                    "0": "181",
                                    "1": "Jean",
                                    "2": "Fleaur"
                                },
                                {
                                    "0": "182",
                                    "1": "Martha",
                                    "2": "Sullivan"
                                },
                                {
                                    "0": "183",
                                    "1": "Girard",
                                    "2": "Geoni"
                                },
                                {
                                    "0": "184",
                                    "1": "Nandita",
                                    "2": "Sarchand"
                                },
                                {
                                    "0": "185",
                                    "1": "Alexis",
                                    "2": "Bull"
                                },
                                {
                                    "0": "186",
                                    "1": "Julia",
                                    "2": "Dellinger"
                                },
                                {
                                    "0": "187",
                                    "1": "Anthony",
                                    "2": "Cabrio"
                                },
                                {
                                    "0": "188",
                                    "1": "Kelly",
                                    "2": "Chung"
                                },
                                {
                                    "0": "189",
                                    "1": "Jennifer",
                                    "2": "Dilly"
                                },
                                {
                                    "0": "190",
                                    "1": "Timothy",
                                    "2": "Gates"
                                },
                                {
                                    "0": "191",
                                    "1": "Randall",
                                    "2": "Perkins"
                                },
                                {
                                    "0": "192",
                                    "1": "Sarah",
                                    "2": "Bell"
                                },
                                {
                                    "0": "193",
                                    "1": "Britney",
                                    "2": "Everett"
                                },
                                {
                                    "0": "194",
                                    "1": "Samuel",
                                    "2": "McCain"
                                },
                                {
                                    "0": "195",
                                    "1": "Vance",
                                    "2": "Jones"
                                },
                                {
                                    "0": "196",
                                    "1": "Alana",
                                    "2": "Walsh"
                                },
                                {
                                    "0": "197",
                                    "1": "Kevin",
                                    "2": "Feeney"
                                },
                                {
                                    "0": "198",
                                    "1": "Donald",
                                    "2": "OConnell"
                                },
                                {
                                    "0": "199",
                                    "1": "Douglas",
                                    "2": "Grant"
                                },
                                {
                                    "0": "201",
                                    "1": "Michael",
                                    "2": "Hartstein"
                                },
                                {
                                    "0": "202",
                                    "1": "Pat",
                                    "2": "Fay"
                                }
                            ]
                        },
                        "text/html": [
                            "<table>",
                            "<tr><th>EMPLOYEE_ID</th><th>FIRST_NAME</th><th>LAST_NAME</th></tr>",
                            "<tr><td>100</td><td>Steven</td><td>King</td></tr>",
                            "<tr><td>101</td><td>Neena</td><td>Kochhar</td></tr>",
                            "<tr><td>102</td><td>Lex</td><td>De Haan</td></tr>",
                            "<tr><td>120</td><td>Matthew</td><td>Weiss</td></tr>",
                            "<tr><td>121</td><td>Adam</td><td>Fripp</td></tr>",
                            "<tr><td>122</td><td>Payam</td><td>Kaufling</td></tr>",
                            "<tr><td>123</td><td>Shanta</td><td>Vollman</td></tr>",
                            "<tr><td>124</td><td>Kevin</td><td>Mourgos</td></tr>",
                            "<tr><td>125</td><td>Julia</td><td>Nayer</td></tr>",
                            "<tr><td>126</td><td>Irene</td><td>Mikkilineni</td></tr>",
                            "<tr><td>127</td><td>James</td><td>Landry</td></tr>",
                            "<tr><td>128</td><td>Steven</td><td>Markle</td></tr>",
                            "<tr><td>129</td><td>Laura</td><td>Bissot</td></tr>",
                            "<tr><td>130</td><td>Mozhe</td><td>Atkinson</td></tr>",
                            "<tr><td>131</td><td>James</td><td>Marlow</td></tr>",
                            "<tr><td>132</td><td>TJ</td><td>Olson</td></tr>",
                            "<tr><td>133</td><td>Jason</td><td>Mallin</td></tr>",
                            "<tr><td>134</td><td>Michael</td><td>Rogers</td></tr>",
                            "<tr><td>135</td><td>Ki</td><td>Gee</td></tr>",
                            "<tr><td>136</td><td>Hazel</td><td>Philtanker</td></tr>",
                            "<tr><td>137</td><td>Renske</td><td>Ladwig</td></tr>",
                            "<tr><td>138</td><td>Stephen</td><td>Stiles</td></tr>",
                            "<tr><td>139</td><td>John</td><td>Seo</td></tr>",
                            "<tr><td>140</td><td>Joshua</td><td>Patel</td></tr>",
                            "<tr><td>141</td><td>Trenna</td><td>Rajs</td></tr>",
                            "<tr><td>142</td><td>Curtis</td><td>Davies</td></tr>",
                            "<tr><td>143</td><td>Randall</td><td>Matos</td></tr>",
                            "<tr><td>144</td><td>Peter</td><td>Vargas</td></tr>",
                            "<tr><td>145</td><td>John</td><td>Russell</td></tr>",
                            "<tr><td>146</td><td>Karen</td><td>Partners</td></tr>",
                            "<tr><td>147</td><td>Alberto</td><td>Errazuriz</td></tr>",
                            "<tr><td>148</td><td>Gerald</td><td>Cambrault</td></tr>",
                            "<tr><td>149</td><td>Eleni</td><td>Zlotkey</td></tr>",
                            "<tr><td>150</td><td>Peter</td><td>Tucker</td></tr>",
                            "<tr><td>151</td><td>David</td><td>Bernstein</td></tr>",
                            "<tr><td>152</td><td>Peter</td><td>Hall</td></tr>",
                            "<tr><td>153</td><td>Christopher</td><td>Olsen</td></tr>",
                            "<tr><td>154</td><td>Nanette</td><td>Cambrault</td></tr>",
                            "<tr><td>155</td><td>Oliver</td><td>Tuvault</td></tr>",
                            "<tr><td>156</td><td>Janette</td><td>King</td></tr>",
                            "<tr><td>157</td><td>Patrick</td><td>Sully</td></tr>",
                            "<tr><td>158</td><td>Allan</td><td>McEwen</td></tr>",
                            "<tr><td>159</td><td>Lindsey</td><td>Smith</td></tr>",
                            "<tr><td>160</td><td>Louise</td><td>Doran</td></tr>",
                            "<tr><td>161</td><td>Sarath</td><td>Sewall</td></tr>",
                            "<tr><td>162</td><td>Clara</td><td>Vishney</td></tr>",
                            "<tr><td>163</td><td>Danielle</td><td>Greene</td></tr>",
                            "<tr><td>164</td><td>Mattea</td><td>Marvins</td></tr>",
                            "<tr><td>165</td><td>David</td><td>Lee</td></tr>",
                            "<tr><td>166</td><td>Sundar</td><td>Ande</td></tr>",
                            "<tr><td>167</td><td>Amit</td><td>Banda</td></tr>",
                            "<tr><td>168</td><td>Lisa</td><td>Ozer</td></tr>",
                            "<tr><td>169</td><td>Harrison</td><td>Bloom</td></tr>",
                            "<tr><td>170</td><td>Tayler</td><td>Fox</td></tr>",
                            "<tr><td>171</td><td>William</td><td>Smith</td></tr>",
                            "<tr><td>172</td><td>Elizabeth</td><td>Bates</td></tr>",
                            "<tr><td>173</td><td>Sundita</td><td>Kumar</td></tr>",
                            "<tr><td>174</td><td>Ellen</td><td>Abel</td></tr>",
                            "<tr><td>175</td><td>Alyssa</td><td>Hutton</td></tr>",
                            "<tr><td>176</td><td>Jonathon</td><td>Taylor</td></tr>",
                            "<tr><td>177</td><td>Jack</td><td>Livingston</td></tr>",
                            "<tr><td>179</td><td>Charles</td><td>Johnson</td></tr>",
                            "<tr><td>180</td><td>Winston</td><td>Taylor</td></tr>",
                            "<tr><td>181</td><td>Jean</td><td>Fleaur</td></tr>",
                            "<tr><td>182</td><td>Martha</td><td>Sullivan</td></tr>",
                            "<tr><td>183</td><td>Girard</td><td>Geoni</td></tr>",
                            "<tr><td>184</td><td>Nandita</td><td>Sarchand</td></tr>",
                            "<tr><td>185</td><td>Alexis</td><td>Bull</td></tr>",
                            "<tr><td>186</td><td>Julia</td><td>Dellinger</td></tr>",
                            "<tr><td>187</td><td>Anthony</td><td>Cabrio</td></tr>",
                            "<tr><td>188</td><td>Kelly</td><td>Chung</td></tr>",
                            "<tr><td>189</td><td>Jennifer</td><td>Dilly</td></tr>",
                            "<tr><td>190</td><td>Timothy</td><td>Gates</td></tr>",
                            "<tr><td>191</td><td>Randall</td><td>Perkins</td></tr>",
                            "<tr><td>192</td><td>Sarah</td><td>Bell</td></tr>",
                            "<tr><td>193</td><td>Britney</td><td>Everett</td></tr>",
                            "<tr><td>194</td><td>Samuel</td><td>McCain</td></tr>",
                            "<tr><td>195</td><td>Vance</td><td>Jones</td></tr>",
                            "<tr><td>196</td><td>Alana</td><td>Walsh</td></tr>",
                            "<tr><td>197</td><td>Kevin</td><td>Feeney</td></tr>",
                            "<tr><td>198</td><td>Donald</td><td>OConnell</td></tr>",
                            "<tr><td>199</td><td>Douglas</td><td>Grant</td></tr>",
                            "<tr><td>201</td><td>Michael</td><td>Hartstein</td></tr>",
                            "<tr><td>202</td><td>Pat</td><td>Fay</td></tr>",
                            "</table>"
                        ]
                    }
                }
            ],
            "execution_count": 24
        },
        {
            "cell_type": "code",
            "source": [
                "--15. write a SQL query to find those employees who earn more than the average salary and work in the same department as an employee whose first name contains the letter 'J'. Return employee ID, first name and salary.\r\n",
                "SELECT EMPLOYEE_ID,FIRST_NAME,LAST_NAME,SALARY FROM employees1\r\n",
                "WHERE SALARY>(SELECT AVG(SALARY) FROM employees1) AND DEPARTMENT_ID IN(SELECT DEPARTMENT_ID FROM employees1 WHERE FIRST_NAME LIKE '%j%')"
            ],
            "metadata": {
                "language": "sql",
                "azdata_cell_guid": "327ca5c4-853b-4850-82a9-2f55fac78ac3"
            },
            "outputs": [
                {
                    "output_type": "display_data",
                    "data": {
                        "text/html": "(40 rows affected)"
                    },
                    "metadata": {}
                },
                {
                    "output_type": "display_data",
                    "data": {
                        "text/html": "Total execution time: 00:00:00.021"
                    },
                    "metadata": {}
                },
                {
                    "output_type": "execute_result",
                    "metadata": {},
                    "execution_count": 26,
                    "data": {
                        "application/vnd.dataresource+json": {
                            "schema": {
                                "fields": [
                                    {
                                        "name": "EMPLOYEE_ID"
                                    },
                                    {
                                        "name": "FIRST_NAME"
                                    },
                                    {
                                        "name": "LAST_NAME"
                                    },
                                    {
                                        "name": "SALARY"
                                    }
                                ]
                            },
                            "data": [
                                {
                                    "0": "108",
                                    "1": "Nancy",
                                    "2": "Greenberg",
                                    "3": "12000.00"
                                },
                                {
                                    "0": "109",
                                    "1": "Daniel",
                                    "2": "Faviet",
                                    "3": "9000.00"
                                },
                                {
                                    "0": "110",
                                    "1": "John",
                                    "2": "Chen",
                                    "3": "8200.00"
                                },
                                {
                                    "0": "111",
                                    "1": "Ismael",
                                    "2": "Sciarra",
                                    "3": "7700.00"
                                },
                                {
                                    "0": "112",
                                    "1": "Jose Manuel",
                                    "2": "Urman",
                                    "3": "7800.00"
                                },
                                {
                                    "0": "113",
                                    "1": "Luis",
                                    "2": "Popp",
                                    "3": "6900.00"
                                },
                                {
                                    "0": "120",
                                    "1": "Matthew",
                                    "2": "Weiss",
                                    "3": "8000.00"
                                },
                                {
                                    "0": "121",
                                    "1": "Adam",
                                    "2": "Fripp",
                                    "3": "8200.00"
                                },
                                {
                                    "0": "122",
                                    "1": "Payam",
                                    "2": "Kaufling",
                                    "3": "7900.00"
                                },
                                {
                                    "0": "123",
                                    "1": "Shanta",
                                    "2": "Vollman",
                                    "3": "6500.00"
                                },
                                {
                                    "0": "145",
                                    "1": "John",
                                    "2": "Russell",
                                    "3": "14000.00"
                                },
                                {
                                    "0": "146",
                                    "1": "Karen",
                                    "2": "Partners",
                                    "3": "13500.00"
                                },
                                {
                                    "0": "147",
                                    "1": "Alberto",
                                    "2": "Errazuriz",
                                    "3": "12000.00"
                                },
                                {
                                    "0": "148",
                                    "1": "Gerald",
                                    "2": "Cambrault",
                                    "3": "11000.00"
                                },
                                {
                                    "0": "149",
                                    "1": "Eleni",
                                    "2": "Zlotkey",
                                    "3": "10500.00"
                                },
                                {
                                    "0": "150",
                                    "1": "Peter",
                                    "2": "Tucker",
                                    "3": "10000.00"
                                },
                                {
                                    "0": "151",
                                    "1": "David",
                                    "2": "Bernstein",
                                    "3": "9500.00"
                                },
                                {
                                    "0": "152",
                                    "1": "Peter",
                                    "2": "Hall",
                                    "3": "9000.00"
                                },
                                {
                                    "0": "153",
                                    "1": "Christopher",
                                    "2": "Olsen",
                                    "3": "8000.00"
                                },
                                {
                                    "0": "154",
                                    "1": "Nanette",
                                    "2": "Cambrault",
                                    "3": "7500.00"
                                },
                                {
                                    "0": "155",
                                    "1": "Oliver",
                                    "2": "Tuvault",
                                    "3": "7000.00"
                                },
                                {
                                    "0": "156",
                                    "1": "Janette",
                                    "2": "King",
                                    "3": "10000.00"
                                },
                                {
                                    "0": "157",
                                    "1": "Patrick",
                                    "2": "Sully",
                                    "3": "9500.00"
                                },
                                {
                                    "0": "158",
                                    "1": "Allan",
                                    "2": "McEwen",
                                    "3": "9000.00"
                                },
                                {
                                    "0": "159",
                                    "1": "Lindsey",
                                    "2": "Smith",
                                    "3": "8000.00"
                                },
                                {
                                    "0": "160",
                                    "1": "Louise",
                                    "2": "Doran",
                                    "3": "7500.00"
                                },
                                {
                                    "0": "161",
                                    "1": "Sarath",
                                    "2": "Sewall",
                                    "3": "7000.00"
                                },
                                {
                                    "0": "162",
                                    "1": "Clara",
                                    "2": "Vishney",
                                    "3": "10500.00"
                                },
                                {
                                    "0": "163",
                                    "1": "Danielle",
                                    "2": "Greene",
                                    "3": "9500.00"
                                },
                                {
                                    "0": "164",
                                    "1": "Mattea",
                                    "2": "Marvins",
                                    "3": "7200.00"
                                },
                                {
                                    "0": "165",
                                    "1": "David",
                                    "2": "Lee",
                                    "3": "6800.00"
                                },
                                {
                                    "0": "168",
                                    "1": "Lisa",
                                    "2": "Ozer",
                                    "3": "11500.00"
                                },
                                {
                                    "0": "169",
                                    "1": "Harrison",
                                    "2": "Bloom",
                                    "3": "10000.00"
                                },
                                {
                                    "0": "170",
                                    "1": "Tayler",
                                    "2": "Fox",
                                    "3": "9600.00"
                                },
                                {
                                    "0": "171",
                                    "1": "William",
                                    "2": "Smith",
                                    "3": "7400.00"
                                },
                                {
                                    "0": "172",
                                    "1": "Elizabeth",
                                    "2": "Bates",
                                    "3": "7300.00"
                                },
                                {
                                    "0": "174",
                                    "1": "Ellen",
                                    "2": "Abel",
                                    "3": "11000.00"
                                },
                                {
                                    "0": "175",
                                    "1": "Alyssa",
                                    "2": "Hutton",
                                    "3": "8800.00"
                                },
                                {
                                    "0": "176",
                                    "1": "Jonathon",
                                    "2": "Taylor",
                                    "3": "8600.00"
                                },
                                {
                                    "0": "177",
                                    "1": "Jack",
                                    "2": "Livingston",
                                    "3": "8400.00"
                                }
                            ]
                        },
                        "text/html": [
                            "<table>",
                            "<tr><th>EMPLOYEE_ID</th><th>FIRST_NAME</th><th>LAST_NAME</th><th>SALARY</th></tr>",
                            "<tr><td>108</td><td>Nancy</td><td>Greenberg</td><td>12000.00</td></tr>",
                            "<tr><td>109</td><td>Daniel</td><td>Faviet</td><td>9000.00</td></tr>",
                            "<tr><td>110</td><td>John</td><td>Chen</td><td>8200.00</td></tr>",
                            "<tr><td>111</td><td>Ismael</td><td>Sciarra</td><td>7700.00</td></tr>",
                            "<tr><td>112</td><td>Jose Manuel</td><td>Urman</td><td>7800.00</td></tr>",
                            "<tr><td>113</td><td>Luis</td><td>Popp</td><td>6900.00</td></tr>",
                            "<tr><td>120</td><td>Matthew</td><td>Weiss</td><td>8000.00</td></tr>",
                            "<tr><td>121</td><td>Adam</td><td>Fripp</td><td>8200.00</td></tr>",
                            "<tr><td>122</td><td>Payam</td><td>Kaufling</td><td>7900.00</td></tr>",
                            "<tr><td>123</td><td>Shanta</td><td>Vollman</td><td>6500.00</td></tr>",
                            "<tr><td>145</td><td>John</td><td>Russell</td><td>14000.00</td></tr>",
                            "<tr><td>146</td><td>Karen</td><td>Partners</td><td>13500.00</td></tr>",
                            "<tr><td>147</td><td>Alberto</td><td>Errazuriz</td><td>12000.00</td></tr>",
                            "<tr><td>148</td><td>Gerald</td><td>Cambrault</td><td>11000.00</td></tr>",
                            "<tr><td>149</td><td>Eleni</td><td>Zlotkey</td><td>10500.00</td></tr>",
                            "<tr><td>150</td><td>Peter</td><td>Tucker</td><td>10000.00</td></tr>",
                            "<tr><td>151</td><td>David</td><td>Bernstein</td><td>9500.00</td></tr>",
                            "<tr><td>152</td><td>Peter</td><td>Hall</td><td>9000.00</td></tr>",
                            "<tr><td>153</td><td>Christopher</td><td>Olsen</td><td>8000.00</td></tr>",
                            "<tr><td>154</td><td>Nanette</td><td>Cambrault</td><td>7500.00</td></tr>",
                            "<tr><td>155</td><td>Oliver</td><td>Tuvault</td><td>7000.00</td></tr>",
                            "<tr><td>156</td><td>Janette</td><td>King</td><td>10000.00</td></tr>",
                            "<tr><td>157</td><td>Patrick</td><td>Sully</td><td>9500.00</td></tr>",
                            "<tr><td>158</td><td>Allan</td><td>McEwen</td><td>9000.00</td></tr>",
                            "<tr><td>159</td><td>Lindsey</td><td>Smith</td><td>8000.00</td></tr>",
                            "<tr><td>160</td><td>Louise</td><td>Doran</td><td>7500.00</td></tr>",
                            "<tr><td>161</td><td>Sarath</td><td>Sewall</td><td>7000.00</td></tr>",
                            "<tr><td>162</td><td>Clara</td><td>Vishney</td><td>10500.00</td></tr>",
                            "<tr><td>163</td><td>Danielle</td><td>Greene</td><td>9500.00</td></tr>",
                            "<tr><td>164</td><td>Mattea</td><td>Marvins</td><td>7200.00</td></tr>",
                            "<tr><td>165</td><td>David</td><td>Lee</td><td>6800.00</td></tr>",
                            "<tr><td>168</td><td>Lisa</td><td>Ozer</td><td>11500.00</td></tr>",
                            "<tr><td>169</td><td>Harrison</td><td>Bloom</td><td>10000.00</td></tr>",
                            "<tr><td>170</td><td>Tayler</td><td>Fox</td><td>9600.00</td></tr>",
                            "<tr><td>171</td><td>William</td><td>Smith</td><td>7400.00</td></tr>",
                            "<tr><td>172</td><td>Elizabeth</td><td>Bates</td><td>7300.00</td></tr>",
                            "<tr><td>174</td><td>Ellen</td><td>Abel</td><td>11000.00</td></tr>",
                            "<tr><td>175</td><td>Alyssa</td><td>Hutton</td><td>8800.00</td></tr>",
                            "<tr><td>176</td><td>Jonathon</td><td>Taylor</td><td>8600.00</td></tr>",
                            "<tr><td>177</td><td>Jack</td><td>Livingston</td><td>8400.00</td></tr>",
                            "</table>"
                        ]
                    }
                }
            ],
            "execution_count": 26
        },
        {
            "cell_type": "code",
            "source": [
                "--16.  write a SQL query to find those employees whose department is located at ‘Toronto’. Return first name, last name, employee ID, job ID.\r\n",
                "select first_name, last_name,employee_id,job_id from employees1 \r\n",
                "WHERE DEPARTMENT_ID=(select DEPARTMENT_ID from departments \r\n",
                "where LOCATION_ID=(select LOCATION_ID from locations where city='Toronto'))"
            ],
            "metadata": {
                "language": "sql",
                "azdata_cell_guid": "1bf2fe7e-6c99-447d-80eb-1690aba987cc"
            },
            "outputs": [
                {
                    "output_type": "display_data",
                    "data": {
                        "text/html": "(2 rows affected)"
                    },
                    "metadata": {}
                },
                {
                    "output_type": "display_data",
                    "data": {
                        "text/html": "Total execution time: 00:00:00.004"
                    },
                    "metadata": {}
                },
                {
                    "output_type": "execute_result",
                    "metadata": {},
                    "execution_count": 28,
                    "data": {
                        "application/vnd.dataresource+json": {
                            "schema": {
                                "fields": [
                                    {
                                        "name": "first_name"
                                    },
                                    {
                                        "name": "last_name"
                                    },
                                    {
                                        "name": "employee_id"
                                    },
                                    {
                                        "name": "job_id"
                                    }
                                ]
                            },
                            "data": [
                                {
                                    "0": "Michael",
                                    "1": "Hartstein",
                                    "2": "201",
                                    "3": "MK_MAN"
                                },
                                {
                                    "0": "Pat",
                                    "1": "Fay",
                                    "2": "202",
                                    "3": "MK_REP"
                                }
                            ]
                        },
                        "text/html": [
                            "<table>",
                            "<tr><th>first_name</th><th>last_name</th><th>employee_id</th><th>job_id</th></tr>",
                            "<tr><td>Michael</td><td>Hartstein</td><td>201</td><td>MK_MAN</td></tr>",
                            "<tr><td>Pat</td><td>Fay</td><td>202</td><td>MK_REP</td></tr>",
                            "</table>"
                        ]
                    }
                }
            ],
            "execution_count": 28
        },
        {
            "cell_type": "code",
            "source": [
                "--17. write a SQL query to find those employees whose salary is lower than that of employees whose job title is ‘MK_MAN’. Return employee ID, first name, last name, job ID.\r\n",
                "select EMPLOYEE_ID,FIRST_NAME,LAST_NAME,JOB_ID from employees1 where SALARY<any(select SALARY from employees1 where JOB_ID='MK_MAN')"
            ],
            "metadata": {
                "language": "sql",
                "azdata_cell_guid": "301cddec-dd79-4c9c-bb40-f7e22dd4c1ac"
            },
            "outputs": [
                {
                    "output_type": "display_data",
                    "data": {
                        "text/html": "(101 rows affected)"
                    },
                    "metadata": {}
                },
                {
                    "output_type": "display_data",
                    "data": {
                        "text/html": "Total execution time: 00:00:00.008"
                    },
                    "metadata": {}
                },
                {
                    "output_type": "execute_result",
                    "metadata": {},
                    "execution_count": 29,
                    "data": {
                        "application/vnd.dataresource+json": {
                            "schema": {
                                "fields": [
                                    {
                                        "name": "EMPLOYEE_ID"
                                    },
                                    {
                                        "name": "FIRST_NAME"
                                    },
                                    {
                                        "name": "LAST_NAME"
                                    },
                                    {
                                        "name": "JOB_ID"
                                    }
                                ]
                            },
                            "data": [
                                {
                                    "0": "103",
                                    "1": "Alexander",
                                    "2": "Hunold",
                                    "3": "IT_PROG"
                                },
                                {
                                    "0": "104",
                                    "1": "Bruce",
                                    "2": "Ernst",
                                    "3": "IT_PROG"
                                },
                                {
                                    "0": "105",
                                    "1": "David",
                                    "2": "Austin",
                                    "3": "IT_PROG"
                                },
                                {
                                    "0": "106",
                                    "1": "Valli",
                                    "2": "Pataballa",
                                    "3": "IT_PROG"
                                },
                                {
                                    "0": "107",
                                    "1": "Diana",
                                    "2": "Lorentz",
                                    "3": "IT_PROG"
                                },
                                {
                                    "0": "108",
                                    "1": "Nancy",
                                    "2": "Greenberg",
                                    "3": "FI_MGR"
                                },
                                {
                                    "0": "109",
                                    "1": "Daniel",
                                    "2": "Faviet",
                                    "3": "FI_ACCOUNT"
                                },
                                {
                                    "0": "110",
                                    "1": "John",
                                    "2": "Chen",
                                    "3": "FI_ACCOUNT"
                                },
                                {
                                    "0": "111",
                                    "1": "Ismael",
                                    "2": "Sciarra",
                                    "3": "FI_ACCOUNT"
                                },
                                {
                                    "0": "112",
                                    "1": "Jose Manuel",
                                    "2": "Urman",
                                    "3": "FI_ACCOUNT"
                                },
                                {
                                    "0": "113",
                                    "1": "Luis",
                                    "2": "Popp",
                                    "3": "FI_ACCOUNT"
                                },
                                {
                                    "0": "114",
                                    "1": "Den",
                                    "2": "Raphaely",
                                    "3": "PU_MAN"
                                },
                                {
                                    "0": "115",
                                    "1": "Alexander",
                                    "2": "Khoo",
                                    "3": "PU_CLERK"
                                },
                                {
                                    "0": "116",
                                    "1": "Shelli",
                                    "2": "Baida",
                                    "3": "PU_CLERK"
                                },
                                {
                                    "0": "117",
                                    "1": "Sigal",
                                    "2": "Tobias",
                                    "3": "PU_CLERK"
                                },
                                {
                                    "0": "118",
                                    "1": "Guy",
                                    "2": "Himuro",
                                    "3": "PU_CLERK"
                                },
                                {
                                    "0": "119",
                                    "1": "Karen",
                                    "2": "Colmenares",
                                    "3": "PU_CLERK"
                                },
                                {
                                    "0": "120",
                                    "1": "Matthew",
                                    "2": "Weiss",
                                    "3": "ST_MAN"
                                },
                                {
                                    "0": "121",
                                    "1": "Adam",
                                    "2": "Fripp",
                                    "3": "ST_MAN"
                                },
                                {
                                    "0": "122",
                                    "1": "Payam",
                                    "2": "Kaufling",
                                    "3": "ST_MAN"
                                },
                                {
                                    "0": "123",
                                    "1": "Shanta",
                                    "2": "Vollman",
                                    "3": "ST_MAN"
                                },
                                {
                                    "0": "124",
                                    "1": "Kevin",
                                    "2": "Mourgos",
                                    "3": "ST_MAN"
                                },
                                {
                                    "0": "125",
                                    "1": "Julia",
                                    "2": "Nayer",
                                    "3": "ST_CLERK"
                                },
                                {
                                    "0": "126",
                                    "1": "Irene",
                                    "2": "Mikkilineni",
                                    "3": "ST_CLERK"
                                },
                                {
                                    "0": "127",
                                    "1": "James",
                                    "2": "Landry",
                                    "3": "ST_CLERK"
                                },
                                {
                                    "0": "128",
                                    "1": "Steven",
                                    "2": "Markle",
                                    "3": "ST_CLERK"
                                },
                                {
                                    "0": "129",
                                    "1": "Laura",
                                    "2": "Bissot",
                                    "3": "ST_CLERK"
                                },
                                {
                                    "0": "130",
                                    "1": "Mozhe",
                                    "2": "Atkinson",
                                    "3": "ST_CLERK"
                                },
                                {
                                    "0": "131",
                                    "1": "James",
                                    "2": "Marlow",
                                    "3": "ST_CLERK"
                                },
                                {
                                    "0": "132",
                                    "1": "TJ",
                                    "2": "Olson",
                                    "3": "ST_CLERK"
                                },
                                {
                                    "0": "133",
                                    "1": "Jason",
                                    "2": "Mallin",
                                    "3": "ST_CLERK"
                                },
                                {
                                    "0": "134",
                                    "1": "Michael",
                                    "2": "Rogers",
                                    "3": "ST_CLERK"
                                },
                                {
                                    "0": "135",
                                    "1": "Ki",
                                    "2": "Gee",
                                    "3": "ST_CLERK"
                                },
                                {
                                    "0": "136",
                                    "1": "Hazel",
                                    "2": "Philtanker",
                                    "3": "ST_CLERK"
                                },
                                {
                                    "0": "137",
                                    "1": "Renske",
                                    "2": "Ladwig",
                                    "3": "ST_CLERK"
                                },
                                {
                                    "0": "138",
                                    "1": "Stephen",
                                    "2": "Stiles",
                                    "3": "ST_CLERK"
                                },
                                {
                                    "0": "139",
                                    "1": "John",
                                    "2": "Seo",
                                    "3": "ST_CLERK"
                                },
                                {
                                    "0": "140",
                                    "1": "Joshua",
                                    "2": "Patel",
                                    "3": "ST_CLERK"
                                },
                                {
                                    "0": "141",
                                    "1": "Trenna",
                                    "2": "Rajs",
                                    "3": "ST_CLERK"
                                },
                                {
                                    "0": "142",
                                    "1": "Curtis",
                                    "2": "Davies",
                                    "3": "ST_CLERK"
                                },
                                {
                                    "0": "143",
                                    "1": "Randall",
                                    "2": "Matos",
                                    "3": "ST_CLERK"
                                },
                                {
                                    "0": "144",
                                    "1": "Peter",
                                    "2": "Vargas",
                                    "3": "ST_CLERK"
                                },
                                {
                                    "0": "147",
                                    "1": "Alberto",
                                    "2": "Errazuriz",
                                    "3": "SA_MAN"
                                },
                                {
                                    "0": "148",
                                    "1": "Gerald",
                                    "2": "Cambrault",
                                    "3": "SA_MAN"
                                },
                                {
                                    "0": "149",
                                    "1": "Eleni",
                                    "2": "Zlotkey",
                                    "3": "SA_MAN"
                                },
                                {
                                    "0": "150",
                                    "1": "Peter",
                                    "2": "Tucker",
                                    "3": "SA_REP"
                                },
                                {
                                    "0": "151",
                                    "1": "David",
                                    "2": "Bernstein",
                                    "3": "SA_REP"
                                },
                                {
                                    "0": "152",
                                    "1": "Peter",
                                    "2": "Hall",
                                    "3": "SA_REP"
                                },
                                {
                                    "0": "153",
                                    "1": "Christopher",
                                    "2": "Olsen",
                                    "3": "SA_REP"
                                },
                                {
                                    "0": "154",
                                    "1": "Nanette",
                                    "2": "Cambrault",
                                    "3": "SA_REP"
                                },
                                {
                                    "0": "155",
                                    "1": "Oliver",
                                    "2": "Tuvault",
                                    "3": "SA_REP"
                                },
                                {
                                    "0": "156",
                                    "1": "Janette",
                                    "2": "King",
                                    "3": "SA_REP"
                                },
                                {
                                    "0": "157",
                                    "1": "Patrick",
                                    "2": "Sully",
                                    "3": "SA_REP"
                                },
                                {
                                    "0": "158",
                                    "1": "Allan",
                                    "2": "McEwen",
                                    "3": "SA_REP"
                                },
                                {
                                    "0": "159",
                                    "1": "Lindsey",
                                    "2": "Smith",
                                    "3": "SA_REP"
                                },
                                {
                                    "0": "160",
                                    "1": "Louise",
                                    "2": "Doran",
                                    "3": "SA_REP"
                                },
                                {
                                    "0": "161",
                                    "1": "Sarath",
                                    "2": "Sewall",
                                    "3": "SA_REP"
                                },
                                {
                                    "0": "162",
                                    "1": "Clara",
                                    "2": "Vishney",
                                    "3": "SA_REP"
                                },
                                {
                                    "0": "163",
                                    "1": "Danielle",
                                    "2": "Greene",
                                    "3": "SA_REP"
                                },
                                {
                                    "0": "164",
                                    "1": "Mattea",
                                    "2": "Marvins",
                                    "3": "SA_REP"
                                },
                                {
                                    "0": "165",
                                    "1": "David",
                                    "2": "Lee",
                                    "3": "SA_REP"
                                },
                                {
                                    "0": "166",
                                    "1": "Sundar",
                                    "2": "Ande",
                                    "3": "SA_REP"
                                },
                                {
                                    "0": "167",
                                    "1": "Amit",
                                    "2": "Banda",
                                    "3": "SA_REP"
                                },
                                {
                                    "0": "168",
                                    "1": "Lisa",
                                    "2": "Ozer",
                                    "3": "SA_REP"
                                },
                                {
                                    "0": "169",
                                    "1": "Harrison",
                                    "2": "Bloom",
                                    "3": "SA_REP"
                                },
                                {
                                    "0": "170",
                                    "1": "Tayler",
                                    "2": "Fox",
                                    "3": "SA_REP"
                                },
                                {
                                    "0": "171",
                                    "1": "William",
                                    "2": "Smith",
                                    "3": "SA_REP"
                                },
                                {
                                    "0": "172",
                                    "1": "Elizabeth",
                                    "2": "Bates",
                                    "3": "SA_REP"
                                },
                                {
                                    "0": "173",
                                    "1": "Sundita",
                                    "2": "Kumar",
                                    "3": "SA_REP"
                                },
                                {
                                    "0": "174",
                                    "1": "Ellen",
                                    "2": "Abel",
                                    "3": "SA_REP"
                                },
                                {
                                    "0": "175",
                                    "1": "Alyssa",
                                    "2": "Hutton",
                                    "3": "SA_REP"
                                },
                                {
                                    "0": "176",
                                    "1": "Jonathon",
                                    "2": "Taylor",
                                    "3": "SA_REP"
                                },
                                {
                                    "0": "177",
                                    "1": "Jack",
                                    "2": "Livingston",
                                    "3": "SA_REP"
                                },
                                {
                                    "0": "178",
                                    "1": "Kimberely",
                                    "2": "Grant",
                                    "3": "SA_REP"
                                },
                                {
                                    "0": "179",
                                    "1": "Charles",
                                    "2": "Johnson",
                                    "3": "SA_REP"
                                },
                                {
                                    "0": "180",
                                    "1": "Winston",
                                    "2": "Taylor",
                                    "3": "SH_CLERK"
                                },
                                {
                                    "0": "181",
                                    "1": "Jean",
                                    "2": "Fleaur",
                                    "3": "SH_CLERK"
                                },
                                {
                                    "0": "182",
                                    "1": "Martha",
                                    "2": "Sullivan",
                                    "3": "SH_CLERK"
                                },
                                {
                                    "0": "183",
                                    "1": "Girard",
                                    "2": "Geoni",
                                    "3": "SH_CLERK"
                                },
                                {
                                    "0": "184",
                                    "1": "Nandita",
                                    "2": "Sarchand",
                                    "3": "SH_CLERK"
                                },
                                {
                                    "0": "185",
                                    "1": "Alexis",
                                    "2": "Bull",
                                    "3": "SH_CLERK"
                                },
                                {
                                    "0": "186",
                                    "1": "Julia",
                                    "2": "Dellinger",
                                    "3": "SH_CLERK"
                                },
                                {
                                    "0": "187",
                                    "1": "Anthony",
                                    "2": "Cabrio",
                                    "3": "SH_CLERK"
                                },
                                {
                                    "0": "188",
                                    "1": "Kelly",
                                    "2": "Chung",
                                    "3": "SH_CLERK"
                                },
                                {
                                    "0": "189",
                                    "1": "Jennifer",
                                    "2": "Dilly",
                                    "3": "SH_CLERK"
                                },
                                {
                                    "0": "190",
                                    "1": "Timothy",
                                    "2": "Gates",
                                    "3": "SH_CLERK"
                                },
                                {
                                    "0": "191",
                                    "1": "Randall",
                                    "2": "Perkins",
                                    "3": "SH_CLERK"
                                },
                                {
                                    "0": "192",
                                    "1": "Sarah",
                                    "2": "Bell",
                                    "3": "SH_CLERK"
                                },
                                {
                                    "0": "193",
                                    "1": "Britney",
                                    "2": "Everett",
                                    "3": "SH_CLERK"
                                },
                                {
                                    "0": "194",
                                    "1": "Samuel",
                                    "2": "McCain",
                                    "3": "SH_CLERK"
                                },
                                {
                                    "0": "195",
                                    "1": "Vance",
                                    "2": "Jones",
                                    "3": "SH_CLERK"
                                },
                                {
                                    "0": "196",
                                    "1": "Alana",
                                    "2": "Walsh",
                                    "3": "SH_CLERK"
                                },
                                {
                                    "0": "197",
                                    "1": "Kevin",
                                    "2": "Feeney",
                                    "3": "SH_CLERK"
                                },
                                {
                                    "0": "198",
                                    "1": "Donald",
                                    "2": "OConnell",
                                    "3": "SH_CLERK"
                                },
                                {
                                    "0": "199",
                                    "1": "Douglas",
                                    "2": "Grant",
                                    "3": "SH_CLERK"
                                },
                                {
                                    "0": "200",
                                    "1": "Jennifer",
                                    "2": "Whalen",
                                    "3": "AD_ASST"
                                },
                                {
                                    "0": "202",
                                    "1": "Pat",
                                    "2": "Fay",
                                    "3": "MK_REP"
                                },
                                {
                                    "0": "203",
                                    "1": "Susan",
                                    "2": "Mavris",
                                    "3": "HR_REP"
                                },
                                {
                                    "0": "204",
                                    "1": "Hermann",
                                    "2": "Baer",
                                    "3": "PR_REP"
                                },
                                {
                                    "0": "205",
                                    "1": "Shelley",
                                    "2": "Higgins",
                                    "3": "AC_MGR"
                                },
                                {
                                    "0": "206",
                                    "1": "William",
                                    "2": "Gietz",
                                    "3": "AC_ACCOUNT"
                                }
                            ]
                        },
                        "text/html": [
                            "<table>",
                            "<tr><th>EMPLOYEE_ID</th><th>FIRST_NAME</th><th>LAST_NAME</th><th>JOB_ID</th></tr>",
                            "<tr><td>103</td><td>Alexander</td><td>Hunold</td><td>IT_PROG</td></tr>",
                            "<tr><td>104</td><td>Bruce</td><td>Ernst</td><td>IT_PROG</td></tr>",
                            "<tr><td>105</td><td>David</td><td>Austin</td><td>IT_PROG</td></tr>",
                            "<tr><td>106</td><td>Valli</td><td>Pataballa</td><td>IT_PROG</td></tr>",
                            "<tr><td>107</td><td>Diana</td><td>Lorentz</td><td>IT_PROG</td></tr>",
                            "<tr><td>108</td><td>Nancy</td><td>Greenberg</td><td>FI_MGR</td></tr>",
                            "<tr><td>109</td><td>Daniel</td><td>Faviet</td><td>FI_ACCOUNT</td></tr>",
                            "<tr><td>110</td><td>John</td><td>Chen</td><td>FI_ACCOUNT</td></tr>",
                            "<tr><td>111</td><td>Ismael</td><td>Sciarra</td><td>FI_ACCOUNT</td></tr>",
                            "<tr><td>112</td><td>Jose Manuel</td><td>Urman</td><td>FI_ACCOUNT</td></tr>",
                            "<tr><td>113</td><td>Luis</td><td>Popp</td><td>FI_ACCOUNT</td></tr>",
                            "<tr><td>114</td><td>Den</td><td>Raphaely</td><td>PU_MAN</td></tr>",
                            "<tr><td>115</td><td>Alexander</td><td>Khoo</td><td>PU_CLERK</td></tr>",
                            "<tr><td>116</td><td>Shelli</td><td>Baida</td><td>PU_CLERK</td></tr>",
                            "<tr><td>117</td><td>Sigal</td><td>Tobias</td><td>PU_CLERK</td></tr>",
                            "<tr><td>118</td><td>Guy</td><td>Himuro</td><td>PU_CLERK</td></tr>",
                            "<tr><td>119</td><td>Karen</td><td>Colmenares</td><td>PU_CLERK</td></tr>",
                            "<tr><td>120</td><td>Matthew</td><td>Weiss</td><td>ST_MAN</td></tr>",
                            "<tr><td>121</td><td>Adam</td><td>Fripp</td><td>ST_MAN</td></tr>",
                            "<tr><td>122</td><td>Payam</td><td>Kaufling</td><td>ST_MAN</td></tr>",
                            "<tr><td>123</td><td>Shanta</td><td>Vollman</td><td>ST_MAN</td></tr>",
                            "<tr><td>124</td><td>Kevin</td><td>Mourgos</td><td>ST_MAN</td></tr>",
                            "<tr><td>125</td><td>Julia</td><td>Nayer</td><td>ST_CLERK</td></tr>",
                            "<tr><td>126</td><td>Irene</td><td>Mikkilineni</td><td>ST_CLERK</td></tr>",
                            "<tr><td>127</td><td>James</td><td>Landry</td><td>ST_CLERK</td></tr>",
                            "<tr><td>128</td><td>Steven</td><td>Markle</td><td>ST_CLERK</td></tr>",
                            "<tr><td>129</td><td>Laura</td><td>Bissot</td><td>ST_CLERK</td></tr>",
                            "<tr><td>130</td><td>Mozhe</td><td>Atkinson</td><td>ST_CLERK</td></tr>",
                            "<tr><td>131</td><td>James</td><td>Marlow</td><td>ST_CLERK</td></tr>",
                            "<tr><td>132</td><td>TJ</td><td>Olson</td><td>ST_CLERK</td></tr>",
                            "<tr><td>133</td><td>Jason</td><td>Mallin</td><td>ST_CLERK</td></tr>",
                            "<tr><td>134</td><td>Michael</td><td>Rogers</td><td>ST_CLERK</td></tr>",
                            "<tr><td>135</td><td>Ki</td><td>Gee</td><td>ST_CLERK</td></tr>",
                            "<tr><td>136</td><td>Hazel</td><td>Philtanker</td><td>ST_CLERK</td></tr>",
                            "<tr><td>137</td><td>Renske</td><td>Ladwig</td><td>ST_CLERK</td></tr>",
                            "<tr><td>138</td><td>Stephen</td><td>Stiles</td><td>ST_CLERK</td></tr>",
                            "<tr><td>139</td><td>John</td><td>Seo</td><td>ST_CLERK</td></tr>",
                            "<tr><td>140</td><td>Joshua</td><td>Patel</td><td>ST_CLERK</td></tr>",
                            "<tr><td>141</td><td>Trenna</td><td>Rajs</td><td>ST_CLERK</td></tr>",
                            "<tr><td>142</td><td>Curtis</td><td>Davies</td><td>ST_CLERK</td></tr>",
                            "<tr><td>143</td><td>Randall</td><td>Matos</td><td>ST_CLERK</td></tr>",
                            "<tr><td>144</td><td>Peter</td><td>Vargas</td><td>ST_CLERK</td></tr>",
                            "<tr><td>147</td><td>Alberto</td><td>Errazuriz</td><td>SA_MAN</td></tr>",
                            "<tr><td>148</td><td>Gerald</td><td>Cambrault</td><td>SA_MAN</td></tr>",
                            "<tr><td>149</td><td>Eleni</td><td>Zlotkey</td><td>SA_MAN</td></tr>",
                            "<tr><td>150</td><td>Peter</td><td>Tucker</td><td>SA_REP</td></tr>",
                            "<tr><td>151</td><td>David</td><td>Bernstein</td><td>SA_REP</td></tr>",
                            "<tr><td>152</td><td>Peter</td><td>Hall</td><td>SA_REP</td></tr>",
                            "<tr><td>153</td><td>Christopher</td><td>Olsen</td><td>SA_REP</td></tr>",
                            "<tr><td>154</td><td>Nanette</td><td>Cambrault</td><td>SA_REP</td></tr>",
                            "<tr><td>155</td><td>Oliver</td><td>Tuvault</td><td>SA_REP</td></tr>",
                            "<tr><td>156</td><td>Janette</td><td>King</td><td>SA_REP</td></tr>",
                            "<tr><td>157</td><td>Patrick</td><td>Sully</td><td>SA_REP</td></tr>",
                            "<tr><td>158</td><td>Allan</td><td>McEwen</td><td>SA_REP</td></tr>",
                            "<tr><td>159</td><td>Lindsey</td><td>Smith</td><td>SA_REP</td></tr>",
                            "<tr><td>160</td><td>Louise</td><td>Doran</td><td>SA_REP</td></tr>",
                            "<tr><td>161</td><td>Sarath</td><td>Sewall</td><td>SA_REP</td></tr>",
                            "<tr><td>162</td><td>Clara</td><td>Vishney</td><td>SA_REP</td></tr>",
                            "<tr><td>163</td><td>Danielle</td><td>Greene</td><td>SA_REP</td></tr>",
                            "<tr><td>164</td><td>Mattea</td><td>Marvins</td><td>SA_REP</td></tr>",
                            "<tr><td>165</td><td>David</td><td>Lee</td><td>SA_REP</td></tr>",
                            "<tr><td>166</td><td>Sundar</td><td>Ande</td><td>SA_REP</td></tr>",
                            "<tr><td>167</td><td>Amit</td><td>Banda</td><td>SA_REP</td></tr>",
                            "<tr><td>168</td><td>Lisa</td><td>Ozer</td><td>SA_REP</td></tr>",
                            "<tr><td>169</td><td>Harrison</td><td>Bloom</td><td>SA_REP</td></tr>",
                            "<tr><td>170</td><td>Tayler</td><td>Fox</td><td>SA_REP</td></tr>",
                            "<tr><td>171</td><td>William</td><td>Smith</td><td>SA_REP</td></tr>",
                            "<tr><td>172</td><td>Elizabeth</td><td>Bates</td><td>SA_REP</td></tr>",
                            "<tr><td>173</td><td>Sundita</td><td>Kumar</td><td>SA_REP</td></tr>",
                            "<tr><td>174</td><td>Ellen</td><td>Abel</td><td>SA_REP</td></tr>",
                            "<tr><td>175</td><td>Alyssa</td><td>Hutton</td><td>SA_REP</td></tr>",
                            "<tr><td>176</td><td>Jonathon</td><td>Taylor</td><td>SA_REP</td></tr>",
                            "<tr><td>177</td><td>Jack</td><td>Livingston</td><td>SA_REP</td></tr>",
                            "<tr><td>178</td><td>Kimberely</td><td>Grant</td><td>SA_REP</td></tr>",
                            "<tr><td>179</td><td>Charles</td><td>Johnson</td><td>SA_REP</td></tr>",
                            "<tr><td>180</td><td>Winston</td><td>Taylor</td><td>SH_CLERK</td></tr>",
                            "<tr><td>181</td><td>Jean</td><td>Fleaur</td><td>SH_CLERK</td></tr>",
                            "<tr><td>182</td><td>Martha</td><td>Sullivan</td><td>SH_CLERK</td></tr>",
                            "<tr><td>183</td><td>Girard</td><td>Geoni</td><td>SH_CLERK</td></tr>",
                            "<tr><td>184</td><td>Nandita</td><td>Sarchand</td><td>SH_CLERK</td></tr>",
                            "<tr><td>185</td><td>Alexis</td><td>Bull</td><td>SH_CLERK</td></tr>",
                            "<tr><td>186</td><td>Julia</td><td>Dellinger</td><td>SH_CLERK</td></tr>",
                            "<tr><td>187</td><td>Anthony</td><td>Cabrio</td><td>SH_CLERK</td></tr>",
                            "<tr><td>188</td><td>Kelly</td><td>Chung</td><td>SH_CLERK</td></tr>",
                            "<tr><td>189</td><td>Jennifer</td><td>Dilly</td><td>SH_CLERK</td></tr>",
                            "<tr><td>190</td><td>Timothy</td><td>Gates</td><td>SH_CLERK</td></tr>",
                            "<tr><td>191</td><td>Randall</td><td>Perkins</td><td>SH_CLERK</td></tr>",
                            "<tr><td>192</td><td>Sarah</td><td>Bell</td><td>SH_CLERK</td></tr>",
                            "<tr><td>193</td><td>Britney</td><td>Everett</td><td>SH_CLERK</td></tr>",
                            "<tr><td>194</td><td>Samuel</td><td>McCain</td><td>SH_CLERK</td></tr>",
                            "<tr><td>195</td><td>Vance</td><td>Jones</td><td>SH_CLERK</td></tr>",
                            "<tr><td>196</td><td>Alana</td><td>Walsh</td><td>SH_CLERK</td></tr>",
                            "<tr><td>197</td><td>Kevin</td><td>Feeney</td><td>SH_CLERK</td></tr>",
                            "<tr><td>198</td><td>Donald</td><td>OConnell</td><td>SH_CLERK</td></tr>",
                            "<tr><td>199</td><td>Douglas</td><td>Grant</td><td>SH_CLERK</td></tr>",
                            "<tr><td>200</td><td>Jennifer</td><td>Whalen</td><td>AD_ASST</td></tr>",
                            "<tr><td>202</td><td>Pat</td><td>Fay</td><td>MK_REP</td></tr>",
                            "<tr><td>203</td><td>Susan</td><td>Mavris</td><td>HR_REP</td></tr>",
                            "<tr><td>204</td><td>Hermann</td><td>Baer</td><td>PR_REP</td></tr>",
                            "<tr><td>205</td><td>Shelley</td><td>Higgins</td><td>AC_MGR</td></tr>",
                            "<tr><td>206</td><td>William</td><td>Gietz</td><td>AC_ACCOUNT</td></tr>",
                            "</table>"
                        ]
                    }
                }
            ],
            "execution_count": 29
        },
        {
            "cell_type": "code",
            "source": [
                "--18.  write a SQL query to find those employees whose salary is lower than that of employees whose job title is \"MK_MAN\". Exclude employees of Job title ‘MK_MAN’. Return employee ID, first name, last name, job ID.\r\n",
                "select employee_id,CONCAT(FIRST_NAME,' ',LAST_NAME),JOB_ID from employees1\r\n",
                "where SALARY < any(select SALARY from employees1 ex)"
            ],
            "metadata": {
                "language": "sql",
                "azdata_cell_guid": "7b1958a7-23f9-4fcf-a5d6-c7d0188d7126",
                "tags": []
            },
            "outputs": [
                {
                    "output_type": "display_data",
                    "data": {
                        "text/html": "(0 rows affected)"
                    },
                    "metadata": {}
                },
                {
                    "output_type": "display_data",
                    "data": {
                        "text/html": "Total execution time: 00:00:00.004"
                    },
                    "metadata": {}
                },
                {
                    "output_type": "execute_result",
                    "metadata": {},
                    "execution_count": 30,
                    "data": {
                        "application/vnd.dataresource+json": {
                            "schema": {
                                "fields": [
                                    {
                                        "name": "employee_id"
                                    },
                                    {
                                        "name": "(No column name)"
                                    },
                                    {
                                        "name": "JOB_ID"
                                    }
                                ]
                            },
                            "data": []
                        },
                        "text/html": [
                            "<table>",
                            "<tr><th>employee_id</th><th>(No column name)</th><th>JOB_ID</th></tr>",
                            "</table>"
                        ]
                    }
                }
            ],
            "execution_count": 30
        }
    ]
}