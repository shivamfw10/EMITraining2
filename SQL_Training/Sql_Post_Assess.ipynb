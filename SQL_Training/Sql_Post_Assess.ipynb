{
    "metadata": {
        "kernelspec": {
            "name": "SQL",
            "display_name": "SQL",
            "language": "sql"
        },
        "language_info": {
            "name": "sql",
            "version": ""
        }
    },
    "nbformat_minor": 2,
    "nbformat": 4,
    "cells": [
        {
            "cell_type": "code",
            "source": [
                "USE Employee\r\n",
                "\r\n",
                "--Query No.1\r\n",
                "SELECT j.job_id AS 'Job_Id', AVG(e.salary) AS 'Average_Salary',MIN(e.salary) AS 'Min_Salary',MAX(e.salary) AS 'Max_Salary' FROM employees e\r\n",
                "JOIN jobs j ON e.job_id=j.job_id\r\n",
                "GROUP BY j.job_id"
            ],
            "metadata": {
                "azdata_cell_guid": "2d62c258-b6cf-43d2-ab37-7b06ab063501",
                "language": "sql",
                "tags": []
            },
            "outputs": [
                {
                    "output_type": "display_data",
                    "data": {
                        "text/html": "(19 rows affected)"
                    },
                    "metadata": {}
                },
                {
                    "output_type": "display_data",
                    "data": {
                        "text/html": "Total execution time: 00:00:00.009"
                    },
                    "metadata": {}
                },
                {
                    "output_type": "execute_result",
                    "execution_count": 13,
                    "data": {
                        "application/vnd.dataresource+json": {
                            "schema": {
                                "fields": [
                                    {
                                        "name": "Job_Id"
                                    },
                                    {
                                        "name": "Average_Salary"
                                    },
                                    {
                                        "name": "Min_Salary"
                                    },
                                    {
                                        "name": "Max_Salary"
                                    }
                                ]
                            },
                            "data": [
                                {
                                    "0": "1",
                                    "1": "8300.000000",
                                    "2": "8300.00",
                                    "3": "8300.00"
                                },
                                {
                                    "0": "2",
                                    "1": "12000.000000",
                                    "2": "12000.00",
                                    "3": "12000.00"
                                },
                                {
                                    "0": "3",
                                    "1": "4400.000000",
                                    "2": "4400.00",
                                    "3": "4400.00"
                                },
                                {
                                    "0": "4",
                                    "1": "24000.000000",
                                    "2": "24000.00",
                                    "3": "24000.00"
                                },
                                {
                                    "0": "5",
                                    "1": "17000.000000",
                                    "2": "17000.00",
                                    "3": "17000.00"
                                },
                                {
                                    "0": "6",
                                    "1": "7920.000000",
                                    "2": "6900.00",
                                    "3": "9000.00"
                                },
                                {
                                    "0": "7",
                                    "1": "12000.000000",
                                    "2": "12000.00",
                                    "3": "12000.00"
                                },
                                {
                                    "0": "8",
                                    "1": "6500.000000",
                                    "2": "6500.00",
                                    "3": "6500.00"
                                },
                                {
                                    "0": "9",
                                    "1": "5760.000000",
                                    "2": "4200.00",
                                    "3": "9000.00"
                                },
                                {
                                    "0": "10",
                                    "1": "13000.000000",
                                    "2": "13000.00",
                                    "3": "13000.00"
                                },
                                {
                                    "0": "11",
                                    "1": "6000.000000",
                                    "2": "6000.00",
                                    "3": "6000.00"
                                },
                                {
                                    "0": "12",
                                    "1": "10000.000000",
                                    "2": "10000.00",
                                    "3": "10000.00"
                                },
                                {
                                    "0": "13",
                                    "1": "2780.000000",
                                    "2": "2500.00",
                                    "3": "3100.00"
                                },
                                {
                                    "0": "14",
                                    "1": "11000.000000",
                                    "2": "11000.00",
                                    "3": "11000.00"
                                },
                                {
                                    "0": "15",
                                    "1": "13750.000000",
                                    "2": "13500.00",
                                    "3": "14000.00"
                                },
                                {
                                    "0": "16",
                                    "1": "7550.000000",
                                    "2": "6200.00",
                                    "3": "8600.00"
                                },
                                {
                                    "0": "17",
                                    "1": "3950.000000",
                                    "2": "3900.00",
                                    "3": "4000.00"
                                },
                                {
                                    "0": "18",
                                    "1": "2700.000000",
                                    "2": "2700.00",
                                    "3": "2700.00"
                                },
                                {
                                    "0": "19",
                                    "1": "7650.000000",
                                    "2": "6500.00",
                                    "3": "8200.00"
                                }
                            ]
                        },
                        "text/html": "<table><tr><th>Job_Id</th><th>Average_Salary</th><th>Min_Salary</th><th>Max_Salary</th></tr><tr><td>1</td><td>8300.000000</td><td>8300.00</td><td>8300.00</td></tr><tr><td>2</td><td>12000.000000</td><td>12000.00</td><td>12000.00</td></tr><tr><td>3</td><td>4400.000000</td><td>4400.00</td><td>4400.00</td></tr><tr><td>4</td><td>24000.000000</td><td>24000.00</td><td>24000.00</td></tr><tr><td>5</td><td>17000.000000</td><td>17000.00</td><td>17000.00</td></tr><tr><td>6</td><td>7920.000000</td><td>6900.00</td><td>9000.00</td></tr><tr><td>7</td><td>12000.000000</td><td>12000.00</td><td>12000.00</td></tr><tr><td>8</td><td>6500.000000</td><td>6500.00</td><td>6500.00</td></tr><tr><td>9</td><td>5760.000000</td><td>4200.00</td><td>9000.00</td></tr><tr><td>10</td><td>13000.000000</td><td>13000.00</td><td>13000.00</td></tr><tr><td>11</td><td>6000.000000</td><td>6000.00</td><td>6000.00</td></tr><tr><td>12</td><td>10000.000000</td><td>10000.00</td><td>10000.00</td></tr><tr><td>13</td><td>2780.000000</td><td>2500.00</td><td>3100.00</td></tr><tr><td>14</td><td>11000.000000</td><td>11000.00</td><td>11000.00</td></tr><tr><td>15</td><td>13750.000000</td><td>13500.00</td><td>14000.00</td></tr><tr><td>16</td><td>7550.000000</td><td>6200.00</td><td>8600.00</td></tr><tr><td>17</td><td>3950.000000</td><td>3900.00</td><td>4000.00</td></tr><tr><td>18</td><td>2700.000000</td><td>2700.00</td><td>2700.00</td></tr><tr><td>19</td><td>7650.000000</td><td>6500.00</td><td>8200.00</td></tr></table>"
                    },
                    "metadata": {}
                }
            ],
            "execution_count": 13
        },
        {
            "cell_type": "code",
            "source": [
                "--Query No. 2\r\n",
                "SELECT dep.department_name AS 'Department_Name', count(dep.department_name) AS No_Of_Employees FROM employees emp\r\n",
                "JOIN departments dep ON dep.department_id=emp.department_id GROUP BY dep.department_name;\r\n",
                ""
            ],
            "metadata": {
                "azdata_cell_guid": "af4acecc-db9b-4d76-9045-c945d37baec9",
                "language": "sql"
            },
            "outputs": [
                {
                    "output_type": "display_data",
                    "data": {
                        "text/html": "(11 rows affected)"
                    },
                    "metadata": {}
                },
                {
                    "output_type": "display_data",
                    "data": {
                        "text/html": "Total execution time: 00:00:00.006"
                    },
                    "metadata": {}
                },
                {
                    "output_type": "execute_result",
                    "execution_count": 14,
                    "data": {
                        "application/vnd.dataresource+json": {
                            "schema": {
                                "fields": [
                                    {
                                        "name": "Department_Name"
                                    },
                                    {
                                        "name": "No_Of_Employees"
                                    }
                                ]
                            },
                            "data": [
                                {
                                    "0": "Accounting",
                                    "1": "2"
                                },
                                {
                                    "0": "Administration",
                                    "1": "1"
                                },
                                {
                                    "0": "Executive",
                                    "1": "3"
                                },
                                {
                                    "0": "Finance",
                                    "1": "6"
                                },
                                {
                                    "0": "Human Resources",
                                    "1": "1"
                                },
                                {
                                    "0": "IT",
                                    "1": "5"
                                },
                                {
                                    "0": "Marketing",
                                    "1": "2"
                                },
                                {
                                    "0": "Public Relations",
                                    "1": "1"
                                },
                                {
                                    "0": "Purchasing",
                                    "1": "6"
                                },
                                {
                                    "0": "Sales",
                                    "1": "6"
                                },
                                {
                                    "0": "Shipping",
                                    "1": "7"
                                }
                            ]
                        },
                        "text/html": "<table><tr><th>Department_Name</th><th>No_Of_Employees</th></tr><tr><td>Accounting</td><td>2</td></tr><tr><td>Administration</td><td>1</td></tr><tr><td>Executive</td><td>3</td></tr><tr><td>Finance</td><td>6</td></tr><tr><td>Human Resources</td><td>1</td></tr><tr><td>IT</td><td>5</td></tr><tr><td>Marketing</td><td>2</td></tr><tr><td>Public Relations</td><td>1</td></tr><tr><td>Purchasing</td><td>6</td></tr><tr><td>Sales</td><td>6</td></tr><tr><td>Shipping</td><td>7</td></tr></table>"
                    },
                    "metadata": {}
                }
            ],
            "execution_count": 14
        },
        {
            "cell_type": "code",
            "source": [
                "--Query No. 3\r\n",
                "SELECT COUNT(*) AS 'Count_Employees',e.manager_id AS 'Manager_Id', m.first_name AS 'ManagerName' FROM employees e, employees m\r\n",
                "WHERE e.manager_id = m.employee_id GROUP BY e.manager_id,m.first_name\r\n",
                "ORDER BY e.manager_id "
            ],
            "metadata": {
                "azdata_cell_guid": "3ed66c49-0e61-4d0f-9b9d-14852d61b3ef",
                "language": "sql"
            },
            "outputs": [
                {
                    "output_type": "display_data",
                    "data": {
                        "text/html": "(10 rows affected)"
                    },
                    "metadata": {}
                },
                {
                    "output_type": "display_data",
                    "data": {
                        "text/html": "Total execution time: 00:00:00.005"
                    },
                    "metadata": {}
                },
                {
                    "output_type": "execute_result",
                    "execution_count": 15,
                    "data": {
                        "application/vnd.dataresource+json": {
                            "schema": {
                                "fields": [
                                    {
                                        "name": "Count_Employees"
                                    },
                                    {
                                        "name": "Manager_Id"
                                    },
                                    {
                                        "name": "ManagerName"
                                    }
                                ]
                            },
                            "data": [
                                {
                                    "0": "14",
                                    "1": "100",
                                    "2": "Steven"
                                },
                                {
                                    "0": "5",
                                    "1": "101",
                                    "2": "Neena"
                                },
                                {
                                    "0": "1",
                                    "1": "102",
                                    "2": "Lex"
                                },
                                {
                                    "0": "4",
                                    "1": "103",
                                    "2": "Alexander"
                                },
                                {
                                    "0": "5",
                                    "1": "108",
                                    "2": "Nancy"
                                },
                                {
                                    "0": "5",
                                    "1": "114",
                                    "2": "Den"
                                },
                                {
                                    "0": "1",
                                    "1": "120",
                                    "2": "Matthew"
                                },
                                {
                                    "0": "2",
                                    "1": "123",
                                    "2": "Shanta"
                                },
                                {
                                    "0": "1",
                                    "1": "201",
                                    "2": "Michael"
                                },
                                {
                                    "0": "1",
                                    "1": "205",
                                    "2": "Shelley"
                                }
                            ]
                        },
                        "text/html": "<table><tr><th>Count_Employees</th><th>Manager_Id</th><th>ManagerName</th></tr><tr><td>14</td><td>100</td><td>Steven</td></tr><tr><td>5</td><td>101</td><td>Neena</td></tr><tr><td>1</td><td>102</td><td>Lex</td></tr><tr><td>4</td><td>103</td><td>Alexander</td></tr><tr><td>5</td><td>108</td><td>Nancy</td></tr><tr><td>5</td><td>114</td><td>Den</td></tr><tr><td>1</td><td>120</td><td>Matthew</td></tr><tr><td>2</td><td>123</td><td>Shanta</td></tr><tr><td>1</td><td>201</td><td>Michael</td></tr><tr><td>1</td><td>205</td><td>Shelley</td></tr></table>"
                    },
                    "metadata": {}
                }
            ],
            "execution_count": 15
        },
        {
            "cell_type": "code",
            "source": [
                "--Query No. 4\r\n",
                "SELECT e.last_name, e.department_id,d.department_name FROM employees e\r\n",
                "JOIN departments d ON e.department_id=d.department_id\r\n",
                "ORDER BY e.last_name ASC"
            ],
            "metadata": {
                "azdata_cell_guid": "2d3dd971-0702-4bca-910c-7280ef5151a4",
                "language": "sql"
            },
            "outputs": [
                {
                    "output_type": "display_data",
                    "data": {
                        "text/html": "(40 rows affected)"
                    },
                    "metadata": {}
                },
                {
                    "output_type": "display_data",
                    "data": {
                        "text/html": "Total execution time: 00:00:00.006"
                    },
                    "metadata": {}
                },
                {
                    "output_type": "execute_result",
                    "execution_count": 16,
                    "data": {
                        "application/vnd.dataresource+json": {
                            "schema": {
                                "fields": [
                                    {
                                        "name": "last_name"
                                    },
                                    {
                                        "name": "department_id"
                                    },
                                    {
                                        "name": "department_name"
                                    }
                                ]
                            },
                            "data": [
                                {
                                    "0": "Austin",
                                    "1": "6",
                                    "2": "IT"
                                },
                                {
                                    "0": "Baer",
                                    "1": "7",
                                    "2": "Public Relations"
                                },
                                {
                                    "0": "Baida",
                                    "1": "3",
                                    "2": "Purchasing"
                                },
                                {
                                    "0": "Bell",
                                    "1": "5",
                                    "2": "Shipping"
                                },
                                {
                                    "0": "Chen",
                                    "1": "10",
                                    "2": "Finance"
                                },
                                {
                                    "0": "Colmenares",
                                    "1": "3",
                                    "2": "Purchasing"
                                },
                                {
                                    "0": "De Haan",
                                    "1": "9",
                                    "2": "Executive"
                                },
                                {
                                    "0": "Ernst",
                                    "1": "6",
                                    "2": "IT"
                                },
                                {
                                    "0": "Everett",
                                    "1": "5",
                                    "2": "Shipping"
                                },
                                {
                                    "0": "Faviet",
                                    "1": "10",
                                    "2": "Finance"
                                },
                                {
                                    "0": "Fay",
                                    "1": "2",
                                    "2": "Marketing"
                                },
                                {
                                    "0": "Fripp",
                                    "1": "5",
                                    "2": "Shipping"
                                },
                                {
                                    "0": "Gietz",
                                    "1": "11",
                                    "2": "Accounting"
                                },
                                {
                                    "0": "Grant",
                                    "1": "8",
                                    "2": "Sales"
                                },
                                {
                                    "0": "Greenberg",
                                    "1": "10",
                                    "2": "Finance"
                                },
                                {
                                    "0": "Hartstein",
                                    "1": "2",
                                    "2": "Marketing"
                                },
                                {
                                    "0": "Higgins",
                                    "1": "11",
                                    "2": "Accounting"
                                },
                                {
                                    "0": "Himuro",
                                    "1": "3",
                                    "2": "Purchasing"
                                },
                                {
                                    "0": "Hunold",
                                    "1": "6",
                                    "2": "IT"
                                },
                                {
                                    "0": "Johnson",
                                    "1": "8",
                                    "2": "Sales"
                                },
                                {
                                    "0": "Kaufling",
                                    "1": "5",
                                    "2": "Shipping"
                                },
                                {
                                    "0": "Khoo",
                                    "1": "3",
                                    "2": "Purchasing"
                                },
                                {
                                    "0": "King",
                                    "1": "9",
                                    "2": "Executive"
                                },
                                {
                                    "0": "Kochhar",
                                    "1": "9",
                                    "2": "Executive"
                                },
                                {
                                    "0": "Livingston",
                                    "1": "8",
                                    "2": "Sales"
                                },
                                {
                                    "0": "Lorentz",
                                    "1": "6",
                                    "2": "IT"
                                },
                                {
                                    "0": "Mavris",
                                    "1": "4",
                                    "2": "Human Resources"
                                },
                                {
                                    "0": "Mikkilineni",
                                    "1": "5",
                                    "2": "Shipping"
                                },
                                {
                                    "0": "Partners",
                                    "1": "8",
                                    "2": "Sales"
                                },
                                {
                                    "0": "Pataballa",
                                    "1": "6",
                                    "2": "IT"
                                },
                                {
                                    "0": "Popp",
                                    "1": "10",
                                    "2": "Finance"
                                },
                                {
                                    "0": "Raphaely",
                                    "1": "3",
                                    "2": "Purchasing"
                                },
                                {
                                    "0": "Russell",
                                    "1": "8",
                                    "2": "Sales"
                                },
                                {
                                    "0": "Sciarra",
                                    "1": "10",
                                    "2": "Finance"
                                },
                                {
                                    "0": "Taylor",
                                    "1": "8",
                                    "2": "Sales"
                                },
                                {
                                    "0": "Tobias",
                                    "1": "3",
                                    "2": "Purchasing"
                                },
                                {
                                    "0": "Urman",
                                    "1": "10",
                                    "2": "Finance"
                                },
                                {
                                    "0": "Vollman",
                                    "1": "5",
                                    "2": "Shipping"
                                },
                                {
                                    "0": "Weiss",
                                    "1": "5",
                                    "2": "Shipping"
                                },
                                {
                                    "0": "Whalen",
                                    "1": "1",
                                    "2": "Administration"
                                }
                            ]
                        },
                        "text/html": "<table><tr><th>last_name</th><th>department_id</th><th>department_name</th></tr><tr><td>Austin</td><td>6</td><td>IT</td></tr><tr><td>Baer</td><td>7</td><td>Public Relations</td></tr><tr><td>Baida</td><td>3</td><td>Purchasing</td></tr><tr><td>Bell</td><td>5</td><td>Shipping</td></tr><tr><td>Chen</td><td>10</td><td>Finance</td></tr><tr><td>Colmenares</td><td>3</td><td>Purchasing</td></tr><tr><td>De Haan</td><td>9</td><td>Executive</td></tr><tr><td>Ernst</td><td>6</td><td>IT</td></tr><tr><td>Everett</td><td>5</td><td>Shipping</td></tr><tr><td>Faviet</td><td>10</td><td>Finance</td></tr><tr><td>Fay</td><td>2</td><td>Marketing</td></tr><tr><td>Fripp</td><td>5</td><td>Shipping</td></tr><tr><td>Gietz</td><td>11</td><td>Accounting</td></tr><tr><td>Grant</td><td>8</td><td>Sales</td></tr><tr><td>Greenberg</td><td>10</td><td>Finance</td></tr><tr><td>Hartstein</td><td>2</td><td>Marketing</td></tr><tr><td>Higgins</td><td>11</td><td>Accounting</td></tr><tr><td>Himuro</td><td>3</td><td>Purchasing</td></tr><tr><td>Hunold</td><td>6</td><td>IT</td></tr><tr><td>Johnson</td><td>8</td><td>Sales</td></tr><tr><td>Kaufling</td><td>5</td><td>Shipping</td></tr><tr><td>Khoo</td><td>3</td><td>Purchasing</td></tr><tr><td>King</td><td>9</td><td>Executive</td></tr><tr><td>Kochhar</td><td>9</td><td>Executive</td></tr><tr><td>Livingston</td><td>8</td><td>Sales</td></tr><tr><td>Lorentz</td><td>6</td><td>IT</td></tr><tr><td>Mavris</td><td>4</td><td>Human Resources</td></tr><tr><td>Mikkilineni</td><td>5</td><td>Shipping</td></tr><tr><td>Partners</td><td>8</td><td>Sales</td></tr><tr><td>Pataballa</td><td>6</td><td>IT</td></tr><tr><td>Popp</td><td>10</td><td>Finance</td></tr><tr><td>Raphaely</td><td>3</td><td>Purchasing</td></tr><tr><td>Russell</td><td>8</td><td>Sales</td></tr><tr><td>Sciarra</td><td>10</td><td>Finance</td></tr><tr><td>Taylor</td><td>8</td><td>Sales</td></tr><tr><td>Tobias</td><td>3</td><td>Purchasing</td></tr><tr><td>Urman</td><td>10</td><td>Finance</td></tr><tr><td>Vollman</td><td>5</td><td>Shipping</td></tr><tr><td>Weiss</td><td>5</td><td>Shipping</td></tr><tr><td>Whalen</td><td>1</td><td>Administration</td></tr></table>"
                    },
                    "metadata": {}
                }
            ],
            "execution_count": 16
        },
        {
            "cell_type": "code",
            "source": [
                "--Query No.5\r\n",
                "select j.job_title,l.street_address,l.city,l.country_id from employees e\r\n",
                "join jobs j on e.job_id=j.job_id\r\n",
                "join departments d on d.department_id=e.department_id\r\n",
                "join locations l on d.location_id=l.location_id where l.street_address='8204 Arthur St' AND j.job_title='Human Resources Representative'"
            ],
            "metadata": {
                "azdata_cell_guid": "7571ddc8-5077-4728-9930-c03639fcefb1",
                "language": "sql"
            },
            "outputs": [
                {
                    "output_type": "display_data",
                    "data": {
                        "text/html": "(1 row affected)"
                    },
                    "metadata": {}
                },
                {
                    "output_type": "display_data",
                    "data": {
                        "text/html": "Total execution time: 00:00:00.005"
                    },
                    "metadata": {}
                },
                {
                    "output_type": "execute_result",
                    "execution_count": 18,
                    "data": {
                        "application/vnd.dataresource+json": {
                            "schema": {
                                "fields": [
                                    {
                                        "name": "job_title"
                                    },
                                    {
                                        "name": "street_address"
                                    },
                                    {
                                        "name": "city"
                                    },
                                    {
                                        "name": "country_id"
                                    }
                                ]
                            },
                            "data": [
                                {
                                    "0": "Human Resources Representative",
                                    "1": "8204 Arthur St",
                                    "2": "London",
                                    "3": "UK"
                                }
                            ]
                        },
                        "text/html": "<table><tr><th>job_title</th><th>street_address</th><th>city</th><th>country_id</th></tr><tr><td>Human Resources Representative</td><td>8204 Arthur St</td><td>London</td><td>UK</td></tr></table>"
                    },
                    "metadata": {}
                }
            ],
            "execution_count": 18
        },
        {
            "cell_type": "code",
            "source": [
                "--Query No. 6\r\n",
                "SELECT e.last_name, d.department_name, l.location_id,l.city FROM employees e\r\n",
                "JOIN departments d ON e.department_id=d.department_id\r\n",
                "JOIN locations l ON d.location_id=l.location_id \r\n",
                "WHERE l.location_id IN(1400,1700) AND d.department_name IN('IT','FINANCE','PURCHASING')\r\n",
                ""
            ],
            "metadata": {
                "azdata_cell_guid": "6a5d0e61-0dbf-44af-a2ef-3074df85b718",
                "language": "sql"
            },
            "outputs": [
                {
                    "output_type": "display_data",
                    "data": {
                        "text/html": "(17 rows affected)"
                    },
                    "metadata": {}
                },
                {
                    "output_type": "display_data",
                    "data": {
                        "text/html": "Total execution time: 00:00:00.012"
                    },
                    "metadata": {}
                },
                {
                    "output_type": "execute_result",
                    "execution_count": 39,
                    "data": {
                        "application/vnd.dataresource+json": {
                            "schema": {
                                "fields": [
                                    {
                                        "name": "last_name"
                                    },
                                    {
                                        "name": "department_name"
                                    },
                                    {
                                        "name": "location_id"
                                    },
                                    {
                                        "name": "city"
                                    }
                                ]
                            },
                            "data": [
                                {
                                    "0": "Hunold",
                                    "1": "IT",
                                    "2": "1400",
                                    "3": "Southlake"
                                },
                                {
                                    "0": "Ernst",
                                    "1": "IT",
                                    "2": "1400",
                                    "3": "Southlake"
                                },
                                {
                                    "0": "Austin",
                                    "1": "IT",
                                    "2": "1400",
                                    "3": "Southlake"
                                },
                                {
                                    "0": "Pataballa",
                                    "1": "IT",
                                    "2": "1400",
                                    "3": "Southlake"
                                },
                                {
                                    "0": "Lorentz",
                                    "1": "IT",
                                    "2": "1400",
                                    "3": "Southlake"
                                },
                                {
                                    "0": "Greenberg",
                                    "1": "Finance",
                                    "2": "1700",
                                    "3": "Seattle"
                                },
                                {
                                    "0": "Faviet",
                                    "1": "Finance",
                                    "2": "1700",
                                    "3": "Seattle"
                                },
                                {
                                    "0": "Chen",
                                    "1": "Finance",
                                    "2": "1700",
                                    "3": "Seattle"
                                },
                                {
                                    "0": "Sciarra",
                                    "1": "Finance",
                                    "2": "1700",
                                    "3": "Seattle"
                                },
                                {
                                    "0": "Urman",
                                    "1": "Finance",
                                    "2": "1700",
                                    "3": "Seattle"
                                },
                                {
                                    "0": "Popp",
                                    "1": "Finance",
                                    "2": "1700",
                                    "3": "Seattle"
                                },
                                {
                                    "0": "Raphaely",
                                    "1": "Purchasing",
                                    "2": "1700",
                                    "3": "Seattle"
                                },
                                {
                                    "0": "Khoo",
                                    "1": "Purchasing",
                                    "2": "1700",
                                    "3": "Seattle"
                                },
                                {
                                    "0": "Baida",
                                    "1": "Purchasing",
                                    "2": "1700",
                                    "3": "Seattle"
                                },
                                {
                                    "0": "Tobias",
                                    "1": "Purchasing",
                                    "2": "1700",
                                    "3": "Seattle"
                                },
                                {
                                    "0": "Himuro",
                                    "1": "Purchasing",
                                    "2": "1700",
                                    "3": "Seattle"
                                },
                                {
                                    "0": "Colmenares",
                                    "1": "Purchasing",
                                    "2": "1700",
                                    "3": "Seattle"
                                }
                            ]
                        },
                        "text/html": "<table><tr><th>last_name</th><th>department_name</th><th>location_id</th><th>city</th></tr><tr><td>Hunold</td><td>IT</td><td>1400</td><td>Southlake</td></tr><tr><td>Ernst</td><td>IT</td><td>1400</td><td>Southlake</td></tr><tr><td>Austin</td><td>IT</td><td>1400</td><td>Southlake</td></tr><tr><td>Pataballa</td><td>IT</td><td>1400</td><td>Southlake</td></tr><tr><td>Lorentz</td><td>IT</td><td>1400</td><td>Southlake</td></tr><tr><td>Greenberg</td><td>Finance</td><td>1700</td><td>Seattle</td></tr><tr><td>Faviet</td><td>Finance</td><td>1700</td><td>Seattle</td></tr><tr><td>Chen</td><td>Finance</td><td>1700</td><td>Seattle</td></tr><tr><td>Sciarra</td><td>Finance</td><td>1700</td><td>Seattle</td></tr><tr><td>Urman</td><td>Finance</td><td>1700</td><td>Seattle</td></tr><tr><td>Popp</td><td>Finance</td><td>1700</td><td>Seattle</td></tr><tr><td>Raphaely</td><td>Purchasing</td><td>1700</td><td>Seattle</td></tr><tr><td>Khoo</td><td>Purchasing</td><td>1700</td><td>Seattle</td></tr><tr><td>Baida</td><td>Purchasing</td><td>1700</td><td>Seattle</td></tr><tr><td>Tobias</td><td>Purchasing</td><td>1700</td><td>Seattle</td></tr><tr><td>Himuro</td><td>Purchasing</td><td>1700</td><td>Seattle</td></tr><tr><td>Colmenares</td><td>Purchasing</td><td>1700</td><td>Seattle</td></tr></table>"
                    },
                    "metadata": {}
                }
            ],
            "execution_count": 39
        },
        {
            "cell_type": "code",
            "source": [
                "--Query No. 7\r\n",
                "SELECT e.last_name,d.department_name FROM employees e\r\n",
                "JOIN departments d ON e.department_id=d.department_id\r\n",
                "ORDER BY RAND(d.department_id)"
            ],
            "metadata": {
                "azdata_cell_guid": "11590404-cd82-4d2b-b7bb-4eaf0ccf1e4b",
                "language": "sql"
            },
            "outputs": [
                {
                    "output_type": "display_data",
                    "data": {
                        "text/html": "(40 rows affected)"
                    },
                    "metadata": {}
                },
                {
                    "output_type": "display_data",
                    "data": {
                        "text/html": "Total execution time: 00:00:00.009"
                    },
                    "metadata": {}
                },
                {
                    "output_type": "execute_result",
                    "execution_count": 38,
                    "data": {
                        "application/vnd.dataresource+json": {
                            "schema": {
                                "fields": [
                                    {
                                        "name": "last_name"
                                    },
                                    {
                                        "name": "department_name"
                                    }
                                ]
                            },
                            "data": [
                                {
                                    "0": "Whalen",
                                    "1": "Administration"
                                },
                                {
                                    "0": "Hartstein",
                                    "1": "Marketing"
                                },
                                {
                                    "0": "Fay",
                                    "1": "Marketing"
                                },
                                {
                                    "0": "Raphaely",
                                    "1": "Purchasing"
                                },
                                {
                                    "0": "Khoo",
                                    "1": "Purchasing"
                                },
                                {
                                    "0": "Baida",
                                    "1": "Purchasing"
                                },
                                {
                                    "0": "Tobias",
                                    "1": "Purchasing"
                                },
                                {
                                    "0": "Himuro",
                                    "1": "Purchasing"
                                },
                                {
                                    "0": "Colmenares",
                                    "1": "Purchasing"
                                },
                                {
                                    "0": "Mavris",
                                    "1": "Human Resources"
                                },
                                {
                                    "0": "Bell",
                                    "1": "Shipping"
                                },
                                {
                                    "0": "Everett",
                                    "1": "Shipping"
                                },
                                {
                                    "0": "Weiss",
                                    "1": "Shipping"
                                },
                                {
                                    "0": "Fripp",
                                    "1": "Shipping"
                                },
                                {
                                    "0": "Kaufling",
                                    "1": "Shipping"
                                },
                                {
                                    "0": "Vollman",
                                    "1": "Shipping"
                                },
                                {
                                    "0": "Mikkilineni",
                                    "1": "Shipping"
                                },
                                {
                                    "0": "Hunold",
                                    "1": "IT"
                                },
                                {
                                    "0": "Ernst",
                                    "1": "IT"
                                },
                                {
                                    "0": "Austin",
                                    "1": "IT"
                                },
                                {
                                    "0": "Pataballa",
                                    "1": "IT"
                                },
                                {
                                    "0": "Lorentz",
                                    "1": "IT"
                                },
                                {
                                    "0": "Baer",
                                    "1": "Public Relations"
                                },
                                {
                                    "0": "Russell",
                                    "1": "Sales"
                                },
                                {
                                    "0": "Partners",
                                    "1": "Sales"
                                },
                                {
                                    "0": "Taylor",
                                    "1": "Sales"
                                },
                                {
                                    "0": "Livingston",
                                    "1": "Sales"
                                },
                                {
                                    "0": "Grant",
                                    "1": "Sales"
                                },
                                {
                                    "0": "Johnson",
                                    "1": "Sales"
                                },
                                {
                                    "0": "King",
                                    "1": "Executive"
                                },
                                {
                                    "0": "Kochhar",
                                    "1": "Executive"
                                },
                                {
                                    "0": "De Haan",
                                    "1": "Executive"
                                },
                                {
                                    "0": "Greenberg",
                                    "1": "Finance"
                                },
                                {
                                    "0": "Faviet",
                                    "1": "Finance"
                                },
                                {
                                    "0": "Chen",
                                    "1": "Finance"
                                },
                                {
                                    "0": "Sciarra",
                                    "1": "Finance"
                                },
                                {
                                    "0": "Urman",
                                    "1": "Finance"
                                },
                                {
                                    "0": "Popp",
                                    "1": "Finance"
                                },
                                {
                                    "0": "Higgins",
                                    "1": "Accounting"
                                },
                                {
                                    "0": "Gietz",
                                    "1": "Accounting"
                                }
                            ]
                        },
                        "text/html": "<table><tr><th>last_name</th><th>department_name</th></tr><tr><td>Whalen</td><td>Administration</td></tr><tr><td>Hartstein</td><td>Marketing</td></tr><tr><td>Fay</td><td>Marketing</td></tr><tr><td>Raphaely</td><td>Purchasing</td></tr><tr><td>Khoo</td><td>Purchasing</td></tr><tr><td>Baida</td><td>Purchasing</td></tr><tr><td>Tobias</td><td>Purchasing</td></tr><tr><td>Himuro</td><td>Purchasing</td></tr><tr><td>Colmenares</td><td>Purchasing</td></tr><tr><td>Mavris</td><td>Human Resources</td></tr><tr><td>Bell</td><td>Shipping</td></tr><tr><td>Everett</td><td>Shipping</td></tr><tr><td>Weiss</td><td>Shipping</td></tr><tr><td>Fripp</td><td>Shipping</td></tr><tr><td>Kaufling</td><td>Shipping</td></tr><tr><td>Vollman</td><td>Shipping</td></tr><tr><td>Mikkilineni</td><td>Shipping</td></tr><tr><td>Hunold</td><td>IT</td></tr><tr><td>Ernst</td><td>IT</td></tr><tr><td>Austin</td><td>IT</td></tr><tr><td>Pataballa</td><td>IT</td></tr><tr><td>Lorentz</td><td>IT</td></tr><tr><td>Baer</td><td>Public Relations</td></tr><tr><td>Russell</td><td>Sales</td></tr><tr><td>Partners</td><td>Sales</td></tr><tr><td>Taylor</td><td>Sales</td></tr><tr><td>Livingston</td><td>Sales</td></tr><tr><td>Grant</td><td>Sales</td></tr><tr><td>Johnson</td><td>Sales</td></tr><tr><td>King</td><td>Executive</td></tr><tr><td>Kochhar</td><td>Executive</td></tr><tr><td>De Haan</td><td>Executive</td></tr><tr><td>Greenberg</td><td>Finance</td></tr><tr><td>Faviet</td><td>Finance</td></tr><tr><td>Chen</td><td>Finance</td></tr><tr><td>Sciarra</td><td>Finance</td></tr><tr><td>Urman</td><td>Finance</td></tr><tr><td>Popp</td><td>Finance</td></tr><tr><td>Higgins</td><td>Accounting</td></tr><tr><td>Gietz</td><td>Accounting</td></tr></table>"
                    },
                    "metadata": {}
                }
            ],
            "execution_count": 38
        },
        {
            "cell_type": "code",
            "source": [
                "--Query No. 8\r\n",
                "SELECT e.last_name, d.department_id,department_name, j.job_title FROM employees e\r\n",
                "JOIN departments d ON e.department_id=d.department_id\r\n",
                "JOIN jobs j ON e.job_id=j.job_id"
            ],
            "metadata": {
                "azdata_cell_guid": "f001e83d-ac71-4255-99eb-d1cd32b9ebd4",
                "language": "sql",
                "tags": []
            },
            "outputs": [
                {
                    "output_type": "display_data",
                    "data": {
                        "text/html": "(40 rows affected)"
                    },
                    "metadata": {}
                },
                {
                    "output_type": "display_data",
                    "data": {
                        "text/html": "Total execution time: 00:00:00.007"
                    },
                    "metadata": {}
                },
                {
                    "output_type": "execute_result",
                    "execution_count": 21,
                    "data": {
                        "application/vnd.dataresource+json": {
                            "schema": {
                                "fields": [
                                    {
                                        "name": "last_name"
                                    },
                                    {
                                        "name": "department_id"
                                    },
                                    {
                                        "name": "department_name"
                                    },
                                    {
                                        "name": "job_title"
                                    }
                                ]
                            },
                            "data": [
                                {
                                    "0": "King",
                                    "1": "9",
                                    "2": "Executive",
                                    "3": "President"
                                },
                                {
                                    "0": "Kochhar",
                                    "1": "9",
                                    "2": "Executive",
                                    "3": "Administration Vice President"
                                },
                                {
                                    "0": "De Haan",
                                    "1": "9",
                                    "2": "Executive",
                                    "3": "Administration Vice President"
                                },
                                {
                                    "0": "Hunold",
                                    "1": "6",
                                    "2": "IT",
                                    "3": "Programmer"
                                },
                                {
                                    "0": "Ernst",
                                    "1": "6",
                                    "2": "IT",
                                    "3": "Programmer"
                                },
                                {
                                    "0": "Austin",
                                    "1": "6",
                                    "2": "IT",
                                    "3": "Programmer"
                                },
                                {
                                    "0": "Pataballa",
                                    "1": "6",
                                    "2": "IT",
                                    "3": "Programmer"
                                },
                                {
                                    "0": "Lorentz",
                                    "1": "6",
                                    "2": "IT",
                                    "3": "Programmer"
                                },
                                {
                                    "0": "Greenberg",
                                    "1": "10",
                                    "2": "Finance",
                                    "3": "Finance Manager"
                                },
                                {
                                    "0": "Faviet",
                                    "1": "10",
                                    "2": "Finance",
                                    "3": "Accountant"
                                },
                                {
                                    "0": "Chen",
                                    "1": "10",
                                    "2": "Finance",
                                    "3": "Accountant"
                                },
                                {
                                    "0": "Sciarra",
                                    "1": "10",
                                    "2": "Finance",
                                    "3": "Accountant"
                                },
                                {
                                    "0": "Urman",
                                    "1": "10",
                                    "2": "Finance",
                                    "3": "Accountant"
                                },
                                {
                                    "0": "Popp",
                                    "1": "10",
                                    "2": "Finance",
                                    "3": "Accountant"
                                },
                                {
                                    "0": "Raphaely",
                                    "1": "3",
                                    "2": "Purchasing",
                                    "3": "Purchasing Manager"
                                },
                                {
                                    "0": "Khoo",
                                    "1": "3",
                                    "2": "Purchasing",
                                    "3": "Purchasing Clerk"
                                },
                                {
                                    "0": "Baida",
                                    "1": "3",
                                    "2": "Purchasing",
                                    "3": "Purchasing Clerk"
                                },
                                {
                                    "0": "Tobias",
                                    "1": "3",
                                    "2": "Purchasing",
                                    "3": "Purchasing Clerk"
                                },
                                {
                                    "0": "Himuro",
                                    "1": "3",
                                    "2": "Purchasing",
                                    "3": "Purchasing Clerk"
                                },
                                {
                                    "0": "Colmenares",
                                    "1": "3",
                                    "2": "Purchasing",
                                    "3": "Purchasing Clerk"
                                },
                                {
                                    "0": "Weiss",
                                    "1": "5",
                                    "2": "Shipping",
                                    "3": "Stock Manager"
                                },
                                {
                                    "0": "Fripp",
                                    "1": "5",
                                    "2": "Shipping",
                                    "3": "Stock Manager"
                                },
                                {
                                    "0": "Kaufling",
                                    "1": "5",
                                    "2": "Shipping",
                                    "3": "Stock Manager"
                                },
                                {
                                    "0": "Vollman",
                                    "1": "5",
                                    "2": "Shipping",
                                    "3": "Stock Manager"
                                },
                                {
                                    "0": "Mikkilineni",
                                    "1": "5",
                                    "2": "Shipping",
                                    "3": "Stock Clerk"
                                },
                                {
                                    "0": "Russell",
                                    "1": "8",
                                    "2": "Sales",
                                    "3": "Sales Manager"
                                },
                                {
                                    "0": "Partners",
                                    "1": "8",
                                    "2": "Sales",
                                    "3": "Sales Manager"
                                },
                                {
                                    "0": "Taylor",
                                    "1": "8",
                                    "2": "Sales",
                                    "3": "Sales Representative"
                                },
                                {
                                    "0": "Livingston",
                                    "1": "8",
                                    "2": "Sales",
                                    "3": "Sales Representative"
                                },
                                {
                                    "0": "Grant",
                                    "1": "8",
                                    "2": "Sales",
                                    "3": "Sales Representative"
                                },
                                {
                                    "0": "Johnson",
                                    "1": "8",
                                    "2": "Sales",
                                    "3": "Sales Representative"
                                },
                                {
                                    "0": "Bell",
                                    "1": "5",
                                    "2": "Shipping",
                                    "3": "Shipping Clerk"
                                },
                                {
                                    "0": "Everett",
                                    "1": "5",
                                    "2": "Shipping",
                                    "3": "Shipping Clerk"
                                },
                                {
                                    "0": "Whalen",
                                    "1": "1",
                                    "2": "Administration",
                                    "3": "Administration Assistant"
                                },
                                {
                                    "0": "Hartstein",
                                    "1": "2",
                                    "2": "Marketing",
                                    "3": "Marketing Manager"
                                },
                                {
                                    "0": "Fay",
                                    "1": "2",
                                    "2": "Marketing",
                                    "3": "Marketing Representative"
                                },
                                {
                                    "0": "Mavris",
                                    "1": "4",
                                    "2": "Human Resources",
                                    "3": "Human Resources Representative"
                                },
                                {
                                    "0": "Baer",
                                    "1": "7",
                                    "2": "Public Relations",
                                    "3": "Public Relations Representative"
                                },
                                {
                                    "0": "Higgins",
                                    "1": "11",
                                    "2": "Accounting",
                                    "3": "Accounting Manager"
                                },
                                {
                                    "0": "Gietz",
                                    "1": "11",
                                    "2": "Accounting",
                                    "3": "Public Accountant"
                                }
                            ]
                        },
                        "text/html": "<table><tr><th>last_name</th><th>department_id</th><th>department_name</th><th>job_title</th></tr><tr><td>King</td><td>9</td><td>Executive</td><td>President</td></tr><tr><td>Kochhar</td><td>9</td><td>Executive</td><td>Administration Vice President</td></tr><tr><td>De Haan</td><td>9</td><td>Executive</td><td>Administration Vice President</td></tr><tr><td>Hunold</td><td>6</td><td>IT</td><td>Programmer</td></tr><tr><td>Ernst</td><td>6</td><td>IT</td><td>Programmer</td></tr><tr><td>Austin</td><td>6</td><td>IT</td><td>Programmer</td></tr><tr><td>Pataballa</td><td>6</td><td>IT</td><td>Programmer</td></tr><tr><td>Lorentz</td><td>6</td><td>IT</td><td>Programmer</td></tr><tr><td>Greenberg</td><td>10</td><td>Finance</td><td>Finance Manager</td></tr><tr><td>Faviet</td><td>10</td><td>Finance</td><td>Accountant</td></tr><tr><td>Chen</td><td>10</td><td>Finance</td><td>Accountant</td></tr><tr><td>Sciarra</td><td>10</td><td>Finance</td><td>Accountant</td></tr><tr><td>Urman</td><td>10</td><td>Finance</td><td>Accountant</td></tr><tr><td>Popp</td><td>10</td><td>Finance</td><td>Accountant</td></tr><tr><td>Raphaely</td><td>3</td><td>Purchasing</td><td>Purchasing Manager</td></tr><tr><td>Khoo</td><td>3</td><td>Purchasing</td><td>Purchasing Clerk</td></tr><tr><td>Baida</td><td>3</td><td>Purchasing</td><td>Purchasing Clerk</td></tr><tr><td>Tobias</td><td>3</td><td>Purchasing</td><td>Purchasing Clerk</td></tr><tr><td>Himuro</td><td>3</td><td>Purchasing</td><td>Purchasing Clerk</td></tr><tr><td>Colmenares</td><td>3</td><td>Purchasing</td><td>Purchasing Clerk</td></tr><tr><td>Weiss</td><td>5</td><td>Shipping</td><td>Stock Manager</td></tr><tr><td>Fripp</td><td>5</td><td>Shipping</td><td>Stock Manager</td></tr><tr><td>Kaufling</td><td>5</td><td>Shipping</td><td>Stock Manager</td></tr><tr><td>Vollman</td><td>5</td><td>Shipping</td><td>Stock Manager</td></tr><tr><td>Mikkilineni</td><td>5</td><td>Shipping</td><td>Stock Clerk</td></tr><tr><td>Russell</td><td>8</td><td>Sales</td><td>Sales Manager</td></tr><tr><td>Partners</td><td>8</td><td>Sales</td><td>Sales Manager</td></tr><tr><td>Taylor</td><td>8</td><td>Sales</td><td>Sales Representative</td></tr><tr><td>Livingston</td><td>8</td><td>Sales</td><td>Sales Representative</td></tr><tr><td>Grant</td><td>8</td><td>Sales</td><td>Sales Representative</td></tr><tr><td>Johnson</td><td>8</td><td>Sales</td><td>Sales Representative</td></tr><tr><td>Bell</td><td>5</td><td>Shipping</td><td>Shipping Clerk</td></tr><tr><td>Everett</td><td>5</td><td>Shipping</td><td>Shipping Clerk</td></tr><tr><td>Whalen</td><td>1</td><td>Administration</td><td>Administration Assistant</td></tr><tr><td>Hartstein</td><td>2</td><td>Marketing</td><td>Marketing Manager</td></tr><tr><td>Fay</td><td>2</td><td>Marketing</td><td>Marketing Representative</td></tr><tr><td>Mavris</td><td>4</td><td>Human Resources</td><td>Human Resources Representative</td></tr><tr><td>Baer</td><td>7</td><td>Public Relations</td><td>Public Relations Representative</td></tr><tr><td>Higgins</td><td>11</td><td>Accounting</td><td>Accounting Manager</td></tr><tr><td>Gietz</td><td>11</td><td>Accounting</td><td>Public Accountant</td></tr></table>"
                    },
                    "metadata": {}
                }
            ],
            "execution_count": 21
        },
        {
            "cell_type": "code",
            "source": [
                "--Query No. 9\r\n",
                "SELECT e.first_name AS 'Employee Name', e.employee_id AS 'Employee Number',\r\n",
                "m.first_name AS 'Manager', m.manager_id AS 'Manager Number' FROM employees e\r\n",
                "JOIN employees m ON e.manager_id=m.employee_id\r\n",
                ""
            ],
            "metadata": {
                "azdata_cell_guid": "e743b046-c2d2-4e37-a9b6-6e547ac885bb",
                "language": "sql"
            },
            "outputs": [
                {
                    "output_type": "display_data",
                    "data": {
                        "text/html": "(39 rows affected)"
                    },
                    "metadata": {}
                },
                {
                    "output_type": "display_data",
                    "data": {
                        "text/html": "Total execution time: 00:00:00.006"
                    },
                    "metadata": {}
                },
                {
                    "output_type": "execute_result",
                    "execution_count": 22,
                    "data": {
                        "application/vnd.dataresource+json": {
                            "schema": {
                                "fields": [
                                    {
                                        "name": "Employee Name"
                                    },
                                    {
                                        "name": "Employee Number"
                                    },
                                    {
                                        "name": "Manager"
                                    },
                                    {
                                        "name": "Manager Number"
                                    }
                                ]
                            },
                            "data": [
                                {
                                    "0": "Neena",
                                    "1": "101",
                                    "2": "Steven",
                                    "3": "NULL"
                                },
                                {
                                    "0": "Lex",
                                    "1": "102",
                                    "2": "Steven",
                                    "3": "NULL"
                                },
                                {
                                    "0": "Alexander",
                                    "1": "103",
                                    "2": "Lex",
                                    "3": "100"
                                },
                                {
                                    "0": "Bruce",
                                    "1": "104",
                                    "2": "Alexander",
                                    "3": "102"
                                },
                                {
                                    "0": "David",
                                    "1": "105",
                                    "2": "Alexander",
                                    "3": "102"
                                },
                                {
                                    "0": "Valli",
                                    "1": "106",
                                    "2": "Alexander",
                                    "3": "102"
                                },
                                {
                                    "0": "Diana",
                                    "1": "107",
                                    "2": "Alexander",
                                    "3": "102"
                                },
                                {
                                    "0": "Nancy",
                                    "1": "108",
                                    "2": "Neena",
                                    "3": "100"
                                },
                                {
                                    "0": "Daniel",
                                    "1": "109",
                                    "2": "Nancy",
                                    "3": "101"
                                },
                                {
                                    "0": "John",
                                    "1": "110",
                                    "2": "Nancy",
                                    "3": "101"
                                },
                                {
                                    "0": "Ismael",
                                    "1": "111",
                                    "2": "Nancy",
                                    "3": "101"
                                },
                                {
                                    "0": "Jose Manuel",
                                    "1": "112",
                                    "2": "Nancy",
                                    "3": "101"
                                },
                                {
                                    "0": "Luis",
                                    "1": "113",
                                    "2": "Nancy",
                                    "3": "101"
                                },
                                {
                                    "0": "Den",
                                    "1": "114",
                                    "2": "Steven",
                                    "3": "NULL"
                                },
                                {
                                    "0": "Alexander",
                                    "1": "115",
                                    "2": "Den",
                                    "3": "100"
                                },
                                {
                                    "0": "Shelli",
                                    "1": "116",
                                    "2": "Den",
                                    "3": "100"
                                },
                                {
                                    "0": "Sigal",
                                    "1": "117",
                                    "2": "Den",
                                    "3": "100"
                                },
                                {
                                    "0": "Guy",
                                    "1": "118",
                                    "2": "Den",
                                    "3": "100"
                                },
                                {
                                    "0": "Karen",
                                    "1": "119",
                                    "2": "Den",
                                    "3": "100"
                                },
                                {
                                    "0": "Matthew",
                                    "1": "120",
                                    "2": "Steven",
                                    "3": "NULL"
                                },
                                {
                                    "0": "Adam",
                                    "1": "121",
                                    "2": "Steven",
                                    "3": "NULL"
                                },
                                {
                                    "0": "Payam",
                                    "1": "122",
                                    "2": "Steven",
                                    "3": "NULL"
                                },
                                {
                                    "0": "Shanta",
                                    "1": "123",
                                    "2": "Steven",
                                    "3": "NULL"
                                },
                                {
                                    "0": "Irene",
                                    "1": "126",
                                    "2": "Matthew",
                                    "3": "100"
                                },
                                {
                                    "0": "John",
                                    "1": "145",
                                    "2": "Steven",
                                    "3": "NULL"
                                },
                                {
                                    "0": "Karen",
                                    "1": "146",
                                    "2": "Steven",
                                    "3": "NULL"
                                },
                                {
                                    "0": "Jonathon",
                                    "1": "176",
                                    "2": "Steven",
                                    "3": "NULL"
                                },
                                {
                                    "0": "Jack",
                                    "1": "177",
                                    "2": "Steven",
                                    "3": "NULL"
                                },
                                {
                                    "0": "Kimberely",
                                    "1": "178",
                                    "2": "Steven",
                                    "3": "NULL"
                                },
                                {
                                    "0": "Charles",
                                    "1": "179",
                                    "2": "Steven",
                                    "3": "NULL"
                                },
                                {
                                    "0": "Sarah",
                                    "1": "192",
                                    "2": "Shanta",
                                    "3": "100"
                                },
                                {
                                    "0": "Britney",
                                    "1": "193",
                                    "2": "Shanta",
                                    "3": "100"
                                },
                                {
                                    "0": "Jennifer",
                                    "1": "200",
                                    "2": "Neena",
                                    "3": "100"
                                },
                                {
                                    "0": "Michael",
                                    "1": "201",
                                    "2": "Steven",
                                    "3": "NULL"
                                },
                                {
                                    "0": "Pat",
                                    "1": "202",
                                    "2": "Michael",
                                    "3": "100"
                                },
                                {
                                    "0": "Susan",
                                    "1": "203",
                                    "2": "Neena",
                                    "3": "100"
                                },
                                {
                                    "0": "Hermann",
                                    "1": "204",
                                    "2": "Neena",
                                    "3": "100"
                                },
                                {
                                    "0": "Shelley",
                                    "1": "205",
                                    "2": "Neena",
                                    "3": "100"
                                },
                                {
                                    "0": "William",
                                    "1": "206",
                                    "2": "Shelley",
                                    "3": "101"
                                }
                            ]
                        },
                        "text/html": "<table><tr><th>Employee Name</th><th>Employee Number</th><th>Manager</th><th>Manager Number</th></tr><tr><td>Neena</td><td>101</td><td>Steven</td><td>NULL</td></tr><tr><td>Lex</td><td>102</td><td>Steven</td><td>NULL</td></tr><tr><td>Alexander</td><td>103</td><td>Lex</td><td>100</td></tr><tr><td>Bruce</td><td>104</td><td>Alexander</td><td>102</td></tr><tr><td>David</td><td>105</td><td>Alexander</td><td>102</td></tr><tr><td>Valli</td><td>106</td><td>Alexander</td><td>102</td></tr><tr><td>Diana</td><td>107</td><td>Alexander</td><td>102</td></tr><tr><td>Nancy</td><td>108</td><td>Neena</td><td>100</td></tr><tr><td>Daniel</td><td>109</td><td>Nancy</td><td>101</td></tr><tr><td>John</td><td>110</td><td>Nancy</td><td>101</td></tr><tr><td>Ismael</td><td>111</td><td>Nancy</td><td>101</td></tr><tr><td>Jose Manuel</td><td>112</td><td>Nancy</td><td>101</td></tr><tr><td>Luis</td><td>113</td><td>Nancy</td><td>101</td></tr><tr><td>Den</td><td>114</td><td>Steven</td><td>NULL</td></tr><tr><td>Alexander</td><td>115</td><td>Den</td><td>100</td></tr><tr><td>Shelli</td><td>116</td><td>Den</td><td>100</td></tr><tr><td>Sigal</td><td>117</td><td>Den</td><td>100</td></tr><tr><td>Guy</td><td>118</td><td>Den</td><td>100</td></tr><tr><td>Karen</td><td>119</td><td>Den</td><td>100</td></tr><tr><td>Matthew</td><td>120</td><td>Steven</td><td>NULL</td></tr><tr><td>Adam</td><td>121</td><td>Steven</td><td>NULL</td></tr><tr><td>Payam</td><td>122</td><td>Steven</td><td>NULL</td></tr><tr><td>Shanta</td><td>123</td><td>Steven</td><td>NULL</td></tr><tr><td>Irene</td><td>126</td><td>Matthew</td><td>100</td></tr><tr><td>John</td><td>145</td><td>Steven</td><td>NULL</td></tr><tr><td>Karen</td><td>146</td><td>Steven</td><td>NULL</td></tr><tr><td>Jonathon</td><td>176</td><td>Steven</td><td>NULL</td></tr><tr><td>Jack</td><td>177</td><td>Steven</td><td>NULL</td></tr><tr><td>Kimberely</td><td>178</td><td>Steven</td><td>NULL</td></tr><tr><td>Charles</td><td>179</td><td>Steven</td><td>NULL</td></tr><tr><td>Sarah</td><td>192</td><td>Shanta</td><td>100</td></tr><tr><td>Britney</td><td>193</td><td>Shanta</td><td>100</td></tr><tr><td>Jennifer</td><td>200</td><td>Neena</td><td>100</td></tr><tr><td>Michael</td><td>201</td><td>Steven</td><td>NULL</td></tr><tr><td>Pat</td><td>202</td><td>Michael</td><td>100</td></tr><tr><td>Susan</td><td>203</td><td>Neena</td><td>100</td></tr><tr><td>Hermann</td><td>204</td><td>Neena</td><td>100</td></tr><tr><td>Shelley</td><td>205</td><td>Neena</td><td>100</td></tr><tr><td>William</td><td>206</td><td>Shelley</td><td>101</td></tr></table>"
                    },
                    "metadata": {}
                }
            ],
            "execution_count": 22
        },
        {
            "cell_type": "code",
            "source": [
                "--Query No. 10\r\n",
                "SELECT e.last_name,d.department_id FROM employees e\r\n",
                "JOIN departments d ON e.department_id=d.department_id\r\n",
                "ORDER BY e.last_name ASC"
            ],
            "metadata": {
                "azdata_cell_guid": "ee3bbc53-9da6-415b-9120-648587a3c7e3",
                "language": "sql",
                "tags": []
            },
            "outputs": [
                {
                    "output_type": "display_data",
                    "data": {
                        "text/html": "(40 rows affected)"
                    },
                    "metadata": {}
                },
                {
                    "output_type": "display_data",
                    "data": {
                        "text/html": "Total execution time: 00:00:00.006"
                    },
                    "metadata": {}
                },
                {
                    "output_type": "execute_result",
                    "execution_count": 23,
                    "data": {
                        "application/vnd.dataresource+json": {
                            "schema": {
                                "fields": [
                                    {
                                        "name": "last_name"
                                    },
                                    {
                                        "name": "department_id"
                                    }
                                ]
                            },
                            "data": [
                                {
                                    "0": "Austin",
                                    "1": "6"
                                },
                                {
                                    "0": "Baer",
                                    "1": "7"
                                },
                                {
                                    "0": "Baida",
                                    "1": "3"
                                },
                                {
                                    "0": "Bell",
                                    "1": "5"
                                },
                                {
                                    "0": "Chen",
                                    "1": "10"
                                },
                                {
                                    "0": "Colmenares",
                                    "1": "3"
                                },
                                {
                                    "0": "De Haan",
                                    "1": "9"
                                },
                                {
                                    "0": "Ernst",
                                    "1": "6"
                                },
                                {
                                    "0": "Everett",
                                    "1": "5"
                                },
                                {
                                    "0": "Faviet",
                                    "1": "10"
                                },
                                {
                                    "0": "Fay",
                                    "1": "2"
                                },
                                {
                                    "0": "Fripp",
                                    "1": "5"
                                },
                                {
                                    "0": "Gietz",
                                    "1": "11"
                                },
                                {
                                    "0": "Grant",
                                    "1": "8"
                                },
                                {
                                    "0": "Greenberg",
                                    "1": "10"
                                },
                                {
                                    "0": "Hartstein",
                                    "1": "2"
                                },
                                {
                                    "0": "Higgins",
                                    "1": "11"
                                },
                                {
                                    "0": "Himuro",
                                    "1": "3"
                                },
                                {
                                    "0": "Hunold",
                                    "1": "6"
                                },
                                {
                                    "0": "Johnson",
                                    "1": "8"
                                },
                                {
                                    "0": "Kaufling",
                                    "1": "5"
                                },
                                {
                                    "0": "Khoo",
                                    "1": "3"
                                },
                                {
                                    "0": "King",
                                    "1": "9"
                                },
                                {
                                    "0": "Kochhar",
                                    "1": "9"
                                },
                                {
                                    "0": "Livingston",
                                    "1": "8"
                                },
                                {
                                    "0": "Lorentz",
                                    "1": "6"
                                },
                                {
                                    "0": "Mavris",
                                    "1": "4"
                                },
                                {
                                    "0": "Mikkilineni",
                                    "1": "5"
                                },
                                {
                                    "0": "Partners",
                                    "1": "8"
                                },
                                {
                                    "0": "Pataballa",
                                    "1": "6"
                                },
                                {
                                    "0": "Popp",
                                    "1": "10"
                                },
                                {
                                    "0": "Raphaely",
                                    "1": "3"
                                },
                                {
                                    "0": "Russell",
                                    "1": "8"
                                },
                                {
                                    "0": "Sciarra",
                                    "1": "10"
                                },
                                {
                                    "0": "Taylor",
                                    "1": "8"
                                },
                                {
                                    "0": "Tobias",
                                    "1": "3"
                                },
                                {
                                    "0": "Urman",
                                    "1": "10"
                                },
                                {
                                    "0": "Vollman",
                                    "1": "5"
                                },
                                {
                                    "0": "Weiss",
                                    "1": "5"
                                },
                                {
                                    "0": "Whalen",
                                    "1": "1"
                                }
                            ]
                        },
                        "text/html": "<table><tr><th>last_name</th><th>department_id</th></tr><tr><td>Austin</td><td>6</td></tr><tr><td>Baer</td><td>7</td></tr><tr><td>Baida</td><td>3</td></tr><tr><td>Bell</td><td>5</td></tr><tr><td>Chen</td><td>10</td></tr><tr><td>Colmenares</td><td>3</td></tr><tr><td>De Haan</td><td>9</td></tr><tr><td>Ernst</td><td>6</td></tr><tr><td>Everett</td><td>5</td></tr><tr><td>Faviet</td><td>10</td></tr><tr><td>Fay</td><td>2</td></tr><tr><td>Fripp</td><td>5</td></tr><tr><td>Gietz</td><td>11</td></tr><tr><td>Grant</td><td>8</td></tr><tr><td>Greenberg</td><td>10</td></tr><tr><td>Hartstein</td><td>2</td></tr><tr><td>Higgins</td><td>11</td></tr><tr><td>Himuro</td><td>3</td></tr><tr><td>Hunold</td><td>6</td></tr><tr><td>Johnson</td><td>8</td></tr><tr><td>Kaufling</td><td>5</td></tr><tr><td>Khoo</td><td>3</td></tr><tr><td>King</td><td>9</td></tr><tr><td>Kochhar</td><td>9</td></tr><tr><td>Livingston</td><td>8</td></tr><tr><td>Lorentz</td><td>6</td></tr><tr><td>Mavris</td><td>4</td></tr><tr><td>Mikkilineni</td><td>5</td></tr><tr><td>Partners</td><td>8</td></tr><tr><td>Pataballa</td><td>6</td></tr><tr><td>Popp</td><td>10</td></tr><tr><td>Raphaely</td><td>3</td></tr><tr><td>Russell</td><td>8</td></tr><tr><td>Sciarra</td><td>10</td></tr><tr><td>Taylor</td><td>8</td></tr><tr><td>Tobias</td><td>3</td></tr><tr><td>Urman</td><td>10</td></tr><tr><td>Vollman</td><td>5</td></tr><tr><td>Weiss</td><td>5</td></tr><tr><td>Whalen</td><td>1</td></tr></table>"
                    },
                    "metadata": {}
                }
            ],
            "execution_count": 23
        },
        {
            "cell_type": "code",
            "source": [
                "--Query No. 11\r\n",
                "--Note : Grade Column is not in DB Schema\r\n",
                "SELECT e.first_name+''+e.last_name AS 'Name',j.job_title AS 'Job_Title',d.department_id AS 'Department_Id',e.salary as 'Salary' FROM employees e\r\n",
                "JOIN departments d ON e.department_id=d.department_id\r\n",
                "JOIN jobs j ON e.job_id=j.job_id"
            ],
            "metadata": {
                "language": "sql",
                "azdata_cell_guid": "d6ca0192-a6f7-48a1-ae8d-3243ccb5fc54"
            },
            "outputs": [
                {
                    "output_type": "display_data",
                    "data": {
                        "text/html": "(40 rows affected)"
                    },
                    "metadata": {}
                },
                {
                    "output_type": "display_data",
                    "data": {
                        "text/html": "Total execution time: 00:00:00.006"
                    },
                    "metadata": {}
                },
                {
                    "output_type": "execute_result",
                    "execution_count": 24,
                    "data": {
                        "application/vnd.dataresource+json": {
                            "schema": {
                                "fields": [
                                    {
                                        "name": "Name"
                                    },
                                    {
                                        "name": "Job_Title"
                                    },
                                    {
                                        "name": "Department_Id"
                                    },
                                    {
                                        "name": "Salary"
                                    }
                                ]
                            },
                            "data": [
                                {
                                    "0": "StevenKing",
                                    "1": "President",
                                    "2": "9",
                                    "3": "24000.00"
                                },
                                {
                                    "0": "NeenaKochhar",
                                    "1": "Administration Vice President",
                                    "2": "9",
                                    "3": "17000.00"
                                },
                                {
                                    "0": "LexDe Haan",
                                    "1": "Administration Vice President",
                                    "2": "9",
                                    "3": "17000.00"
                                },
                                {
                                    "0": "AlexanderHunold",
                                    "1": "Programmer",
                                    "2": "6",
                                    "3": "9000.00"
                                },
                                {
                                    "0": "BruceErnst",
                                    "1": "Programmer",
                                    "2": "6",
                                    "3": "6000.00"
                                },
                                {
                                    "0": "DavidAustin",
                                    "1": "Programmer",
                                    "2": "6",
                                    "3": "4800.00"
                                },
                                {
                                    "0": "ValliPataballa",
                                    "1": "Programmer",
                                    "2": "6",
                                    "3": "4800.00"
                                },
                                {
                                    "0": "DianaLorentz",
                                    "1": "Programmer",
                                    "2": "6",
                                    "3": "4200.00"
                                },
                                {
                                    "0": "NancyGreenberg",
                                    "1": "Finance Manager",
                                    "2": "10",
                                    "3": "12000.00"
                                },
                                {
                                    "0": "DanielFaviet",
                                    "1": "Accountant",
                                    "2": "10",
                                    "3": "9000.00"
                                },
                                {
                                    "0": "JohnChen",
                                    "1": "Accountant",
                                    "2": "10",
                                    "3": "8200.00"
                                },
                                {
                                    "0": "IsmaelSciarra",
                                    "1": "Accountant",
                                    "2": "10",
                                    "3": "7700.00"
                                },
                                {
                                    "0": "Jose ManuelUrman",
                                    "1": "Accountant",
                                    "2": "10",
                                    "3": "7800.00"
                                },
                                {
                                    "0": "LuisPopp",
                                    "1": "Accountant",
                                    "2": "10",
                                    "3": "6900.00"
                                },
                                {
                                    "0": "DenRaphaely",
                                    "1": "Purchasing Manager",
                                    "2": "3",
                                    "3": "11000.00"
                                },
                                {
                                    "0": "AlexanderKhoo",
                                    "1": "Purchasing Clerk",
                                    "2": "3",
                                    "3": "3100.00"
                                },
                                {
                                    "0": "ShelliBaida",
                                    "1": "Purchasing Clerk",
                                    "2": "3",
                                    "3": "2900.00"
                                },
                                {
                                    "0": "SigalTobias",
                                    "1": "Purchasing Clerk",
                                    "2": "3",
                                    "3": "2800.00"
                                },
                                {
                                    "0": "GuyHimuro",
                                    "1": "Purchasing Clerk",
                                    "2": "3",
                                    "3": "2600.00"
                                },
                                {
                                    "0": "KarenColmenares",
                                    "1": "Purchasing Clerk",
                                    "2": "3",
                                    "3": "2500.00"
                                },
                                {
                                    "0": "MatthewWeiss",
                                    "1": "Stock Manager",
                                    "2": "5",
                                    "3": "8000.00"
                                },
                                {
                                    "0": "AdamFripp",
                                    "1": "Stock Manager",
                                    "2": "5",
                                    "3": "8200.00"
                                },
                                {
                                    "0": "PayamKaufling",
                                    "1": "Stock Manager",
                                    "2": "5",
                                    "3": "7900.00"
                                },
                                {
                                    "0": "ShantaVollman",
                                    "1": "Stock Manager",
                                    "2": "5",
                                    "3": "6500.00"
                                },
                                {
                                    "0": "IreneMikkilineni",
                                    "1": "Stock Clerk",
                                    "2": "5",
                                    "3": "2700.00"
                                },
                                {
                                    "0": "JohnRussell",
                                    "1": "Sales Manager",
                                    "2": "8",
                                    "3": "14000.00"
                                },
                                {
                                    "0": "KarenPartners",
                                    "1": "Sales Manager",
                                    "2": "8",
                                    "3": "13500.00"
                                },
                                {
                                    "0": "JonathonTaylor",
                                    "1": "Sales Representative",
                                    "2": "8",
                                    "3": "8600.00"
                                },
                                {
                                    "0": "JackLivingston",
                                    "1": "Sales Representative",
                                    "2": "8",
                                    "3": "8400.00"
                                },
                                {
                                    "0": "KimberelyGrant",
                                    "1": "Sales Representative",
                                    "2": "8",
                                    "3": "7000.00"
                                },
                                {
                                    "0": "CharlesJohnson",
                                    "1": "Sales Representative",
                                    "2": "8",
                                    "3": "6200.00"
                                },
                                {
                                    "0": "SarahBell",
                                    "1": "Shipping Clerk",
                                    "2": "5",
                                    "3": "4000.00"
                                },
                                {
                                    "0": "BritneyEverett",
                                    "1": "Shipping Clerk",
                                    "2": "5",
                                    "3": "3900.00"
                                },
                                {
                                    "0": "JenniferWhalen",
                                    "1": "Administration Assistant",
                                    "2": "1",
                                    "3": "4400.00"
                                },
                                {
                                    "0": "MichaelHartstein",
                                    "1": "Marketing Manager",
                                    "2": "2",
                                    "3": "13000.00"
                                },
                                {
                                    "0": "PatFay",
                                    "1": "Marketing Representative",
                                    "2": "2",
                                    "3": "6000.00"
                                },
                                {
                                    "0": "SusanMavris",
                                    "1": "Human Resources Representative",
                                    "2": "4",
                                    "3": "6500.00"
                                },
                                {
                                    "0": "HermannBaer",
                                    "1": "Public Relations Representative",
                                    "2": "7",
                                    "3": "10000.00"
                                },
                                {
                                    "0": "ShelleyHiggins",
                                    "1": "Accounting Manager",
                                    "2": "11",
                                    "3": "12000.00"
                                },
                                {
                                    "0": "WilliamGietz",
                                    "1": "Public Accountant",
                                    "2": "11",
                                    "3": "8300.00"
                                }
                            ]
                        },
                        "text/html": "<table><tr><th>Name</th><th>Job_Title</th><th>Department_Id</th><th>Salary</th></tr><tr><td>StevenKing</td><td>President</td><td>9</td><td>24000.00</td></tr><tr><td>NeenaKochhar</td><td>Administration Vice President</td><td>9</td><td>17000.00</td></tr><tr><td>LexDe Haan</td><td>Administration Vice President</td><td>9</td><td>17000.00</td></tr><tr><td>AlexanderHunold</td><td>Programmer</td><td>6</td><td>9000.00</td></tr><tr><td>BruceErnst</td><td>Programmer</td><td>6</td><td>6000.00</td></tr><tr><td>DavidAustin</td><td>Programmer</td><td>6</td><td>4800.00</td></tr><tr><td>ValliPataballa</td><td>Programmer</td><td>6</td><td>4800.00</td></tr><tr><td>DianaLorentz</td><td>Programmer</td><td>6</td><td>4200.00</td></tr><tr><td>NancyGreenberg</td><td>Finance Manager</td><td>10</td><td>12000.00</td></tr><tr><td>DanielFaviet</td><td>Accountant</td><td>10</td><td>9000.00</td></tr><tr><td>JohnChen</td><td>Accountant</td><td>10</td><td>8200.00</td></tr><tr><td>IsmaelSciarra</td><td>Accountant</td><td>10</td><td>7700.00</td></tr><tr><td>Jose ManuelUrman</td><td>Accountant</td><td>10</td><td>7800.00</td></tr><tr><td>LuisPopp</td><td>Accountant</td><td>10</td><td>6900.00</td></tr><tr><td>DenRaphaely</td><td>Purchasing Manager</td><td>3</td><td>11000.00</td></tr><tr><td>AlexanderKhoo</td><td>Purchasing Clerk</td><td>3</td><td>3100.00</td></tr><tr><td>ShelliBaida</td><td>Purchasing Clerk</td><td>3</td><td>2900.00</td></tr><tr><td>SigalTobias</td><td>Purchasing Clerk</td><td>3</td><td>2800.00</td></tr><tr><td>GuyHimuro</td><td>Purchasing Clerk</td><td>3</td><td>2600.00</td></tr><tr><td>KarenColmenares</td><td>Purchasing Clerk</td><td>3</td><td>2500.00</td></tr><tr><td>MatthewWeiss</td><td>Stock Manager</td><td>5</td><td>8000.00</td></tr><tr><td>AdamFripp</td><td>Stock Manager</td><td>5</td><td>8200.00</td></tr><tr><td>PayamKaufling</td><td>Stock Manager</td><td>5</td><td>7900.00</td></tr><tr><td>ShantaVollman</td><td>Stock Manager</td><td>5</td><td>6500.00</td></tr><tr><td>IreneMikkilineni</td><td>Stock Clerk</td><td>5</td><td>2700.00</td></tr><tr><td>JohnRussell</td><td>Sales Manager</td><td>8</td><td>14000.00</td></tr><tr><td>KarenPartners</td><td>Sales Manager</td><td>8</td><td>13500.00</td></tr><tr><td>JonathonTaylor</td><td>Sales Representative</td><td>8</td><td>8600.00</td></tr><tr><td>JackLivingston</td><td>Sales Representative</td><td>8</td><td>8400.00</td></tr><tr><td>KimberelyGrant</td><td>Sales Representative</td><td>8</td><td>7000.00</td></tr><tr><td>CharlesJohnson</td><td>Sales Representative</td><td>8</td><td>6200.00</td></tr><tr><td>SarahBell</td><td>Shipping Clerk</td><td>5</td><td>4000.00</td></tr><tr><td>BritneyEverett</td><td>Shipping Clerk</td><td>5</td><td>3900.00</td></tr><tr><td>JenniferWhalen</td><td>Administration Assistant</td><td>1</td><td>4400.00</td></tr><tr><td>MichaelHartstein</td><td>Marketing Manager</td><td>2</td><td>13000.00</td></tr><tr><td>PatFay</td><td>Marketing Representative</td><td>2</td><td>6000.00</td></tr><tr><td>SusanMavris</td><td>Human Resources Representative</td><td>4</td><td>6500.00</td></tr><tr><td>HermannBaer</td><td>Public Relations Representative</td><td>7</td><td>10000.00</td></tr><tr><td>ShelleyHiggins</td><td>Accounting Manager</td><td>11</td><td>12000.00</td></tr><tr><td>WilliamGietz</td><td>Public Accountant</td><td>11</td><td>8300.00</td></tr></table>"
                    },
                    "metadata": {}
                }
            ],
            "execution_count": 24
        },
        {
            "cell_type": "code",
            "source": [
                "-----------------Sub Query---------\r\n",
                "--Query No.1\r\n",
                "--search data according to department\r\n",
                "select last_name,hire_date from employees where department_id in(select department_id from departments where department_id=8)\r\n",
                "--or\r\n",
                "select last_name,hire_date from employees where last_name in(select last_name from employees where last_name in(\r\n",
                "'Russell','Partners','Taylor','Livingston','Grant','Johnson'))\r\n",
                ""
            ],
            "metadata": {
                "language": "sql",
                "azdata_cell_guid": "0ca12e10-9cd6-4546-ace5-71032f1e0208",
                "tags": []
            },
            "outputs": [
                {
                    "output_type": "display_data",
                    "data": {
                        "text/html": "(6 rows affected)"
                    },
                    "metadata": {}
                },
                {
                    "output_type": "display_data",
                    "data": {
                        "text/html": "(6 rows affected)"
                    },
                    "metadata": {}
                },
                {
                    "output_type": "display_data",
                    "data": {
                        "text/html": "Total execution time: 00:00:00.016"
                    },
                    "metadata": {}
                },
                {
                    "output_type": "execute_result",
                    "metadata": {},
                    "execution_count": 2,
                    "data": {
                        "application/vnd.dataresource+json": {
                            "schema": {
                                "fields": [
                                    {
                                        "name": "last_name"
                                    },
                                    {
                                        "name": "hire_date"
                                    }
                                ]
                            },
                            "data": [
                                {
                                    "0": "Russell",
                                    "1": "1996-10-01"
                                },
                                {
                                    "0": "Partners",
                                    "1": "1997-01-05"
                                },
                                {
                                    "0": "Taylor",
                                    "1": "1998-03-24"
                                },
                                {
                                    "0": "Livingston",
                                    "1": "1998-04-23"
                                },
                                {
                                    "0": "Grant",
                                    "1": "1999-05-24"
                                },
                                {
                                    "0": "Johnson",
                                    "1": "2000-01-04"
                                }
                            ]
                        },
                        "text/html": [
                            "<table>",
                            "<tr><th>last_name</th><th>hire_date</th></tr>",
                            "<tr><td>Russell</td><td>1996-10-01</td></tr>",
                            "<tr><td>Partners</td><td>1997-01-05</td></tr>",
                            "<tr><td>Taylor</td><td>1998-03-24</td></tr>",
                            "<tr><td>Livingston</td><td>1998-04-23</td></tr>",
                            "<tr><td>Grant</td><td>1999-05-24</td></tr>",
                            "<tr><td>Johnson</td><td>2000-01-04</td></tr>",
                            "</table>"
                        ]
                    }
                },
                {
                    "output_type": "execute_result",
                    "metadata": {},
                    "execution_count": 2,
                    "data": {
                        "application/vnd.dataresource+json": {
                            "schema": {
                                "fields": [
                                    {
                                        "name": "last_name"
                                    },
                                    {
                                        "name": "hire_date"
                                    }
                                ]
                            },
                            "data": [
                                {
                                    "0": "Russell",
                                    "1": "1996-10-01"
                                },
                                {
                                    "0": "Partners",
                                    "1": "1997-01-05"
                                },
                                {
                                    "0": "Taylor",
                                    "1": "1998-03-24"
                                },
                                {
                                    "0": "Livingston",
                                    "1": "1998-04-23"
                                },
                                {
                                    "0": "Grant",
                                    "1": "1999-05-24"
                                },
                                {
                                    "0": "Johnson",
                                    "1": "2000-01-04"
                                }
                            ]
                        },
                        "text/html": [
                            "<table>",
                            "<tr><th>last_name</th><th>hire_date</th></tr>",
                            "<tr><td>Russell</td><td>1996-10-01</td></tr>",
                            "<tr><td>Partners</td><td>1997-01-05</td></tr>",
                            "<tr><td>Taylor</td><td>1998-03-24</td></tr>",
                            "<tr><td>Livingston</td><td>1998-04-23</td></tr>",
                            "<tr><td>Grant</td><td>1999-05-24</td></tr>",
                            "<tr><td>Johnson</td><td>2000-01-04</td></tr>",
                            "</table>"
                        ]
                    }
                }
            ],
            "execution_count": 2
        },
        {
            "cell_type": "code",
            "source": [
                "--Query No.2\r\n",
                "SELECT employee_id,first_name,salary FROM employees where salary in (select salary from employees where salary>=8200) order by salary asc"
            ],
            "metadata": {
                "language": "sql",
                "azdata_cell_guid": "2f4b7e2d-a962-436a-aa58-7bb98e6ca854"
            },
            "outputs": [
                {
                    "output_type": "display_data",
                    "data": {
                        "text/html": "(17 rows affected)"
                    },
                    "metadata": {}
                },
                {
                    "output_type": "display_data",
                    "data": {
                        "text/html": "Total execution time: 00:00:00.007"
                    },
                    "metadata": {}
                },
                {
                    "output_type": "execute_result",
                    "execution_count": 26,
                    "data": {
                        "application/vnd.dataresource+json": {
                            "schema": {
                                "fields": [
                                    {
                                        "name": "employee_id"
                                    },
                                    {
                                        "name": "first_name"
                                    },
                                    {
                                        "name": "salary"
                                    }
                                ]
                            },
                            "data": [
                                {
                                    "0": "110",
                                    "1": "John",
                                    "2": "8200.00"
                                },
                                {
                                    "0": "121",
                                    "1": "Adam",
                                    "2": "8200.00"
                                },
                                {
                                    "0": "206",
                                    "1": "William",
                                    "2": "8300.00"
                                },
                                {
                                    "0": "177",
                                    "1": "Jack",
                                    "2": "8400.00"
                                },
                                {
                                    "0": "176",
                                    "1": "Jonathon",
                                    "2": "8600.00"
                                },
                                {
                                    "0": "103",
                                    "1": "Alexander",
                                    "2": "9000.00"
                                },
                                {
                                    "0": "109",
                                    "1": "Daniel",
                                    "2": "9000.00"
                                },
                                {
                                    "0": "204",
                                    "1": "Hermann",
                                    "2": "10000.00"
                                },
                                {
                                    "0": "114",
                                    "1": "Den",
                                    "2": "11000.00"
                                },
                                {
                                    "0": "108",
                                    "1": "Nancy",
                                    "2": "12000.00"
                                },
                                {
                                    "0": "205",
                                    "1": "Shelley",
                                    "2": "12000.00"
                                },
                                {
                                    "0": "201",
                                    "1": "Michael",
                                    "2": "13000.00"
                                },
                                {
                                    "0": "146",
                                    "1": "Karen",
                                    "2": "13500.00"
                                },
                                {
                                    "0": "145",
                                    "1": "John",
                                    "2": "14000.00"
                                },
                                {
                                    "0": "101",
                                    "1": "Neena",
                                    "2": "17000.00"
                                },
                                {
                                    "0": "102",
                                    "1": "Lex",
                                    "2": "17000.00"
                                },
                                {
                                    "0": "100",
                                    "1": "Steven",
                                    "2": "24000.00"
                                }
                            ]
                        },
                        "text/html": "<table><tr><th>employee_id</th><th>first_name</th><th>salary</th></tr><tr><td>110</td><td>John</td><td>8200.00</td></tr><tr><td>121</td><td>Adam</td><td>8200.00</td></tr><tr><td>206</td><td>William</td><td>8300.00</td></tr><tr><td>177</td><td>Jack</td><td>8400.00</td></tr><tr><td>176</td><td>Jonathon</td><td>8600.00</td></tr><tr><td>103</td><td>Alexander</td><td>9000.00</td></tr><tr><td>109</td><td>Daniel</td><td>9000.00</td></tr><tr><td>204</td><td>Hermann</td><td>10000.00</td></tr><tr><td>114</td><td>Den</td><td>11000.00</td></tr><tr><td>108</td><td>Nancy</td><td>12000.00</td></tr><tr><td>205</td><td>Shelley</td><td>12000.00</td></tr><tr><td>201</td><td>Michael</td><td>13000.00</td></tr><tr><td>146</td><td>Karen</td><td>13500.00</td></tr><tr><td>145</td><td>John</td><td>14000.00</td></tr><tr><td>101</td><td>Neena</td><td>17000.00</td></tr><tr><td>102</td><td>Lex</td><td>17000.00</td></tr><tr><td>100</td><td>Steven</td><td>24000.00</td></tr></table>"
                    },
                    "metadata": {}
                }
            ],
            "execution_count": 26
        },
        {
            "cell_type": "code",
            "source": [
                "--Query No.3\r\n",
                "SELECT employee_id AS 'Employee Number' ,last_name from employees where employee_id in (select employee_id from employees where employee_id in(103,105,112,118,122,145))"
            ],
            "metadata": {
                "azdata_cell_guid": "281118c4-906b-4dbd-a9a3-e79eb2f81831",
                "language": "sql",
                "tags": []
            },
            "outputs": [
                {
                    "output_type": "display_data",
                    "data": {
                        "text/html": "(6 rows affected)"
                    },
                    "metadata": {}
                },
                {
                    "output_type": "display_data",
                    "data": {
                        "text/html": "Total execution time: 00:00:00.003"
                    },
                    "metadata": {}
                },
                {
                    "output_type": "execute_result",
                    "execution_count": 27,
                    "data": {
                        "application/vnd.dataresource+json": {
                            "schema": {
                                "fields": [
                                    {
                                        "name": "Employee Number"
                                    },
                                    {
                                        "name": "last_name"
                                    }
                                ]
                            },
                            "data": [
                                {
                                    "0": "103",
                                    "1": "Hunold"
                                },
                                {
                                    "0": "105",
                                    "1": "Austin"
                                },
                                {
                                    "0": "112",
                                    "1": "Urman"
                                },
                                {
                                    "0": "118",
                                    "1": "Himuro"
                                },
                                {
                                    "0": "122",
                                    "1": "Kaufling"
                                },
                                {
                                    "0": "145",
                                    "1": "Russell"
                                }
                            ]
                        },
                        "text/html": "<table><tr><th>Employee Number</th><th>last_name</th></tr><tr><td>103</td><td>Hunold</td></tr><tr><td>105</td><td>Austin</td></tr><tr><td>112</td><td>Urman</td></tr><tr><td>118</td><td>Himuro</td></tr><tr><td>122</td><td>Kaufling</td></tr><tr><td>145</td><td>Russell</td></tr></table>"
                    },
                    "metadata": {}
                }
            ],
            "execution_count": 27
        },
        {
            "cell_type": "code",
            "source": [
                "--Query No.4\r\n",
                "select last_name,department_id as 'Department Number', job_id from employees where last_name=(select last_name from employees where last_name='Mavris')"
            ],
            "metadata": {
                "azdata_cell_guid": "991d5e4a-c292-417d-b179-9fc651d1a4b6",
                "language": "sql"
            },
            "outputs": [
                {
                    "output_type": "display_data",
                    "data": {
                        "text/html": "(1 row affected)"
                    },
                    "metadata": {}
                },
                {
                    "output_type": "display_data",
                    "data": {
                        "text/html": "Total execution time: 00:00:00.004"
                    },
                    "metadata": {}
                },
                {
                    "output_type": "execute_result",
                    "execution_count": 28,
                    "data": {
                        "application/vnd.dataresource+json": {
                            "schema": {
                                "fields": [
                                    {
                                        "name": "last_name"
                                    },
                                    {
                                        "name": "Department Number"
                                    },
                                    {
                                        "name": "job_id"
                                    }
                                ]
                            },
                            "data": [
                                {
                                    "0": "Mavris",
                                    "1": "4",
                                    "2": "8"
                                }
                            ]
                        },
                        "text/html": "<table><tr><th>last_name</th><th>Department Number</th><th>job_id</th></tr><tr><td>Mavris</td><td>4</td><td>8</td></tr></table>"
                    },
                    "metadata": {}
                }
            ],
            "execution_count": 28
        },
        {
            "cell_type": "code",
            "source": [
                "--Query No.5\r\n",
                "SELECT last_name,salary FROM employees where salary<=17000"
            ],
            "metadata": {
                "language": "sql",
                "azdata_cell_guid": "06fa89d2-4252-4be1-b529-083ee1572779"
            },
            "outputs": [
                {
                    "output_type": "display_data",
                    "data": {
                        "text/html": "(39 rows affected)"
                    },
                    "metadata": {}
                },
                {
                    "output_type": "display_data",
                    "data": {
                        "text/html": "Total execution time: 00:00:00.005"
                    },
                    "metadata": {}
                },
                {
                    "output_type": "execute_result",
                    "execution_count": 29,
                    "data": {
                        "application/vnd.dataresource+json": {
                            "schema": {
                                "fields": [
                                    {
                                        "name": "last_name"
                                    },
                                    {
                                        "name": "salary"
                                    }
                                ]
                            },
                            "data": [
                                {
                                    "0": "Kochhar",
                                    "1": "17000.00"
                                },
                                {
                                    "0": "De Haan",
                                    "1": "17000.00"
                                },
                                {
                                    "0": "Hunold",
                                    "1": "9000.00"
                                },
                                {
                                    "0": "Ernst",
                                    "1": "6000.00"
                                },
                                {
                                    "0": "Austin",
                                    "1": "4800.00"
                                },
                                {
                                    "0": "Pataballa",
                                    "1": "4800.00"
                                },
                                {
                                    "0": "Lorentz",
                                    "1": "4200.00"
                                },
                                {
                                    "0": "Greenberg",
                                    "1": "12000.00"
                                },
                                {
                                    "0": "Faviet",
                                    "1": "9000.00"
                                },
                                {
                                    "0": "Chen",
                                    "1": "8200.00"
                                },
                                {
                                    "0": "Sciarra",
                                    "1": "7700.00"
                                },
                                {
                                    "0": "Urman",
                                    "1": "7800.00"
                                },
                                {
                                    "0": "Popp",
                                    "1": "6900.00"
                                },
                                {
                                    "0": "Raphaely",
                                    "1": "11000.00"
                                },
                                {
                                    "0": "Khoo",
                                    "1": "3100.00"
                                },
                                {
                                    "0": "Baida",
                                    "1": "2900.00"
                                },
                                {
                                    "0": "Tobias",
                                    "1": "2800.00"
                                },
                                {
                                    "0": "Himuro",
                                    "1": "2600.00"
                                },
                                {
                                    "0": "Colmenares",
                                    "1": "2500.00"
                                },
                                {
                                    "0": "Weiss",
                                    "1": "8000.00"
                                },
                                {
                                    "0": "Fripp",
                                    "1": "8200.00"
                                },
                                {
                                    "0": "Kaufling",
                                    "1": "7900.00"
                                },
                                {
                                    "0": "Vollman",
                                    "1": "6500.00"
                                },
                                {
                                    "0": "Mikkilineni",
                                    "1": "2700.00"
                                },
                                {
                                    "0": "Russell",
                                    "1": "14000.00"
                                },
                                {
                                    "0": "Partners",
                                    "1": "13500.00"
                                },
                                {
                                    "0": "Taylor",
                                    "1": "8600.00"
                                },
                                {
                                    "0": "Livingston",
                                    "1": "8400.00"
                                },
                                {
                                    "0": "Grant",
                                    "1": "7000.00"
                                },
                                {
                                    "0": "Johnson",
                                    "1": "6200.00"
                                },
                                {
                                    "0": "Bell",
                                    "1": "4000.00"
                                },
                                {
                                    "0": "Everett",
                                    "1": "3900.00"
                                },
                                {
                                    "0": "Whalen",
                                    "1": "4400.00"
                                },
                                {
                                    "0": "Hartstein",
                                    "1": "13000.00"
                                },
                                {
                                    "0": "Fay",
                                    "1": "6000.00"
                                },
                                {
                                    "0": "Mavris",
                                    "1": "6500.00"
                                },
                                {
                                    "0": "Baer",
                                    "1": "10000.00"
                                },
                                {
                                    "0": "Higgins",
                                    "1": "12000.00"
                                },
                                {
                                    "0": "Gietz",
                                    "1": "8300.00"
                                }
                            ]
                        },
                        "text/html": "<table><tr><th>last_name</th><th>salary</th></tr><tr><td>Kochhar</td><td>17000.00</td></tr><tr><td>De Haan</td><td>17000.00</td></tr><tr><td>Hunold</td><td>9000.00</td></tr><tr><td>Ernst</td><td>6000.00</td></tr><tr><td>Austin</td><td>4800.00</td></tr><tr><td>Pataballa</td><td>4800.00</td></tr><tr><td>Lorentz</td><td>4200.00</td></tr><tr><td>Greenberg</td><td>12000.00</td></tr><tr><td>Faviet</td><td>9000.00</td></tr><tr><td>Chen</td><td>8200.00</td></tr><tr><td>Sciarra</td><td>7700.00</td></tr><tr><td>Urman</td><td>7800.00</td></tr><tr><td>Popp</td><td>6900.00</td></tr><tr><td>Raphaely</td><td>11000.00</td></tr><tr><td>Khoo</td><td>3100.00</td></tr><tr><td>Baida</td><td>2900.00</td></tr><tr><td>Tobias</td><td>2800.00</td></tr><tr><td>Himuro</td><td>2600.00</td></tr><tr><td>Colmenares</td><td>2500.00</td></tr><tr><td>Weiss</td><td>8000.00</td></tr><tr><td>Fripp</td><td>8200.00</td></tr><tr><td>Kaufling</td><td>7900.00</td></tr><tr><td>Vollman</td><td>6500.00</td></tr><tr><td>Mikkilineni</td><td>2700.00</td></tr><tr><td>Russell</td><td>14000.00</td></tr><tr><td>Partners</td><td>13500.00</td></tr><tr><td>Taylor</td><td>8600.00</td></tr><tr><td>Livingston</td><td>8400.00</td></tr><tr><td>Grant</td><td>7000.00</td></tr><tr><td>Johnson</td><td>6200.00</td></tr><tr><td>Bell</td><td>4000.00</td></tr><tr><td>Everett</td><td>3900.00</td></tr><tr><td>Whalen</td><td>4400.00</td></tr><tr><td>Hartstein</td><td>13000.00</td></tr><tr><td>Fay</td><td>6000.00</td></tr><tr><td>Mavris</td><td>6500.00</td></tr><tr><td>Baer</td><td>10000.00</td></tr><tr><td>Higgins</td><td>12000.00</td></tr><tr><td>Gietz</td><td>8300.00</td></tr></table>"
                    },
                    "metadata": {}
                }
            ],
            "execution_count": 29
        },
        {
            "cell_type": "code",
            "source": [
                "\r\n",
                "--Query No.6\r\n",
                "select department_id,last_name,job_id from employees where department_id in(select department_id from employees where department_id=6)"
            ],
            "metadata": {
                "language": "sql",
                "azdata_cell_guid": "72f6d428-9410-4876-a69f-b8b5bafa8a26"
            },
            "outputs": [
                {
                    "output_type": "display_data",
                    "data": {
                        "text/html": "(5 rows affected)"
                    },
                    "metadata": {}
                },
                {
                    "output_type": "display_data",
                    "data": {
                        "text/html": "Total execution time: 00:00:00.006"
                    },
                    "metadata": {}
                },
                {
                    "output_type": "execute_result",
                    "execution_count": 30,
                    "data": {
                        "application/vnd.dataresource+json": {
                            "schema": {
                                "fields": [
                                    {
                                        "name": "department_id"
                                    },
                                    {
                                        "name": "last_name"
                                    },
                                    {
                                        "name": "job_id"
                                    }
                                ]
                            },
                            "data": [
                                {
                                    "0": "6",
                                    "1": "Hunold",
                                    "2": "9"
                                },
                                {
                                    "0": "6",
                                    "1": "Ernst",
                                    "2": "9"
                                },
                                {
                                    "0": "6",
                                    "1": "Austin",
                                    "2": "9"
                                },
                                {
                                    "0": "6",
                                    "1": "Pataballa",
                                    "2": "9"
                                },
                                {
                                    "0": "6",
                                    "1": "Lorentz",
                                    "2": "9"
                                }
                            ]
                        },
                        "text/html": "<table><tr><th>department_id</th><th>last_name</th><th>job_id</th></tr><tr><td>6</td><td>Hunold</td><td>9</td></tr><tr><td>6</td><td>Ernst</td><td>9</td></tr><tr><td>6</td><td>Austin</td><td>9</td></tr><tr><td>6</td><td>Pataballa</td><td>9</td></tr><tr><td>6</td><td>Lorentz</td><td>9</td></tr></table>"
                    },
                    "metadata": {}
                }
            ],
            "execution_count": 30
        },
        {
            "cell_type": "code",
            "source": [
                "--Query No.7\r\n",
                "select employee_id,last_name,salary from employees where employee_id in(select employee_id from employees where employee_id in(103,145))"
            ],
            "metadata": {
                "language": "sql",
                "azdata_cell_guid": "09bee567-a9c1-461d-820b-2234cc0e039f"
            },
            "outputs": [
                {
                    "output_type": "display_data",
                    "data": {
                        "text/html": "(2 rows affected)"
                    },
                    "metadata": {}
                },
                {
                    "output_type": "display_data",
                    "data": {
                        "text/html": "Total execution time: 00:00:00.006"
                    },
                    "metadata": {}
                },
                {
                    "output_type": "execute_result",
                    "execution_count": 31,
                    "data": {
                        "application/vnd.dataresource+json": {
                            "schema": {
                                "fields": [
                                    {
                                        "name": "employee_id"
                                    },
                                    {
                                        "name": "last_name"
                                    },
                                    {
                                        "name": "salary"
                                    }
                                ]
                            },
                            "data": [
                                {
                                    "0": "103",
                                    "1": "Hunold",
                                    "2": "9000.00"
                                },
                                {
                                    "0": "145",
                                    "1": "Russell",
                                    "2": "14000.00"
                                }
                            ]
                        },
                        "text/html": "<table><tr><th>employee_id</th><th>last_name</th><th>salary</th></tr><tr><td>103</td><td>Hunold</td><td>9000.00</td></tr><tr><td>145</td><td>Russell</td><td>14000.00</td></tr></table>"
                    },
                    "metadata": {}
                }
            ],
            "execution_count": 31
        },
        {
            "cell_type": "code",
            "source": [
                "--Query No.8\r\n",
                "select distinct first_name from employees where first_name in('john','karen','jonathon','jack','kimberely','charles')"
            ],
            "metadata": {
                "language": "sql",
                "azdata_cell_guid": "98cf5acb-8414-46d0-a1cb-ac8bbb1be0ce"
            },
            "outputs": [
                {
                    "output_type": "display_data",
                    "data": {
                        "text/html": "(6 rows affected)"
                    },
                    "metadata": {}
                },
                {
                    "output_type": "display_data",
                    "data": {
                        "text/html": "Total execution time: 00:00:00.004"
                    },
                    "metadata": {}
                },
                {
                    "output_type": "execute_result",
                    "execution_count": 32,
                    "data": {
                        "application/vnd.dataresource+json": {
                            "schema": {
                                "fields": [
                                    {
                                        "name": "first_name"
                                    }
                                ]
                            },
                            "data": [
                                {
                                    "0": "Charles"
                                },
                                {
                                    "0": "Jack"
                                },
                                {
                                    "0": "John"
                                },
                                {
                                    "0": "Jonathon"
                                },
                                {
                                    "0": "Karen"
                                },
                                {
                                    "0": "Kimberely"
                                }
                            ]
                        },
                        "text/html": "<table><tr><th>first_name</th></tr><tr><td>Charles</td></tr><tr><td>Jack</td></tr><tr><td>John</td></tr><tr><td>Jonathon</td></tr><tr><td>Karen</td></tr><tr><td>Kimberely</td></tr></table>"
                    },
                    "metadata": {}
                }
            ],
            "execution_count": 32
        },
        {
            "cell_type": "code",
            "source": [
                "--Query No.9 \r\n",
                "select last_name,salary from employees where last_name in('king','kochhar','de hann')"
            ],
            "metadata": {
                "language": "sql",
                "azdata_cell_guid": "4bb6baa2-746d-4721-a401-49294ffd347f"
            },
            "outputs": [
                {
                    "output_type": "display_data",
                    "data": {
                        "text/html": "(2 rows affected)"
                    },
                    "metadata": {}
                },
                {
                    "output_type": "display_data",
                    "data": {
                        "text/html": "Total execution time: 00:00:00.004"
                    },
                    "metadata": {}
                },
                {
                    "output_type": "execute_result",
                    "execution_count": 33,
                    "data": {
                        "application/vnd.dataresource+json": {
                            "schema": {
                                "fields": [
                                    {
                                        "name": "last_name"
                                    },
                                    {
                                        "name": "salary"
                                    }
                                ]
                            },
                            "data": [
                                {
                                    "0": "King",
                                    "1": "24000.00"
                                },
                                {
                                    "0": "Kochhar",
                                    "1": "17000.00"
                                }
                            ]
                        },
                        "text/html": "<table><tr><th>last_name</th><th>salary</th></tr><tr><td>King</td><td>24000.00</td></tr><tr><td>Kochhar</td><td>17000.00</td></tr></table>"
                    },
                    "metadata": {}
                }
            ],
            "execution_count": 33
        },
        {
            "cell_type": "code",
            "source": [
                "--Query No. 10\r\n",
                "select  top 3 first_name,salary,department_id from employees where first_name in(select first_name from employees where first_name in('Neena','Lex','John')) ORDER by department_id  asc"
            ],
            "metadata": {
                "language": "sql",
                "azdata_cell_guid": "00bdca58-4512-4921-aa74-38581a54ade4",
                "tags": []
            },
            "outputs": [
                {
                    "output_type": "display_data",
                    "data": {
                        "text/html": "(3 rows affected)"
                    },
                    "metadata": {}
                },
                {
                    "output_type": "display_data",
                    "data": {
                        "text/html": "Total execution time: 00:00:00.007"
                    },
                    "metadata": {}
                },
                {
                    "output_type": "execute_result",
                    "metadata": {},
                    "execution_count": 26,
                    "data": {
                        "application/vnd.dataresource+json": {
                            "schema": {
                                "fields": [
                                    {
                                        "name": "first_name"
                                    },
                                    {
                                        "name": "salary"
                                    },
                                    {
                                        "name": "department_id"
                                    }
                                ]
                            },
                            "data": [
                                {
                                    "0": "John",
                                    "1": "14000.00",
                                    "2": "8"
                                },
                                {
                                    "0": "Neena",
                                    "1": "17000.00",
                                    "2": "9"
                                },
                                {
                                    "0": "Lex",
                                    "1": "17000.00",
                                    "2": "9"
                                }
                            ]
                        },
                        "text/html": [
                            "<table>",
                            "<tr><th>first_name</th><th>salary</th><th>department_id</th></tr>",
                            "<tr><td>John</td><td>14000.00</td><td>8</td></tr>",
                            "<tr><td>Neena</td><td>17000.00</td><td>9</td></tr>",
                            "<tr><td>Lex</td><td>17000.00</td><td>9</td></tr>",
                            "</table>"
                        ]
                    }
                }
            ],
            "execution_count": 26
        }
    ]
}