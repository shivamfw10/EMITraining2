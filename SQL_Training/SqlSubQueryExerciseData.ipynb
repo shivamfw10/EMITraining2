{
    "metadata": {
        "kernelspec": {
            "name": "SQL",
            "display_name": "SQL",
            "language": "sql"
        },
        "language_info": {
            "name": "sql",
            "version": ""
        }
    },
    "nbformat_minor": 2,
    "nbformat": 4,
    "cells": [
        {
            "cell_type": "code",
            "source": [
                "CREATE DATABASE SqlSubQuery"
            ],
            "metadata": {
                "azdata_cell_guid": "b2258638-bb65-473c-ac46-04152cec6adf",
                "language": "sql"
            },
            "outputs": [],
            "execution_count": null
        },
        {
            "cell_type": "code",
            "source": [
                "CREATE TABLE  countries(\r\n",
                "  COUNTRY_ID varchar(2) NOT NULL,\r\n",
                "  COUNTRY_NAME varchar(40) DEFAULT NULL,\r\n",
                "  REGION_ID decimal(10,0) DEFAULT NULL,\r\n",
                "  PRIMARY KEY (COUNTRY_ID))\r\n",
                ""
            ],
            "metadata": {
                "azdata_cell_guid": "9819a442-54f0-4630-a2da-cd5162f5d4c1",
                "language": "sql"
            },
            "outputs": [
                {
                    "output_type": "display_data",
                    "data": {
                        "text/html": "Commands completed successfully."
                    },
                    "metadata": {}
                },
                {
                    "output_type": "display_data",
                    "data": {
                        "text/html": "Total execution time: 00:00:00.015"
                    },
                    "metadata": {}
                }
            ],
            "execution_count": 1
        },
        {
            "cell_type": "code",
            "source": [
                "INSERT INTO countries (COUNTRY_ID, COUNTRY_NAME, REGION_ID) VALUES\r\n",
                "('AR', 'Argentina', '2'),\r\n",
                "('AU', 'Australia', '3'),\r\n",
                "('BE', 'Belgium', '1'),\r\n",
                "('BR', 'Brazil', '2'),\r\n",
                "('CA', 'Canada', '2'),\r\n",
                "('CH', 'Switzerland', '1'),\r\n",
                "('CN', 'China', '3'),\r\n",
                "('DE', 'Germany', '1'),\r\n",
                "('DK', 'Denmark', '1'),\r\n",
                "('EG', 'Egypt', '4'),\r\n",
                "('FR', 'France', '1'),\r\n",
                "('HK', 'HongKong', '3'),\r\n",
                "('IL', 'Israel', '4'),\r\n",
                "('IN', 'India', '3'),\r\n",
                "('IT', 'Italy', '1'),\r\n",
                "('JP', 'Japan', '3'),\r\n",
                "('KW', 'Kuwait', '4'),\r\n",
                "('MX', 'Mexico', '2'),\r\n",
                "('NG', 'Nigeria', '4'),\r\n",
                "('NL', 'Netherlands', '1'),\r\n",
                "('SG', 'Singapore', '3'),\r\n",
                "('UK', 'United Kingdom', '1'),\r\n",
                "('US', 'United States of America', '2'),\r\n",
                "('ZM', 'Zambia', '4'),\r\n",
                "('ZW', 'Zimbabwe', '4');"
            ],
            "metadata": {
                "language": "sql",
                "azdata_cell_guid": "503c7243-8a7d-4970-b2a7-b445caaba0a3",
                "tags": []
            },
            "outputs": [
                {
                    "output_type": "display_data",
                    "data": {
                        "text/html": "(25 rows affected)"
                    },
                    "metadata": {}
                },
                {
                    "output_type": "display_data",
                    "data": {
                        "text/html": "Total execution time: 00:00:00.010"
                    },
                    "metadata": {}
                }
            ],
            "execution_count": 2
        },
        {
            "cell_type": "code",
            "source": [
                "CREATE TABLE departments (\r\n",
                "  DEPARTMENT_ID decimal(4,0) NOT NULL DEFAULT '0',\r\n",
                "  DEPARTMENT_NAME varchar(30) NOT NULL,\r\n",
                "  MANAGER_ID decimal(6,0) DEFAULT NULL,\r\n",
                "  LOCATION_ID decimal(4,0) DEFAULT NULL,\r\n",
                "  PRIMARY KEY (DEPARTMENT_ID))"
            ],
            "metadata": {
                "language": "sql",
                "azdata_cell_guid": "0690700c-eb50-44d0-af14-9a30c1d8a92d",
                "tags": []
            },
            "outputs": [
                {
                    "output_type": "display_data",
                    "data": {
                        "text/html": "Commands completed successfully."
                    },
                    "metadata": {}
                },
                {
                    "output_type": "display_data",
                    "data": {
                        "text/html": "Total execution time: 00:00:00.009"
                    },
                    "metadata": {}
                }
            ],
            "execution_count": 3
        },
        {
            "cell_type": "code",
            "source": [
                "CREATE TABLE employees1 (\r\n",
                "  EMPLOYEE_ID decimal(6,0) NOT NULL DEFAULT '0',\r\n",
                "  FIRST_NAME varchar(20) DEFAULT NULL,\r\n",
                "  LAST_NAME varchar(25) NOT NULL,\r\n",
                "  EMAIL varchar(25) NOT NULL,\r\n",
                "  PHONE_NUMBER varchar(20) DEFAULT NULL,\r\n",
                "  HIRE_DATE date NOT NULL,\r\n",
                "  JOB_ID varchar(10) NOT NULL,\r\n",
                "  SALARY decimal(8,2) DEFAULT NULL,\r\n",
                "  COMMISSION_PCT decimal(2,2) DEFAULT NULL,\r\n",
                "  MANAGER_ID decimal(6,0) DEFAULT NULL,\r\n",
                "  DEPARTMENT_ID decimal(4,0) DEFAULT NULL,\r\n",
                "  PRIMARY KEY (EMPLOYEE_ID))"
            ],
            "metadata": {
                "language": "sql",
                "azdata_cell_guid": "eff71b7f-8a35-4d5c-ac45-802c1607a6b6",
                "tags": []
            },
            "outputs": [
                {
                    "output_type": "display_data",
                    "data": {
                        "text/html": "Commands completed successfully."
                    },
                    "metadata": {}
                },
                {
                    "output_type": "display_data",
                    "data": {
                        "text/html": "Total execution time: 00:00:00.006"
                    },
                    "metadata": {}
                }
            ],
            "execution_count": 4
        },
        {
            "cell_type": "code",
            "source": [
                "INSERT INTO departments (DEPARTMENT_ID, DEPARTMENT_NAME, MANAGER_ID, LOCATION_ID) VALUES\r\n",
                "('10', 'Administration', '200', '1700'),\r\n",
                "('20', 'Marketing', '201', '1800'),\r\n",
                "('30', 'Purchasing', '114', '1700'),\r\n",
                "('40', 'Human Resources', '203', '2400'),\r\n",
                "('50', 'Shipping', '121', '1500'),\r\n",
                "('60', 'IT', '103', '1400'),\r\n",
                "('70', 'Public Relations', '204', '2700'),\r\n",
                "('80', 'Sales', '145', '2500'),\r\n",
                "('90', 'Executive', '100', '1700'),\r\n",
                "('100', 'Finance', '108', '1700'),\r\n",
                "('110', 'Accounting', '205', '1700'),\r\n",
                "('120', 'Treasury', '0', '1700'),\r\n",
                "('130', 'Corporate Tax', '0', '1700'),\r\n",
                "('140', 'Control And Credit', '0', '1700'),\r\n",
                "('150', 'Shareholder Services', '0', '1700'),\r\n",
                "('160', 'Benefits', '0', '1700'),\r\n",
                "('170', 'Manufacturing', '0', '1700'),\r\n",
                "('180', 'Construction', '0', '1700'),\r\n",
                "('190', 'Contracting', '0', '1700'),\r\n",
                "('200', 'Operations', '0', '1700'),\r\n",
                "('210', 'IT Support', '0', '1700'),\r\n",
                "('220', 'NOC', '0', '1700'),\r\n",
                "('230', 'IT Helpdesk', '0', '1700'),\r\n",
                "('240', 'Government Sales', '0', '1700'),\r\n",
                "('250', 'Retail Sales', '0', '1700'),\r\n",
                "('260', 'Recruiting', '0', '1700'),\r\n",
                "('270', 'Payroll', '0', '1700');"
            ],
            "metadata": {
                "language": "sql",
                "azdata_cell_guid": "8dcf37d6-ca88-4939-9f63-ae5a36f91463"
            },
            "outputs": [
                {
                    "output_type": "display_data",
                    "data": {
                        "text/html": "(27 rows affected)"
                    },
                    "metadata": {}
                },
                {
                    "output_type": "display_data",
                    "data": {
                        "text/html": "Total execution time: 00:00:00.008"
                    },
                    "metadata": {}
                }
            ],
            "execution_count": 5
        },
        {
            "cell_type": "code",
            "source": [
                "INSERT INTO employees1 (EMPLOYEE_ID, FIRST_NAME, LAST_NAME, EMAIL, PHONE_NUMBER, HIRE_DATE, JOB_ID, SALARY, COMMISSION_PCT, MANAGER_ID, DEPARTMENT_ID) VALUES\r\n",
                "('100', 'Steven', 'King', 'SKING', '515.123.4567', '1987-06-17', 'AD_PRES', '24000.00', '0.00', '0', '90'),\r\n",
                "('101', 'Neena', 'Kochhar', 'NKOCHHAR', '515.123.4568', '1987-06-18', 'AD_VP', '17000.00', '0.00', '100', '90'),\r\n",
                "('102', 'Lex', 'De Haan', 'LDEHAAN', '515.123.4569', '1987-06-19', 'AD_VP', '17000.00', '0.00', '100', '90'),\r\n",
                "('103', 'Alexander', 'Hunold', 'AHUNOLD', '590.423.4567', '1987-06-20', 'IT_PROG', '9000.00', '0.00', '102', '60'),\r\n",
                "('104', 'Bruce', 'Ernst', 'BERNST', '590.423.4568', '1987-06-21', 'IT_PROG', '6000.00', '0.00', '103', '60'),\r\n",
                "('105', 'David', 'Austin', 'DAUSTIN', '590.423.4569', '1987-06-22', 'IT_PROG', '4800.00', '0.00', '103', '60'),\r\n",
                "('106', 'Valli', 'Pataballa', 'VPATABAL', '590.423.4560', '1987-06-23', 'IT_PROG', '4800.00', '0.00', '103', '60'),\r\n",
                "('107', 'Diana', 'Lorentz', 'DLORENTZ', '590.423.5567', '1987-06-24', 'IT_PROG', '4200.00', '0.00', '103', '60'),\r\n",
                "('108', 'Nancy', 'Greenberg', 'NGREENBE', '515.124.4569', '1987-06-25', 'FI_MGR', '12000.00', '0.00', '101', '100'),\r\n",
                "('109', 'Daniel', 'Faviet', 'DFAVIET', '515.124.4169', '1987-06-26', 'FI_ACCOUNT', '9000.00', '0.00', '108', '100'),\r\n",
                "('110', 'John', 'Chen', 'JCHEN', '515.124.4269', '1987-06-27', 'FI_ACCOUNT', '8200.00', '0.00', '108', '100'),\r\n",
                "('111', 'Ismael', 'Sciarra', 'ISCIARRA', '515.124.4369', '1987-06-28', 'FI_ACCOUNT', '7700.00', '0.00', '108', '100'),\r\n",
                "('112', 'Jose Manuel', 'Urman', 'JMURMAN', '515.124.4469', '1987-06-29', 'FI_ACCOUNT', '7800.00', '0.00', '108', '100'),\r\n",
                "('113', 'Luis', 'Popp', 'LPOPP', '515.124.4567', '1987-06-30', 'FI_ACCOUNT', '6900.00', '0.00', '108', '100'),\r\n",
                "('114', 'Den', 'Raphaely', 'DRAPHEAL', '515.127.4561', '1987-07-01', 'PU_MAN', '11000.00', '0.00', '100', '30'),\r\n",
                "('115', 'Alexander', 'Khoo', 'AKHOO', '515.127.4562', '1987-07-02', 'PU_CLERK', '3100.00', '0.00', '114', '30'),\r\n",
                "('116', 'Shelli', 'Baida', 'SBAIDA', '515.127.4563', '1987-07-03', 'PU_CLERK', '2900.00', '0.00', '114', '30'),\r\n",
                "('117', 'Sigal', 'Tobias', 'STOBIAS', '515.127.4564', '1987-07-04', 'PU_CLERK', '2800.00', '0.00', '114', '30'),\r\n",
                "('118', 'Guy', 'Himuro', 'GHIMURO', '515.127.4565', '1987-07-05', 'PU_CLERK', '2600.00', '0.00', '114', '30'),\r\n",
                "('119', 'Karen', 'Colmenares', 'KCOLMENA', '515.127.4566', '1987-07-06', 'PU_CLERK', '2500.00', '0.00', '114', '30'),\r\n",
                "('120', 'Matthew', 'Weiss', 'MWEISS', '650.123.1234', '1987-07-07', 'ST_MAN', '8000.00', '0.00', '100', '50'),\r\n",
                "('121', 'Adam', 'Fripp', 'AFRIPP', '650.123.2234', '1987-07-08', 'ST_MAN', '8200.00', '0.00', '100', '50'),\r\n",
                "('122', 'Payam', 'Kaufling', 'PKAUFLIN', '650.123.3234', '1987-07-09', 'ST_MAN', '7900.00', '0.00', '100', '50'),\r\n",
                "('123', 'Shanta', 'Vollman', 'SVOLLMAN', '650.123.4234', '1987-07-10', 'ST_MAN', '6500.00', '0.00', '100', '50'),\r\n",
                "('124', 'Kevin', 'Mourgos', 'KMOURGOS', '650.123.5234', '1987-07-11', 'ST_MAN', '5800.00', '0.00', '100', '50'),\r\n",
                "('125', 'Julia', 'Nayer', 'JNAYER', '650.124.1214', '1987-07-12', 'ST_CLERK', '3200.00', '0.00', '120', '50'),\r\n",
                "('126', 'Irene', 'Mikkilineni', 'IMIKKILI', '650.124.1224', '1987-07-13', 'ST_CLERK', '2700.00', '0.00', '120', '50'),\r\n",
                "('127', 'James', 'Landry', 'JLANDRY', '650.124.1334', '1987-07-14', 'ST_CLERK', '2400.00', '0.00', '120', '50'),\r\n",
                "('128', 'Steven', 'Markle', 'SMARKLE', '650.124.1434', '1987-07-15', 'ST_CLERK', '2200.00', '0.00', '120', '50'),\r\n",
                "('129', 'Laura', 'Bissot', 'LBISSOT', '650.124.5234', '1987-07-16', 'ST_CLERK', '3300.00', '0.00', '121', '50'),\r\n",
                "('130', 'Mozhe', 'Atkinson', 'MATKINSO', '650.124.6234', '1987-07-17', 'ST_CLERK', '2800.00', '0.00', '121', '50'),\r\n",
                "('131', 'James', 'Marlow', 'JAMRLOW', '650.124.7234', '1987-07-18', 'ST_CLERK', '2500.00', '0.00', '121', '50'),\r\n",
                "('132', 'TJ', 'Olson', 'TJOLSON', '650.124.8234', '1987-07-19', 'ST_CLERK', '2100.00', '0.00', '121', '50'),\r\n",
                "('133', 'Jason', 'Mallin', 'JMALLIN', '650.127.1934', '1987-07-20', 'ST_CLERK', '3300.00', '0.00', '122', '50'),\r\n",
                "('134', 'Michael', 'Rogers', 'MROGERS', '650.127.1834', '1987-07-21', 'ST_CLERK', '2900.00', '0.00', '122', '50'),\r\n",
                "('135', 'Ki', 'Gee', 'KGEE', '650.127.1734', '1987-07-22', 'ST_CLERK', '2400.00', '0.00', '122', '50'),\r\n",
                "('136', 'Hazel', 'Philtanker', 'HPHILTAN', '650.127.1634', '1987-07-23', 'ST_CLERK', '2200.00', '0.00', '122', '50'),\r\n",
                "('137', 'Renske', 'Ladwig', 'RLADWIG', '650.121.1234', '1987-07-24', 'ST_CLERK', '3600.00', '0.00', '123', '50'),\r\n",
                "('138', 'Stephen', 'Stiles', 'SSTILES', '650.121.2034', '1987-07-25', 'ST_CLERK', '3200.00', '0.00', '123', '50'),\r\n",
                "('139', 'John', 'Seo', 'JSEO', '650.121.2019', '1987-07-26', 'ST_CLERK', '2700.00', '0.00', '123', '50'),\r\n",
                "('140', 'Joshua', 'Patel', 'JPATEL', '650.121.1834', '1987-07-27', 'ST_CLERK', '2500.00', '0.00', '123', '50'),\r\n",
                "('141', 'Trenna', 'Rajs', 'TRAJS', '650.121.8009', '1987-07-28', 'ST_CLERK', '3500.00', '0.00', '124', '50'),\r\n",
                "('142', 'Curtis', 'Davies', 'CDAVIES', '650.121.2994', '1987-07-29', 'ST_CLERK', '3100.00', '0.00', '124', '50'),\r\n",
                "('143', 'Randall', 'Matos', 'RMATOS', '650.121.2874', '1987-07-30', 'ST_CLERK', '2600.00', '0.00', '124', '50'),\r\n",
                "('144', 'Peter', 'Vargas', 'PVARGAS', '650.121.2004', '1987-07-31', 'ST_CLERK', '2500.00', '0.00', '124', '50'),\r\n",
                "('145', 'John', 'Russell', 'JRUSSEL', '011.44.1344.429268', '1987-08-01', 'SA_MAN', '14000.00', '0.40', '100', '80'),\r\n",
                "('146', 'Karen', 'Partners', 'KPARTNER', '011.44.1344.467268', '1987-08-02', 'SA_MAN', '13500.00', '0.30', '100', '80'),\r\n",
                "('147', 'Alberto', 'Errazuriz', 'AERRAZUR', '011.44.1344.429278', '1987-08-03', 'SA_MAN', '12000.00', '0.30', '100', '80'),\r\n",
                "('148', 'Gerald', 'Cambrault', 'GCAMBRAU', '011.44.1344.619268', '1987-08-04', 'SA_MAN', '11000.00', '0.30', '100', '80'),\r\n",
                "('149', 'Eleni', 'Zlotkey', 'EZLOTKEY', '011.44.1344.429018', '1987-08-05', 'SA_MAN', '10500.00', '0.20', '100', '80'),\r\n",
                "('150', 'Peter', 'Tucker', 'PTUCKER', '011.44.1344.129268', '1987-08-06', 'SA_REP', '10000.00', '0.30', '145', '80'),\r\n",
                "('151', 'David', 'Bernstein', 'DBERNSTE', '011.44.1344.345268', '1987-08-07', 'SA_REP', '9500.00', '0.25', '145', '80'),\r\n",
                "('152', 'Peter', 'Hall', 'PHALL', '011.44.1344.478968', '1987-08-08', 'SA_REP', '9000.00', '0.25', '145', '80'),\r\n",
                "('153', 'Christopher', 'Olsen', 'COLSEN', '011.44.1344.498718', '1987-08-09', 'SA_REP', '8000.00', '0.20', '145', '80'),\r\n",
                "('154', 'Nanette', 'Cambrault', 'NCAMBRAU', '011.44.1344.987668', '1987-08-10', 'SA_REP', '7500.00', '0.20', '145', '80'),\r\n",
                "('155', 'Oliver', 'Tuvault', 'OTUVAULT', '011.44.1344.486508', '1987-08-11', 'SA_REP', '7000.00', '0.15', '145', '80'),\r\n",
                "('156', 'Janette', 'King', 'JKING', '011.44.1345.429268', '1987-08-12', 'SA_REP', '10000.00', '0.35', '146', '80'),\r\n",
                "('157', 'Patrick', 'Sully', 'PSULLY', '011.44.1345.929268', '1987-08-13', 'SA_REP', '9500.00', '0.35', '146', '80'),\r\n",
                "('158', 'Allan', 'McEwen', 'AMCEWEN', '011.44.1345.829268', '1987-08-14', 'SA_REP', '9000.00', '0.35', '146', '80'),\r\n",
                "('159', 'Lindsey', 'Smith', 'LSMITH', '011.44.1345.729268', '1987-08-15', 'SA_REP', '8000.00', '0.30', '146', '80'),\r\n",
                "('160', 'Louise', 'Doran', 'LDORAN', '011.44.1345.629268', '1987-08-16', 'SA_REP', '7500.00', '0.30', '146', '80'),\r\n",
                "('161', 'Sarath', 'Sewall', 'SSEWALL', '011.44.1345.529268', '1987-08-17', 'SA_REP', '7000.00', '0.25', '146', '80'),\r\n",
                "('162', 'Clara', 'Vishney', 'CVISHNEY', '011.44.1346.129268', '1987-08-18', 'SA_REP', '10500.00', '0.25', '147', '80'),\r\n",
                "('163', 'Danielle', 'Greene', 'DGREENE', '011.44.1346.229268', '1987-08-19', 'SA_REP', '9500.00', '0.15', '147', '80'),\r\n",
                "('164', 'Mattea', 'Marvins', 'MMARVINS', '011.44.1346.329268', '1987-08-20', 'SA_REP', '7200.00', '0.10', '147', '80'),\r\n",
                "('165', 'David', 'Lee', 'DLEE', '011.44.1346.529268', '1987-08-21', 'SA_REP', '6800.00', '0.10', '147', '80'),\r\n",
                "('166', 'Sundar', 'Ande', 'SANDE', '011.44.1346.629268', '1987-08-22', 'SA_REP', '6400.00', '0.10', '147', '80'),\r\n",
                "('167', 'Amit', 'Banda', 'ABANDA', '011.44.1346.729268', '1987-08-23', 'SA_REP', '6200.00', '0.10', '147', '80'),\r\n",
                "('168', 'Lisa', 'Ozer', 'LOZER', '011.44.1343.929268', '1987-08-24', 'SA_REP', '11500.00', '0.25', '148', '80'),\r\n",
                "('169', 'Harrison', 'Bloom', 'HBLOOM', '011.44.1343.829268', '1987-08-25', 'SA_REP', '10000.00', '0.20', '148', '80'),\r\n",
                "('170', 'Tayler', 'Fox', 'TFOX', '011.44.1343.729268', '1987-08-26', 'SA_REP', '9600.00', '0.20', '148', '80'),\r\n",
                "('171', 'William', 'Smith', 'WSMITH', '011.44.1343.629268', '1987-08-27', 'SA_REP', '7400.00', '0.15', '148', '80'),\r\n",
                "('172', 'Elizabeth', 'Bates', 'EBATES', '011.44.1343.529268', '1987-08-28', 'SA_REP', '7300.00', '0.15', '148', '80'),\r\n",
                "('173', 'Sundita', 'Kumar', 'SKUMAR', '011.44.1343.329268', '1987-08-29', 'SA_REP', '6100.00', '0.10', '148', '80'),\r\n",
                "('174', 'Ellen', 'Abel', 'EABEL', '011.44.1644.429267', '1987-08-30', 'SA_REP', '11000.00', '0.30', '149', '80'),\r\n",
                "('175', 'Alyssa', 'Hutton', 'AHUTTON', '011.44.1644.429266', '1987-08-31', 'SA_REP', '8800.00', '0.25', '149', '80'),\r\n",
                "('176', 'Jonathon', 'Taylor', 'JTAYLOR', '011.44.1644.429265', '1987-09-01', 'SA_REP', '8600.00', '0.20', '149', '80'),\r\n",
                "('177', 'Jack', 'Livingston', 'JLIVINGS', '011.44.1644.429264', '1987-09-02', 'SA_REP', '8400.00', '0.20', '149', '80'),\r\n",
                "('178', 'Kimberely', 'Grant', 'KGRANT', '011.44.1644.429263', '1987-09-03', 'SA_REP', '7000.00', '0.15', '149', '0'),\r\n",
                "('179', 'Charles', 'Johnson', 'CJOHNSON', '011.44.1644.429262', '1987-09-04', 'SA_REP', '6200.00', '0.10', '149', '80'),\r\n",
                "('180', 'Winston', 'Taylor', 'WTAYLOR', '650.507.9876', '1987-09-05', 'SH_CLERK', '3200.00', '0.00', '120', '50'),\r\n",
                "('181', 'Jean', 'Fleaur', 'JFLEAUR', '650.507.9877', '1987-09-06', 'SH_CLERK', '3100.00', '0.00', '120', '50'),\r\n",
                "('182', 'Martha', 'Sullivan', 'MSULLIVA', '650.507.9878', '1987-09-07', 'SH_CLERK', '2500.00', '0.00', '120', '50'),\r\n",
                "('183', 'Girard', 'Geoni', 'GGEONI', '650.507.9879', '1987-09-08', 'SH_CLERK', '2800.00', '0.00', '120', '50'),\r\n",
                "('184', 'Nandita', 'Sarchand', 'NSARCHAN', '650.509.1876', '1987-09-09', 'SH_CLERK', '4200.00', '0.00', '121', '50'),\r\n",
                "('185', 'Alexis', 'Bull', 'ABULL', '650.509.2876', '1987-09-10', 'SH_CLERK', '4100.00', '0.00', '121', '50'),\r\n",
                "('186', 'Julia', 'Dellinger', 'JDELLING', '650.509.3876', '1987-09-11', 'SH_CLERK', '3400.00', '0.00', '121', '50'),\r\n",
                "('187', 'Anthony', 'Cabrio', 'ACABRIO', '650.509.4876', '1987-09-12', 'SH_CLERK', '3000.00', '0.00', '121', '50'),\r\n",
                "('188', 'Kelly', 'Chung', 'KCHUNG', '650.505.1876', '1987-09-13', 'SH_CLERK', '3800.00', '0.00', '122', '50'),\r\n",
                "('189', 'Jennifer', 'Dilly', 'JDILLY', '650.505.2876', '1987-09-14', 'SH_CLERK', '3600.00', '0.00', '122', '50'),\r\n",
                "('190', 'Timothy', 'Gates', 'TGATES', '650.505.3876', '1987-09-15', 'SH_CLERK', '2900.00', '0.00', '122', '50'),\r\n",
                "('191', 'Randall', 'Perkins', 'RPERKINS', '650.505.4876', '1987-09-16', 'SH_CLERK', '2500.00', '0.00', '122', '50'),\r\n",
                "('192', 'Sarah', 'Bell', 'SBELL', '650.501.1876', '1987-09-17', 'SH_CLERK', '4000.00', '0.00', '123', '50'),\r\n",
                "('193', 'Britney', 'Everett', 'BEVERETT', '650.501.2876', '1987-09-18', 'SH_CLERK', '3900.00', '0.00', '123', '50'),\r\n",
                "('194', 'Samuel', 'McCain', 'SMCCAIN', '650.501.3876', '1987-09-19', 'SH_CLERK', '3200.00', '0.00', '123', '50'),\r\n",
                "('195', 'Vance', 'Jones', 'VJONES', '650.501.4876', '1987-09-20', 'SH_CLERK', '2800.00', '0.00', '123', '50'),\r\n",
                "('196', 'Alana', 'Walsh', 'AWALSH', '650.507.9811', '1987-09-21', 'SH_CLERK', '3100.00', '0.00', '124', '50'),\r\n",
                "('197', 'Kevin', 'Feeney', 'KFEENEY', '650.507.9822', '1987-09-22', 'SH_CLERK', '3000.00', '0.00', '124', '50'),\r\n",
                "('198', 'Donald', 'OConnell', 'DOCONNEL', '650.507.9833', '1987-09-23', 'SH_CLERK', '2600.00', '0.00', '124', '50'),\r\n",
                "('199', 'Douglas', 'Grant', 'DGRANT', '650.507.9844', '1987-09-24', 'SH_CLERK', '2600.00', '0.00', '124', '50'),\r\n",
                "('200', 'Jennifer', 'Whalen', 'JWHALEN', '515.123.4444', '1987-09-25', 'AD_ASST', '4400.00', '0.00', '101', '10'),\r\n",
                "('201', 'Michael', 'Hartstein', 'MHARTSTE', '515.123.5555', '1987-09-26', 'MK_MAN', '13000.00', '0.00', '100', '20'),\r\n",
                "('202', 'Pat', 'Fay', 'PFAY', '603.123.6666', '1987-09-27', 'MK_REP', '6000.00', '0.00', '201', '20'),\r\n",
                "('203', 'Susan', 'Mavris', 'SMAVRIS', '515.123.7777', '1987-09-28', 'HR_REP', '6500.00', '0.00', '101', '40'),\r\n",
                "('204', 'Hermann', 'Baer', 'HBAER', '515.123.8888', '1987-09-29', 'PR_REP', '10000.00', '0.00', '101', '70'),\r\n",
                "('205', 'Shelley', 'Higgins', 'SHIGGINS', '515.123.8080', '1987-09-30', 'AC_MGR', '12000.00', '0.00', '101', '110'),\r\n",
                "('206', 'William', 'Gietz', 'WGIETZ', '515.123.8181', '1987-10-01', 'AC_ACCOUNT', '8300.00', '0.00', '205', '110');\r\n",
                ""
            ],
            "metadata": {
                "language": "sql",
                "azdata_cell_guid": "e0d3b558-4559-416b-9f96-69580fd4bac3"
            },
            "outputs": [
                {
                    "output_type": "display_data",
                    "data": {
                        "text/html": "(107 rows affected)"
                    },
                    "metadata": {}
                },
                {
                    "output_type": "display_data",
                    "data": {
                        "text/html": "Total execution time: 00:00:00.040"
                    },
                    "metadata": {}
                }
            ],
            "execution_count": 6
        },
        {
            "cell_type": "code",
            "source": [
                "CREATE TABLE job_history (\r\n",
                "  EMPLOYEE_ID decimal(6,0) NOT NULL,\r\n",
                "  START_DATE date NOT NULL,\r\n",
                "  END_DATE date NOT NULL,\r\n",
                "  JOB_ID varchar(10) NOT NULL,\r\n",
                "  DEPARTMENT_ID decimal(4,0) DEFAULT NULL,\r\n",
                "  PRIMARY KEY (EMPLOYEE_ID,START_DATE))"
            ],
            "metadata": {
                "azdata_cell_guid": "8f0ef376-6c9c-4a0f-8b62-d4c0ca754946",
                "language": "sql"
            },
            "outputs": [
                {
                    "output_type": "display_data",
                    "data": {
                        "text/html": "Commands completed successfully."
                    },
                    "metadata": {}
                },
                {
                    "output_type": "display_data",
                    "data": {
                        "text/html": "Total execution time: 00:00:00.006"
                    },
                    "metadata": {}
                }
            ],
            "execution_count": 7
        },
        {
            "cell_type": "code",
            "source": [
                "INSERT INTO job_history (EMPLOYEE_ID, START_DATE, END_DATE, JOB_ID, DEPARTMENT_ID) VALUES\r\n",
                "('102', '1993-01-13', '1998-07-24', 'IT_PROG', '60'),\r\n",
                "('101', '1989-09-21', '1993-10-27', 'AC_ACCOUNT', '110'),\r\n",
                "('101', '1993-10-28', '1997-03-15', 'AC_MGR', '110'),\r\n",
                "('201', '1996-02-17', '1999-12-19', 'MK_REP', '20'),\r\n",
                "('114', '1998-03-24', '1999-12-31', 'ST_CLERK', '50'),\r\n",
                "('122', '1999-01-01', '1999-12-31', 'ST_CLERK', '50'),\r\n",
                "('200', '1987-09-17', '1993-06-17', 'AD_ASST', '90'),\r\n",
                "('176', '1998-03-24', '1998-12-31', 'SA_REP', '80'),\r\n",
                "('176', '1999-01-01', '1999-12-31', 'SA_MAN', '80'),\r\n",
                "('200', '1994-07-01', '1998-12-31', 'AC_ACCOUNT', '90')\r\n",
                "\r\n",
                ""
            ],
            "metadata": {
                "language": "sql",
                "azdata_cell_guid": "90d5f769-57c6-4813-8399-2eff8300641c"
            },
            "outputs": [
                {
                    "output_type": "display_data",
                    "data": {
                        "text/html": "(10 rows affected)"
                    },
                    "metadata": {}
                },
                {
                    "output_type": "display_data",
                    "data": {
                        "text/html": "Total execution time: 00:00:00.007"
                    },
                    "metadata": {}
                }
            ],
            "execution_count": 8
        },
        {
            "cell_type": "code",
            "source": [
                "CREATE TABLE  jobs (\r\n",
                "  JOB_ID varchar(10) NOT NULL DEFAULT '',\r\n",
                "  JOB_TITLE varchar(35) NOT NULL,\r\n",
                "  MIN_SALARY decimal(6,0) DEFAULT NULL,\r\n",
                "  MAX_SALARY decimal(6,0) DEFAULT NULL,\r\n",
                "  PRIMARY KEY (JOB_ID))"
            ],
            "metadata": {
                "language": "sql",
                "azdata_cell_guid": "dab9a052-0e93-4b6a-b09e-869d42b0cbb8"
            },
            "outputs": [
                {
                    "output_type": "display_data",
                    "data": {
                        "text/html": "Commands completed successfully."
                    },
                    "metadata": {}
                },
                {
                    "output_type": "display_data",
                    "data": {
                        "text/html": "Total execution time: 00:00:00.005"
                    },
                    "metadata": {}
                }
            ],
            "execution_count": 9
        },
        {
            "cell_type": "code",
            "source": [
                "INSERT INTO jobs (JOB_ID, JOB_TITLE, MIN_SALARY, MAX_SALARY) VALUES\r\n",
                "('AD_PRES', 'President', '20000', '40000'),\r\n",
                "('AD_VP', 'Administration Vice President', '15000', '30000'),\r\n",
                "('AD_ASST', 'Administration Assistant', '3000', '6000'),\r\n",
                "('FI_MGR', 'Finance Manager', '8200', '16000'),\r\n",
                "('FI_ACCOUNT', 'Accountant', '4200', '9000'),\r\n",
                "('AC_MGR', 'Accounting Manager', '8200', '16000'),\r\n",
                "('AC_ACCOUNT', 'Public Accountant', '4200', '9000'),\r\n",
                "('SA_MAN', 'Sales Manager', '10000', '20000'),\r\n",
                "('SA_REP', 'Sales Representative', '6000', '12000'),\r\n",
                "('PU_MAN', 'Purchasing Manager', '8000', '15000'),\r\n",
                "('PU_CLERK', 'Purchasing Clerk', '2500', '5500'),\r\n",
                "('ST_MAN', 'Stock Manager', '5500', '8500'),\r\n",
                "('ST_CLERK', 'Stock Clerk', '2000', '5000'),\r\n",
                "('SH_CLERK', 'Shipping Clerk', '2500', '5500'),\r\n",
                "('IT_PROG', 'Programmer', '4000', '10000'),\r\n",
                "('MK_MAN', 'Marketing Manager', '9000', '15000'),\r\n",
                "('MK_REP', 'Marketing Representative', '4000', '9000'),\r\n",
                "('HR_REP', 'Human Resources Representative', '4000', '9000'),\r\n",
                "('PR_REP', 'Public Relations Representative', '4500', '10500')"
            ],
            "metadata": {
                "language": "sql",
                "azdata_cell_guid": "5bc39549-1769-4801-a2a0-aae861f79c48"
            },
            "outputs": [
                {
                    "output_type": "display_data",
                    "data": {
                        "text/html": "(19 rows affected)"
                    },
                    "metadata": {}
                },
                {
                    "output_type": "display_data",
                    "data": {
                        "text/html": "Total execution time: 00:00:00.007"
                    },
                    "metadata": {}
                }
            ],
            "execution_count": 10
        },
        {
            "cell_type": "code",
            "source": [
                "CREATE TABLE locations (\r\n",
                "  LOCATION_ID decimal(4,0) NOT NULL DEFAULT '0',\r\n",
                "  STREET_ADDRESS varchar(40) DEFAULT NULL,\r\n",
                "  POSTAL_CODE varchar(12) DEFAULT NULL,\r\n",
                "  CITY varchar(30) NOT NULL,\r\n",
                "  STATE_PROVINCE varchar(25) DEFAULT NULL,\r\n",
                "  COUNTRY_ID varchar(2) DEFAULT NULL,\r\n",
                "  PRIMARY KEY (LOCATION_ID))"
            ],
            "metadata": {
                "language": "sql",
                "azdata_cell_guid": "4200af6b-b644-4082-850d-3174047bd91e"
            },
            "outputs": [
                {
                    "output_type": "display_data",
                    "data": {
                        "text/html": "Commands completed successfully."
                    },
                    "metadata": {}
                },
                {
                    "output_type": "display_data",
                    "data": {
                        "text/html": "Total execution time: 00:00:00.007"
                    },
                    "metadata": {}
                }
            ],
            "execution_count": 11
        },
        {
            "cell_type": "code",
            "source": [
                "INSERT INTO locations (LOCATION_ID, STREET_ADDRESS, POSTAL_CODE, CITY, STATE_PROVINCE, COUNTRY_ID) VALUES\r\n",
                "('1000', '1297 Via Cola di Rie', '989', 'Roma', '', 'IT'),\r\n",
                "('1100', '93091 Calle della Testa', '10934', 'Venice', '', 'IT'),\r\n",
                "('1200', '2017 Shinjuku-ku', '1689', 'Tokyo', 'Tokyo Prefecture', 'JP'),\r\n",
                "('1300', '9450 Kamiya-cho', '6823', 'Hiroshima', '', 'JP'),\r\n",
                "('1400', '2014 Jabberwocky Rd', '26192', 'Southlake', 'Texas', 'US'),\r\n",
                "('1500', '2011 Interiors Blvd', '99236', 'South San Francisco', 'California', 'US'),\r\n",
                "('1600', '2007 Zagora St', '50090', 'South Brunswick', 'New Jersey', 'US'),\r\n",
                "('1700', '2004 Charade Rd', '98199', 'Seattle', 'Washington', 'US'),\r\n",
                "('1800', '147 Spadina Ave', 'M5V 2L7', 'Toronto', 'Ontario', 'CA'),\r\n",
                "('1900', '6092 Boxwood St', 'YSW 9T2', 'Whitehorse', 'Yukon', 'CA'),\r\n",
                "('2000', '40-5-12 Laogianggen', '190518', 'Beijing', '', 'CN'),\r\n",
                "('2100', '1298 Vileparle (E)', '490231', 'Bombay', 'Maharashtra', 'IN'),\r\n",
                "('2200', '12-98 Victoria Street', '2901', 'Sydney', 'New South Wales', 'AU'),\r\n",
                "('2300', '198 Clementi North', '540198', 'Singapore', '', 'SG'),\r\n",
                "('2400', '8204 Arthur St', '', 'London', '', 'UK'),\r\n",
                "('2500', '\"Magdalen Centre', ' The Oxford ', 'OX9 9ZB', 'Oxford', 'Ox'),\r\n",
                "('2600', '9702 Chester Road', '9629850293', 'Stretford', 'Manchester', 'UK'),\r\n",
                "('2700', 'Schwanthalerstr. 7031', '80925', 'Munich', 'Bavaria', 'DE'),\r\n",
                "('2800', 'Rua Frei Caneca 1360', '01307-002', 'Sao Paulo', 'Sao Paulo', 'BR'),\r\n",
                "('2900', '20 Rue des Corps-Saints', '1730', 'Geneva', 'Geneve', 'CH'),\r\n",
                "('3000', 'Murtenstrasse 921', '3095', 'Bern', 'BE', 'CH'),\r\n",
                "('3100', 'Pieter Breughelstraat 837', '3029SK', 'Utrecht', 'Utrecht', 'NL'),\r\n",
                "('3200', 'Mariano Escobedo 9991', '11932', 'Mexico City', '\"Distrito Federal', '\"')"
            ],
            "metadata": {
                "language": "sql",
                "azdata_cell_guid": "e3183942-6721-49cb-be2d-63a52a4b16ff"
            },
            "outputs": [
                {
                    "output_type": "display_data",
                    "data": {
                        "text/html": "(23 rows affected)"
                    },
                    "metadata": {}
                },
                {
                    "output_type": "display_data",
                    "data": {
                        "text/html": "Total execution time: 00:00:00.009"
                    },
                    "metadata": {}
                }
            ],
            "execution_count": 12
        },
        {
            "cell_type": "code",
            "source": [
                "CREATE TABLE regions (\r\n",
                "  REGION_ID decimal(5,0) NOT NULL,\r\n",
                "  REGION_NAME varchar(25) DEFAULT NULL,\r\n",
                "  PRIMARY KEY (REGION_ID))"
            ],
            "metadata": {
                "language": "sql",
                "azdata_cell_guid": "b5de9708-7d7a-43a8-9adc-586c5b7adb8e"
            },
            "outputs": [
                {
                    "output_type": "display_data",
                    "data": {
                        "text/html": "Commands completed successfully."
                    },
                    "metadata": {}
                },
                {
                    "output_type": "display_data",
                    "data": {
                        "text/html": "Total execution time: 00:00:00.007"
                    },
                    "metadata": {}
                }
            ],
            "execution_count": 13
        },
        {
            "cell_type": "code",
            "source": [
                "INSERT INTO regions (REGION_ID, REGION_NAME) VALUES\r\n",
                "('1', 'Europe\\r'),\r\n",
                "('2', 'Americas\\r'),\r\n",
                "('3', 'Asia\\r'),\r\n",
                "('4', 'Middle East and Africa\\r')"
            ],
            "metadata": {
                "language": "sql",
                "azdata_cell_guid": "9155e61e-a2e6-4da7-b432-b33d4361c40f"
            },
            "outputs": [
                {
                    "output_type": "display_data",
                    "data": {
                        "text/html": "(4 rows affected)"
                    },
                    "metadata": {}
                },
                {
                    "output_type": "display_data",
                    "data": {
                        "text/html": "Total execution time: 00:00:00.005"
                    },
                    "metadata": {}
                }
            ],
            "execution_count": 14
        },
        {
            "cell_type": "code",
            "source": [
                "--1. Write a query to display the name (first name and last name) for those employees who gets more salary than the employee whose ID is 163. \r\n",
                "SELECT CONCAT(LAST_NAME,' ',LAST_NAME) AS 'NAME' FROM employees1 \r\n",
                "WHERE SALARY>(SELECT SALARY FROM employees1 WHERE EMPLOYEE_ID=163);\r\n",
                ""
            ],
            "metadata": {
                "language": "sql",
                "azdata_cell_guid": "dd933629-6062-4c6f-a0c7-7e72e5b799e0"
            },
            "outputs": [
                {
                    "output_type": "display_data",
                    "data": {
                        "text/html": "(20 rows affected)"
                    },
                    "metadata": {}
                },
                {
                    "output_type": "display_data",
                    "data": {
                        "text/html": "Total execution time: 00:00:00.055"
                    },
                    "metadata": {}
                },
                {
                    "output_type": "execute_result",
                    "execution_count": 1,
                    "data": {
                        "application/vnd.dataresource+json": {
                            "schema": {
                                "fields": [
                                    {
                                        "name": "NAME"
                                    }
                                ]
                            },
                            "data": [
                                {
                                    "0": "King King"
                                },
                                {
                                    "0": "Kochhar Kochhar"
                                },
                                {
                                    "0": "De Haan De Haan"
                                },
                                {
                                    "0": "Greenberg Greenberg"
                                },
                                {
                                    "0": "Raphaely Raphaely"
                                },
                                {
                                    "0": "Russell Russell"
                                },
                                {
                                    "0": "Partners Partners"
                                },
                                {
                                    "0": "Errazuriz Errazuriz"
                                },
                                {
                                    "0": "Cambrault Cambrault"
                                },
                                {
                                    "0": "Zlotkey Zlotkey"
                                },
                                {
                                    "0": "Tucker Tucker"
                                },
                                {
                                    "0": "King King"
                                },
                                {
                                    "0": "Vishney Vishney"
                                },
                                {
                                    "0": "Ozer Ozer"
                                },
                                {
                                    "0": "Bloom Bloom"
                                },
                                {
                                    "0": "Fox Fox"
                                },
                                {
                                    "0": "Abel Abel"
                                },
                                {
                                    "0": "Hartstein Hartstein"
                                },
                                {
                                    "0": "Baer Baer"
                                },
                                {
                                    "0": "Higgins Higgins"
                                }
                            ]
                        },
                        "text/html": "<table><tr><th>NAME</th></tr><tr><td>King King</td></tr><tr><td>Kochhar Kochhar</td></tr><tr><td>De Haan De Haan</td></tr><tr><td>Greenberg Greenberg</td></tr><tr><td>Raphaely Raphaely</td></tr><tr><td>Russell Russell</td></tr><tr><td>Partners Partners</td></tr><tr><td>Errazuriz Errazuriz</td></tr><tr><td>Cambrault Cambrault</td></tr><tr><td>Zlotkey Zlotkey</td></tr><tr><td>Tucker Tucker</td></tr><tr><td>King King</td></tr><tr><td>Vishney Vishney</td></tr><tr><td>Ozer Ozer</td></tr><tr><td>Bloom Bloom</td></tr><tr><td>Fox Fox</td></tr><tr><td>Abel Abel</td></tr><tr><td>Hartstein Hartstein</td></tr><tr><td>Baer Baer</td></tr><tr><td>Higgins Higgins</td></tr></table>"
                    },
                    "metadata": {}
                }
            ],
            "execution_count": 1
        },
        {
            "cell_type": "code",
            "source": [
                "--2. Write a query to display the name (first name and last name), salary, department id for those employees who earn such \r\n",
                "--amount of salary which is the  smallest salary of any of the departments.\r\n",
                "SELECT CONCAT(FIRST_NAME,' ',LAST_NAME),SALARY,DEPARTMENT_ID FROM employees1 \r\n",
                "WHERE SALARY IN(SELECT MIN(SALARY) FROM employees1 GROUP BY DEPARTMENT_ID);"
            ],
            "metadata": {
                "language": "sql",
                "azdata_cell_guid": "6ab74248-8636-42d9-a879-66f0824f822f"
            },
            "outputs": [
                {
                    "output_type": "display_data",
                    "data": {
                        "text/html": "(26 rows affected)"
                    },
                    "metadata": {}
                },
                {
                    "output_type": "display_data",
                    "data": {
                        "text/html": "Total execution time: 00:00:00.017"
                    },
                    "metadata": {}
                },
                {
                    "output_type": "execute_result",
                    "execution_count": 2,
                    "data": {
                        "application/vnd.dataresource+json": {
                            "schema": {
                                "fields": [
                                    {
                                        "name": "(No column name)"
                                    },
                                    {
                                        "name": "SALARY"
                                    },
                                    {
                                        "name": "DEPARTMENT_ID"
                                    }
                                ]
                            },
                            "data": [
                                {
                                    "0": "Neena Kochhar",
                                    "1": "17000.00",
                                    "2": "90"
                                },
                                {
                                    "0": "Lex De Haan",
                                    "1": "17000.00",
                                    "2": "90"
                                },
                                {
                                    "0": "Bruce Ernst",
                                    "1": "6000.00",
                                    "2": "60"
                                },
                                {
                                    "0": "Diana Lorentz",
                                    "1": "4200.00",
                                    "2": "60"
                                },
                                {
                                    "0": "Luis Popp",
                                    "1": "6900.00",
                                    "2": "100"
                                },
                                {
                                    "0": "Karen Colmenares",
                                    "1": "2500.00",
                                    "2": "30"
                                },
                                {
                                    "0": "Shanta Vollman",
                                    "1": "6500.00",
                                    "2": "50"
                                },
                                {
                                    "0": "James Marlow",
                                    "1": "2500.00",
                                    "2": "50"
                                },
                                {
                                    "0": "TJ Olson",
                                    "1": "2100.00",
                                    "2": "50"
                                },
                                {
                                    "0": "Joshua Patel",
                                    "1": "2500.00",
                                    "2": "50"
                                },
                                {
                                    "0": "Peter Vargas",
                                    "1": "2500.00",
                                    "2": "50"
                                },
                                {
                                    "0": "Peter Tucker",
                                    "1": "10000.00",
                                    "2": "80"
                                },
                                {
                                    "0": "Oliver Tuvault",
                                    "1": "7000.00",
                                    "2": "80"
                                },
                                {
                                    "0": "Janette King",
                                    "1": "10000.00",
                                    "2": "80"
                                },
                                {
                                    "0": "Sarath Sewall",
                                    "1": "7000.00",
                                    "2": "80"
                                },
                                {
                                    "0": "Harrison Bloom",
                                    "1": "10000.00",
                                    "2": "80"
                                },
                                {
                                    "0": "Sundita Kumar",
                                    "1": "6100.00",
                                    "2": "80"
                                },
                                {
                                    "0": "Kimberely Grant",
                                    "1": "7000.00",
                                    "2": "0"
                                },
                                {
                                    "0": "Martha Sullivan",
                                    "1": "2500.00",
                                    "2": "50"
                                },
                                {
                                    "0": "Nandita Sarchand",
                                    "1": "4200.00",
                                    "2": "50"
                                },
                                {
                                    "0": "Randall Perkins",
                                    "1": "2500.00",
                                    "2": "50"
                                },
                                {
                                    "0": "Jennifer Whalen",
                                    "1": "4400.00",
                                    "2": "10"
                                },
                                {
                                    "0": "Pat Fay",
                                    "1": "6000.00",
                                    "2": "20"
                                },
                                {
                                    "0": "Susan Mavris",
                                    "1": "6500.00",
                                    "2": "40"
                                },
                                {
                                    "0": "Hermann Baer",
                                    "1": "10000.00",
                                    "2": "70"
                                },
                                {
                                    "0": "William Gietz",
                                    "1": "8300.00",
                                    "2": "110"
                                }
                            ]
                        },
                        "text/html": "<table><tr><th>(No column name)</th><th>SALARY</th><th>DEPARTMENT_ID</th></tr><tr><td>Neena Kochhar</td><td>17000.00</td><td>90</td></tr><tr><td>Lex De Haan</td><td>17000.00</td><td>90</td></tr><tr><td>Bruce Ernst</td><td>6000.00</td><td>60</td></tr><tr><td>Diana Lorentz</td><td>4200.00</td><td>60</td></tr><tr><td>Luis Popp</td><td>6900.00</td><td>100</td></tr><tr><td>Karen Colmenares</td><td>2500.00</td><td>30</td></tr><tr><td>Shanta Vollman</td><td>6500.00</td><td>50</td></tr><tr><td>James Marlow</td><td>2500.00</td><td>50</td></tr><tr><td>TJ Olson</td><td>2100.00</td><td>50</td></tr><tr><td>Joshua Patel</td><td>2500.00</td><td>50</td></tr><tr><td>Peter Vargas</td><td>2500.00</td><td>50</td></tr><tr><td>Peter Tucker</td><td>10000.00</td><td>80</td></tr><tr><td>Oliver Tuvault</td><td>7000.00</td><td>80</td></tr><tr><td>Janette King</td><td>10000.00</td><td>80</td></tr><tr><td>Sarath Sewall</td><td>7000.00</td><td>80</td></tr><tr><td>Harrison Bloom</td><td>10000.00</td><td>80</td></tr><tr><td>Sundita Kumar</td><td>6100.00</td><td>80</td></tr><tr><td>Kimberely Grant</td><td>7000.00</td><td>0</td></tr><tr><td>Martha Sullivan</td><td>2500.00</td><td>50</td></tr><tr><td>Nandita Sarchand</td><td>4200.00</td><td>50</td></tr><tr><td>Randall Perkins</td><td>2500.00</td><td>50</td></tr><tr><td>Jennifer Whalen</td><td>4400.00</td><td>10</td></tr><tr><td>Pat Fay</td><td>6000.00</td><td>20</td></tr><tr><td>Susan Mavris</td><td>6500.00</td><td>40</td></tr><tr><td>Hermann Baer</td><td>10000.00</td><td>70</td></tr><tr><td>William Gietz</td><td>8300.00</td><td>110</td></tr></table>"
                    },
                    "metadata": {}
                }
            ],
            "execution_count": 2
        },
        {
            "cell_type": "code",
            "source": [
                "--3. Write a query to display all the information for those employees whose id is any id who earn the second highest salary.\r\n",
                "select * from employees1 \r\n",
                "where EMPLOYEE_ID in(select EMPLOYEE_ID from employees1 \r\n",
                "where SALARY=(select MAX(SALARY) from employees1\r\n",
                "where SALARY<(select MAX(SALARY) from employees1)));"
            ],
            "metadata": {
                "language": "sql",
                "azdata_cell_guid": "582a2e91-f516-4b53-a763-fb55cf05c259"
            },
            "outputs": [
                {
                    "output_type": "display_data",
                    "data": {
                        "text/html": "(2 rows affected)"
                    },
                    "metadata": {}
                },
                {
                    "output_type": "display_data",
                    "data": {
                        "text/html": "Total execution time: 00:00:00.016"
                    },
                    "metadata": {}
                },
                {
                    "output_type": "execute_result",
                    "execution_count": 3,
                    "data": {
                        "application/vnd.dataresource+json": {
                            "schema": {
                                "fields": [
                                    {
                                        "name": "EMPLOYEE_ID"
                                    },
                                    {
                                        "name": "FIRST_NAME"
                                    },
                                    {
                                        "name": "LAST_NAME"
                                    },
                                    {
                                        "name": "EMAIL"
                                    },
                                    {
                                        "name": "PHONE_NUMBER"
                                    },
                                    {
                                        "name": "HIRE_DATE"
                                    },
                                    {
                                        "name": "JOB_ID"
                                    },
                                    {
                                        "name": "SALARY"
                                    },
                                    {
                                        "name": "COMMISSION_PCT"
                                    },
                                    {
                                        "name": "MANAGER_ID"
                                    },
                                    {
                                        "name": "DEPARTMENT_ID"
                                    }
                                ]
                            },
                            "data": [
                                {
                                    "0": "101",
                                    "1": "Neena",
                                    "2": "Kochhar",
                                    "3": "NKOCHHAR",
                                    "4": "515.123.4568",
                                    "5": "1987-06-18",
                                    "6": "AD_VP",
                                    "7": "17000.00",
                                    "8": "0.00",
                                    "9": "100",
                                    "10": "90"
                                },
                                {
                                    "0": "102",
                                    "1": "Lex",
                                    "2": "De Haan",
                                    "3": "LDEHAAN",
                                    "4": "515.123.4569",
                                    "5": "1987-06-19",
                                    "6": "AD_VP",
                                    "7": "17000.00",
                                    "8": "0.00",
                                    "9": "100",
                                    "10": "90"
                                }
                            ]
                        },
                        "text/html": "<table><tr><th>EMPLOYEE_ID</th><th>FIRST_NAME</th><th>LAST_NAME</th><th>EMAIL</th><th>PHONE_NUMBER</th><th>HIRE_DATE</th><th>JOB_ID</th><th>SALARY</th><th>COMMISSION_PCT</th><th>MANAGER_ID</th><th>DEPARTMENT_ID</th></tr><tr><td>101</td><td>Neena</td><td>Kochhar</td><td>NKOCHHAR</td><td>515.123.4568</td><td>1987-06-18</td><td>AD_VP</td><td>17000.00</td><td>0.00</td><td>100</td><td>90</td></tr><tr><td>102</td><td>Lex</td><td>De Haan</td><td>LDEHAAN</td><td>515.123.4569</td><td>1987-06-19</td><td>AD_VP</td><td>17000.00</td><td>0.00</td><td>100</td><td>90</td></tr></table>"
                    },
                    "metadata": {}
                }
            ],
            "execution_count": 3
        },
        {
            "cell_type": "code",
            "source": [
                "--4.Write a query to display the employee number, name (first name and last name), and salary for all employees who earn more than the average salary \r\n",
                "--and who work in a department with any employee with a J in their name\r\n",
                "select EMPLOYEE_ID, CONCAT(FIRST_NAME,' ',LAST_NAME) as 'Name',SALARY from employees1\r\n",
                "where SALARY>(select AVG(SALARY) from employees1)\r\n",
                "and DEPARTMENT_ID in(select DEPARTMENT_ID from employees1\r\n",
                "where FIRST_NAME like '%J%');"
            ],
            "metadata": {
                "language": "sql",
                "azdata_cell_guid": "1b663293-99e0-4adb-a219-cddcf5b66a72",
                "tags": []
            },
            "outputs": [
                {
                    "output_type": "display_data",
                    "data": {
                        "text/html": "(40 rows affected)"
                    },
                    "metadata": {}
                },
                {
                    "output_type": "display_data",
                    "data": {
                        "text/html": "Total execution time: 00:00:00.020"
                    },
                    "metadata": {}
                },
                {
                    "output_type": "execute_result",
                    "execution_count": 4,
                    "data": {
                        "application/vnd.dataresource+json": {
                            "schema": {
                                "fields": [
                                    {
                                        "name": "EMPLOYEE_ID"
                                    },
                                    {
                                        "name": "Name"
                                    },
                                    {
                                        "name": "SALARY"
                                    }
                                ]
                            },
                            "data": [
                                {
                                    "0": "108",
                                    "1": "Nancy Greenberg",
                                    "2": "12000.00"
                                },
                                {
                                    "0": "109",
                                    "1": "Daniel Faviet",
                                    "2": "9000.00"
                                },
                                {
                                    "0": "110",
                                    "1": "John Chen",
                                    "2": "8200.00"
                                },
                                {
                                    "0": "111",
                                    "1": "Ismael Sciarra",
                                    "2": "7700.00"
                                },
                                {
                                    "0": "112",
                                    "1": "Jose Manuel Urman",
                                    "2": "7800.00"
                                },
                                {
                                    "0": "113",
                                    "1": "Luis Popp",
                                    "2": "6900.00"
                                },
                                {
                                    "0": "120",
                                    "1": "Matthew Weiss",
                                    "2": "8000.00"
                                },
                                {
                                    "0": "121",
                                    "1": "Adam Fripp",
                                    "2": "8200.00"
                                },
                                {
                                    "0": "122",
                                    "1": "Payam Kaufling",
                                    "2": "7900.00"
                                },
                                {
                                    "0": "123",
                                    "1": "Shanta Vollman",
                                    "2": "6500.00"
                                },
                                {
                                    "0": "145",
                                    "1": "John Russell",
                                    "2": "14000.00"
                                },
                                {
                                    "0": "146",
                                    "1": "Karen Partners",
                                    "2": "13500.00"
                                },
                                {
                                    "0": "147",
                                    "1": "Alberto Errazuriz",
                                    "2": "12000.00"
                                },
                                {
                                    "0": "148",
                                    "1": "Gerald Cambrault",
                                    "2": "11000.00"
                                },
                                {
                                    "0": "149",
                                    "1": "Eleni Zlotkey",
                                    "2": "10500.00"
                                },
                                {
                                    "0": "150",
                                    "1": "Peter Tucker",
                                    "2": "10000.00"
                                },
                                {
                                    "0": "151",
                                    "1": "David Bernstein",
                                    "2": "9500.00"
                                },
                                {
                                    "0": "152",
                                    "1": "Peter Hall",
                                    "2": "9000.00"
                                },
                                {
                                    "0": "153",
                                    "1": "Christopher Olsen",
                                    "2": "8000.00"
                                },
                                {
                                    "0": "154",
                                    "1": "Nanette Cambrault",
                                    "2": "7500.00"
                                },
                                {
                                    "0": "155",
                                    "1": "Oliver Tuvault",
                                    "2": "7000.00"
                                },
                                {
                                    "0": "156",
                                    "1": "Janette King",
                                    "2": "10000.00"
                                },
                                {
                                    "0": "157",
                                    "1": "Patrick Sully",
                                    "2": "9500.00"
                                },
                                {
                                    "0": "158",
                                    "1": "Allan McEwen",
                                    "2": "9000.00"
                                },
                                {
                                    "0": "159",
                                    "1": "Lindsey Smith",
                                    "2": "8000.00"
                                },
                                {
                                    "0": "160",
                                    "1": "Louise Doran",
                                    "2": "7500.00"
                                },
                                {
                                    "0": "161",
                                    "1": "Sarath Sewall",
                                    "2": "7000.00"
                                },
                                {
                                    "0": "162",
                                    "1": "Clara Vishney",
                                    "2": "10500.00"
                                },
                                {
                                    "0": "163",
                                    "1": "Danielle Greene",
                                    "2": "9500.00"
                                },
                                {
                                    "0": "164",
                                    "1": "Mattea Marvins",
                                    "2": "7200.00"
                                },
                                {
                                    "0": "165",
                                    "1": "David Lee",
                                    "2": "6800.00"
                                },
                                {
                                    "0": "168",
                                    "1": "Lisa Ozer",
                                    "2": "11500.00"
                                },
                                {
                                    "0": "169",
                                    "1": "Harrison Bloom",
                                    "2": "10000.00"
                                },
                                {
                                    "0": "170",
                                    "1": "Tayler Fox",
                                    "2": "9600.00"
                                },
                                {
                                    "0": "171",
                                    "1": "William Smith",
                                    "2": "7400.00"
                                },
                                {
                                    "0": "172",
                                    "1": "Elizabeth Bates",
                                    "2": "7300.00"
                                },
                                {
                                    "0": "174",
                                    "1": "Ellen Abel",
                                    "2": "11000.00"
                                },
                                {
                                    "0": "175",
                                    "1": "Alyssa Hutton",
                                    "2": "8800.00"
                                },
                                {
                                    "0": "176",
                                    "1": "Jonathon Taylor",
                                    "2": "8600.00"
                                },
                                {
                                    "0": "177",
                                    "1": "Jack Livingston",
                                    "2": "8400.00"
                                }
                            ]
                        },
                        "text/html": "<table><tr><th>EMPLOYEE_ID</th><th>Name</th><th>SALARY</th></tr><tr><td>108</td><td>Nancy Greenberg</td><td>12000.00</td></tr><tr><td>109</td><td>Daniel Faviet</td><td>9000.00</td></tr><tr><td>110</td><td>John Chen</td><td>8200.00</td></tr><tr><td>111</td><td>Ismael Sciarra</td><td>7700.00</td></tr><tr><td>112</td><td>Jose Manuel Urman</td><td>7800.00</td></tr><tr><td>113</td><td>Luis Popp</td><td>6900.00</td></tr><tr><td>120</td><td>Matthew Weiss</td><td>8000.00</td></tr><tr><td>121</td><td>Adam Fripp</td><td>8200.00</td></tr><tr><td>122</td><td>Payam Kaufling</td><td>7900.00</td></tr><tr><td>123</td><td>Shanta Vollman</td><td>6500.00</td></tr><tr><td>145</td><td>John Russell</td><td>14000.00</td></tr><tr><td>146</td><td>Karen Partners</td><td>13500.00</td></tr><tr><td>147</td><td>Alberto Errazuriz</td><td>12000.00</td></tr><tr><td>148</td><td>Gerald Cambrault</td><td>11000.00</td></tr><tr><td>149</td><td>Eleni Zlotkey</td><td>10500.00</td></tr><tr><td>150</td><td>Peter Tucker</td><td>10000.00</td></tr><tr><td>151</td><td>David Bernstein</td><td>9500.00</td></tr><tr><td>152</td><td>Peter Hall</td><td>9000.00</td></tr><tr><td>153</td><td>Christopher Olsen</td><td>8000.00</td></tr><tr><td>154</td><td>Nanette Cambrault</td><td>7500.00</td></tr><tr><td>155</td><td>Oliver Tuvault</td><td>7000.00</td></tr><tr><td>156</td><td>Janette King</td><td>10000.00</td></tr><tr><td>157</td><td>Patrick Sully</td><td>9500.00</td></tr><tr><td>158</td><td>Allan McEwen</td><td>9000.00</td></tr><tr><td>159</td><td>Lindsey Smith</td><td>8000.00</td></tr><tr><td>160</td><td>Louise Doran</td><td>7500.00</td></tr><tr><td>161</td><td>Sarath Sewall</td><td>7000.00</td></tr><tr><td>162</td><td>Clara Vishney</td><td>10500.00</td></tr><tr><td>163</td><td>Danielle Greene</td><td>9500.00</td></tr><tr><td>164</td><td>Mattea Marvins</td><td>7200.00</td></tr><tr><td>165</td><td>David Lee</td><td>6800.00</td></tr><tr><td>168</td><td>Lisa Ozer</td><td>11500.00</td></tr><tr><td>169</td><td>Harrison Bloom</td><td>10000.00</td></tr><tr><td>170</td><td>Tayler Fox</td><td>9600.00</td></tr><tr><td>171</td><td>William Smith</td><td>7400.00</td></tr><tr><td>172</td><td>Elizabeth Bates</td><td>7300.00</td></tr><tr><td>174</td><td>Ellen Abel</td><td>11000.00</td></tr><tr><td>175</td><td>Alyssa Hutton</td><td>8800.00</td></tr><tr><td>176</td><td>Jonathon Taylor</td><td>8600.00</td></tr><tr><td>177</td><td>Jack Livingston</td><td>8400.00</td></tr></table>"
                    },
                    "metadata": {}
                }
            ],
            "execution_count": 4
        },
        {
            "cell_type": "code",
            "source": [
                "--5. Display the employee name (first name and last name), employee id, and job title for all employees whose department location is Toronto\r\n",
                "SELECT EMPLOYEE_ID,CONCAT(FIRST_NAME,' ',LAST_NAME) AS 'Name',JOB_ID  FROM employees1\r\n",
                "where DEPARTMENT_ID=(select DEPARTMENT_ID from departments\r\n",
                "where LOCATION_ID=(select LOCATION_ID from locations\r\n",
                "where city='Toronto'));"
            ],
            "metadata": {
                "language": "sql",
                "azdata_cell_guid": "2b2cebe1-65b9-412a-980e-988212f1ee8e"
            },
            "outputs": [
                {
                    "output_type": "display_data",
                    "data": {
                        "text/html": "(2 rows affected)"
                    },
                    "metadata": {}
                },
                {
                    "output_type": "display_data",
                    "data": {
                        "text/html": "Total execution time: 00:00:00.010"
                    },
                    "metadata": {}
                },
                {
                    "output_type": "execute_result",
                    "execution_count": 5,
                    "data": {
                        "application/vnd.dataresource+json": {
                            "schema": {
                                "fields": [
                                    {
                                        "name": "EMPLOYEE_ID"
                                    },
                                    {
                                        "name": "Name"
                                    },
                                    {
                                        "name": "JOB_ID"
                                    }
                                ]
                            },
                            "data": [
                                {
                                    "0": "201",
                                    "1": "Michael Hartstein",
                                    "2": "MK_MAN"
                                },
                                {
                                    "0": "202",
                                    "1": "Pat Fay",
                                    "2": "MK_REP"
                                }
                            ]
                        },
                        "text/html": "<table><tr><th>EMPLOYEE_ID</th><th>Name</th><th>JOB_ID</th></tr><tr><td>201</td><td>Michael Hartstein</td><td>MK_MAN</td></tr><tr><td>202</td><td>Pat Fay</td><td>MK_REP</td></tr></table>"
                    },
                    "metadata": {}
                }
            ],
            "execution_count": 5
        },
        {
            "cell_type": "code",
            "source": [
                "--6. Write a query to display the employee id, name (first name and last name), Salary,AvgCompare (salary - the average salary of all employees) and the SalaryStatus column \r\n",
                "--with a title HIGH and LOW respectively for those employees whose salary is more than and less than the average salary of all employees\r\n",
                "select EMPLOYEE_ID,CONCAT(FIRST_NAME,'',LAST_NAME) AS 'Name',SALARY,\r\n",
                "ROUND((SALARY-(SELECT AVG(SALARY) FROM employees1)),2) AS 'AvgComapre',\r\n",
                "case when SALARY>= (select AVG(SALARY) from employees1) THEN 'HIGH'\r\n",
                "ELSE 'LOW'\r\n",
                "END AS 'SalaryStatus'\r\n",
                "from employees1\r\n",
                ""
            ],
            "metadata": {
                "language": "sql",
                "azdata_cell_guid": "a7fb2c81-1b31-4a02-ae79-833ef8eb9be0"
            },
            "outputs": [
                {
                    "output_type": "display_data",
                    "data": {
                        "text/html": "(107 rows affected)"
                    },
                    "metadata": {}
                },
                {
                    "output_type": "display_data",
                    "data": {
                        "text/html": "Total execution time: 00:00:00.012"
                    },
                    "metadata": {}
                },
                {
                    "output_type": "execute_result",
                    "execution_count": 6,
                    "data": {
                        "application/vnd.dataresource+json": {
                            "schema": {
                                "fields": [
                                    {
                                        "name": "EMPLOYEE_ID"
                                    },
                                    {
                                        "name": "Name"
                                    },
                                    {
                                        "name": "SALARY"
                                    },
                                    {
                                        "name": "AvgComapre"
                                    },
                                    {
                                        "name": "SalaryStatus"
                                    }
                                ]
                            },
                            "data": [
                                {
                                    "0": "100",
                                    "1": "StevenKing",
                                    "2": "24000.00",
                                    "3": "17538.320000",
                                    "4": "HIGH"
                                },
                                {
                                    "0": "101",
                                    "1": "NeenaKochhar",
                                    "2": "17000.00",
                                    "3": "10538.320000",
                                    "4": "HIGH"
                                },
                                {
                                    "0": "102",
                                    "1": "LexDe Haan",
                                    "2": "17000.00",
                                    "3": "10538.320000",
                                    "4": "HIGH"
                                },
                                {
                                    "0": "103",
                                    "1": "AlexanderHunold",
                                    "2": "9000.00",
                                    "3": "2538.320000",
                                    "4": "HIGH"
                                },
                                {
                                    "0": "104",
                                    "1": "BruceErnst",
                                    "2": "6000.00",
                                    "3": "-461.680000",
                                    "4": "LOW"
                                },
                                {
                                    "0": "105",
                                    "1": "DavidAustin",
                                    "2": "4800.00",
                                    "3": "-1661.680000",
                                    "4": "LOW"
                                },
                                {
                                    "0": "106",
                                    "1": "ValliPataballa",
                                    "2": "4800.00",
                                    "3": "-1661.680000",
                                    "4": "LOW"
                                },
                                {
                                    "0": "107",
                                    "1": "DianaLorentz",
                                    "2": "4200.00",
                                    "3": "-2261.680000",
                                    "4": "LOW"
                                },
                                {
                                    "0": "108",
                                    "1": "NancyGreenberg",
                                    "2": "12000.00",
                                    "3": "5538.320000",
                                    "4": "HIGH"
                                },
                                {
                                    "0": "109",
                                    "1": "DanielFaviet",
                                    "2": "9000.00",
                                    "3": "2538.320000",
                                    "4": "HIGH"
                                },
                                {
                                    "0": "110",
                                    "1": "JohnChen",
                                    "2": "8200.00",
                                    "3": "1738.320000",
                                    "4": "HIGH"
                                },
                                {
                                    "0": "111",
                                    "1": "IsmaelSciarra",
                                    "2": "7700.00",
                                    "3": "1238.320000",
                                    "4": "HIGH"
                                },
                                {
                                    "0": "112",
                                    "1": "Jose ManuelUrman",
                                    "2": "7800.00",
                                    "3": "1338.320000",
                                    "4": "HIGH"
                                },
                                {
                                    "0": "113",
                                    "1": "LuisPopp",
                                    "2": "6900.00",
                                    "3": "438.320000",
                                    "4": "HIGH"
                                },
                                {
                                    "0": "114",
                                    "1": "DenRaphaely",
                                    "2": "11000.00",
                                    "3": "4538.320000",
                                    "4": "HIGH"
                                },
                                {
                                    "0": "115",
                                    "1": "AlexanderKhoo",
                                    "2": "3100.00",
                                    "3": "-3361.680000",
                                    "4": "LOW"
                                },
                                {
                                    "0": "116",
                                    "1": "ShelliBaida",
                                    "2": "2900.00",
                                    "3": "-3561.680000",
                                    "4": "LOW"
                                },
                                {
                                    "0": "117",
                                    "1": "SigalTobias",
                                    "2": "2800.00",
                                    "3": "-3661.680000",
                                    "4": "LOW"
                                },
                                {
                                    "0": "118",
                                    "1": "GuyHimuro",
                                    "2": "2600.00",
                                    "3": "-3861.680000",
                                    "4": "LOW"
                                },
                                {
                                    "0": "119",
                                    "1": "KarenColmenares",
                                    "2": "2500.00",
                                    "3": "-3961.680000",
                                    "4": "LOW"
                                },
                                {
                                    "0": "120",
                                    "1": "MatthewWeiss",
                                    "2": "8000.00",
                                    "3": "1538.320000",
                                    "4": "HIGH"
                                },
                                {
                                    "0": "121",
                                    "1": "AdamFripp",
                                    "2": "8200.00",
                                    "3": "1738.320000",
                                    "4": "HIGH"
                                },
                                {
                                    "0": "122",
                                    "1": "PayamKaufling",
                                    "2": "7900.00",
                                    "3": "1438.320000",
                                    "4": "HIGH"
                                },
                                {
                                    "0": "123",
                                    "1": "ShantaVollman",
                                    "2": "6500.00",
                                    "3": "38.320000",
                                    "4": "HIGH"
                                },
                                {
                                    "0": "124",
                                    "1": "KevinMourgos",
                                    "2": "5800.00",
                                    "3": "-661.680000",
                                    "4": "LOW"
                                },
                                {
                                    "0": "125",
                                    "1": "JuliaNayer",
                                    "2": "3200.00",
                                    "3": "-3261.680000",
                                    "4": "LOW"
                                },
                                {
                                    "0": "126",
                                    "1": "IreneMikkilineni",
                                    "2": "2700.00",
                                    "3": "-3761.680000",
                                    "4": "LOW"
                                },
                                {
                                    "0": "127",
                                    "1": "JamesLandry",
                                    "2": "2400.00",
                                    "3": "-4061.680000",
                                    "4": "LOW"
                                },
                                {
                                    "0": "128",
                                    "1": "StevenMarkle",
                                    "2": "2200.00",
                                    "3": "-4261.680000",
                                    "4": "LOW"
                                },
                                {
                                    "0": "129",
                                    "1": "LauraBissot",
                                    "2": "3300.00",
                                    "3": "-3161.680000",
                                    "4": "LOW"
                                },
                                {
                                    "0": "130",
                                    "1": "MozheAtkinson",
                                    "2": "2800.00",
                                    "3": "-3661.680000",
                                    "4": "LOW"
                                },
                                {
                                    "0": "131",
                                    "1": "JamesMarlow",
                                    "2": "2500.00",
                                    "3": "-3961.680000",
                                    "4": "LOW"
                                },
                                {
                                    "0": "132",
                                    "1": "TJOlson",
                                    "2": "2100.00",
                                    "3": "-4361.680000",
                                    "4": "LOW"
                                },
                                {
                                    "0": "133",
                                    "1": "JasonMallin",
                                    "2": "3300.00",
                                    "3": "-3161.680000",
                                    "4": "LOW"
                                },
                                {
                                    "0": "134",
                                    "1": "MichaelRogers",
                                    "2": "2900.00",
                                    "3": "-3561.680000",
                                    "4": "LOW"
                                },
                                {
                                    "0": "135",
                                    "1": "KiGee",
                                    "2": "2400.00",
                                    "3": "-4061.680000",
                                    "4": "LOW"
                                },
                                {
                                    "0": "136",
                                    "1": "HazelPhiltanker",
                                    "2": "2200.00",
                                    "3": "-4261.680000",
                                    "4": "LOW"
                                },
                                {
                                    "0": "137",
                                    "1": "RenskeLadwig",
                                    "2": "3600.00",
                                    "3": "-2861.680000",
                                    "4": "LOW"
                                },
                                {
                                    "0": "138",
                                    "1": "StephenStiles",
                                    "2": "3200.00",
                                    "3": "-3261.680000",
                                    "4": "LOW"
                                },
                                {
                                    "0": "139",
                                    "1": "JohnSeo",
                                    "2": "2700.00",
                                    "3": "-3761.680000",
                                    "4": "LOW"
                                },
                                {
                                    "0": "140",
                                    "1": "JoshuaPatel",
                                    "2": "2500.00",
                                    "3": "-3961.680000",
                                    "4": "LOW"
                                },
                                {
                                    "0": "141",
                                    "1": "TrennaRajs",
                                    "2": "3500.00",
                                    "3": "-2961.680000",
                                    "4": "LOW"
                                },
                                {
                                    "0": "142",
                                    "1": "CurtisDavies",
                                    "2": "3100.00",
                                    "3": "-3361.680000",
                                    "4": "LOW"
                                },
                                {
                                    "0": "143",
                                    "1": "RandallMatos",
                                    "2": "2600.00",
                                    "3": "-3861.680000",
                                    "4": "LOW"
                                },
                                {
                                    "0": "144",
                                    "1": "PeterVargas",
                                    "2": "2500.00",
                                    "3": "-3961.680000",
                                    "4": "LOW"
                                },
                                {
                                    "0": "145",
                                    "1": "JohnRussell",
                                    "2": "14000.00",
                                    "3": "7538.320000",
                                    "4": "HIGH"
                                },
                                {
                                    "0": "146",
                                    "1": "KarenPartners",
                                    "2": "13500.00",
                                    "3": "7038.320000",
                                    "4": "HIGH"
                                },
                                {
                                    "0": "147",
                                    "1": "AlbertoErrazuriz",
                                    "2": "12000.00",
                                    "3": "5538.320000",
                                    "4": "HIGH"
                                },
                                {
                                    "0": "148",
                                    "1": "GeraldCambrault",
                                    "2": "11000.00",
                                    "3": "4538.320000",
                                    "4": "HIGH"
                                },
                                {
                                    "0": "149",
                                    "1": "EleniZlotkey",
                                    "2": "10500.00",
                                    "3": "4038.320000",
                                    "4": "HIGH"
                                },
                                {
                                    "0": "150",
                                    "1": "PeterTucker",
                                    "2": "10000.00",
                                    "3": "3538.320000",
                                    "4": "HIGH"
                                },
                                {
                                    "0": "151",
                                    "1": "DavidBernstein",
                                    "2": "9500.00",
                                    "3": "3038.320000",
                                    "4": "HIGH"
                                },
                                {
                                    "0": "152",
                                    "1": "PeterHall",
                                    "2": "9000.00",
                                    "3": "2538.320000",
                                    "4": "HIGH"
                                },
                                {
                                    "0": "153",
                                    "1": "ChristopherOlsen",
                                    "2": "8000.00",
                                    "3": "1538.320000",
                                    "4": "HIGH"
                                },
                                {
                                    "0": "154",
                                    "1": "NanetteCambrault",
                                    "2": "7500.00",
                                    "3": "1038.320000",
                                    "4": "HIGH"
                                },
                                {
                                    "0": "155",
                                    "1": "OliverTuvault",
                                    "2": "7000.00",
                                    "3": "538.320000",
                                    "4": "HIGH"
                                },
                                {
                                    "0": "156",
                                    "1": "JanetteKing",
                                    "2": "10000.00",
                                    "3": "3538.320000",
                                    "4": "HIGH"
                                },
                                {
                                    "0": "157",
                                    "1": "PatrickSully",
                                    "2": "9500.00",
                                    "3": "3038.320000",
                                    "4": "HIGH"
                                },
                                {
                                    "0": "158",
                                    "1": "AllanMcEwen",
                                    "2": "9000.00",
                                    "3": "2538.320000",
                                    "4": "HIGH"
                                },
                                {
                                    "0": "159",
                                    "1": "LindseySmith",
                                    "2": "8000.00",
                                    "3": "1538.320000",
                                    "4": "HIGH"
                                },
                                {
                                    "0": "160",
                                    "1": "LouiseDoran",
                                    "2": "7500.00",
                                    "3": "1038.320000",
                                    "4": "HIGH"
                                },
                                {
                                    "0": "161",
                                    "1": "SarathSewall",
                                    "2": "7000.00",
                                    "3": "538.320000",
                                    "4": "HIGH"
                                },
                                {
                                    "0": "162",
                                    "1": "ClaraVishney",
                                    "2": "10500.00",
                                    "3": "4038.320000",
                                    "4": "HIGH"
                                },
                                {
                                    "0": "163",
                                    "1": "DanielleGreene",
                                    "2": "9500.00",
                                    "3": "3038.320000",
                                    "4": "HIGH"
                                },
                                {
                                    "0": "164",
                                    "1": "MatteaMarvins",
                                    "2": "7200.00",
                                    "3": "738.320000",
                                    "4": "HIGH"
                                },
                                {
                                    "0": "165",
                                    "1": "DavidLee",
                                    "2": "6800.00",
                                    "3": "338.320000",
                                    "4": "HIGH"
                                },
                                {
                                    "0": "166",
                                    "1": "SundarAnde",
                                    "2": "6400.00",
                                    "3": "-61.680000",
                                    "4": "LOW"
                                },
                                {
                                    "0": "167",
                                    "1": "AmitBanda",
                                    "2": "6200.00",
                                    "3": "-261.680000",
                                    "4": "LOW"
                                },
                                {
                                    "0": "168",
                                    "1": "LisaOzer",
                                    "2": "11500.00",
                                    "3": "5038.320000",
                                    "4": "HIGH"
                                },
                                {
                                    "0": "169",
                                    "1": "HarrisonBloom",
                                    "2": "10000.00",
                                    "3": "3538.320000",
                                    "4": "HIGH"
                                },
                                {
                                    "0": "170",
                                    "1": "TaylerFox",
                                    "2": "9600.00",
                                    "3": "3138.320000",
                                    "4": "HIGH"
                                },
                                {
                                    "0": "171",
                                    "1": "WilliamSmith",
                                    "2": "7400.00",
                                    "3": "938.320000",
                                    "4": "HIGH"
                                },
                                {
                                    "0": "172",
                                    "1": "ElizabethBates",
                                    "2": "7300.00",
                                    "3": "838.320000",
                                    "4": "HIGH"
                                },
                                {
                                    "0": "173",
                                    "1": "SunditaKumar",
                                    "2": "6100.00",
                                    "3": "-361.680000",
                                    "4": "LOW"
                                },
                                {
                                    "0": "174",
                                    "1": "EllenAbel",
                                    "2": "11000.00",
                                    "3": "4538.320000",
                                    "4": "HIGH"
                                },
                                {
                                    "0": "175",
                                    "1": "AlyssaHutton",
                                    "2": "8800.00",
                                    "3": "2338.320000",
                                    "4": "HIGH"
                                },
                                {
                                    "0": "176",
                                    "1": "JonathonTaylor",
                                    "2": "8600.00",
                                    "3": "2138.320000",
                                    "4": "HIGH"
                                },
                                {
                                    "0": "177",
                                    "1": "JackLivingston",
                                    "2": "8400.00",
                                    "3": "1938.320000",
                                    "4": "HIGH"
                                },
                                {
                                    "0": "178",
                                    "1": "KimberelyGrant",
                                    "2": "7000.00",
                                    "3": "538.320000",
                                    "4": "HIGH"
                                },
                                {
                                    "0": "179",
                                    "1": "CharlesJohnson",
                                    "2": "6200.00",
                                    "3": "-261.680000",
                                    "4": "LOW"
                                },
                                {
                                    "0": "180",
                                    "1": "WinstonTaylor",
                                    "2": "3200.00",
                                    "3": "-3261.680000",
                                    "4": "LOW"
                                },
                                {
                                    "0": "181",
                                    "1": "JeanFleaur",
                                    "2": "3100.00",
                                    "3": "-3361.680000",
                                    "4": "LOW"
                                },
                                {
                                    "0": "182",
                                    "1": "MarthaSullivan",
                                    "2": "2500.00",
                                    "3": "-3961.680000",
                                    "4": "LOW"
                                },
                                {
                                    "0": "183",
                                    "1": "GirardGeoni",
                                    "2": "2800.00",
                                    "3": "-3661.680000",
                                    "4": "LOW"
                                },
                                {
                                    "0": "184",
                                    "1": "NanditaSarchand",
                                    "2": "4200.00",
                                    "3": "-2261.680000",
                                    "4": "LOW"
                                },
                                {
                                    "0": "185",
                                    "1": "AlexisBull",
                                    "2": "4100.00",
                                    "3": "-2361.680000",
                                    "4": "LOW"
                                },
                                {
                                    "0": "186",
                                    "1": "JuliaDellinger",
                                    "2": "3400.00",
                                    "3": "-3061.680000",
                                    "4": "LOW"
                                },
                                {
                                    "0": "187",
                                    "1": "AnthonyCabrio",
                                    "2": "3000.00",
                                    "3": "-3461.680000",
                                    "4": "LOW"
                                },
                                {
                                    "0": "188",
                                    "1": "KellyChung",
                                    "2": "3800.00",
                                    "3": "-2661.680000",
                                    "4": "LOW"
                                },
                                {
                                    "0": "189",
                                    "1": "JenniferDilly",
                                    "2": "3600.00",
                                    "3": "-2861.680000",
                                    "4": "LOW"
                                },
                                {
                                    "0": "190",
                                    "1": "TimothyGates",
                                    "2": "2900.00",
                                    "3": "-3561.680000",
                                    "4": "LOW"
                                },
                                {
                                    "0": "191",
                                    "1": "RandallPerkins",
                                    "2": "2500.00",
                                    "3": "-3961.680000",
                                    "4": "LOW"
                                },
                                {
                                    "0": "192",
                                    "1": "SarahBell",
                                    "2": "4000.00",
                                    "3": "-2461.680000",
                                    "4": "LOW"
                                },
                                {
                                    "0": "193",
                                    "1": "BritneyEverett",
                                    "2": "3900.00",
                                    "3": "-2561.680000",
                                    "4": "LOW"
                                },
                                {
                                    "0": "194",
                                    "1": "SamuelMcCain",
                                    "2": "3200.00",
                                    "3": "-3261.680000",
                                    "4": "LOW"
                                },
                                {
                                    "0": "195",
                                    "1": "VanceJones",
                                    "2": "2800.00",
                                    "3": "-3661.680000",
                                    "4": "LOW"
                                },
                                {
                                    "0": "196",
                                    "1": "AlanaWalsh",
                                    "2": "3100.00",
                                    "3": "-3361.680000",
                                    "4": "LOW"
                                },
                                {
                                    "0": "197",
                                    "1": "KevinFeeney",
                                    "2": "3000.00",
                                    "3": "-3461.680000",
                                    "4": "LOW"
                                },
                                {
                                    "0": "198",
                                    "1": "DonaldOConnell",
                                    "2": "2600.00",
                                    "3": "-3861.680000",
                                    "4": "LOW"
                                },
                                {
                                    "0": "199",
                                    "1": "DouglasGrant",
                                    "2": "2600.00",
                                    "3": "-3861.680000",
                                    "4": "LOW"
                                },
                                {
                                    "0": "200",
                                    "1": "JenniferWhalen",
                                    "2": "4400.00",
                                    "3": "-2061.680000",
                                    "4": "LOW"
                                },
                                {
                                    "0": "201",
                                    "1": "MichaelHartstein",
                                    "2": "13000.00",
                                    "3": "6538.320000",
                                    "4": "HIGH"
                                },
                                {
                                    "0": "202",
                                    "1": "PatFay",
                                    "2": "6000.00",
                                    "3": "-461.680000",
                                    "4": "LOW"
                                },
                                {
                                    "0": "203",
                                    "1": "SusanMavris",
                                    "2": "6500.00",
                                    "3": "38.320000",
                                    "4": "HIGH"
                                },
                                {
                                    "0": "204",
                                    "1": "HermannBaer",
                                    "2": "10000.00",
                                    "3": "3538.320000",
                                    "4": "HIGH"
                                },
                                {
                                    "0": "205",
                                    "1": "ShelleyHiggins",
                                    "2": "12000.00",
                                    "3": "5538.320000",
                                    "4": "HIGH"
                                },
                                {
                                    "0": "206",
                                    "1": "WilliamGietz",
                                    "2": "8300.00",
                                    "3": "1838.320000",
                                    "4": "HIGH"
                                }
                            ]
                        },
                        "text/html": "<table><tr><th>EMPLOYEE_ID</th><th>Name</th><th>SALARY</th><th>AvgComapre</th><th>SalaryStatus</th></tr><tr><td>100</td><td>StevenKing</td><td>24000.00</td><td>17538.320000</td><td>HIGH</td></tr><tr><td>101</td><td>NeenaKochhar</td><td>17000.00</td><td>10538.320000</td><td>HIGH</td></tr><tr><td>102</td><td>LexDe Haan</td><td>17000.00</td><td>10538.320000</td><td>HIGH</td></tr><tr><td>103</td><td>AlexanderHunold</td><td>9000.00</td><td>2538.320000</td><td>HIGH</td></tr><tr><td>104</td><td>BruceErnst</td><td>6000.00</td><td>-461.680000</td><td>LOW</td></tr><tr><td>105</td><td>DavidAustin</td><td>4800.00</td><td>-1661.680000</td><td>LOW</td></tr><tr><td>106</td><td>ValliPataballa</td><td>4800.00</td><td>-1661.680000</td><td>LOW</td></tr><tr><td>107</td><td>DianaLorentz</td><td>4200.00</td><td>-2261.680000</td><td>LOW</td></tr><tr><td>108</td><td>NancyGreenberg</td><td>12000.00</td><td>5538.320000</td><td>HIGH</td></tr><tr><td>109</td><td>DanielFaviet</td><td>9000.00</td><td>2538.320000</td><td>HIGH</td></tr><tr><td>110</td><td>JohnChen</td><td>8200.00</td><td>1738.320000</td><td>HIGH</td></tr><tr><td>111</td><td>IsmaelSciarra</td><td>7700.00</td><td>1238.320000</td><td>HIGH</td></tr><tr><td>112</td><td>Jose ManuelUrman</td><td>7800.00</td><td>1338.320000</td><td>HIGH</td></tr><tr><td>113</td><td>LuisPopp</td><td>6900.00</td><td>438.320000</td><td>HIGH</td></tr><tr><td>114</td><td>DenRaphaely</td><td>11000.00</td><td>4538.320000</td><td>HIGH</td></tr><tr><td>115</td><td>AlexanderKhoo</td><td>3100.00</td><td>-3361.680000</td><td>LOW</td></tr><tr><td>116</td><td>ShelliBaida</td><td>2900.00</td><td>-3561.680000</td><td>LOW</td></tr><tr><td>117</td><td>SigalTobias</td><td>2800.00</td><td>-3661.680000</td><td>LOW</td></tr><tr><td>118</td><td>GuyHimuro</td><td>2600.00</td><td>-3861.680000</td><td>LOW</td></tr><tr><td>119</td><td>KarenColmenares</td><td>2500.00</td><td>-3961.680000</td><td>LOW</td></tr><tr><td>120</td><td>MatthewWeiss</td><td>8000.00</td><td>1538.320000</td><td>HIGH</td></tr><tr><td>121</td><td>AdamFripp</td><td>8200.00</td><td>1738.320000</td><td>HIGH</td></tr><tr><td>122</td><td>PayamKaufling</td><td>7900.00</td><td>1438.320000</td><td>HIGH</td></tr><tr><td>123</td><td>ShantaVollman</td><td>6500.00</td><td>38.320000</td><td>HIGH</td></tr><tr><td>124</td><td>KevinMourgos</td><td>5800.00</td><td>-661.680000</td><td>LOW</td></tr><tr><td>125</td><td>JuliaNayer</td><td>3200.00</td><td>-3261.680000</td><td>LOW</td></tr><tr><td>126</td><td>IreneMikkilineni</td><td>2700.00</td><td>-3761.680000</td><td>LOW</td></tr><tr><td>127</td><td>JamesLandry</td><td>2400.00</td><td>-4061.680000</td><td>LOW</td></tr><tr><td>128</td><td>StevenMarkle</td><td>2200.00</td><td>-4261.680000</td><td>LOW</td></tr><tr><td>129</td><td>LauraBissot</td><td>3300.00</td><td>-3161.680000</td><td>LOW</td></tr><tr><td>130</td><td>MozheAtkinson</td><td>2800.00</td><td>-3661.680000</td><td>LOW</td></tr><tr><td>131</td><td>JamesMarlow</td><td>2500.00</td><td>-3961.680000</td><td>LOW</td></tr><tr><td>132</td><td>TJOlson</td><td>2100.00</td><td>-4361.680000</td><td>LOW</td></tr><tr><td>133</td><td>JasonMallin</td><td>3300.00</td><td>-3161.680000</td><td>LOW</td></tr><tr><td>134</td><td>MichaelRogers</td><td>2900.00</td><td>-3561.680000</td><td>LOW</td></tr><tr><td>135</td><td>KiGee</td><td>2400.00</td><td>-4061.680000</td><td>LOW</td></tr><tr><td>136</td><td>HazelPhiltanker</td><td>2200.00</td><td>-4261.680000</td><td>LOW</td></tr><tr><td>137</td><td>RenskeLadwig</td><td>3600.00</td><td>-2861.680000</td><td>LOW</td></tr><tr><td>138</td><td>StephenStiles</td><td>3200.00</td><td>-3261.680000</td><td>LOW</td></tr><tr><td>139</td><td>JohnSeo</td><td>2700.00</td><td>-3761.680000</td><td>LOW</td></tr><tr><td>140</td><td>JoshuaPatel</td><td>2500.00</td><td>-3961.680000</td><td>LOW</td></tr><tr><td>141</td><td>TrennaRajs</td><td>3500.00</td><td>-2961.680000</td><td>LOW</td></tr><tr><td>142</td><td>CurtisDavies</td><td>3100.00</td><td>-3361.680000</td><td>LOW</td></tr><tr><td>143</td><td>RandallMatos</td><td>2600.00</td><td>-3861.680000</td><td>LOW</td></tr><tr><td>144</td><td>PeterVargas</td><td>2500.00</td><td>-3961.680000</td><td>LOW</td></tr><tr><td>145</td><td>JohnRussell</td><td>14000.00</td><td>7538.320000</td><td>HIGH</td></tr><tr><td>146</td><td>KarenPartners</td><td>13500.00</td><td>7038.320000</td><td>HIGH</td></tr><tr><td>147</td><td>AlbertoErrazuriz</td><td>12000.00</td><td>5538.320000</td><td>HIGH</td></tr><tr><td>148</td><td>GeraldCambrault</td><td>11000.00</td><td>4538.320000</td><td>HIGH</td></tr><tr><td>149</td><td>EleniZlotkey</td><td>10500.00</td><td>4038.320000</td><td>HIGH</td></tr><tr><td>150</td><td>PeterTucker</td><td>10000.00</td><td>3538.320000</td><td>HIGH</td></tr><tr><td>151</td><td>DavidBernstein</td><td>9500.00</td><td>3038.320000</td><td>HIGH</td></tr><tr><td>152</td><td>PeterHall</td><td>9000.00</td><td>2538.320000</td><td>HIGH</td></tr><tr><td>153</td><td>ChristopherOlsen</td><td>8000.00</td><td>1538.320000</td><td>HIGH</td></tr><tr><td>154</td><td>NanetteCambrault</td><td>7500.00</td><td>1038.320000</td><td>HIGH</td></tr><tr><td>155</td><td>OliverTuvault</td><td>7000.00</td><td>538.320000</td><td>HIGH</td></tr><tr><td>156</td><td>JanetteKing</td><td>10000.00</td><td>3538.320000</td><td>HIGH</td></tr><tr><td>157</td><td>PatrickSully</td><td>9500.00</td><td>3038.320000</td><td>HIGH</td></tr><tr><td>158</td><td>AllanMcEwen</td><td>9000.00</td><td>2538.320000</td><td>HIGH</td></tr><tr><td>159</td><td>LindseySmith</td><td>8000.00</td><td>1538.320000</td><td>HIGH</td></tr><tr><td>160</td><td>LouiseDoran</td><td>7500.00</td><td>1038.320000</td><td>HIGH</td></tr><tr><td>161</td><td>SarathSewall</td><td>7000.00</td><td>538.320000</td><td>HIGH</td></tr><tr><td>162</td><td>ClaraVishney</td><td>10500.00</td><td>4038.320000</td><td>HIGH</td></tr><tr><td>163</td><td>DanielleGreene</td><td>9500.00</td><td>3038.320000</td><td>HIGH</td></tr><tr><td>164</td><td>MatteaMarvins</td><td>7200.00</td><td>738.320000</td><td>HIGH</td></tr><tr><td>165</td><td>DavidLee</td><td>6800.00</td><td>338.320000</td><td>HIGH</td></tr><tr><td>166</td><td>SundarAnde</td><td>6400.00</td><td>-61.680000</td><td>LOW</td></tr><tr><td>167</td><td>AmitBanda</td><td>6200.00</td><td>-261.680000</td><td>LOW</td></tr><tr><td>168</td><td>LisaOzer</td><td>11500.00</td><td>5038.320000</td><td>HIGH</td></tr><tr><td>169</td><td>HarrisonBloom</td><td>10000.00</td><td>3538.320000</td><td>HIGH</td></tr><tr><td>170</td><td>TaylerFox</td><td>9600.00</td><td>3138.320000</td><td>HIGH</td></tr><tr><td>171</td><td>WilliamSmith</td><td>7400.00</td><td>938.320000</td><td>HIGH</td></tr><tr><td>172</td><td>ElizabethBates</td><td>7300.00</td><td>838.320000</td><td>HIGH</td></tr><tr><td>173</td><td>SunditaKumar</td><td>6100.00</td><td>-361.680000</td><td>LOW</td></tr><tr><td>174</td><td>EllenAbel</td><td>11000.00</td><td>4538.320000</td><td>HIGH</td></tr><tr><td>175</td><td>AlyssaHutton</td><td>8800.00</td><td>2338.320000</td><td>HIGH</td></tr><tr><td>176</td><td>JonathonTaylor</td><td>8600.00</td><td>2138.320000</td><td>HIGH</td></tr><tr><td>177</td><td>JackLivingston</td><td>8400.00</td><td>1938.320000</td><td>HIGH</td></tr><tr><td>178</td><td>KimberelyGrant</td><td>7000.00</td><td>538.320000</td><td>HIGH</td></tr><tr><td>179</td><td>CharlesJohnson</td><td>6200.00</td><td>-261.680000</td><td>LOW</td></tr><tr><td>180</td><td>WinstonTaylor</td><td>3200.00</td><td>-3261.680000</td><td>LOW</td></tr><tr><td>181</td><td>JeanFleaur</td><td>3100.00</td><td>-3361.680000</td><td>LOW</td></tr><tr><td>182</td><td>MarthaSullivan</td><td>2500.00</td><td>-3961.680000</td><td>LOW</td></tr><tr><td>183</td><td>GirardGeoni</td><td>2800.00</td><td>-3661.680000</td><td>LOW</td></tr><tr><td>184</td><td>NanditaSarchand</td><td>4200.00</td><td>-2261.680000</td><td>LOW</td></tr><tr><td>185</td><td>AlexisBull</td><td>4100.00</td><td>-2361.680000</td><td>LOW</td></tr><tr><td>186</td><td>JuliaDellinger</td><td>3400.00</td><td>-3061.680000</td><td>LOW</td></tr><tr><td>187</td><td>AnthonyCabrio</td><td>3000.00</td><td>-3461.680000</td><td>LOW</td></tr><tr><td>188</td><td>KellyChung</td><td>3800.00</td><td>-2661.680000</td><td>LOW</td></tr><tr><td>189</td><td>JenniferDilly</td><td>3600.00</td><td>-2861.680000</td><td>LOW</td></tr><tr><td>190</td><td>TimothyGates</td><td>2900.00</td><td>-3561.680000</td><td>LOW</td></tr><tr><td>191</td><td>RandallPerkins</td><td>2500.00</td><td>-3961.680000</td><td>LOW</td></tr><tr><td>192</td><td>SarahBell</td><td>4000.00</td><td>-2461.680000</td><td>LOW</td></tr><tr><td>193</td><td>BritneyEverett</td><td>3900.00</td><td>-2561.680000</td><td>LOW</td></tr><tr><td>194</td><td>SamuelMcCain</td><td>3200.00</td><td>-3261.680000</td><td>LOW</td></tr><tr><td>195</td><td>VanceJones</td><td>2800.00</td><td>-3661.680000</td><td>LOW</td></tr><tr><td>196</td><td>AlanaWalsh</td><td>3100.00</td><td>-3361.680000</td><td>LOW</td></tr><tr><td>197</td><td>KevinFeeney</td><td>3000.00</td><td>-3461.680000</td><td>LOW</td></tr><tr><td>198</td><td>DonaldOConnell</td><td>2600.00</td><td>-3861.680000</td><td>LOW</td></tr><tr><td>199</td><td>DouglasGrant</td><td>2600.00</td><td>-3861.680000</td><td>LOW</td></tr><tr><td>200</td><td>JenniferWhalen</td><td>4400.00</td><td>-2061.680000</td><td>LOW</td></tr><tr><td>201</td><td>MichaelHartstein</td><td>13000.00</td><td>6538.320000</td><td>HIGH</td></tr><tr><td>202</td><td>PatFay</td><td>6000.00</td><td>-461.680000</td><td>LOW</td></tr><tr><td>203</td><td>SusanMavris</td><td>6500.00</td><td>38.320000</td><td>HIGH</td></tr><tr><td>204</td><td>HermannBaer</td><td>10000.00</td><td>3538.320000</td><td>HIGH</td></tr><tr><td>205</td><td>ShelleyHiggins</td><td>12000.00</td><td>5538.320000</td><td>HIGH</td></tr><tr><td>206</td><td>WilliamGietz</td><td>8300.00</td><td>1838.320000</td><td>HIGH</td></tr></table>"
                    },
                    "metadata": {}
                }
            ],
            "execution_count": 6
        },
        {
            "cell_type": "code",
            "source": [
                "--7. Write a query that will identify all employees who work in departments \r\n",
                "--located in the United Kingdom\r\n",
                "select concat(FIRST_NAME,' ',LAST_NAME) from employees1 \r\n",
                "where DEPARTMENT_ID in(select DEPARTMENT_ID from departments \r\n",
                "where LOCATION_ID in(select LOCATION_ID from locations \r\n",
                "where COUNTRY_ID in(select COUNTRY_ID from countries WHERE COUNTRY_NAME='United Kingdom')))\r\n",
                ""
            ],
            "metadata": {
                "language": "sql",
                "azdata_cell_guid": "d522fb57-fa31-4ac6-9243-f9dc80bb0ce6"
            },
            "outputs": [
                {
                    "output_type": "display_data",
                    "data": {
                        "text/html": "(1 row affected)"
                    },
                    "metadata": {}
                },
                {
                    "output_type": "display_data",
                    "data": {
                        "text/html": "Total execution time: 00:00:00.024"
                    },
                    "metadata": {}
                },
                {
                    "output_type": "execute_result",
                    "execution_count": 7,
                    "data": {
                        "application/vnd.dataresource+json": {
                            "schema": {
                                "fields": [
                                    {
                                        "name": "(No column name)"
                                    }
                                ]
                            },
                            "data": [
                                {
                                    "0": "Susan Mavris"
                                }
                            ]
                        },
                        "text/html": "<table><tr><th>(No column name)</th></tr><tr><td>Susan Mavris</td></tr></table>"
                    },
                    "metadata": {}
                }
            ],
            "execution_count": 7
        }
    ]
}