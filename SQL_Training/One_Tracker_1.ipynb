{
    "metadata": {
        "kernelspec": {
            "name": "SQL",
            "display_name": "SQL",
            "language": "sql"
        },
        "language_info": {
            "name": "sql",
            "version": ""
        }
    },
    "nbformat_minor": 2,
    "nbformat": 4,
    "cells": [
        {
            "cell_type": "code",
            "source": [
                "CREATE TABLE [dbo].[Role] (\r\n",
                "    [role_id]   INT           IDENTITY (1, 1) NOT NULL,\r\n",
                "    [role_name] NVARCHAR (50) NULL,\r\n",
                "    CONSTRAINT [PK_Role] PRIMARY KEY CLUSTERED ([role_id] ASC)\r\n",
                ");"
            ],
            "metadata": {
                "azdata_cell_guid": "f291ab87-87c9-44bc-afa1-caab944d39fa",
                "language": "sql"
            },
            "outputs": [
                {
                    "output_type": "error",
                    "ename": "",
                    "evalue": "Msg 2714, Level 16, State 6, Line 1\r\nThere is already an object named 'Role' in the database.",
                    "traceback": []
                },
                {
                    "output_type": "display_data",
                    "data": {
                        "text/html": "Total execution time: 00:00:00.006"
                    },
                    "metadata": {}
                }
            ],
            "execution_count": 2
        },
        {
            "cell_type": "code",
            "source": [
                "INSERT INTO ROLE VALUES('Admin'),('User')"
            ],
            "metadata": {
                "azdata_cell_guid": "c22b5356-1a4d-48a0-9938-50e9028925f8",
                "language": "sql"
            },
            "outputs": [
                {
                    "output_type": "display_data",
                    "data": {
                        "text/html": "(2 rows affected)"
                    },
                    "metadata": {}
                },
                {
                    "output_type": "display_data",
                    "data": {
                        "text/html": "Total execution time: 00:00:00.007"
                    },
                    "metadata": {}
                }
            ],
            "execution_count": 2
        },
        {
            "cell_type": "code",
            "source": [
                "CREATE TABLE [dbo].[Department] (\r\n",
                "    [department_id]   INT           IDENTITY (1, 1) NOT NULL,\r\n",
                "    [department_name] NVARCHAR (50) NOT NULL,\r\n",
                "    CONSTRAINT [department_id] PRIMARY KEY CLUSTERED ([department_id] ASC)\r\n",
                ");"
            ],
            "metadata": {
                "language": "sql",
                "azdata_cell_guid": "f9db71de-1343-4c22-be1c-2474a5453b81"
            },
            "outputs": [
                {
                    "output_type": "display_data",
                    "data": {
                        "text/html": "Commands completed successfully."
                    },
                    "metadata": {}
                },
                {
                    "output_type": "display_data",
                    "data": {
                        "text/html": "Total execution time: 00:00:00.009"
                    },
                    "metadata": {}
                }
            ],
            "execution_count": 4
        },
        {
            "cell_type": "code",
            "source": [
                "CREATE TABLE [dbo].[Category] (\r\n",
                "    [category_id]   INT           IDENTITY (1, 1) NOT NULL,\r\n",
                "    [category_name] NVARCHAR (50) NOT NULL,\r\n",
                "    [department_id] INT           NOT NULL,\r\n",
                "    CONSTRAINT [category_id] PRIMARY KEY CLUSTERED ([category_id] ASC),\r\n",
                "    FOREIGN KEY ([department_id]) REFERENCES [dbo].[Department] ([department_id])  ON DELETE CASCADE ON UPDATE CASCADE\r\n",
                ");"
            ],
            "metadata": {
                "azdata_cell_guid": "df45ab09-6d82-418e-88b9-090380bd8661",
                "language": "sql"
            },
            "outputs": [
                {
                    "output_type": "display_data",
                    "data": {
                        "text/html": "Commands completed successfully."
                    },
                    "metadata": {}
                },
                {
                    "output_type": "display_data",
                    "data": {
                        "text/html": "Total execution time: 00:00:00.007"
                    },
                    "metadata": {}
                }
            ],
            "execution_count": 5
        },
        {
            "cell_type": "code",
            "source": [
                "CREATE TABLE [dbo].[SubCategory] (\r\n",
                "    [subcategory_id]   INT           IDENTITY (1, 1) NOT NULL,\r\n",
                "    [subcategory_name] NVARCHAR (50) NOT NULL,\r\n",
                "    [category_id] INT           NOT NULL,\r\n",
                "    CONSTRAINT [subcategory_id] PRIMARY KEY CLUSTERED ([subcategory_id] ASC),\r\n",
                "    FOREIGN KEY ([category_id]) REFERENCES [dbo].[Category] ([category_id]) ON DELETE CASCADE ON UPDATE CASCADE\r\n",
                ");\r\n",
                ""
            ],
            "metadata": {
                "azdata_cell_guid": "31b6802a-5c47-424c-8e73-1d558cc58dbb",
                "language": "sql"
            },
            "outputs": [
                {
                    "output_type": "display_data",
                    "data": {
                        "text/html": "Commands completed successfully."
                    },
                    "metadata": {}
                },
                {
                    "output_type": "display_data",
                    "data": {
                        "text/html": "Total execution time: 00:00:00.006"
                    },
                    "metadata": {}
                }
            ],
            "execution_count": 6
        },
        {
            "cell_type": "code",
            "source": [
                "CREATE TABLE [dbo].[Status] (\r\n",
                "    [status_id]   INT           IDENTITY (1, 1) NOT NULL,\r\n",
                "    [status_name] NVARCHAR (50) NOT NULL,\r\n",
                "    CONSTRAINT [ticket_id] PRIMARY KEY CLUSTERED ([status_id] ASC)\r\n",
                ");"
            ],
            "metadata": {
                "azdata_cell_guid": "a6a14371-9654-488a-811f-f0530437e87c",
                "language": "sql"
            },
            "outputs": [
                {
                    "output_type": "display_data",
                    "data": {
                        "text/html": "Commands completed successfully."
                    },
                    "metadata": {}
                },
                {
                    "output_type": "display_data",
                    "data": {
                        "text/html": "Total execution time: 00:00:00.005"
                    },
                    "metadata": {}
                }
            ],
            "execution_count": 7
        },
        {
            "cell_type": "code",
            "source": [
                "CREATE TABLE [dbo].[User] (\r\n",
                "    [user_id]       INT            IDENTITY (1001, 1) NOT NULL,\r\n",
                "    [first_name]   NVARCHAR (50)  NOT NULL,\r\n",
                "    [last_name]    NVARCHAR (50)  NOT NULL,\r\n",
                "    [emp_email]    NVARCHAR (50)  NOT NULL,\r\n",
                "    [mobile_no]    NVARCHAR (15)  NOT NULL,\r\n",
                "    [password]         NVARCHAR (50)  NOT NULL,\r\n",
                "    [role_id]      INT            NOT NULL,\r\n",
                "    [user_img]      NVARCHAR (MAX) NULL,\r\n",
                "    [joining_date] DATE           NULL,\r\n",
                "    CONSTRAINT [emp_id] PRIMARY KEY CLUSTERED ([user_id] ASC),\r\n",
                "    FOREIGN KEY ([role_id]) REFERENCES [dbo].[Role] ([role_id]) ON DELETE CASCADE ON UPDATE CASCADE,\r\n",
                "    CONSTRAINT [emp_email] UNIQUE NONCLUSTERED ([emp_email] ASC)\r\n",
                ");\r\n",
                ""
            ],
            "metadata": {
                "azdata_cell_guid": "61430d8b-3953-4d47-af27-e0a5de1a7296",
                "language": "sql",
                "tags": []
            },
            "outputs": [
                {
                    "output_type": "display_data",
                    "data": {
                        "text/html": "Commands completed successfully."
                    },
                    "metadata": {}
                },
                {
                    "output_type": "display_data",
                    "data": {
                        "text/html": "Total execution time: 00:00:00.008"
                    },
                    "metadata": {}
                }
            ],
            "execution_count": 8
        },
        {
            "cell_type": "code",
            "source": [
                "insert into [User] values('Shivam','Vishvakarma','shivam@gmail.com','8484849696','Admin@123',1,'https://www.pngkey.com/png/detail/202-2024792_user-profile-icon-png-download-fa-user-circle.png','2022/11/08');\r\n",
                "insert into [User] values('Aditya','Kumar','aditya@gmail.com','9696969696','Aditya@123',2,'https://www.pngkey.com/png/detail/202-2024792_user-profile-icon-png-download-fa-user-circle.png','2022/11/08');\r\n",
                "insert into [User] values('Saurabh','Kumar','saurabh@gmail.com','8585858585','Saurabh@123',2,'https://www.pngkey.com/png/detail/202-2024792_user-profile-icon-png-download-fa-user-circle.png','2022/11/08');\r\n",
                "insert into [User] values('Vishnu','Singh','vishnu@gmail.com','7257257255','Vishnu@123',2,'https://www.pngkey.com/png/detail/202-2024792_user-profile-icon-png-download-fa-user-circle.png','2022/11/08');\r\n",
                "insert into [User] values('Shivraj','Totiger','shivraj@gmail.com','7417417411','Shivraj@123',2,'https://www.pngkey.com/png/detail/202-2024792_user-profile-icon-png-download-fa-user-circle.png','2022/11/08');\r\n",
                "insert into [User] values('Viniston','Arockiasamy','viniston@gmail.com','9639639633','Viniston@123',2,'https://www.pngkey.com/png/detail/202-2024792_user-profile-icon-png-download-fa-user-circle.png','2022/11/08');"
            ],
            "metadata": {
                "azdata_cell_guid": "f98db2e2-890d-4e12-b7ae-ac9e8922c599",
                "language": "sql"
            },
            "outputs": [
                {
                    "output_type": "error",
                    "ename": "",
                    "evalue": "Msg 2627, Level 14, State 1, Line 1\r\nViolation of UNIQUE KEY constraint 'emp_email'. Cannot insert duplicate key in object 'dbo.User'. The duplicate key value is (shivam@gmail.com).",
                    "traceback": []
                },
                {
                    "output_type": "display_data",
                    "data": {
                        "text/html": "The statement has been terminated."
                    },
                    "metadata": {}
                },
                {
                    "output_type": "error",
                    "ename": "",
                    "evalue": "Msg 2627, Level 14, State 1, Line 2\r\nViolation of UNIQUE KEY constraint 'emp_email'. Cannot insert duplicate key in object 'dbo.User'. The duplicate key value is (aditya@gmail.com).",
                    "traceback": []
                },
                {
                    "output_type": "display_data",
                    "data": {
                        "text/html": "The statement has been terminated."
                    },
                    "metadata": {}
                },
                {
                    "output_type": "error",
                    "ename": "",
                    "evalue": "Msg 2627, Level 14, State 1, Line 3\r\nViolation of UNIQUE KEY constraint 'emp_email'. Cannot insert duplicate key in object 'dbo.User'. The duplicate key value is (saurabh@gmail.com).",
                    "traceback": []
                },
                {
                    "output_type": "display_data",
                    "data": {
                        "text/html": "The statement has been terminated."
                    },
                    "metadata": {}
                },
                {
                    "output_type": "error",
                    "ename": "",
                    "evalue": "Msg 2627, Level 14, State 1, Line 4\r\nViolation of UNIQUE KEY constraint 'emp_email'. Cannot insert duplicate key in object 'dbo.User'. The duplicate key value is (vishnu@gmail.com).",
                    "traceback": []
                },
                {
                    "output_type": "display_data",
                    "data": {
                        "text/html": "The statement has been terminated."
                    },
                    "metadata": {}
                },
                {
                    "output_type": "display_data",
                    "data": {
                        "text/html": "(1 row affected)"
                    },
                    "metadata": {}
                },
                {
                    "output_type": "display_data",
                    "data": {
                        "text/html": "(1 row affected)"
                    },
                    "metadata": {}
                },
                {
                    "output_type": "display_data",
                    "data": {
                        "text/html": "Total execution time: 00:00:00.013"
                    },
                    "metadata": {}
                }
            ],
            "execution_count": 10
        },
        {
            "cell_type": "code",
            "source": [
                "CREATE TABLE [dbo].[Tickets] (\r\n",
                "    [ticket_id]         INT            IDENTITY (1, 1) NOT NULL,\r\n",
                "    [cust_name]    NVARCHAR (50)  NOT NULL,\r\n",
                "    [cust_email]   NVARCHAR (50)  NOT NULL,\r\n",
                "    [esc_email]    NVARCHAR (50)  NOT NULL,\r\n",
                "    [subject]      NVARCHAR (200) NOT NULL,\r\n",
                "    [issue_desc]   NVARCHAR (MAX) NOT NULL,\r\n",
                "    [teamlink]     NVARCHAR (200) NOT NULL,\r\n",
                "    [department]   INT         NOT NULL,\r\n",
                "    [modification] Date,\r\n",
                "    [status_id]    INT            NOT NULL,\r\n",
                "    [user_id]       INT           NOT NULL,\r\n",
                "    [issue_date]   DATE           NULL,\r\n",
                "    [category]     INT         NOT NULL,\r\n",
                "    [subcategory]  INT         NOT NULL,\r\n",
                "    CONSTRAINT [ticket_id] PRIMARY KEY CLUSTERED ([ticket_id] ASC),\r\n",
                "    FOREIGN KEY ([department]) REFERENCES [dbo].[Department] ([department_id]) ON DELETE CASCADE ON UPDATE CASCADE,\r\n",
                "    FOREIGN KEY ([user_id]) REFERENCES [dbo].[User] ([user_id]) ON DELETE CASCADE ON UPDATE CASCADE,\r\n",
                "    FOREIGN KEY ([status_id]) REFERENCES [dbo].[Status] ([status_id]) ON DELETE CASCADE ON UPDATE CASCADE,\r\n",
                "    FOREIGN KEY ([category]) REFERENCES [dbo].[Category] ([category_id]),\r\n",
                "    FOREIGN KEY ([subcategory]) REFERENCES [dbo].[SubCategory] ([subcategory_id])\r\n",
                ");"
            ],
            "metadata": {
                "azdata_cell_guid": "9330672b-31ce-42aa-a381-bf2b8060cea0",
                "language": "sql",
                "tags": []
            },
            "outputs": [
                {
                    "output_type": "error",
                    "ename": "",
                    "evalue": "Msg 2714, Level 16, State 5, Line 1\r\nThere is already an object named 'ticket_id' in the database.",
                    "traceback": []
                },
                {
                    "output_type": "error",
                    "ename": "",
                    "evalue": "Msg 1750, Level 16, State 1, Line 1\r\nCould not create constraint or index. See previous errors.",
                    "traceback": []
                },
                {
                    "output_type": "display_data",
                    "data": {
                        "text/html": "Total execution time: 00:00:00.003"
                    },
                    "metadata": {}
                }
            ],
            "execution_count": 12
        }
    ]
}